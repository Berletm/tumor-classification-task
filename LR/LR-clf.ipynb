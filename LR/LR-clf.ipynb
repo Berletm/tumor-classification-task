{
 "cells": [
  {
   "cell_type": "code",
   "execution_count": 1,
   "metadata": {
    "collapsed": true
   },
   "outputs": [],
   "source": [
    "import pandas as pd\n",
    "import numpy as np"
   ]
  },
  {
   "cell_type": "code",
   "execution_count": 2,
   "outputs": [],
   "source": [
    "data = pd.read_excel(\"tumor-data-without-healthy.xlsx\")"
   ],
   "metadata": {
    "collapsed": false
   }
  },
  {
   "cell_type": "code",
   "execution_count": 3,
   "outputs": [],
   "source": [
    "labels = [value for column, value in data.iloc[0].items()]\n",
    "data = data.set_axis(labels, axis=1)\n",
    "data = data[data.columns[1:]].apply(\n",
    "    lambda x: pd.to_numeric(x.replace('<', '').replace(',', '.'), errors='coerce')\n",
    ")\n",
    "data.drop(index=0, inplace=True)"
   ],
   "metadata": {
    "collapsed": false
   }
  },
  {
   "cell_type": "code",
   "execution_count": 4,
   "outputs": [],
   "source": [
    "data[\"Гормональная активность 0-нет               1-да\"] = data[\n",
    "    \"Гормональная активность 0-нет               1-да\"].astype(str)\n",
    "data[\"Гормональная активность 0-нет               1-да\"] = data[\n",
    "\"Гормональная активность 0-нет               1-да\"].fillna(\"missing\")"
   ],
   "metadata": {
    "collapsed": false
   }
  },
  {
   "cell_type": "code",
   "execution_count": 5,
   "outputs": [],
   "source": [
    "\"\"\" dropping some columns \"\"\"\n",
    "\n",
    "data.dropna(axis=1, how=\"all\", inplace=True)\n",
    "# data.dropna(axis=0, thresh=int(data.shape[1] * 0.5), inplace=True)\n",
    "data.dropna(axis=1, thresh=int(data.shape[0] * 0.5), inplace=True)\n",
    "data.drop([\"Пол:    0-жен, 1-муж\"], inplace=True, axis=1)"
   ],
   "metadata": {
    "collapsed": false
   }
  },
  {
   "cell_type": "code",
   "execution_count": 6,
   "outputs": [],
   "source": [
    "X = data.drop(columns=[\"КАН\", \"АКР\"])\n",
    "y = np.argmax(data[[\"КАН\", \"АКР\"]], axis=1)"
   ],
   "metadata": {
    "collapsed": false
   }
  },
  {
   "cell_type": "code",
   "execution_count": 7,
   "outputs": [],
   "source": [
    "from sklearn.model_selection import train_test_split\n",
    "\n",
    "X_train, X_test, y_train, y_test = train_test_split(X, y, train_size=0.9, random_state=42)"
   ],
   "metadata": {
    "collapsed": false
   }
  },
  {
   "cell_type": "code",
   "execution_count": 8,
   "outputs": [
    {
     "name": "stderr",
     "output_type": "stream",
     "text": [
      "[I 2024-12-24 16:28:45,781] A new study created in memory with name: no-name-a5718b03-b06c-4368-906f-ba4216f81db8\n",
      "[I 2024-12-24 16:28:45,797] Trial 0 finished with value: 0.9090909090909091 and parameters: {'C': 2.3360902161801474e-05, 'max_iter': 743, 'solver': 'liblinear', 'penalty': 'l2', 'fit_intercept': False}. Best is trial 0 with value: 0.9090909090909091.\n",
      "[I 2024-12-24 16:28:45,813] Trial 1 finished with value: 0.8181818181818182 and parameters: {'C': 415.97086120088545, 'max_iter': 1609, 'solver': 'liblinear', 'penalty': 'l2', 'fit_intercept': True}. Best is trial 0 with value: 0.9090909090909091.\n",
      "C:\\Users\\arafa\\anaconda3\\envs\\university-projects\\lib\\site-packages\\sklearn\\linear_model\\_sag.py:349: ConvergenceWarning: The max_iter was reached which means the coef_ did not converge\n",
      "  warnings.warn(\n",
      "[I 2024-12-24 16:28:45,877] Trial 2 finished with value: 0.9090909090909091 and parameters: {'C': 0.2148640832274, 'max_iter': 959, 'solver': 'saga', 'penalty': 'l2', 'fit_intercept': True}. Best is trial 0 with value: 0.9090909090909091.\n",
      "[I 2024-12-24 16:28:45,893] Trial 3 finished with value: 0.8181818181818182 and parameters: {'C': 5.6207636497494295, 'max_iter': 478, 'solver': 'liblinear', 'penalty': 'l2', 'fit_intercept': False}. Best is trial 0 with value: 0.9090909090909091.\n",
      "C:\\Users\\arafa\\anaconda3\\envs\\university-projects\\lib\\site-packages\\sklearn\\linear_model\\_sag.py:349: ConvergenceWarning: The max_iter was reached which means the coef_ did not converge\n",
      "  warnings.warn(\n",
      "[I 2024-12-24 16:28:46,021] Trial 4 finished with value: 0.9090909090909091 and parameters: {'C': 1.6363046792567122, 'max_iter': 1891, 'solver': 'saga', 'penalty': 'l2', 'fit_intercept': True}. Best is trial 0 with value: 0.9090909090909091.\n",
      "C:\\Users\\arafa\\anaconda3\\envs\\university-projects\\lib\\site-packages\\sklearn\\linear_model\\_sag.py:349: ConvergenceWarning: The max_iter was reached which means the coef_ did not converge\n",
      "  warnings.warn(\n",
      "[I 2024-12-24 16:28:46,101] Trial 5 finished with value: 0.9090909090909091 and parameters: {'C': 0.051507422343518065, 'max_iter': 1273, 'solver': 'saga', 'penalty': 'l2', 'fit_intercept': False}. Best is trial 0 with value: 0.9090909090909091.\n",
      "C:\\Users\\arafa\\anaconda3\\envs\\university-projects\\lib\\site-packages\\sklearn\\linear_model\\_sag.py:349: ConvergenceWarning: The max_iter was reached which means the coef_ did not converge\n",
      "  warnings.warn(\n",
      "[I 2024-12-24 16:28:46,134] Trial 6 finished with value: 0.9090909090909091 and parameters: {'C': 0.011789807406299299, 'max_iter': 377, 'solver': 'saga', 'penalty': 'l2', 'fit_intercept': True}. Best is trial 0 with value: 0.9090909090909091.\n",
      "[I 2024-12-24 16:28:46,134] Trial 7 finished with value: 0.8181818181818182 and parameters: {'C': 113.73102933532522, 'max_iter': 1808, 'solver': 'liblinear', 'penalty': 'l2', 'fit_intercept': True}. Best is trial 0 with value: 0.9090909090909091.\n",
      "[I 2024-12-24 16:28:46,148] Trial 8 finished with value: 0.9090909090909091 and parameters: {'C': 0.0012046947762234046, 'max_iter': 1164, 'solver': 'liblinear', 'penalty': 'l2', 'fit_intercept': True}. Best is trial 0 with value: 0.9090909090909091.\n",
      "C:\\Users\\arafa\\anaconda3\\envs\\university-projects\\lib\\site-packages\\sklearn\\linear_model\\_sag.py:349: ConvergenceWarning: The max_iter was reached which means the coef_ did not converge\n",
      "  warnings.warn(\n",
      "[I 2024-12-24 16:28:46,228] Trial 9 finished with value: 0.9090909090909091 and parameters: {'C': 0.0051224054110313106, 'max_iter': 1222, 'solver': 'saga', 'penalty': 'l2', 'fit_intercept': True}. Best is trial 0 with value: 0.9090909090909091.\n",
      "[I 2024-12-24 16:28:46,278] Trial 10 finished with value: 0.9090909090909091 and parameters: {'C': 5.69283413033066e-05, 'max_iter': 756, 'solver': 'lbfgs', 'penalty': 'l2', 'fit_intercept': False}. Best is trial 0 with value: 0.9090909090909091.\n",
      "[I 2024-12-24 16:28:46,307] Trial 11 finished with value: 0.9090909090909091 and parameters: {'C': 1.4358344671871536e-05, 'max_iter': 807, 'solver': 'lbfgs', 'penalty': 'l2', 'fit_intercept': False}. Best is trial 0 with value: 0.9090909090909091.\n",
      "C:\\Users\\arafa\\anaconda3\\envs\\university-projects\\lib\\site-packages\\sklearn\\linear_model\\_sag.py:349: ConvergenceWarning: The max_iter was reached which means the coef_ did not converge\n",
      "  warnings.warn(\n",
      "[I 2024-12-24 16:28:46,378] Trial 12 finished with value: 0.9090909090909091 and parameters: {'C': 2455.085351812118, 'max_iter': 833, 'solver': 'saga', 'penalty': 'l2', 'fit_intercept': False}. Best is trial 0 with value: 0.9090909090909091.\n",
      "[I 2024-12-24 16:28:46,388] Trial 13 finished with value: 0.8181818181818182 and parameters: {'C': 52984.872447301124, 'max_iter': 922, 'solver': 'liblinear', 'penalty': 'l2', 'fit_intercept': False}. Best is trial 0 with value: 0.9090909090909091.\n",
      "C:\\Users\\arafa\\anaconda3\\envs\\university-projects\\lib\\site-packages\\sklearn\\linear_model\\_logistic.py:469: ConvergenceWarning: lbfgs failed to converge (status=1):\n",
      "STOP: TOTAL NO. of ITERATIONS REACHED LIMIT.\n",
      "\n",
      "Increase the number of iterations (max_iter) or scale the data as shown in:\n",
      "    https://scikit-learn.org/stable/modules/preprocessing.html\n",
      "Please also refer to the documentation for alternative solver options:\n",
      "    https://scikit-learn.org/stable/modules/linear_model.html#logistic-regression\n",
      "  n_iter_i = _check_optimize_result(\n",
      "[I 2024-12-24 16:28:46,452] Trial 14 finished with value: 0.9090909090909091 and parameters: {'C': 0.00026617632319798576, 'max_iter': 574, 'solver': 'lbfgs', 'penalty': 'l2', 'fit_intercept': True}. Best is trial 0 with value: 0.9090909090909091.\n",
      "C:\\Users\\arafa\\anaconda3\\envs\\university-projects\\lib\\site-packages\\sklearn\\linear_model\\_sag.py:349: ConvergenceWarning: The max_iter was reached which means the coef_ did not converge\n",
      "  warnings.warn(\n",
      "[I 2024-12-24 16:28:46,563] Trial 15 finished with value: 0.9090909090909091 and parameters: {'C': 0.1437446527657034, 'max_iter': 1496, 'solver': 'saga', 'penalty': 'l2', 'fit_intercept': False}. Best is trial 0 with value: 0.9090909090909091.\n",
      "[I 2024-12-24 16:28:46,580] Trial 16 finished with value: 0.8181818181818182 and parameters: {'C': 9.226287277609002, 'max_iter': 1025, 'solver': 'liblinear', 'penalty': 'l2', 'fit_intercept': True}. Best is trial 0 with value: 0.9090909090909091.\n",
      "C:\\Users\\arafa\\anaconda3\\envs\\university-projects\\lib\\site-packages\\sklearn\\linear_model\\_sag.py:349: ConvergenceWarning: The max_iter was reached which means the coef_ did not converge\n",
      "  warnings.warn(\n",
      "[I 2024-12-24 16:28:46,643] Trial 17 finished with value: 0.9090909090909091 and parameters: {'C': 0.0007502762910681891, 'max_iter': 639, 'solver': 'saga', 'penalty': 'l2', 'fit_intercept': False}. Best is trial 0 with value: 0.9090909090909091.\n",
      "[I 2024-12-24 16:28:46,659] Trial 18 finished with value: 0.8181818181818182 and parameters: {'C': 0.0743439472774221, 'max_iter': 1006, 'solver': 'liblinear', 'penalty': 'l2', 'fit_intercept': False}. Best is trial 0 with value: 0.9090909090909091.\n",
      "[I 2024-12-24 16:28:46,678] Trial 19 finished with value: 0.9090909090909091 and parameters: {'C': 105.95792173774177, 'max_iter': 304, 'solver': 'lbfgs', 'penalty': 'l2', 'fit_intercept': True}. Best is trial 0 with value: 0.9090909090909091.\n",
      "C:\\Users\\arafa\\anaconda3\\envs\\university-projects\\lib\\site-packages\\sklearn\\linear_model\\_sag.py:349: ConvergenceWarning: The max_iter was reached which means the coef_ did not converge\n",
      "  warnings.warn(\n",
      "[I 2024-12-24 16:28:46,786] Trial 20 finished with value: 0.9090909090909091 and parameters: {'C': 2.3711561924664454e-05, 'max_iter': 1384, 'solver': 'saga', 'penalty': 'l2', 'fit_intercept': True}. Best is trial 0 with value: 0.9090909090909091.\n",
      "C:\\Users\\arafa\\anaconda3\\envs\\university-projects\\lib\\site-packages\\sklearn\\linear_model\\_sag.py:349: ConvergenceWarning: The max_iter was reached which means the coef_ did not converge\n",
      "  warnings.warn(\n",
      "[I 2024-12-24 16:28:46,897] Trial 21 finished with value: 0.9090909090909091 and parameters: {'C': 0.9060768721946783, 'max_iter': 1904, 'solver': 'saga', 'penalty': 'l2', 'fit_intercept': True}. Best is trial 0 with value: 0.9090909090909091.\n",
      "C:\\Users\\arafa\\anaconda3\\envs\\university-projects\\lib\\site-packages\\sklearn\\linear_model\\_sag.py:349: ConvergenceWarning: The max_iter was reached which means the coef_ did not converge\n",
      "  warnings.warn(\n",
      "[I 2024-12-24 16:28:47,016] Trial 22 finished with value: 0.9090909090909091 and parameters: {'C': 2.508815385991435, 'max_iter': 1667, 'solver': 'saga', 'penalty': 'l2', 'fit_intercept': True}. Best is trial 0 with value: 0.9090909090909091.\n",
      "C:\\Users\\arafa\\anaconda3\\envs\\university-projects\\lib\\site-packages\\sklearn\\linear_model\\_sag.py:349: ConvergenceWarning: The max_iter was reached which means the coef_ did not converge\n",
      "  warnings.warn(\n",
      "[I 2024-12-24 16:28:47,064] Trial 23 finished with value: 0.9090909090909091 and parameters: {'C': 0.505481318847944, 'max_iter': 663, 'solver': 'saga', 'penalty': 'l2', 'fit_intercept': True}. Best is trial 0 with value: 0.9090909090909091.\n",
      "C:\\Users\\arafa\\anaconda3\\envs\\university-projects\\lib\\site-packages\\sklearn\\linear_model\\_sag.py:349: ConvergenceWarning: The max_iter was reached which means the coef_ did not converge\n",
      "  warnings.warn(\n",
      "[I 2024-12-24 16:28:47,143] Trial 24 finished with value: 0.9090909090909091 and parameters: {'C': 18.52911079635455, 'max_iter': 1056, 'solver': 'saga', 'penalty': 'l2', 'fit_intercept': True}. Best is trial 0 with value: 0.9090909090909091.\n",
      "[I 2024-12-24 16:28:47,159] Trial 25 finished with value: 0.8181818181818182 and parameters: {'C': 0.007424993403891313, 'max_iter': 1344, 'solver': 'liblinear', 'penalty': 'l2', 'fit_intercept': True}. Best is trial 0 with value: 0.9090909090909091.\n",
      "C:\\Users\\arafa\\anaconda3\\envs\\university-projects\\lib\\site-packages\\sklearn\\linear_model\\_sag.py:349: ConvergenceWarning: The max_iter was reached which means the coef_ did not converge\n",
      "  warnings.warn(\n",
      "[I 2024-12-24 16:28:47,286] Trial 26 finished with value: 0.9090909090909091 and parameters: {'C': 8909.991361751341, 'max_iter': 1941, 'solver': 'saga', 'penalty': 'l2', 'fit_intercept': False}. Best is trial 0 with value: 0.9090909090909091.\n",
      "C:\\Users\\arafa\\anaconda3\\envs\\university-projects\\lib\\site-packages\\sklearn\\linear_model\\_sag.py:349: ConvergenceWarning: The max_iter was reached which means the coef_ did not converge\n",
      "  warnings.warn(\n",
      "[I 2024-12-24 16:28:47,350] Trial 27 finished with value: 0.9090909090909091 and parameters: {'C': 0.29006197714530924, 'max_iter': 908, 'solver': 'saga', 'penalty': 'l2', 'fit_intercept': True}. Best is trial 0 with value: 0.9090909090909091.\n",
      "[I 2024-12-24 16:28:47,398] Trial 28 finished with value: 0.9090909090909091 and parameters: {'C': 0.00010885174579273693, 'max_iter': 1456, 'solver': 'lbfgs', 'penalty': 'l2', 'fit_intercept': False}. Best is trial 0 with value: 0.9090909090909091.\n",
      "[I 2024-12-24 16:28:47,414] Trial 29 finished with value: 0.8181818181818182 and parameters: {'C': 33.732210610984154, 'max_iter': 1598, 'solver': 'liblinear', 'penalty': 'l2', 'fit_intercept': True}. Best is trial 0 with value: 0.9090909090909091.\n",
      "[I 2024-12-24 16:28:47,429] Trial 30 finished with value: 0.8181818181818182 and parameters: {'C': 0.022519616030028368, 'max_iter': 1102, 'solver': 'liblinear', 'penalty': 'l2', 'fit_intercept': True}. Best is trial 0 with value: 0.9090909090909091.\n",
      "C:\\Users\\arafa\\anaconda3\\envs\\university-projects\\lib\\site-packages\\sklearn\\linear_model\\_sag.py:349: ConvergenceWarning: The max_iter was reached which means the coef_ did not converge\n",
      "  warnings.warn(\n",
      "[I 2024-12-24 16:28:47,557] Trial 31 finished with value: 0.9090909090909091 and parameters: {'C': 0.060047714458746036, 'max_iter': 1304, 'solver': 'saga', 'penalty': 'l2', 'fit_intercept': False}. Best is trial 0 with value: 0.9090909090909091.\n",
      "C:\\Users\\arafa\\anaconda3\\envs\\university-projects\\lib\\site-packages\\sklearn\\linear_model\\_sag.py:349: ConvergenceWarning: The max_iter was reached which means the coef_ did not converge\n",
      "  warnings.warn(\n",
      "[I 2024-12-24 16:28:47,668] Trial 32 finished with value: 0.9090909090909091 and parameters: {'C': 0.0017774259180378658, 'max_iter': 1755, 'solver': 'saga', 'penalty': 'l2', 'fit_intercept': False}. Best is trial 0 with value: 0.9090909090909091.\n",
      "C:\\Users\\arafa\\anaconda3\\envs\\university-projects\\lib\\site-packages\\sklearn\\linear_model\\_sag.py:349: ConvergenceWarning: The max_iter was reached which means the coef_ did not converge\n",
      "  warnings.warn(\n",
      "[I 2024-12-24 16:28:47,699] Trial 33 finished with value: 0.9090909090909091 and parameters: {'C': 2.436458667797257, 'max_iter': 537, 'solver': 'saga', 'penalty': 'l2', 'fit_intercept': False}. Best is trial 0 with value: 0.9090909090909091.\n",
      "C:\\Users\\arafa\\anaconda3\\envs\\university-projects\\lib\\site-packages\\sklearn\\linear_model\\_sag.py:349: ConvergenceWarning: The max_iter was reached which means the coef_ did not converge\n",
      "  warnings.warn(\n",
      "[I 2024-12-24 16:28:47,763] Trial 34 finished with value: 0.9090909090909091 and parameters: {'C': 0.02947029705947377, 'max_iter': 721, 'solver': 'saga', 'penalty': 'l2', 'fit_intercept': False}. Best is trial 0 with value: 0.9090909090909091.\n",
      "[I 2024-12-24 16:28:47,780] Trial 35 finished with value: 0.8181818181818182 and parameters: {'C': 710.5742765239427, 'max_iter': 425, 'solver': 'liblinear', 'penalty': 'l2', 'fit_intercept': False}. Best is trial 0 with value: 0.9090909090909091.\n",
      "C:\\Users\\arafa\\anaconda3\\envs\\university-projects\\lib\\site-packages\\sklearn\\linear_model\\_sag.py:349: ConvergenceWarning: The max_iter was reached which means the coef_ did not converge\n",
      "  warnings.warn(\n",
      "[I 2024-12-24 16:28:47,858] Trial 36 finished with value: 0.9090909090909091 and parameters: {'C': 3.0407565457191583, 'max_iter': 1206, 'solver': 'saga', 'penalty': 'l2', 'fit_intercept': False}. Best is trial 0 with value: 0.9090909090909091.\n",
      "C:\\Users\\arafa\\anaconda3\\envs\\university-projects\\lib\\site-packages\\sklearn\\linear_model\\_sag.py:349: ConvergenceWarning: The max_iter was reached which means the coef_ did not converge\n",
      "  warnings.warn(\n",
      "[I 2024-12-24 16:28:47,938] Trial 37 finished with value: 0.9090909090909091 and parameters: {'C': 0.0023924460423605793, 'max_iter': 928, 'solver': 'saga', 'penalty': 'l2', 'fit_intercept': True}. Best is trial 0 with value: 0.9090909090909091.\n",
      "[I 2024-12-24 16:28:47,954] Trial 38 finished with value: 0.8181818181818182 and parameters: {'C': 0.23284562780976478, 'max_iter': 1793, 'solver': 'liblinear', 'penalty': 'l2', 'fit_intercept': False}. Best is trial 0 with value: 0.9090909090909091.\n",
      "C:\\Users\\arafa\\anaconda3\\envs\\university-projects\\lib\\site-packages\\sklearn\\linear_model\\_sag.py:349: ConvergenceWarning: The max_iter was reached which means the coef_ did not converge\n",
      "  warnings.warn(\n",
      "[I 2024-12-24 16:28:48,082] Trial 39 finished with value: 0.9090909090909091 and parameters: {'C': 72.76566671472108, 'max_iter': 1593, 'solver': 'saga', 'penalty': 'l2', 'fit_intercept': True}. Best is trial 0 with value: 0.9090909090909091.\n",
      "[I 2024-12-24 16:28:48,131] Trial 40 finished with value: 0.9090909090909091 and parameters: {'C': 0.0005199968884718975, 'max_iter': 1255, 'solver': 'lbfgs', 'penalty': 'l2', 'fit_intercept': False}. Best is trial 0 with value: 0.9090909090909091.\n",
      "C:\\Users\\arafa\\anaconda3\\envs\\university-projects\\lib\\site-packages\\sklearn\\linear_model\\_sag.py:349: ConvergenceWarning: The max_iter was reached which means the coef_ did not converge\n",
      "  warnings.warn(\n",
      "[I 2024-12-24 16:28:48,163] Trial 41 finished with value: 0.9090909090909091 and parameters: {'C': 0.003909444173475359, 'max_iter': 371, 'solver': 'saga', 'penalty': 'l2', 'fit_intercept': True}. Best is trial 0 with value: 0.9090909090909091.\n",
      "C:\\Users\\arafa\\anaconda3\\envs\\university-projects\\lib\\site-packages\\sklearn\\linear_model\\_sag.py:349: ConvergenceWarning: The max_iter was reached which means the coef_ did not converge\n",
      "  warnings.warn(\n",
      "[I 2024-12-24 16:28:48,243] Trial 42 finished with value: 0.9090909090909091 and parameters: {'C': 0.017089953848031195, 'max_iter': 829, 'solver': 'saga', 'penalty': 'l2', 'fit_intercept': True}. Best is trial 0 with value: 0.9090909090909091.\n",
      "C:\\Users\\arafa\\anaconda3\\envs\\university-projects\\lib\\site-packages\\sklearn\\linear_model\\_sag.py:349: ConvergenceWarning: The max_iter was reached which means the coef_ did not converge\n",
      "  warnings.warn(\n",
      "[I 2024-12-24 16:28:48,291] Trial 43 finished with value: 0.9090909090909091 and parameters: {'C': 0.00015134864242783458, 'max_iter': 521, 'solver': 'saga', 'penalty': 'l2', 'fit_intercept': True}. Best is trial 0 with value: 0.9090909090909091.\n",
      "C:\\Users\\arafa\\anaconda3\\envs\\university-projects\\lib\\site-packages\\sklearn\\linear_model\\_sag.py:349: ConvergenceWarning: The max_iter was reached which means the coef_ did not converge\n",
      "  warnings.warn(\n",
      "[I 2024-12-24 16:28:48,338] Trial 44 finished with value: 0.9090909090909091 and parameters: {'C': 0.9059890140497855, 'max_iter': 736, 'solver': 'saga', 'penalty': 'l2', 'fit_intercept': True}. Best is trial 0 with value: 0.9090909090909091.\n",
      "[I 2024-12-24 16:28:48,370] Trial 45 finished with value: 0.8181818181818182 and parameters: {'C': 0.07401350748524477, 'max_iter': 1155, 'solver': 'liblinear', 'penalty': 'l2', 'fit_intercept': True}. Best is trial 0 with value: 0.9090909090909091.\n",
      "C:\\Users\\arafa\\anaconda3\\envs\\university-projects\\lib\\site-packages\\sklearn\\linear_model\\_sag.py:349: ConvergenceWarning: The max_iter was reached which means the coef_ did not converge\n",
      "  warnings.warn(\n",
      "[I 2024-12-24 16:28:48,417] Trial 46 finished with value: 0.9090909090909091 and parameters: {'C': 0.01187146912573256, 'max_iter': 616, 'solver': 'saga', 'penalty': 'l2', 'fit_intercept': False}. Best is trial 0 with value: 0.9090909090909091.\n",
      "[I 2024-12-24 16:28:48,465] Trial 47 finished with value: 0.9090909090909091 and parameters: {'C': 7.998716126175674, 'max_iter': 962, 'solver': 'lbfgs', 'penalty': 'l2', 'fit_intercept': True}. Best is trial 0 with value: 0.9090909090909091.\n",
      "[I 2024-12-24 16:28:48,481] Trial 48 finished with value: 0.9090909090909091 and parameters: {'C': 1.0962332576364253e-05, 'max_iter': 852, 'solver': 'liblinear', 'penalty': 'l2', 'fit_intercept': False}. Best is trial 0 with value: 0.9090909090909091.\n",
      "C:\\Users\\arafa\\anaconda3\\envs\\university-projects\\lib\\site-packages\\sklearn\\linear_model\\_sag.py:349: ConvergenceWarning: The max_iter was reached which means the coef_ did not converge\n",
      "  warnings.warn(\n",
      "[I 2024-12-24 16:28:48,515] Trial 49 finished with value: 0.9090909090909091 and parameters: {'C': 3.68671732789599e-05, 'max_iter': 312, 'solver': 'saga', 'penalty': 'l2', 'fit_intercept': True}. Best is trial 0 with value: 0.9090909090909091.\n",
      "C:\\Users\\arafa\\anaconda3\\envs\\university-projects\\lib\\site-packages\\sklearn\\linear_model\\_sag.py:349: ConvergenceWarning: The max_iter was reached which means the coef_ did not converge\n",
      "  warnings.warn(\n",
      "[I 2024-12-24 16:28:48,547] Trial 50 finished with value: 0.9090909090909091 and parameters: {'C': 0.15320550990327386, 'max_iter': 456, 'solver': 'saga', 'penalty': 'l2', 'fit_intercept': True}. Best is trial 0 with value: 0.9090909090909091.\n",
      "[I 2024-12-24 16:28:48,581] Trial 51 finished with value: 0.9090909090909091 and parameters: {'C': 0.0009713309331931128, 'max_iter': 1119, 'solver': 'liblinear', 'penalty': 'l2', 'fit_intercept': True}. Best is trial 0 with value: 0.9090909090909091.\n",
      "[I 2024-12-24 16:28:48,595] Trial 52 finished with value: 0.9090909090909091 and parameters: {'C': 0.00043553223473494554, 'max_iter': 1226, 'solver': 'liblinear', 'penalty': 'l2', 'fit_intercept': True}. Best is trial 0 with value: 0.9090909090909091.\n",
      "[I 2024-12-24 16:28:48,627] Trial 53 finished with value: 0.8181818181818182 and parameters: {'C': 0.0054218484922473375, 'max_iter': 1011, 'solver': 'liblinear', 'penalty': 'l2', 'fit_intercept': True}. Best is trial 0 with value: 0.9090909090909091.\n",
      "[I 2024-12-24 16:28:48,643] Trial 54 finished with value: 0.8181818181818182 and parameters: {'C': 0.04103359340438163, 'max_iter': 1446, 'solver': 'liblinear', 'penalty': 'l2', 'fit_intercept': True}. Best is trial 0 with value: 0.9090909090909091.\n",
      "[I 2024-12-24 16:28:48,681] Trial 55 finished with value: 0.8181818181818182 and parameters: {'C': 0.4927383574064488, 'max_iter': 782, 'solver': 'liblinear', 'penalty': 'l2', 'fit_intercept': True}. Best is trial 0 with value: 0.9090909090909091.\n",
      "[I 2024-12-24 16:28:48,738] Trial 56 finished with value: 0.9090909090909091 and parameters: {'C': 0.0010849149785048544, 'max_iter': 681, 'solver': 'lbfgs', 'penalty': 'l2', 'fit_intercept': False}. Best is trial 0 with value: 0.9090909090909091.\n",
      "C:\\Users\\arafa\\anaconda3\\envs\\university-projects\\lib\\site-packages\\sklearn\\linear_model\\_sag.py:349: ConvergenceWarning: The max_iter was reached which means the coef_ did not converge\n",
      "  warnings.warn(\n",
      "[I 2024-12-24 16:28:48,849] Trial 57 finished with value: 0.9090909090909091 and parameters: {'C': 9.303455012618577e-05, 'max_iter': 1861, 'solver': 'saga', 'penalty': 'l2', 'fit_intercept': True}. Best is trial 0 with value: 0.9090909090909091.\n",
      "C:\\Users\\arafa\\anaconda3\\envs\\university-projects\\lib\\site-packages\\sklearn\\linear_model\\_sag.py:349: ConvergenceWarning: The max_iter was reached which means the coef_ did not converge\n",
      "  warnings.warn(\n",
      "[I 2024-12-24 16:28:48,929] Trial 58 finished with value: 0.9090909090909091 and parameters: {'C': 0.13173940684776153, 'max_iter': 876, 'solver': 'saga', 'penalty': 'l2', 'fit_intercept': True}. Best is trial 0 with value: 0.9090909090909091.\n",
      "[I 2024-12-24 16:28:48,944] Trial 59 finished with value: 0.9090909090909091 and parameters: {'C': 0.00022087093629195853, 'max_iter': 1543, 'solver': 'liblinear', 'penalty': 'l2', 'fit_intercept': False}. Best is trial 0 with value: 0.9090909090909091.\n",
      "C:\\Users\\arafa\\anaconda3\\envs\\university-projects\\lib\\site-packages\\sklearn\\linear_model\\_sag.py:349: ConvergenceWarning: The max_iter was reached which means the coef_ did not converge\n",
      "  warnings.warn(\n",
      "[I 2024-12-24 16:28:49,025] Trial 60 finished with value: 0.9090909090909091 and parameters: {'C': 0.011197237686235924, 'max_iter': 1058, 'solver': 'saga', 'penalty': 'l2', 'fit_intercept': True}. Best is trial 0 with value: 0.9090909090909091.\n",
      "C:\\Users\\arafa\\anaconda3\\envs\\university-projects\\lib\\site-packages\\sklearn\\linear_model\\_sag.py:349: ConvergenceWarning: The max_iter was reached which means the coef_ did not converge\n",
      "  warnings.warn(\n",
      "[I 2024-12-24 16:28:49,152] Trial 61 finished with value: 0.9090909090909091 and parameters: {'C': 0.0025266535493224697, 'max_iter': 1983, 'solver': 'saga', 'penalty': 'l2', 'fit_intercept': True}. Best is trial 0 with value: 0.9090909090909091.\n",
      "C:\\Users\\arafa\\anaconda3\\envs\\university-projects\\lib\\site-packages\\sklearn\\linear_model\\_sag.py:349: ConvergenceWarning: The max_iter was reached which means the coef_ did not converge\n",
      "  warnings.warn(\n",
      "[I 2024-12-24 16:28:49,248] Trial 62 finished with value: 0.9090909090909091 and parameters: {'C': 0.006458807280546052, 'max_iter': 1287, 'solver': 'saga', 'penalty': 'l2', 'fit_intercept': True}. Best is trial 0 with value: 0.9090909090909091.\n",
      "C:\\Users\\arafa\\anaconda3\\envs\\university-projects\\lib\\site-packages\\sklearn\\linear_model\\_sag.py:349: ConvergenceWarning: The max_iter was reached which means the coef_ did not converge\n",
      "  warnings.warn(\n",
      "[I 2024-12-24 16:28:49,329] Trial 63 finished with value: 0.9090909090909091 and parameters: {'C': 1.2493515652706355, 'max_iter': 1363, 'solver': 'saga', 'penalty': 'l2', 'fit_intercept': True}. Best is trial 0 with value: 0.9090909090909091.\n",
      "C:\\Users\\arafa\\anaconda3\\envs\\university-projects\\lib\\site-packages\\sklearn\\linear_model\\_sag.py:349: ConvergenceWarning: The max_iter was reached which means the coef_ did not converge\n",
      "  warnings.warn(\n",
      "[I 2024-12-24 16:28:49,425] Trial 64 finished with value: 0.9090909090909091 and parameters: {'C': 0.034717260236575356, 'max_iter': 1151, 'solver': 'saga', 'penalty': 'l2', 'fit_intercept': True}. Best is trial 0 with value: 0.9090909090909091.\n",
      "C:\\Users\\arafa\\anaconda3\\envs\\university-projects\\lib\\site-packages\\sklearn\\linear_model\\_sag.py:349: ConvergenceWarning: The max_iter was reached which means the coef_ did not converge\n",
      "  warnings.warn(\n",
      "[I 2024-12-24 16:28:49,537] Trial 65 finished with value: 0.9090909090909091 and parameters: {'C': 2.9753025540170708e-05, 'max_iter': 1675, 'solver': 'saga', 'penalty': 'l2', 'fit_intercept': False}. Best is trial 0 with value: 0.9090909090909091.\n",
      "[I 2024-12-24 16:28:49,553] Trial 66 finished with value: 0.8181818181818182 and parameters: {'C': 0.4153726926409981, 'max_iter': 1425, 'solver': 'liblinear', 'penalty': 'l2', 'fit_intercept': True}. Best is trial 0 with value: 0.9090909090909091.\n",
      "C:\\Users\\arafa\\anaconda3\\envs\\university-projects\\lib\\site-packages\\sklearn\\linear_model\\_sag.py:349: ConvergenceWarning: The max_iter was reached which means the coef_ did not converge\n",
      "  warnings.warn(\n",
      "[I 2024-12-24 16:28:49,632] Trial 67 finished with value: 0.9090909090909091 and parameters: {'C': 0.13822564088942652, 'max_iter': 967, 'solver': 'saga', 'penalty': 'l2', 'fit_intercept': False}. Best is trial 0 with value: 0.9090909090909091.\n",
      "[I 2024-12-24 16:28:49,681] Trial 68 finished with value: 0.8181818181818182 and parameters: {'C': 4.053810965168024, 'max_iter': 1198, 'solver': 'lbfgs', 'penalty': 'l2', 'fit_intercept': True}. Best is trial 0 with value: 0.9090909090909091.\n",
      "C:\\Users\\arafa\\anaconda3\\envs\\university-projects\\lib\\site-packages\\sklearn\\linear_model\\_sag.py:349: ConvergenceWarning: The max_iter was reached which means the coef_ did not converge\n",
      "  warnings.warn(\n",
      "[I 2024-12-24 16:28:49,740] Trial 69 finished with value: 0.9090909090909091 and parameters: {'C': 0.0015806947404921462, 'max_iter': 596, 'solver': 'saga', 'penalty': 'l2', 'fit_intercept': False}. Best is trial 0 with value: 0.9090909090909091.\n",
      "C:\\Users\\arafa\\anaconda3\\envs\\university-projects\\lib\\site-packages\\sklearn\\linear_model\\_sag.py:349: ConvergenceWarning: The max_iter was reached which means the coef_ did not converge\n",
      "  warnings.warn(\n",
      "[I 2024-12-24 16:28:49,820] Trial 70 finished with value: 0.9090909090909091 and parameters: {'C': 1.3932281140565799, 'max_iter': 1095, 'solver': 'saga', 'penalty': 'l2', 'fit_intercept': True}. Best is trial 0 with value: 0.9090909090909091.\n",
      "[I 2024-12-24 16:28:49,871] Trial 71 finished with value: 0.9090909090909091 and parameters: {'C': 8.411199377641455e-05, 'max_iter': 1053, 'solver': 'lbfgs', 'penalty': 'l2', 'fit_intercept': False}. Best is trial 0 with value: 0.9090909090909091.\n",
      "[I 2024-12-24 16:28:49,917] Trial 72 finished with value: 0.9090909090909091 and parameters: {'C': 3.8074167499808655e-05, 'max_iter': 765, 'solver': 'lbfgs', 'penalty': 'l2', 'fit_intercept': False}. Best is trial 0 with value: 0.9090909090909091.\n",
      "[I 2024-12-24 16:28:49,973] Trial 73 finished with value: 0.9090909090909091 and parameters: {'C': 0.0002620247793331495, 'max_iter': 1320, 'solver': 'lbfgs', 'penalty': 'l2', 'fit_intercept': False}. Best is trial 0 with value: 0.9090909090909091.\n",
      "[I 2024-12-24 16:28:49,997] Trial 74 finished with value: 0.9090909090909091 and parameters: {'C': 75981.10665021847, 'max_iter': 694, 'solver': 'lbfgs', 'penalty': 'l2', 'fit_intercept': False}. Best is trial 0 with value: 0.9090909090909091.\n",
      "[I 2024-12-24 16:28:50,020] Trial 75 finished with value: 0.9090909090909091 and parameters: {'C': 1.9174514711776266e-05, 'max_iter': 540, 'solver': 'liblinear', 'penalty': 'l2', 'fit_intercept': False}. Best is trial 0 with value: 0.9090909090909091.\n",
      "C:\\Users\\arafa\\anaconda3\\envs\\university-projects\\lib\\site-packages\\sklearn\\linear_model\\_sag.py:349: ConvergenceWarning: The max_iter was reached which means the coef_ did not converge\n",
      "  warnings.warn(\n",
      "[I 2024-12-24 16:28:50,089] Trial 76 finished with value: 0.9090909090909091 and parameters: {'C': 7.171022228053842e-05, 'max_iter': 886, 'solver': 'saga', 'penalty': 'l2', 'fit_intercept': True}. Best is trial 0 with value: 0.9090909090909091.\n",
      "C:\\Users\\arafa\\anaconda3\\envs\\university-projects\\lib\\site-packages\\sklearn\\linear_model\\_logistic.py:469: ConvergenceWarning: lbfgs failed to converge (status=1):\n",
      "STOP: TOTAL NO. of ITERATIONS REACHED LIMIT.\n",
      "\n",
      "Increase the number of iterations (max_iter) or scale the data as shown in:\n",
      "    https://scikit-learn.org/stable/modules/preprocessing.html\n",
      "Please also refer to the documentation for alternative solver options:\n",
      "    https://scikit-learn.org/stable/modules/linear_model.html#logistic-regression\n",
      "  n_iter_i = _check_optimize_result(\n",
      "[I 2024-12-24 16:28:50,137] Trial 77 finished with value: 0.9090909090909091 and parameters: {'C': 0.0004743888321129343, 'max_iter': 388, 'solver': 'lbfgs', 'penalty': 'l2', 'fit_intercept': False}. Best is trial 0 with value: 0.9090909090909091.\n",
      "C:\\Users\\arafa\\anaconda3\\envs\\university-projects\\lib\\site-packages\\sklearn\\linear_model\\_sag.py:349: ConvergenceWarning: The max_iter was reached which means the coef_ did not converge\n",
      "  warnings.warn(\n",
      "[I 2024-12-24 16:28:50,216] Trial 78 finished with value: 0.9090909090909091 and parameters: {'C': 0.014323395225596744, 'max_iter': 987, 'solver': 'saga', 'penalty': 'l2', 'fit_intercept': True}. Best is trial 0 with value: 0.9090909090909091.\n",
      "[I 2024-12-24 16:28:50,248] Trial 79 finished with value: 0.8181818181818182 and parameters: {'C': 18.59371129986096, 'max_iter': 811, 'solver': 'liblinear', 'penalty': 'l2', 'fit_intercept': False}. Best is trial 0 with value: 0.9090909090909091.\n",
      "C:\\Users\\arafa\\anaconda3\\envs\\university-projects\\lib\\site-packages\\sklearn\\linear_model\\_sag.py:349: ConvergenceWarning: The max_iter was reached which means the coef_ did not converge\n",
      "  warnings.warn(\n",
      "[I 2024-12-24 16:28:50,312] Trial 80 finished with value: 0.9090909090909091 and parameters: {'C': 0.003747753824156789, 'max_iter': 940, 'solver': 'saga', 'penalty': 'l2', 'fit_intercept': True}. Best is trial 0 with value: 0.9090909090909091.\n",
      "[I 2024-12-24 16:28:50,359] Trial 81 finished with value: 0.9090909090909091 and parameters: {'C': 1.2615955411442416e-05, 'max_iter': 1261, 'solver': 'lbfgs', 'penalty': 'l2', 'fit_intercept': False}. Best is trial 0 with value: 0.9090909090909091.\n",
      "[I 2024-12-24 16:28:50,407] Trial 82 finished with value: 0.9090909090909091 and parameters: {'C': 5.2319377927520305e-05, 'max_iter': 754, 'solver': 'lbfgs', 'penalty': 'l2', 'fit_intercept': False}. Best is trial 0 with value: 0.9090909090909091.\n",
      "[I 2024-12-24 16:28:50,470] Trial 83 finished with value: 0.8181818181818182 and parameters: {'C': 0.0539221416531452, 'max_iter': 836, 'solver': 'lbfgs', 'penalty': 'l2', 'fit_intercept': False}. Best is trial 0 with value: 0.9090909090909091.\n",
      "[I 2024-12-24 16:28:50,517] Trial 84 finished with value: 0.9090909090909091 and parameters: {'C': 0.00014416643444404822, 'max_iter': 624, 'solver': 'lbfgs', 'penalty': 'l2', 'fit_intercept': False}. Best is trial 0 with value: 0.9090909090909091.\n",
      "C:\\Users\\arafa\\anaconda3\\envs\\university-projects\\lib\\site-packages\\sklearn\\linear_model\\_sag.py:349: ConvergenceWarning: The max_iter was reached which means the coef_ did not converge\n",
      "  warnings.warn(\n",
      "[I 2024-12-24 16:28:50,612] Trial 85 finished with value: 0.9090909090909091 and parameters: {'C': 2.1517364028146363e-05, 'max_iter': 1166, 'solver': 'saga', 'penalty': 'l2', 'fit_intercept': False}. Best is trial 0 with value: 0.9090909090909091.\n",
      "[I 2024-12-24 16:28:50,628] Trial 86 finished with value: 0.8181818181818182 and parameters: {'C': 0.2472551229180305, 'max_iter': 805, 'solver': 'liblinear', 'penalty': 'l2', 'fit_intercept': True}. Best is trial 0 with value: 0.9090909090909091.\n",
      "[I 2024-12-24 16:28:50,691] Trial 87 finished with value: 0.8181818181818182 and parameters: {'C': 0.021724452077060898, 'max_iter': 913, 'solver': 'lbfgs', 'penalty': 'l2', 'fit_intercept': True}. Best is trial 0 with value: 0.9090909090909091.\n",
      "C:\\Users\\arafa\\anaconda3\\envs\\university-projects\\lib\\site-packages\\sklearn\\linear_model\\_sag.py:349: ConvergenceWarning: The max_iter was reached which means the coef_ did not converge\n",
      "  warnings.warn(\n",
      "[I 2024-12-24 16:28:50,818] Trial 88 finished with value: 0.9090909090909091 and parameters: {'C': 0.08394769143858041, 'max_iter': 1670, 'solver': 'saga', 'penalty': 'l2', 'fit_intercept': False}. Best is trial 0 with value: 0.9090909090909091.\n",
      "[I 2024-12-24 16:28:50,834] Trial 89 finished with value: 0.9090909090909091 and parameters: {'C': 0.0008341379783186984, 'max_iter': 648, 'solver': 'liblinear', 'penalty': 'l2', 'fit_intercept': True}. Best is trial 0 with value: 0.9090909090909091.\n",
      "C:\\Users\\arafa\\anaconda3\\envs\\university-projects\\lib\\site-packages\\sklearn\\linear_model\\_sag.py:349: ConvergenceWarning: The max_iter was reached which means the coef_ did not converge\n",
      "  warnings.warn(\n",
      "[I 2024-12-24 16:28:50,897] Trial 90 finished with value: 0.9090909090909091 and parameters: {'C': 0.008910931409576352, 'max_iter': 701, 'solver': 'saga', 'penalty': 'l2', 'fit_intercept': False}. Best is trial 0 with value: 0.9090909090909091.\n",
      "C:\\Users\\arafa\\anaconda3\\envs\\university-projects\\lib\\site-packages\\sklearn\\linear_model\\_sag.py:349: ConvergenceWarning: The max_iter was reached which means the coef_ did not converge\n",
      "  warnings.warn(\n",
      "[I 2024-12-24 16:28:50,982] Trial 91 finished with value: 0.9090909090909091 and parameters: {'C': 687.8271324244636, 'max_iter': 1041, 'solver': 'saga', 'penalty': 'l2', 'fit_intercept': False}. Best is trial 0 with value: 0.9090909090909091.\n",
      "C:\\Users\\arafa\\anaconda3\\envs\\university-projects\\lib\\site-packages\\sklearn\\linear_model\\_sag.py:349: ConvergenceWarning: The max_iter was reached which means the coef_ did not converge\n",
      "  warnings.warn(\n",
      "[I 2024-12-24 16:28:51,023] Trial 92 finished with value: 0.9090909090909091 and parameters: {'C': 1.846767631313618e-05, 'max_iter': 504, 'solver': 'saga', 'penalty': 'l2', 'fit_intercept': False}. Best is trial 0 with value: 0.9090909090909091.\n",
      "C:\\Users\\arafa\\anaconda3\\envs\\university-projects\\lib\\site-packages\\sklearn\\linear_model\\_sag.py:349: ConvergenceWarning: The max_iter was reached which means the coef_ did not converge\n",
      "  warnings.warn(\n",
      "[I 2024-12-24 16:28:51,102] Trial 93 finished with value: 0.9090909090909091 and parameters: {'C': 185.00656950246523, 'max_iter': 866, 'solver': 'saga', 'penalty': 'l2', 'fit_intercept': False}. Best is trial 0 with value: 0.9090909090909091.\n",
      "C:\\Users\\arafa\\anaconda3\\envs\\university-projects\\lib\\site-packages\\sklearn\\linear_model\\_sag.py:349: ConvergenceWarning: The max_iter was reached which means the coef_ did not converge\n",
      "  warnings.warn(\n",
      "[I 2024-12-24 16:28:51,183] Trial 94 finished with value: 0.9090909090909091 and parameters: {'C': 14259.771362468524, 'max_iter': 1101, 'solver': 'saga', 'penalty': 'l2', 'fit_intercept': False}. Best is trial 0 with value: 0.9090909090909091.\n",
      "C:\\Users\\arafa\\anaconda3\\envs\\university-projects\\lib\\site-packages\\sklearn\\linear_model\\_sag.py:349: ConvergenceWarning: The max_iter was reached which means the coef_ did not converge\n",
      "  warnings.warn(\n",
      "[I 2024-12-24 16:28:51,283] Trial 95 finished with value: 0.9090909090909091 and parameters: {'C': 5.647647157717366e-05, 'max_iter': 1400, 'solver': 'saga', 'penalty': 'l2', 'fit_intercept': True}. Best is trial 0 with value: 0.9090909090909091.\n",
      "[I 2024-12-24 16:28:51,309] Trial 96 finished with value: 0.8181818181818182 and parameters: {'C': 2776.897969713013, 'max_iter': 575, 'solver': 'liblinear', 'penalty': 'l2', 'fit_intercept': True}. Best is trial 0 with value: 0.9090909090909091.\n",
      "C:\\Users\\arafa\\anaconda3\\envs\\university-projects\\lib\\site-packages\\sklearn\\linear_model\\_sag.py:349: ConvergenceWarning: The max_iter was reached which means the coef_ did not converge\n",
      "  warnings.warn(\n",
      "[I 2024-12-24 16:28:51,420] Trial 97 finished with value: 0.9090909090909091 and parameters: {'C': 1.0394944408659883e-05, 'max_iter': 1509, 'solver': 'saga', 'penalty': 'l2', 'fit_intercept': False}. Best is trial 0 with value: 0.9090909090909091.\n",
      "C:\\Users\\arafa\\anaconda3\\envs\\university-projects\\lib\\site-packages\\sklearn\\linear_model\\_sag.py:349: ConvergenceWarning: The max_iter was reached which means the coef_ did not converge\n",
      "  warnings.warn(\n",
      "[I 2024-12-24 16:28:51,483] Trial 98 finished with value: 0.9090909090909091 and parameters: {'C': 0.004198413844663533, 'max_iter': 739, 'solver': 'saga', 'penalty': 'l2', 'fit_intercept': True}. Best is trial 0 with value: 0.9090909090909091.\n",
      "[I 2024-12-24 16:28:51,546] Trial 99 finished with value: 0.8181818181818182 and parameters: {'C': 0.02700146713866391, 'max_iter': 1747, 'solver': 'lbfgs', 'penalty': 'l2', 'fit_intercept': False}. Best is trial 0 with value: 0.9090909090909091.\n"
     ]
    }
   ],
   "source": [
    "import optuna\n",
    "\n",
    "from sklearn.linear_model import LogisticRegression\n",
    "from sklearn.pipeline import make_pipeline\n",
    "from sklearn.impute import SimpleImputer\n",
    "\n",
    "def objective(trial):\n",
    "    param = {\n",
    "        \"C\":trial.suggest_float('C', 1e-5, 1e5, log=True),\n",
    "        \"max_iter\":trial.suggest_int('max_iter', 300, 2000),\n",
    "        \"solver\":trial.suggest_categorical('solver', ['lbfgs', 'liblinear', 'saga']),\n",
    "        \"penalty\":trial.suggest_categorical('penalty', ['l2']),\n",
    "        'fit_intercept' : trial.suggest_categorical('fit_intercept' , [True, False]),\n",
    "    }\n",
    "\n",
    "    model = make_pipeline(\n",
    "        SimpleImputer(strategy=\"median\"),\n",
    "        LogisticRegression(**param, random_state=42)\n",
    "    )\n",
    "\n",
    "    model.fit(X_train, y_train)\n",
    "    score = model.score(X_test, y_test)\n",
    "    return score\n",
    "\n",
    "study = optuna.create_study(direction='maximize')\n",
    "study.optimize(objective, n_trials=100)"
   ],
   "metadata": {
    "collapsed": false
   }
  },
  {
   "cell_type": "code",
   "execution_count": 9,
   "outputs": [],
   "source": [
    "model = make_pipeline(\n",
    "    SimpleImputer(strategy=\"median\"),\n",
    "    LogisticRegression(**study.best_params)\n",
    ")"
   ],
   "metadata": {
    "collapsed": false
   }
  },
  {
   "cell_type": "code",
   "execution_count": 10,
   "outputs": [
    {
     "name": "stdout",
     "output_type": "stream",
     "text": [
      "Fold 0:\n",
      "Accuracy: 0.6842105263157895\n",
      "F1: 0.625\n",
      "Precision: 0.625\n",
      "Recall: 0.625\n",
      "\n",
      "Fold 1:\n",
      "Accuracy: 0.7777777777777778\n",
      "F1: 0.75\n",
      "Precision: 0.75\n",
      "Recall: 0.75\n",
      "\n",
      "Fold 2:\n",
      "Accuracy: 0.7777777777777778\n",
      "F1: 0.75\n",
      "Precision: 0.75\n",
      "Recall: 0.75\n",
      "\n",
      "Fold 3:\n",
      "Accuracy: 0.7777777777777778\n",
      "F1: 0.7142857142857143\n",
      "Precision: 0.8333333333333334\n",
      "Recall: 0.625\n",
      "\n",
      "Fold 4:\n",
      "Accuracy: 0.8888888888888888\n",
      "F1: 0.875\n",
      "Precision: 0.875\n",
      "Recall: 0.875\n",
      "\n"
     ]
    }
   ],
   "source": [
    "from sklearn.model_selection import StratifiedKFold\n",
    "from sklearn.metrics import f1_score, recall_score, precision_score, accuracy_score\n",
    "\n",
    "skf = StratifiedKFold(n_splits=5, shuffle=True, random_state=42)\n",
    "\n",
    "for i, (train_index, test_index) in enumerate(skf.split(X_train, y_train)):\n",
    "    print(f\"Fold {i}:\")\n",
    "    xtrain, xtest = X_train.iloc[train_index], X_train.iloc[test_index]\n",
    "    ytrain, ytest = y_train[train_index], y_train[test_index]\n",
    "    model.fit(xtrain, ytrain)\n",
    "\n",
    "    y_pred = model.predict(xtest)\n",
    "\n",
    "    print(\"Accuracy:\", accuracy_score(ytest, y_pred))\n",
    "    print(\"F1:\", f1_score(ytest, y_pred))\n",
    "    print(\"Precision:\", precision_score(ytest, y_pred))\n",
    "    print(\"Recall:\", recall_score(ytest, y_pred))\n",
    "    print()"
   ],
   "metadata": {
    "collapsed": false
   }
  },
  {
   "cell_type": "code",
   "execution_count": 11,
   "outputs": [],
   "source": [
    "from sklearn.model_selection import cross_validate\n",
    "\n",
    "cv = cross_validate(model, X, y, n_jobs=-1,\n",
    "                    scoring=[\"accuracy\",\n",
    "                             \"f1\",\n",
    "                             \"precision\",\n",
    "                             \"recall\"])"
   ],
   "metadata": {
    "collapsed": false
   }
  },
  {
   "cell_type": "code",
   "execution_count": 13,
   "outputs": [
    {
     "data": {
      "text/plain": "0.8023809523809524"
     },
     "execution_count": 13,
     "metadata": {},
     "output_type": "execute_result"
    }
   ],
   "source": [
    "cv[\"test_accuracy\"].mean()"
   ],
   "metadata": {
    "collapsed": false
   }
  },
  {
   "cell_type": "code",
   "execution_count": 12,
   "outputs": [
    {
     "name": "stdout",
     "output_type": "stream",
     "text": [
      " accuracy 0.9047619047619048 \n",
      " f1 0.8888888888888888 \n",
      " recall 0.8 \n",
      " precision 1.0 \n",
      "\n",
      "---------------------------------------------\n",
      " accuracy 0.8571428571428571 \n",
      " f1 0.8235294117647058 \n",
      " recall 0.7 \n",
      " precision 1.0 \n",
      "\n",
      "---------------------------------------------\n",
      " accuracy 0.85 \n",
      " f1 0.8235294117647058 \n",
      " recall 0.7777777777777778 \n",
      " precision 0.875 \n",
      "\n",
      "---------------------------------------------\n",
      " accuracy 0.7 \n",
      " f1 0.6666666666666666 \n",
      " recall 0.6666666666666666 \n",
      " precision 0.6666666666666666 \n",
      "\n",
      "---------------------------------------------\n",
      " accuracy 0.7 \n",
      " f1 0.7 \n",
      " recall 0.7777777777777778 \n",
      " precision 0.6363636363636364 \n",
      "\n",
      "---------------------------------------------\n"
     ]
    }
   ],
   "source": [
    "for i in range(len(cv)-1):\n",
    "    print(\n",
    "        \" accuracy\", cv[\"test_accuracy\"][i], \"\\n\",\n",
    "        \"f1\", cv[\"test_f1\"][i], \"\\n\",\n",
    "        \"recall\", cv[\"test_recall\"][i], \"\\n\",\n",
    "        \"precision\", cv[\"test_precision\"][i], \"\\n\"\n",
    "    )\n",
    "    print(\"---------------------------------------------\")"
   ],
   "metadata": {
    "collapsed": false
   }
  }
 ],
 "metadata": {
  "kernelspec": {
   "display_name": "Python 3",
   "language": "python",
   "name": "python3"
  },
  "language_info": {
   "codemirror_mode": {
    "name": "ipython",
    "version": 2
   },
   "file_extension": ".py",
   "mimetype": "text/x-python",
   "name": "python",
   "nbconvert_exporter": "python",
   "pygments_lexer": "ipython2",
   "version": "2.7.6"
  }
 },
 "nbformat": 4,
 "nbformat_minor": 0
}
