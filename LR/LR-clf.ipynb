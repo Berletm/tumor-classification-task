{
 "cells": [
  {
   "cell_type": "code",
   "execution_count": 14,
   "metadata": {
    "collapsed": true
   },
   "outputs": [],
   "source": [
    "import pandas as pd\n",
    "import numpy as np"
   ]
  },
  {
   "cell_type": "code",
   "execution_count": 15,
   "outputs": [],
   "source": [
    "data = pd.read_excel(\"tumor-data-without-healthy.xlsx\")"
   ],
   "metadata": {
    "collapsed": false
   }
  },
  {
   "cell_type": "code",
   "execution_count": 16,
   "outputs": [],
   "source": [
    "labels = [value for column, value in data.iloc[0].items()]\n",
    "data = data.set_axis(labels, axis=1)\n",
    "data = data[data.columns[1:]].apply(\n",
    "    lambda x: pd.to_numeric(x.replace('<', '').replace(',', '.'), errors='coerce')\n",
    ")\n",
    "data.drop(index=0, inplace=True)"
   ],
   "metadata": {
    "collapsed": false
   }
  },
  {
   "cell_type": "code",
   "execution_count": 17,
   "outputs": [],
   "source": [
    "data[\"Гормональная активность 0-нет               1-да\"] = data[\n",
    "    \"Гормональная активность 0-нет               1-да\"].astype(str)\n",
    "data[\"Гормональная активность 0-нет               1-да\"] = data[\n",
    "\"Гормональная активность 0-нет               1-да\"].fillna(\"missing\")"
   ],
   "metadata": {
    "collapsed": false
   }
  },
  {
   "cell_type": "code",
   "execution_count": 18,
   "outputs": [],
   "source": [
    "\"\"\" dropping some columns \"\"\"\n",
    "\n",
    "data.dropna(axis=1, how=\"all\", inplace=True)\n",
    "data.dropna(axis=0, thresh=int(data.shape[1] * 0.6), inplace=True)\n",
    "data.dropna(axis=1, thresh=int(data.shape[0] * 0.6), inplace=True)\n",
    "data.drop([\"Пол:    0-жен, 1-муж\"], inplace=True, axis=1)"
   ],
   "metadata": {
    "collapsed": false
   }
  },
  {
   "cell_type": "code",
   "execution_count": 19,
   "outputs": [],
   "source": [
    "X = data.drop(columns=[\"КАН\", \"АКР\"])\n",
    "y = np.argmax(data[[\"КАН\", \"АКР\"]], axis=1)"
   ],
   "metadata": {
    "collapsed": false
   }
  },
  {
   "cell_type": "code",
   "execution_count": 20,
   "outputs": [],
   "source": [
    "from sklearn.model_selection import train_test_split\n",
    "\n",
    "X_train, X_test, y_train, y_test = train_test_split(X, y, train_size=0.9, random_state=42)"
   ],
   "metadata": {
    "collapsed": false
   }
  },
  {
   "cell_type": "code",
   "execution_count": 21,
   "outputs": [],
   "source": [
    "from sklearn.linear_model import LogisticRegression\n",
    "from sklearn.pipeline import make_pipeline\n",
    "from sklearn.impute import SimpleImputer\n",
    "\n",
    "pipeline = make_pipeline(\n",
    "    SimpleImputer(strategy=\"median\"),\n",
    "    LogisticRegression(max_iter=1000, random_state=42)\n",
    ")"
   ],
   "metadata": {
    "collapsed": false
   }
  },
  {
   "cell_type": "code",
   "execution_count": 22,
   "outputs": [
    {
     "name": "stdout",
     "output_type": "stream",
     "text": [
      "Fold 0:\n",
      "Accuracy: 0.7368421052631579\n",
      "F1: 0.7058823529411765\n",
      "Precision: 0.6666666666666666\n",
      "Recall: 0.75\n",
      "\n",
      "Fold 1:\n",
      "Accuracy: 0.7777777777777778\n",
      "F1: 0.7777777777777778\n",
      "Precision: 0.7\n",
      "Recall: 0.875\n",
      "\n",
      "Fold 2:\n",
      "Accuracy: 0.7777777777777778\n",
      "F1: 0.75\n",
      "Precision: 0.75\n",
      "Recall: 0.75\n",
      "\n",
      "Fold 3:\n",
      "Accuracy: 0.7777777777777778\n",
      "F1: 0.7142857142857143\n",
      "Precision: 0.8333333333333334\n",
      "Recall: 0.625\n",
      "\n",
      "Fold 4:\n",
      "Accuracy: 0.7777777777777778\n",
      "F1: 0.7777777777777778\n",
      "Precision: 0.7\n",
      "Recall: 0.875\n",
      "\n"
     ]
    }
   ],
   "source": [
    "from sklearn.model_selection import StratifiedKFold\n",
    "from sklearn.metrics import f1_score, recall_score, precision_score, accuracy_score\n",
    "\n",
    "skf = StratifiedKFold(n_splits=5, shuffle=True, random_state=42)\n",
    "\n",
    "for i, (train_index, test_index) in enumerate(skf.split(X_train, y_train)):\n",
    "    print(f\"Fold {i}:\")\n",
    "    xtrain, xtest = X_train.iloc[train_index], X_train.iloc[test_index]\n",
    "    ytrain, ytest = y_train[train_index], y_train[test_index]\n",
    "    pipeline.fit(xtrain, ytrain)\n",
    "\n",
    "    y_pred = pipeline.predict(xtest)\n",
    "\n",
    "    print(\"Accuracy:\", accuracy_score(ytest, y_pred))\n",
    "    print(\"F1:\", f1_score(ytest, y_pred))\n",
    "    print(\"Precision:\", precision_score(ytest, y_pred))\n",
    "    print(\"Recall:\", recall_score(ytest, y_pred))\n",
    "    print()"
   ],
   "metadata": {
    "collapsed": false
   }
  },
  {
   "cell_type": "code",
   "execution_count": 23,
   "outputs": [],
   "source": [
    "from sklearn.model_selection import cross_validate\n",
    "\n",
    "cv = cross_validate(pipeline, X, y, n_jobs=-1,\n",
    "                    scoring=[\"accuracy\",\n",
    "                             \"f1\",\n",
    "                             \"precision\",\n",
    "                             \"recall\"])"
   ],
   "metadata": {
    "collapsed": false
   }
  },
  {
   "cell_type": "code",
   "execution_count": 24,
   "outputs": [
    {
     "name": "stdout",
     "output_type": "stream",
     "text": [
      " accuracy 0.9523809523809523 \n",
      " f1 0.9523809523809523 \n",
      " recall 1.0 \n",
      " precision 0.9090909090909091 \n",
      "\n",
      "---------------------------------------------\n",
      " accuracy 0.8571428571428571 \n",
      " f1 0.8235294117647058 \n",
      " recall 0.7 \n",
      " precision 1.0 \n",
      "\n",
      "---------------------------------------------\n",
      " accuracy 0.75 \n",
      " f1 0.7368421052631579 \n",
      " recall 0.7777777777777778 \n",
      " precision 0.7 \n",
      "\n",
      "---------------------------------------------\n",
      " accuracy 0.75 \n",
      " f1 0.7368421052631579 \n",
      " recall 0.7777777777777778 \n",
      " precision 0.7 \n",
      "\n",
      "---------------------------------------------\n",
      " accuracy 0.6 \n",
      " f1 0.6363636363636364 \n",
      " recall 0.7777777777777778 \n",
      " precision 0.5384615384615384 \n",
      "\n",
      "---------------------------------------------\n"
     ]
    }
   ],
   "source": [
    "for i in range(len(cv)-1):\n",
    "    print(\n",
    "        \" accuracy\", cv[\"test_accuracy\"][i], \"\\n\",\n",
    "        \"f1\", cv[\"test_f1\"][i], \"\\n\",\n",
    "        \"recall\", cv[\"test_recall\"][i], \"\\n\",\n",
    "        \"precision\", cv[\"test_precision\"][i], \"\\n\"\n",
    "    )\n",
    "    print(\"---------------------------------------------\")"
   ],
   "metadata": {
    "collapsed": false
   }
  },
  {
   "cell_type": "code",
   "execution_count": 25,
   "outputs": [
    {
     "name": "stdout",
     "output_type": "stream",
     "text": [
      "Accuracy: 0.9090909090909091\n",
      "              precision    recall  f1-score   support\n",
      "\n",
      "           0       0.80      1.00      0.89         4\n",
      "           1       1.00      0.86      0.92         7\n",
      "\n",
      "    accuracy                           0.91        11\n",
      "   macro avg       0.90      0.93      0.91        11\n",
      "weighted avg       0.93      0.91      0.91        11\n",
      "\n"
     ]
    }
   ],
   "source": [
    "from sklearn.metrics import accuracy_score, classification_report\n",
    "\n",
    "y_pred = pipeline.predict(X_test)\n",
    "\n",
    "print(\"Accuracy:\", accuracy_score(y_test, y_pred))\n",
    "\n",
    "print(classification_report(y_test, y_pred))"
   ],
   "metadata": {
    "collapsed": false
   }
  },
  {
   "cell_type": "code",
   "execution_count": 26,
   "outputs": [
    {
     "data": {
      "text/plain": "                                              Feature  Importance\n15                                            dA2_17B    0.040020\n10                  свободный кортизон мочи (ВЭЖХ)       0.038283\n27                                             dP3_3А    0.025637\n32                                                THS    0.022147\n44                                                HHB    0.020650\n5                                Кортизол крови вечер    0.018510\n17                                          16DHEA-3a    0.017912\n2                             Нативная плотность, НU     0.017459\n35                                            alloTHB    0.016631\n14                                                 Et    0.016085\n28                                           16dP2_3A    0.015423\n40                                                bCN    0.012483\n33                                                THE    0.011617\n18                                          16DHEA-3b    0.009547\n26                                                dP2    0.005483\n24                                                 P2    0.005211\n21                                               11An    0.003097\n1                             Максимальный размер, мм    0.002483\n3                                               Weiss    0.002156\n34                                                THB    0.001914\n36                                                THF    0.001294\n8                                          ДГЭА-С        0.000418\n47                                            THB_THA    0.000341\n9                    свободный кортизол мочи (ВЭЖХ)      0.000100\n7                                         АКТГ  утром    0.000095\n49                                            THF_THE    0.000059\n48                                           THF_THE1    0.000011\n12  Индекс свободный кортизон/свободный кортизол в...   -0.000009\n43                                           THF/THE2   -0.000029\n51                                           aTHB_THB   -0.000038\n45                                              An|Et   -0.000172\n50                                           aTHF_THF   -0.000226\n0    Гормональная активность 0-нет               1-да   -0.000261\n52                                          11An_11Et   -0.000443\n20                                             17-ОНP   -0.003126\n46                                             THE_P3   -0.005154\n4                                 Кортизол крови утро   -0.005555\n11            18 гидроксикортикостерон мочи (ВЭЖХ)      -0.007271\n6     Кортизол после пробы с 1 мг дексаметазона (ДМТ)   -0.007602\n23                                                 A3   -0.008532\n42                                            alloTHE   -0.009237\n19                                            11охоET   -0.010380\n16                                               DHEA   -0.010515\n29                                                dA3   -0.011774\n38                                                THA   -0.012439\n25                                                 P3   -0.012931\n31                                            11oxoP3   -0.015206\n13                                                 An   -0.016251\n22                                               11Et   -0.018101\n53                                            THE_THS   -0.026693\n41                                                 CL   -0.029882\n37                                            alloTHF   -0.036030\n39                                                aCN   -0.036529\n30                                            11oxoP2   -0.055186\n54                                        THE_11oxoP3   -0.055964",
      "text/html": "<div>\n<style scoped>\n    .dataframe tbody tr th:only-of-type {\n        vertical-align: middle;\n    }\n\n    .dataframe tbody tr th {\n        vertical-align: top;\n    }\n\n    .dataframe thead th {\n        text-align: right;\n    }\n</style>\n<table border=\"1\" class=\"dataframe\">\n  <thead>\n    <tr style=\"text-align: right;\">\n      <th></th>\n      <th>Feature</th>\n      <th>Importance</th>\n    </tr>\n  </thead>\n  <tbody>\n    <tr>\n      <th>15</th>\n      <td>dA2_17B</td>\n      <td>0.040020</td>\n    </tr>\n    <tr>\n      <th>10</th>\n      <td>свободный кортизон мочи (ВЭЖХ)</td>\n      <td>0.038283</td>\n    </tr>\n    <tr>\n      <th>27</th>\n      <td>dP3_3А</td>\n      <td>0.025637</td>\n    </tr>\n    <tr>\n      <th>32</th>\n      <td>THS</td>\n      <td>0.022147</td>\n    </tr>\n    <tr>\n      <th>44</th>\n      <td>HHB</td>\n      <td>0.020650</td>\n    </tr>\n    <tr>\n      <th>5</th>\n      <td>Кортизол крови вечер</td>\n      <td>0.018510</td>\n    </tr>\n    <tr>\n      <th>17</th>\n      <td>16DHEA-3a</td>\n      <td>0.017912</td>\n    </tr>\n    <tr>\n      <th>2</th>\n      <td>Нативная плотность, НU</td>\n      <td>0.017459</td>\n    </tr>\n    <tr>\n      <th>35</th>\n      <td>alloTHB</td>\n      <td>0.016631</td>\n    </tr>\n    <tr>\n      <th>14</th>\n      <td>Et</td>\n      <td>0.016085</td>\n    </tr>\n    <tr>\n      <th>28</th>\n      <td>16dP2_3A</td>\n      <td>0.015423</td>\n    </tr>\n    <tr>\n      <th>40</th>\n      <td>bCN</td>\n      <td>0.012483</td>\n    </tr>\n    <tr>\n      <th>33</th>\n      <td>THE</td>\n      <td>0.011617</td>\n    </tr>\n    <tr>\n      <th>18</th>\n      <td>16DHEA-3b</td>\n      <td>0.009547</td>\n    </tr>\n    <tr>\n      <th>26</th>\n      <td>dP2</td>\n      <td>0.005483</td>\n    </tr>\n    <tr>\n      <th>24</th>\n      <td>P2</td>\n      <td>0.005211</td>\n    </tr>\n    <tr>\n      <th>21</th>\n      <td>11An</td>\n      <td>0.003097</td>\n    </tr>\n    <tr>\n      <th>1</th>\n      <td>Максимальный размер, мм</td>\n      <td>0.002483</td>\n    </tr>\n    <tr>\n      <th>3</th>\n      <td>Weiss</td>\n      <td>0.002156</td>\n    </tr>\n    <tr>\n      <th>34</th>\n      <td>THB</td>\n      <td>0.001914</td>\n    </tr>\n    <tr>\n      <th>36</th>\n      <td>THF</td>\n      <td>0.001294</td>\n    </tr>\n    <tr>\n      <th>8</th>\n      <td>ДГЭА-С</td>\n      <td>0.000418</td>\n    </tr>\n    <tr>\n      <th>47</th>\n      <td>THB_THA</td>\n      <td>0.000341</td>\n    </tr>\n    <tr>\n      <th>9</th>\n      <td>свободный кортизол мочи (ВЭЖХ)</td>\n      <td>0.000100</td>\n    </tr>\n    <tr>\n      <th>7</th>\n      <td>АКТГ  утром</td>\n      <td>0.000095</td>\n    </tr>\n    <tr>\n      <th>49</th>\n      <td>THF_THE</td>\n      <td>0.000059</td>\n    </tr>\n    <tr>\n      <th>48</th>\n      <td>THF_THE1</td>\n      <td>0.000011</td>\n    </tr>\n    <tr>\n      <th>12</th>\n      <td>Индекс свободный кортизон/свободный кортизол в...</td>\n      <td>-0.000009</td>\n    </tr>\n    <tr>\n      <th>43</th>\n      <td>THF/THE2</td>\n      <td>-0.000029</td>\n    </tr>\n    <tr>\n      <th>51</th>\n      <td>aTHB_THB</td>\n      <td>-0.000038</td>\n    </tr>\n    <tr>\n      <th>45</th>\n      <td>An|Et</td>\n      <td>-0.000172</td>\n    </tr>\n    <tr>\n      <th>50</th>\n      <td>aTHF_THF</td>\n      <td>-0.000226</td>\n    </tr>\n    <tr>\n      <th>0</th>\n      <td>Гормональная активность 0-нет               1-да</td>\n      <td>-0.000261</td>\n    </tr>\n    <tr>\n      <th>52</th>\n      <td>11An_11Et</td>\n      <td>-0.000443</td>\n    </tr>\n    <tr>\n      <th>20</th>\n      <td>17-ОНP</td>\n      <td>-0.003126</td>\n    </tr>\n    <tr>\n      <th>46</th>\n      <td>THE_P3</td>\n      <td>-0.005154</td>\n    </tr>\n    <tr>\n      <th>4</th>\n      <td>Кортизол крови утро</td>\n      <td>-0.005555</td>\n    </tr>\n    <tr>\n      <th>11</th>\n      <td>18 гидроксикортикостерон мочи (ВЭЖХ)</td>\n      <td>-0.007271</td>\n    </tr>\n    <tr>\n      <th>6</th>\n      <td>Кортизол после пробы с 1 мг дексаметазона (ДМТ)</td>\n      <td>-0.007602</td>\n    </tr>\n    <tr>\n      <th>23</th>\n      <td>A3</td>\n      <td>-0.008532</td>\n    </tr>\n    <tr>\n      <th>42</th>\n      <td>alloTHE</td>\n      <td>-0.009237</td>\n    </tr>\n    <tr>\n      <th>19</th>\n      <td>11охоET</td>\n      <td>-0.010380</td>\n    </tr>\n    <tr>\n      <th>16</th>\n      <td>DHEA</td>\n      <td>-0.010515</td>\n    </tr>\n    <tr>\n      <th>29</th>\n      <td>dA3</td>\n      <td>-0.011774</td>\n    </tr>\n    <tr>\n      <th>38</th>\n      <td>THA</td>\n      <td>-0.012439</td>\n    </tr>\n    <tr>\n      <th>25</th>\n      <td>P3</td>\n      <td>-0.012931</td>\n    </tr>\n    <tr>\n      <th>31</th>\n      <td>11oxoP3</td>\n      <td>-0.015206</td>\n    </tr>\n    <tr>\n      <th>13</th>\n      <td>An</td>\n      <td>-0.016251</td>\n    </tr>\n    <tr>\n      <th>22</th>\n      <td>11Et</td>\n      <td>-0.018101</td>\n    </tr>\n    <tr>\n      <th>53</th>\n      <td>THE_THS</td>\n      <td>-0.026693</td>\n    </tr>\n    <tr>\n      <th>41</th>\n      <td>CL</td>\n      <td>-0.029882</td>\n    </tr>\n    <tr>\n      <th>37</th>\n      <td>alloTHF</td>\n      <td>-0.036030</td>\n    </tr>\n    <tr>\n      <th>39</th>\n      <td>aCN</td>\n      <td>-0.036529</td>\n    </tr>\n    <tr>\n      <th>30</th>\n      <td>11oxoP2</td>\n      <td>-0.055186</td>\n    </tr>\n    <tr>\n      <th>54</th>\n      <td>THE_11oxoP3</td>\n      <td>-0.055964</td>\n    </tr>\n  </tbody>\n</table>\n</div>"
     },
     "execution_count": 26,
     "metadata": {},
     "output_type": "execute_result"
    }
   ],
   "source": [
    "model = pipeline[\"logisticregression\"]\n",
    "\n",
    "feature_importances = model.coef_.T.reshape(55,)\n",
    "feature_names = X.columns\n",
    "\n",
    "importance_df = pd.DataFrame({\n",
    "    'Feature': feature_names,\n",
    "    'Importance': feature_importances\n",
    "}).sort_values(by='Importance', ascending=False)\n",
    "\n",
    "importance_df"
   ],
   "metadata": {
    "collapsed": false
   }
  }
 ],
 "metadata": {
  "kernelspec": {
   "display_name": "Python 3",
   "language": "python",
   "name": "python3"
  },
  "language_info": {
   "codemirror_mode": {
    "name": "ipython",
    "version": 2
   },
   "file_extension": ".py",
   "mimetype": "text/x-python",
   "name": "python",
   "nbconvert_exporter": "python",
   "pygments_lexer": "ipython2",
   "version": "2.7.6"
  }
 },
 "nbformat": 4,
 "nbformat_minor": 0
}
