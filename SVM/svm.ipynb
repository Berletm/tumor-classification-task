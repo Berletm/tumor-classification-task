{
 "cells": [
  {
   "cell_type": "code",
   "execution_count": 5,
   "metadata": {
    "collapsed": true
   },
   "outputs": [],
   "source": [
    "import pandas as pd\n",
    "import numpy as np"
   ]
  },
  {
   "cell_type": "code",
   "execution_count": 6,
   "outputs": [],
   "source": [
    "data = pd.read_excel(\"tumor-data-without-healthy.xlsx\")"
   ],
   "metadata": {
    "collapsed": false
   }
  },
  {
   "cell_type": "code",
   "execution_count": 7,
   "outputs": [],
   "source": [
    "labels = [value for column, value in data.iloc[0].items()]\n",
    "data = data.set_axis(labels, axis=1)\n",
    "data = data[data.columns[1:]].apply(\n",
    "    lambda x: pd.to_numeric(x.replace('<', '').replace(',', '.'), errors='coerce')\n",
    ")"
   ],
   "metadata": {
    "collapsed": false
   }
  },
  {
   "cell_type": "code",
   "execution_count": 8,
   "outputs": [],
   "source": [
    "data.drop(index=0, inplace=True)\n",
    "data[\"Гормональная активность 0-нет               1-да\"] = data[\n",
    "    \"Гормональная активность 0-нет               1-да\"].astype(str)\n",
    "data[\"Гормональная активность 0-нет               1-да\"] = data[\n",
    "\"Гормональная активность 0-нет               1-да\"].fillna(\"missing\")"
   ],
   "metadata": {
    "collapsed": false
   }
  },
  {
   "cell_type": "code",
   "execution_count": 9,
   "outputs": [],
   "source": [
    "\"\"\" dropping some columns \"\"\"\n",
    "\n",
    "data.dropna(axis=1, how=\"all\", inplace=True)\n",
    "data.dropna(axis=0, thresh=int(data.shape[1] * 0.6), inplace=True)\n",
    "data.dropna(axis=1, thresh=int(data.shape[0] * 0.6), inplace=True)\n",
    "data.drop([\"Пол:    0-жен, 1-муж\"], inplace=True, axis=1)\n",
    "X = data.drop(columns=[\"КАН\", \"АКР\"])\n",
    "y = np.argmax(data[[\"КАН\", \"АКР\"]], axis=1)"
   ],
   "metadata": {
    "collapsed": false
   }
  },
  {
   "cell_type": "code",
   "execution_count": 10,
   "outputs": [],
   "source": [
    "from sklearn.model_selection import train_test_split\n",
    "\n",
    "X_train, X_test, y_train, y_test = train_test_split(X, y, train_size=0.9, random_state=42)"
   ],
   "metadata": {
    "collapsed": false
   }
  },
  {
   "cell_type": "code",
   "execution_count": 18,
   "outputs": [
    {
     "name": "stderr",
     "output_type": "stream",
     "text": [
      "[I 2024-12-22 14:26:58,387] A new study created in memory with name: no-name-b1a9644b-94af-4e71-b026-3970b9e44e0e\n",
      "[I 2024-12-22 14:26:58,397] Trial 0 finished with value: 0.8181818181818182 and parameters: {'C': 0.7353891962688719, 'gamma': 'auto', 'kernel': 'poly', 'coef0': 4.763858242762223}. Best is trial 0 with value: 0.8181818181818182.\n",
      "[I 2024-12-22 14:26:58,408] Trial 1 finished with value: 0.36363636363636365 and parameters: {'C': 1.3355281062152273, 'gamma': 'auto', 'kernel': 'sigmoid', 'coef0': 1.1182661789237487}. Best is trial 0 with value: 0.8181818181818182.\n",
      "[I 2024-12-22 14:26:58,418] Trial 2 finished with value: 0.36363636363636365 and parameters: {'C': 9.628116981994937, 'gamma': 'auto', 'kernel': 'sigmoid', 'coef0': 0.5086409863135667}. Best is trial 0 with value: 0.8181818181818182.\n",
      "[I 2024-12-22 14:26:58,427] Trial 3 finished with value: 0.36363636363636365 and parameters: {'C': 3.401873673558067, 'gamma': 'auto', 'kernel': 'sigmoid', 'coef0': 0.8646573468334025}. Best is trial 0 with value: 0.8181818181818182.\n",
      "[I 2024-12-22 14:26:58,434] Trial 4 finished with value: 0.36363636363636365 and parameters: {'C': 8.505239528640528, 'gamma': 'auto', 'kernel': 'sigmoid', 'coef0': 3.9854727928924136}. Best is trial 0 with value: 0.8181818181818182.\n",
      "[I 2024-12-22 14:26:58,447] Trial 5 finished with value: 0.9090909090909091 and parameters: {'C': 5.6719220566791115, 'gamma': 'scale', 'kernel': 'linear', 'coef0': 0.31214106876956293}. Best is trial 5 with value: 0.9090909090909091.\n",
      "[I 2024-12-22 14:26:58,459] Trial 6 finished with value: 0.9090909090909091 and parameters: {'C': 3.148570055179753, 'gamma': 'auto', 'kernel': 'linear', 'coef0': 3.142977017947344}. Best is trial 5 with value: 0.9090909090909091.\n",
      "[I 2024-12-22 14:26:58,466] Trial 7 finished with value: 0.9090909090909091 and parameters: {'C': 5.4112318452213195, 'gamma': 'scale', 'kernel': 'rbf', 'coef0': 6.663087487305489}. Best is trial 5 with value: 0.9090909090909091.\n",
      "[I 2024-12-22 14:26:58,474] Trial 8 finished with value: 0.36363636363636365 and parameters: {'C': 1.9203024040257688, 'gamma': 'auto', 'kernel': 'sigmoid', 'coef0': 4.5931801474755645}. Best is trial 5 with value: 0.9090909090909091.\n",
      "[I 2024-12-22 14:26:58,482] Trial 9 finished with value: 0.9090909090909091 and parameters: {'C': 7.933702628960166, 'gamma': 'scale', 'kernel': 'rbf', 'coef0': 0.7298834051092646}. Best is trial 5 with value: 0.9090909090909091.\n",
      "[I 2024-12-22 14:26:58,500] Trial 10 finished with value: 0.9090909090909091 and parameters: {'C': 6.137041401140802, 'gamma': 'scale', 'kernel': 'linear', 'coef0': 0.13671131454208785}. Best is trial 5 with value: 0.9090909090909091.\n",
      "[I 2024-12-22 14:26:58,519] Trial 11 finished with value: 0.9090909090909091 and parameters: {'C': 3.732089686831427, 'gamma': 'scale', 'kernel': 'linear', 'coef0': 0.2142339393905432}. Best is trial 5 with value: 0.9090909090909091.\n",
      "[I 2024-12-22 14:26:58,539] Trial 12 finished with value: 0.9090909090909091 and parameters: {'C': 3.7992673107103094, 'gamma': 'scale', 'kernel': 'linear', 'coef0': 1.51913609806931}. Best is trial 5 with value: 0.9090909090909091.\n",
      "[I 2024-12-22 14:26:58,558] Trial 13 finished with value: 0.9090909090909091 and parameters: {'C': 6.446060507612458, 'gamma': 'scale', 'kernel': 'linear', 'coef0': 2.182488218970856}. Best is trial 5 with value: 0.9090909090909091.\n",
      "[I 2024-12-22 14:26:58,577] Trial 14 finished with value: 0.9090909090909091 and parameters: {'C': 2.64919692290587, 'gamma': 'auto', 'kernel': 'linear', 'coef0': 0.34999862633014656}. Best is trial 5 with value: 0.9090909090909091.\n",
      "[I 2024-12-22 14:26:58,590] Trial 15 finished with value: 0.9090909090909091 and parameters: {'C': 4.682898361065775, 'gamma': 'scale', 'kernel': 'poly', 'coef0': 2.6753042001538847}. Best is trial 5 with value: 0.9090909090909091.\n",
      "[I 2024-12-22 14:26:58,609] Trial 16 finished with value: 0.9090909090909091 and parameters: {'C': 7.048383780891587, 'gamma': 'auto', 'kernel': 'linear', 'coef0': 9.306015523579857}. Best is trial 5 with value: 0.9090909090909091.\n",
      "[I 2024-12-22 14:26:58,627] Trial 17 finished with value: 0.9090909090909091 and parameters: {'C': 4.813367121831164, 'gamma': 'scale', 'kernel': 'linear', 'coef0': 0.2714147365147332}. Best is trial 5 with value: 0.9090909090909091.\n",
      "[I 2024-12-22 14:26:58,646] Trial 18 finished with value: 0.9090909090909091 and parameters: {'C': 0.23705971921169722, 'gamma': 'scale', 'kernel': 'linear', 'coef0': 0.11358375955525933}. Best is trial 5 with value: 0.9090909090909091.\n",
      "[I 2024-12-22 14:26:58,660] Trial 19 finished with value: 0.36363636363636365 and parameters: {'C': 2.0260583269142343, 'gamma': 'auto', 'kernel': 'rbf', 'coef0': 0.4674354609114797}. Best is trial 5 with value: 0.9090909090909091.\n",
      "[I 2024-12-22 14:26:58,675] Trial 20 finished with value: 0.8181818181818182 and parameters: {'C': 5.625114584867326, 'gamma': 'auto', 'kernel': 'poly', 'coef0': 1.8348095628633232}. Best is trial 5 with value: 0.9090909090909091.\n",
      "[I 2024-12-22 14:26:58,689] Trial 21 finished with value: 0.9090909090909091 and parameters: {'C': 5.0984217602382795, 'gamma': 'scale', 'kernel': 'rbf', 'coef0': 9.90925345070608}. Best is trial 5 with value: 0.9090909090909091.\n",
      "[I 2024-12-22 14:26:58,705] Trial 22 finished with value: 0.9090909090909091 and parameters: {'C': 4.275748725875832, 'gamma': 'scale', 'kernel': 'rbf', 'coef0': 6.037105691845267}. Best is trial 5 with value: 0.9090909090909091.\n",
      "[I 2024-12-22 14:26:58,721] Trial 23 finished with value: 0.9090909090909091 and parameters: {'C': 7.212494231106594, 'gamma': 'scale', 'kernel': 'rbf', 'coef0': 3.135454179061343}. Best is trial 5 with value: 0.9090909090909091.\n",
      "[I 2024-12-22 14:26:58,741] Trial 24 finished with value: 0.8181818181818182 and parameters: {'C': 2.7924378921418205, 'gamma': 'scale', 'kernel': 'rbf', 'coef0': 6.2585406934342895}. Best is trial 5 with value: 0.9090909090909091.\n",
      "[I 2024-12-22 14:26:58,758] Trial 25 finished with value: 0.9090909090909091 and parameters: {'C': 5.786294620302745, 'gamma': 'scale', 'kernel': 'linear', 'coef0': 1.2707247422948895}. Best is trial 5 with value: 0.9090909090909091.\n",
      "[I 2024-12-22 14:26:58,777] Trial 26 finished with value: 0.9090909090909091 and parameters: {'C': 5.426630494230613, 'gamma': 'scale', 'kernel': 'linear', 'coef0': 0.16854303564892661}. Best is trial 5 with value: 0.9090909090909091.\n",
      "[I 2024-12-22 14:26:58,790] Trial 27 finished with value: 0.9090909090909091 and parameters: {'C': 6.867530653733392, 'gamma': 'scale', 'kernel': 'rbf', 'coef0': 7.349074459103105}. Best is trial 5 with value: 0.9090909090909091.\n",
      "[I 2024-12-22 14:26:58,806] Trial 28 finished with value: 0.8181818181818182 and parameters: {'C': 2.9556526432433645, 'gamma': 'auto', 'kernel': 'poly', 'coef0': 3.2915777146375853}. Best is trial 5 with value: 0.9090909090909091.\n",
      "[I 2024-12-22 14:26:58,821] Trial 29 finished with value: 0.8181818181818182 and parameters: {'C': 4.479347734338112, 'gamma': 'auto', 'kernel': 'poly', 'coef0': 4.70258816825639}. Best is trial 5 with value: 0.9090909090909091.\n",
      "[I 2024-12-22 14:26:58,841] Trial 30 finished with value: 0.9090909090909091 and parameters: {'C': 8.801646080412226, 'gamma': 'scale', 'kernel': 'linear', 'coef0': 0.6681299543971824}. Best is trial 5 with value: 0.9090909090909091.\n",
      "[I 2024-12-22 14:26:58,856] Trial 31 finished with value: 0.9090909090909091 and parameters: {'C': 7.722785714176858, 'gamma': 'scale', 'kernel': 'rbf', 'coef0': 0.8049807192722966}. Best is trial 5 with value: 0.9090909090909091.\n",
      "[I 2024-12-22 14:26:58,871] Trial 32 finished with value: 0.9090909090909091 and parameters: {'C': 7.9091245692654155, 'gamma': 'scale', 'kernel': 'rbf', 'coef0': 0.3537515853321445}. Best is trial 5 with value: 0.9090909090909091.\n",
      "[I 2024-12-22 14:26:58,885] Trial 33 finished with value: 0.9090909090909091 and parameters: {'C': 9.257393618881643, 'gamma': 'scale', 'kernel': 'rbf', 'coef0': 0.6052949470759502}. Best is trial 5 with value: 0.9090909090909091.\n",
      "[I 2024-12-22 14:26:58,900] Trial 34 finished with value: 0.9090909090909091 and parameters: {'C': 9.887988932328305, 'gamma': 'scale', 'kernel': 'rbf', 'coef0': 1.0119353833199716}. Best is trial 5 with value: 0.9090909090909091.\n",
      "[I 2024-12-22 14:26:58,914] Trial 35 finished with value: 0.36363636363636365 and parameters: {'C': 1.0345903401482892, 'gamma': 'auto', 'kernel': 'sigmoid', 'coef0': 0.42339289412445463}. Best is trial 5 with value: 0.9090909090909091.\n",
      "[I 2024-12-22 14:26:58,930] Trial 36 finished with value: 0.36363636363636365 and parameters: {'C': 7.821643399582692, 'gamma': 'auto', 'kernel': 'rbf', 'coef0': 0.25714095479383975}. Best is trial 5 with value: 0.9090909090909091.\n",
      "[I 2024-12-22 14:26:58,950] Trial 37 finished with value: 0.9090909090909091 and parameters: {'C': 6.408442423736198, 'gamma': 'scale', 'kernel': 'linear', 'coef0': 1.290019297625778}. Best is trial 5 with value: 0.9090909090909091.\n",
      "[I 2024-12-22 14:26:58,964] Trial 38 finished with value: 0.36363636363636365 and parameters: {'C': 1.715860477977206, 'gamma': 'auto', 'kernel': 'sigmoid', 'coef0': 0.7985358826462671}. Best is trial 5 with value: 0.9090909090909091.\n",
      "[I 2024-12-22 14:26:58,979] Trial 39 finished with value: 0.9090909090909091 and parameters: {'C': 4.048292962267288, 'gamma': 'scale', 'kernel': 'rbf', 'coef0': 2.1125877559021977}. Best is trial 5 with value: 0.9090909090909091.\n",
      "[I 2024-12-22 14:26:58,999] Trial 40 finished with value: 0.9090909090909091 and parameters: {'C': 3.355736905726835, 'gamma': 'scale', 'kernel': 'linear', 'coef0': 4.028254372158192}. Best is trial 5 with value: 0.9090909090909091.\n",
      "[I 2024-12-22 14:26:59,019] Trial 41 finished with value: 0.9090909090909091 and parameters: {'C': 6.045975674846201, 'gamma': 'scale', 'kernel': 'linear', 'coef0': 0.14411027093597187}. Best is trial 5 with value: 0.9090909090909091.\n",
      "[I 2024-12-22 14:26:59,039] Trial 42 finished with value: 0.9090909090909091 and parameters: {'C': 6.266265124836307, 'gamma': 'scale', 'kernel': 'linear', 'coef0': 0.10019432350054831}. Best is trial 5 with value: 0.9090909090909091.\n",
      "[I 2024-12-22 14:26:59,059] Trial 43 finished with value: 0.9090909090909091 and parameters: {'C': 5.164767137724697, 'gamma': 'scale', 'kernel': 'linear', 'coef0': 0.1872287109346067}. Best is trial 5 with value: 0.9090909090909091.\n",
      "[I 2024-12-22 14:26:59,079] Trial 44 finished with value: 0.9090909090909091 and parameters: {'C': 6.734859407579964, 'gamma': 'scale', 'kernel': 'linear', 'coef0': 0.2510718797255219}. Best is trial 5 with value: 0.9090909090909091.\n",
      "[I 2024-12-22 14:26:59,093] Trial 45 finished with value: 0.36363636363636365 and parameters: {'C': 8.739542503597084, 'gamma': 'auto', 'kernel': 'sigmoid', 'coef0': 0.34338117198048823}. Best is trial 5 with value: 0.9090909090909091.\n",
      "[I 2024-12-22 14:26:59,112] Trial 46 finished with value: 0.9090909090909091 and parameters: {'C': 7.5240393810419, 'gamma': 'scale', 'kernel': 'linear', 'coef0': 0.12965483486182}. Best is trial 5 with value: 0.9090909090909091.\n",
      "[I 2024-12-22 14:26:59,132] Trial 47 finished with value: 0.9090909090909091 and parameters: {'C': 8.13109247402605, 'gamma': 'scale', 'kernel': 'linear', 'coef0': 0.6370531798347416}. Best is trial 5 with value: 0.9090909090909091.\n",
      "[I 2024-12-22 14:26:59,148] Trial 48 finished with value: 0.8181818181818182 and parameters: {'C': 3.6071790236751156, 'gamma': 'auto', 'kernel': 'poly', 'coef0': 1.5608271753461573}. Best is trial 5 with value: 0.9090909090909091.\n",
      "[I 2024-12-22 14:26:59,168] Trial 49 finished with value: 0.9090909090909091 and parameters: {'C': 5.94001897143586, 'gamma': 'scale', 'kernel': 'linear', 'coef0': 0.1968158970296932}. Best is trial 5 with value: 0.9090909090909091.\n",
      "[I 2024-12-22 14:26:59,185] Trial 50 finished with value: 0.36363636363636365 and parameters: {'C': 4.6747178142453185, 'gamma': 'auto', 'kernel': 'rbf', 'coef0': 7.505347234875451}. Best is trial 5 with value: 0.9090909090909091.\n",
      "[I 2024-12-22 14:26:59,205] Trial 51 finished with value: 0.9090909090909091 and parameters: {'C': 3.8976611732167834, 'gamma': 'scale', 'kernel': 'linear', 'coef0': 0.223852987661917}. Best is trial 5 with value: 0.9090909090909091.\n",
      "[I 2024-12-22 14:26:59,226] Trial 52 finished with value: 0.9090909090909091 and parameters: {'C': 2.422246513482039, 'gamma': 'scale', 'kernel': 'linear', 'coef0': 0.1482477410824599}. Best is trial 5 with value: 0.9090909090909091.\n",
      "[I 2024-12-22 14:26:59,247] Trial 53 finished with value: 0.9090909090909091 and parameters: {'C': 3.303422027928527, 'gamma': 'scale', 'kernel': 'linear', 'coef0': 0.39896477397952373}. Best is trial 5 with value: 0.9090909090909091.\n",
      "[I 2024-12-22 14:26:59,267] Trial 54 finished with value: 0.9090909090909091 and parameters: {'C': 5.368924224920607, 'gamma': 'scale', 'kernel': 'linear', 'coef0': 0.5141979574161335}. Best is trial 5 with value: 0.9090909090909091.\n",
      "[I 2024-12-22 14:26:59,287] Trial 55 finished with value: 0.9090909090909091 and parameters: {'C': 4.9243620954342795, 'gamma': 'scale', 'kernel': 'linear', 'coef0': 0.28602194221234756}. Best is trial 5 with value: 0.9090909090909091.\n",
      "[I 2024-12-22 14:26:59,302] Trial 56 finished with value: 0.9090909090909091 and parameters: {'C': 7.2505260961308835, 'gamma': 'scale', 'kernel': 'rbf', 'coef0': 5.911289914023866}. Best is trial 5 with value: 0.9090909090909091.\n",
      "[I 2024-12-22 14:26:59,321] Trial 57 finished with value: 0.9090909090909091 and parameters: {'C': 4.2730209177804594, 'gamma': 'scale', 'kernel': 'linear', 'coef0': 0.20737023894590398}. Best is trial 5 with value: 0.9090909090909091.\n",
      "[I 2024-12-22 14:26:59,338] Trial 58 finished with value: 0.8181818181818182 and parameters: {'C': 6.488790769052094, 'gamma': 'auto', 'kernel': 'poly', 'coef0': 3.0727078711487326}. Best is trial 5 with value: 0.9090909090909091.\n",
      "[I 2024-12-22 14:26:59,354] Trial 59 finished with value: 0.9090909090909091 and parameters: {'C': 5.579431213812168, 'gamma': 'scale', 'kernel': 'rbf', 'coef0': 0.11543754860896506}. Best is trial 5 with value: 0.9090909090909091.\n",
      "[I 2024-12-22 14:26:59,372] Trial 60 finished with value: 0.8181818181818182 and parameters: {'C': 2.293368116599385, 'gamma': 'scale', 'kernel': 'sigmoid', 'coef0': 0.318959218717698}. Best is trial 5 with value: 0.9090909090909091.\n",
      "[I 2024-12-22 14:26:59,394] Trial 61 finished with value: 0.9090909090909091 and parameters: {'C': 3.1170342501577175, 'gamma': 'scale', 'kernel': 'linear', 'coef0': 1.631118714438273}. Best is trial 5 with value: 0.9090909090909091.\n",
      "[I 2024-12-22 14:26:59,414] Trial 62 finished with value: 0.9090909090909091 and parameters: {'C': 3.9474910347659176, 'gamma': 'scale', 'kernel': 'linear', 'coef0': 2.4016619261937806}. Best is trial 5 with value: 0.9090909090909091.\n",
      "[I 2024-12-22 14:26:59,434] Trial 63 finished with value: 0.9090909090909091 and parameters: {'C': 3.6993168261049734, 'gamma': 'scale', 'kernel': 'linear', 'coef0': 0.1594146434777689}. Best is trial 5 with value: 0.9090909090909091.\n",
      "[I 2024-12-22 14:26:59,454] Trial 64 finished with value: 0.9090909090909091 and parameters: {'C': 4.391875597646262, 'gamma': 'scale', 'kernel': 'linear', 'coef0': 1.2224472205314363}. Best is trial 5 with value: 0.9090909090909091.\n",
      "[I 2024-12-22 14:26:59,473] Trial 65 finished with value: 0.9090909090909091 and parameters: {'C': 4.748971644036335, 'gamma': 'scale', 'kernel': 'linear', 'coef0': 4.106290881864886}. Best is trial 5 with value: 0.9090909090909091.\n",
      "[I 2024-12-22 14:26:59,489] Trial 66 finished with value: 0.36363636363636365 and parameters: {'C': 1.6720583144938825, 'gamma': 'auto', 'kernel': 'rbf', 'coef0': 2.8126062504832223}. Best is trial 5 with value: 0.9090909090909091.\n",
      "[I 2024-12-22 14:26:59,509] Trial 67 finished with value: 0.9090909090909091 and parameters: {'C': 2.697192181135218, 'gamma': 'scale', 'kernel': 'linear', 'coef0': 0.9502393586639062}. Best is trial 5 with value: 0.9090909090909091.\n",
      "[I 2024-12-22 14:26:59,525] Trial 68 finished with value: 0.9090909090909091 and parameters: {'C': 5.246705072929899, 'gamma': 'scale', 'kernel': 'rbf', 'coef0': 3.551274582446279}. Best is trial 5 with value: 0.9090909090909091.\n",
      "[I 2024-12-22 14:26:59,546] Trial 69 finished with value: 0.9090909090909091 and parameters: {'C': 9.184070253557369, 'gamma': 'scale', 'kernel': 'linear', 'coef0': 5.115780515288792}. Best is trial 5 with value: 0.9090909090909091.\n",
      "[I 2024-12-22 14:26:59,561] Trial 70 finished with value: 0.8181818181818182 and parameters: {'C': 6.128676243678136, 'gamma': 'auto', 'kernel': 'poly', 'coef0': 2.324910913332133}. Best is trial 5 with value: 0.9090909090909091.\n",
      "[I 2024-12-22 14:26:59,583] Trial 71 finished with value: 0.9090909090909091 and parameters: {'C': 6.65038303208672, 'gamma': 'scale', 'kernel': 'linear', 'coef0': 1.9105922764155367}. Best is trial 5 with value: 0.9090909090909091.\n",
      "[I 2024-12-22 14:26:59,602] Trial 72 finished with value: 0.9090909090909091 and parameters: {'C': 5.690936314857351, 'gamma': 'scale', 'kernel': 'linear', 'coef0': 1.4224976829390525}. Best is trial 5 with value: 0.9090909090909091.\n",
      "[I 2024-12-22 14:26:59,622] Trial 73 finished with value: 0.9090909090909091 and parameters: {'C': 7.335661293375447, 'gamma': 'scale', 'kernel': 'linear', 'coef0': 1.0990254265219137}. Best is trial 5 with value: 0.9090909090909091.\n",
      "[I 2024-12-22 14:26:59,638] Trial 74 finished with value: 0.9090909090909091 and parameters: {'C': 6.840390814754745, 'gamma': 'scale', 'kernel': 'rbf', 'coef0': 8.090980959899339}. Best is trial 5 with value: 0.9090909090909091.\n",
      "[I 2024-12-22 14:26:59,657] Trial 75 finished with value: 0.9090909090909091 and parameters: {'C': 5.814357552045415, 'gamma': 'scale', 'kernel': 'linear', 'coef0': 1.821932257310968}. Best is trial 5 with value: 0.9090909090909091.\n",
      "[I 2024-12-22 14:26:59,673] Trial 76 finished with value: 0.36363636363636365 and parameters: {'C': 5.019813802718196, 'gamma': 'scale', 'kernel': 'sigmoid', 'coef0': 2.6261640374819897}. Best is trial 5 with value: 0.9090909090909091.\n",
      "[I 2024-12-22 14:26:59,693] Trial 77 finished with value: 0.9090909090909091 and parameters: {'C': 8.291180227240108, 'gamma': 'auto', 'kernel': 'linear', 'coef0': 0.18013905650856352}. Best is trial 5 with value: 0.9090909090909091.\n",
      "[I 2024-12-22 14:26:59,711] Trial 78 finished with value: 0.8181818181818182 and parameters: {'C': 2.9566079789426674, 'gamma': 'scale', 'kernel': 'rbf', 'coef0': 0.7208416761330776}. Best is trial 5 with value: 0.9090909090909091.\n",
      "[I 2024-12-22 14:26:59,732] Trial 79 finished with value: 0.9090909090909091 and parameters: {'C': 7.04412734988849, 'gamma': 'scale', 'kernel': 'linear', 'coef0': 0.1227034010435101}. Best is trial 5 with value: 0.9090909090909091.\n",
      "[I 2024-12-22 14:26:59,753] Trial 80 finished with value: 0.9090909090909091 and parameters: {'C': 3.658805981959828, 'gamma': 'scale', 'kernel': 'linear', 'coef0': 5.536190060342849}. Best is trial 5 with value: 0.9090909090909091.\n",
      "[I 2024-12-22 14:26:59,773] Trial 81 finished with value: 0.9090909090909091 and parameters: {'C': 2.4701172182807043, 'gamma': 'auto', 'kernel': 'linear', 'coef0': 0.49444802178647634}. Best is trial 5 with value: 0.9090909090909091.\n",
      "[I 2024-12-22 14:26:59,794] Trial 82 finished with value: 0.9090909090909091 and parameters: {'C': 2.021987994173139, 'gamma': 'auto', 'kernel': 'linear', 'coef0': 0.23464613330147666}. Best is trial 5 with value: 0.9090909090909091.\n",
      "[I 2024-12-22 14:26:59,813] Trial 83 finished with value: 0.9090909090909091 and parameters: {'C': 4.181565824866118, 'gamma': 'auto', 'kernel': 'linear', 'coef0': 0.39879405728243966}. Best is trial 5 with value: 0.9090909090909091.\n",
      "[I 2024-12-22 14:26:59,834] Trial 84 finished with value: 0.9090909090909091 and parameters: {'C': 4.56910393052341, 'gamma': 'auto', 'kernel': 'linear', 'coef0': 0.2804201363388915}. Best is trial 5 with value: 0.9090909090909091.\n",
      "[I 2024-12-22 14:26:59,850] Trial 85 finished with value: 0.36363636363636365 and parameters: {'C': 6.22079965200644, 'gamma': 'auto', 'kernel': 'rbf', 'coef0': 0.32792070644541477}. Best is trial 5 with value: 0.9090909090909091.\n",
      "[I 2024-12-22 14:26:59,866] Trial 86 finished with value: 0.6363636363636364 and parameters: {'C': 0.2858301958273852, 'gamma': 'scale', 'kernel': 'poly', 'coef0': 0.5561080129886307}. Best is trial 5 with value: 0.9090909090909091.\n",
      "[I 2024-12-22 14:26:59,887] Trial 87 finished with value: 0.9090909090909091 and parameters: {'C': 5.4812736685737775, 'gamma': 'auto', 'kernel': 'linear', 'coef0': 0.43207573708318325}. Best is trial 5 with value: 0.9090909090909091.\n",
      "[I 2024-12-22 14:26:59,907] Trial 88 finished with value: 0.9090909090909091 and parameters: {'C': 3.4170769957464384, 'gamma': 'scale', 'kernel': 'linear', 'coef0': 2.088890328198543}. Best is trial 5 with value: 0.9090909090909091.\n",
      "[I 2024-12-22 14:26:59,923] Trial 89 finished with value: 0.8181818181818182 and parameters: {'C': 2.6467166759589866, 'gamma': 'scale', 'kernel': 'rbf', 'coef0': 0.1341201028753927}. Best is trial 5 with value: 0.9090909090909091.\n",
      "[I 2024-12-22 14:26:59,938] Trial 90 finished with value: 0.9090909090909091 and parameters: {'C': 3.0208441055535102, 'gamma': 'scale', 'kernel': 'sigmoid', 'coef0': 0.21601151874748567}. Best is trial 5 with value: 0.9090909090909091.\n",
      "[I 2024-12-22 14:26:59,954] Trial 91 finished with value: 0.9090909090909091 and parameters: {'C': 3.8678979570700824, 'gamma': 'scale', 'kernel': 'poly', 'coef0': 3.6624103810858837}. Best is trial 5 with value: 0.9090909090909091.\n",
      "[I 2024-12-22 14:26:59,970] Trial 92 finished with value: 0.9090909090909091 and parameters: {'C': 3.2727372661326606, 'gamma': 'scale', 'kernel': 'poly', 'coef0': 1.4980929873510733}. Best is trial 5 with value: 0.9090909090909091.\n",
      "[I 2024-12-22 14:26:59,986] Trial 93 finished with value: 0.7272727272727273 and parameters: {'C': 4.937917941241951, 'gamma': 'scale', 'kernel': 'poly', 'coef0': 0.1025783658181934}. Best is trial 5 with value: 0.9090909090909091.\n",
      "[I 2024-12-22 14:27:00,003] Trial 94 finished with value: 1.0 and parameters: {'C': 5.194577896434498, 'gamma': 'scale', 'kernel': 'poly', 'coef0': 4.514766965842296}. Best is trial 94 with value: 1.0.\n",
      "[I 2024-12-22 14:27:00,019] Trial 95 finished with value: 1.0 and parameters: {'C': 5.9757072095517225, 'gamma': 'scale', 'kernel': 'poly', 'coef0': 4.532316304951416}. Best is trial 94 with value: 1.0.\n",
      "[I 2024-12-22 14:27:00,035] Trial 96 finished with value: 0.9090909090909091 and parameters: {'C': 6.440540702585955, 'gamma': 'scale', 'kernel': 'poly', 'coef0': 6.593157375835621}. Best is trial 94 with value: 1.0.\n",
      "[I 2024-12-22 14:27:00,050] Trial 97 finished with value: 1.0 and parameters: {'C': 5.184485487647423, 'gamma': 'scale', 'kernel': 'poly', 'coef0': 4.564535732904803}. Best is trial 94 with value: 1.0.\n",
      "[I 2024-12-22 14:27:00,066] Trial 98 finished with value: 1.0 and parameters: {'C': 5.377919465108082, 'gamma': 'scale', 'kernel': 'poly', 'coef0': 4.291418676739509}. Best is trial 94 with value: 1.0.\n",
      "[I 2024-12-22 14:27:00,081] Trial 99 finished with value: 1.0 and parameters: {'C': 5.329517229217492, 'gamma': 'scale', 'kernel': 'poly', 'coef0': 4.504486338508067}. Best is trial 94 with value: 1.0.\n"
     ]
    }
   ],
   "source": [
    "from sklearn.svm import SVC\n",
    "from sklearn.pipeline import make_pipeline\n",
    "from sklearn.impute import SimpleImputer\n",
    "\n",
    "import optuna\n",
    "\n",
    "def objective(trial):\n",
    "    param = {\n",
    "        'C': trial.suggest_float('C', 1e-1, 10.0, log=False),\n",
    "        'gamma': trial.suggest_categorical('gamma', ['scale', 'auto']),\n",
    "        'kernel': trial.suggest_categorical('kernel', ['linear', 'poly', 'rbf', 'sigmoid']),\n",
    "        'coef0': trial.suggest_float('coef0', 1e-1, 10.0, log=True)\n",
    "    }\n",
    "\n",
    "    pipeline = make_pipeline(\n",
    "        SimpleImputer(strategy='median'),\n",
    "        SVC(**param, random_state=42)\n",
    "    )\n",
    "    pipeline.fit(X_train, y_train)\n",
    "    score = pipeline.score(X_test, y_test)\n",
    "    return score\n",
    "\n",
    "study = optuna.create_study(direction='maximize')\n",
    "study.optimize(objective, n_trials=100)"
   ],
   "metadata": {
    "collapsed": false
   }
  },
  {
   "cell_type": "code",
   "execution_count": 19,
   "outputs": [],
   "source": [
    "pipeline = make_pipeline(\n",
    "    SimpleImputer(strategy='median'),\n",
    "    SVC(**study.best_params)\n",
    ")"
   ],
   "metadata": {
    "collapsed": false
   }
  },
  {
   "cell_type": "code",
   "execution_count": 20,
   "outputs": [
    {
     "name": "stdout",
     "output_type": "stream",
     "text": [
      "Fold 0:\n",
      "Accuracy: 0.8421052631578947\n",
      "F1: 0.8\n",
      "Precision: 0.8571428571428571\n",
      "Recall: 0.75\n",
      "\n",
      "Fold 1:\n",
      "Accuracy: 0.7777777777777778\n",
      "F1: 0.7142857142857143\n",
      "Precision: 0.8333333333333334\n",
      "Recall: 0.625\n",
      "\n",
      "Fold 2:\n",
      "Accuracy: 0.8333333333333334\n",
      "F1: 0.8\n",
      "Precision: 0.8571428571428571\n",
      "Recall: 0.75\n",
      "\n",
      "Fold 3:\n",
      "Accuracy: 0.7777777777777778\n",
      "F1: 0.6666666666666666\n",
      "Precision: 1.0\n",
      "Recall: 0.5\n",
      "\n",
      "Fold 4:\n",
      "Accuracy: 1.0\n",
      "F1: 1.0\n",
      "Precision: 1.0\n",
      "Recall: 1.0\n",
      "\n"
     ]
    }
   ],
   "source": [
    "from sklearn.model_selection import StratifiedKFold\n",
    "from sklearn.metrics import f1_score, recall_score, precision_score, accuracy_score\n",
    "\n",
    "skf = StratifiedKFold(n_splits=5, shuffle=True, random_state=42)\n",
    "\n",
    "for i, (train_index, test_index) in enumerate(skf.split(X_train, y_train)):\n",
    "    print(f\"Fold {i}:\")\n",
    "    xtrain, xtest = X_train.iloc[train_index], X_train.iloc[test_index]\n",
    "    ytrain, ytest = y_train[train_index], y_train[test_index]\n",
    "    pipeline.fit(xtrain, ytrain)\n",
    "\n",
    "    y_pred = pipeline.predict(xtest)\n",
    "\n",
    "    print(\"Accuracy:\", accuracy_score(ytest, y_pred))\n",
    "    print(\"F1:\", f1_score(ytest, y_pred))\n",
    "    print(\"Precision:\", precision_score(ytest, y_pred))\n",
    "    print(\"Recall:\", recall_score(ytest, y_pred))\n",
    "    print()"
   ],
   "metadata": {
    "collapsed": false
   }
  },
  {
   "cell_type": "code",
   "execution_count": 21,
   "outputs": [],
   "source": [
    "from sklearn.model_selection import cross_validate\n",
    "\n",
    "cv = cross_validate(pipeline, X, y, n_jobs=-1,\n",
    "                    scoring=[\"accuracy\",\n",
    "                             \"f1\",\n",
    "                             \"precision\",\n",
    "                             \"recall\"])"
   ],
   "metadata": {
    "collapsed": false
   }
  },
  {
   "cell_type": "code",
   "execution_count": 22,
   "outputs": [
    {
     "name": "stdout",
     "output_type": "stream",
     "text": [
      " accuracy 0.9523809523809523 \n",
      " f1 0.9473684210526315 \n",
      " recall 0.9 \n",
      " precision 1.0 \n",
      "\n",
      "---------------------------------------------\n",
      " accuracy 0.9047619047619048 \n",
      " f1 0.8888888888888888 \n",
      " recall 0.8 \n",
      " precision 1.0 \n",
      "\n",
      "---------------------------------------------\n",
      " accuracy 0.85 \n",
      " f1 0.8 \n",
      " recall 0.6666666666666666 \n",
      " precision 1.0 \n",
      "\n",
      "---------------------------------------------\n",
      " accuracy 0.85 \n",
      " f1 0.8235294117647058 \n",
      " recall 0.7777777777777778 \n",
      " precision 0.875 \n",
      "\n",
      "---------------------------------------------\n",
      " accuracy 0.8 \n",
      " f1 0.75 \n",
      " recall 0.6666666666666666 \n",
      " precision 0.8571428571428571 \n",
      "\n",
      "---------------------------------------------\n"
     ]
    }
   ],
   "source": [
    "for i in range(len(cv)-1):\n",
    "    print(\n",
    "        \" accuracy\", cv[\"test_accuracy\"][i], \"\\n\",\n",
    "        \"f1\", cv[\"test_f1\"][i], \"\\n\",\n",
    "        \"recall\", cv[\"test_recall\"][i], \"\\n\",\n",
    "        \"precision\", cv[\"test_precision\"][i], \"\\n\"\n",
    "    )\n",
    "    print(\"---------------------------------------------\")"
   ],
   "metadata": {
    "collapsed": false
   }
  },
  {
   "cell_type": "code",
   "execution_count": 23,
   "outputs": [
    {
     "name": "stdout",
     "output_type": "stream",
     "text": [
      "Accuracy: 1.0\n",
      "              precision    recall  f1-score   support\n",
      "\n",
      "           0       1.00      1.00      1.00         4\n",
      "           1       1.00      1.00      1.00         7\n",
      "\n",
      "    accuracy                           1.00        11\n",
      "   macro avg       1.00      1.00      1.00        11\n",
      "weighted avg       1.00      1.00      1.00        11\n",
      "\n"
     ]
    }
   ],
   "source": [
    "from sklearn.metrics import accuracy_score, classification_report\n",
    "\n",
    "y_pred = pipeline.predict(X_test)\n",
    "\n",
    "print(\"Accuracy:\", accuracy_score(y_test, y_pred))\n",
    "\n",
    "print(classification_report(y_test, y_pred))"
   ],
   "metadata": {
    "collapsed": false
   }
  },
  {
   "cell_type": "code",
   "execution_count": 24,
   "outputs": [
    {
     "ename": "AttributeError",
     "evalue": "coef_ is only available when using a linear kernel",
     "output_type": "error",
     "traceback": [
      "\u001B[1;31m---------------------------------------------------------------------------\u001B[0m",
      "\u001B[1;31mAttributeError\u001B[0m                            Traceback (most recent call last)",
      "Cell \u001B[1;32mIn[24], line 3\u001B[0m\n\u001B[0;32m      1\u001B[0m model \u001B[38;5;241m=\u001B[39m pipeline[\u001B[38;5;124m\"\u001B[39m\u001B[38;5;124msvc\u001B[39m\u001B[38;5;124m\"\u001B[39m]\n\u001B[1;32m----> 3\u001B[0m feature_importances \u001B[38;5;241m=\u001B[39m \u001B[43mmodel\u001B[49m\u001B[38;5;241;43m.\u001B[39;49m\u001B[43mcoef_\u001B[49m\u001B[38;5;241m.\u001B[39mT\u001B[38;5;241m.\u001B[39mreshape(\u001B[38;5;241m55\u001B[39m,)\n\u001B[0;32m      4\u001B[0m feature_names \u001B[38;5;241m=\u001B[39m X\u001B[38;5;241m.\u001B[39mcolumns\n\u001B[0;32m      6\u001B[0m importance_df \u001B[38;5;241m=\u001B[39m pd\u001B[38;5;241m.\u001B[39mDataFrame({\n\u001B[0;32m      7\u001B[0m     \u001B[38;5;124m'\u001B[39m\u001B[38;5;124mFeature\u001B[39m\u001B[38;5;124m'\u001B[39m: feature_names,\n\u001B[0;32m      8\u001B[0m     \u001B[38;5;124m'\u001B[39m\u001B[38;5;124mImportance\u001B[39m\u001B[38;5;124m'\u001B[39m: feature_importances\n\u001B[0;32m      9\u001B[0m })\u001B[38;5;241m.\u001B[39msort_values(by\u001B[38;5;241m=\u001B[39m\u001B[38;5;124m'\u001B[39m\u001B[38;5;124mImportance\u001B[39m\u001B[38;5;124m'\u001B[39m, ascending\u001B[38;5;241m=\u001B[39m\u001B[38;5;28;01mFalse\u001B[39;00m)\n",
      "File \u001B[1;32m~\\anaconda3\\envs\\university-projects\\lib\\site-packages\\sklearn\\svm\\_base.py:651\u001B[0m, in \u001B[0;36mBaseLibSVM.coef_\u001B[1;34m(self)\u001B[0m\n\u001B[0;32m    644\u001B[0m \u001B[38;5;250m\u001B[39m\u001B[38;5;124;03m\"\"\"Weights assigned to the features when `kernel=\"linear\"`.\u001B[39;00m\n\u001B[0;32m    645\u001B[0m \n\u001B[0;32m    646\u001B[0m \u001B[38;5;124;03mReturns\u001B[39;00m\n\u001B[0;32m    647\u001B[0m \u001B[38;5;124;03m-------\u001B[39;00m\n\u001B[0;32m    648\u001B[0m \u001B[38;5;124;03mndarray of shape (n_features, n_classes)\u001B[39;00m\n\u001B[0;32m    649\u001B[0m \u001B[38;5;124;03m\"\"\"\u001B[39;00m\n\u001B[0;32m    650\u001B[0m \u001B[38;5;28;01mif\u001B[39;00m \u001B[38;5;28mself\u001B[39m\u001B[38;5;241m.\u001B[39mkernel \u001B[38;5;241m!=\u001B[39m \u001B[38;5;124m\"\u001B[39m\u001B[38;5;124mlinear\u001B[39m\u001B[38;5;124m\"\u001B[39m:\n\u001B[1;32m--> 651\u001B[0m     \u001B[38;5;28;01mraise\u001B[39;00m \u001B[38;5;167;01mAttributeError\u001B[39;00m(\u001B[38;5;124m\"\u001B[39m\u001B[38;5;124mcoef_ is only available when using a linear kernel\u001B[39m\u001B[38;5;124m\"\u001B[39m)\n\u001B[0;32m    653\u001B[0m coef \u001B[38;5;241m=\u001B[39m \u001B[38;5;28mself\u001B[39m\u001B[38;5;241m.\u001B[39m_get_coef()\n\u001B[0;32m    655\u001B[0m \u001B[38;5;66;03m# coef_ being a read-only property, it's better to mark the value as\u001B[39;00m\n\u001B[0;32m    656\u001B[0m \u001B[38;5;66;03m# immutable to avoid hiding potential bugs for the unsuspecting user.\u001B[39;00m\n",
      "\u001B[1;31mAttributeError\u001B[0m: coef_ is only available when using a linear kernel"
     ]
    }
   ],
   "source": [
    "model = pipeline[\"svc\"]\n",
    "\n",
    "feature_importances = model.coef_.T.reshape(55,)\n",
    "feature_names = X.columns\n",
    "\n",
    "importance_df = pd.DataFrame({\n",
    "    'Feature': feature_names,\n",
    "    'Importance': feature_importances\n",
    "}).sort_values(by='Importance', ascending=False)\n",
    "\n",
    "importance_df"
   ],
   "metadata": {
    "collapsed": false
   }
  }
 ],
 "metadata": {
  "kernelspec": {
   "display_name": "Python 3",
   "language": "python",
   "name": "python3"
  },
  "language_info": {
   "codemirror_mode": {
    "name": "ipython",
    "version": 2
   },
   "file_extension": ".py",
   "mimetype": "text/x-python",
   "name": "python",
   "nbconvert_exporter": "python",
   "pygments_lexer": "ipython2",
   "version": "2.7.6"
  }
 },
 "nbformat": 4,
 "nbformat_minor": 0
}
