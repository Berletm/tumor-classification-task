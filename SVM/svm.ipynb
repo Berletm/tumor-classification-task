{
 "cells": [
  {
   "cell_type": "code",
   "execution_count": 1,
   "metadata": {
    "collapsed": true
   },
   "outputs": [],
   "source": [
    "import pandas as pd\n",
    "import numpy as np"
   ]
  },
  {
   "cell_type": "code",
   "execution_count": 2,
   "outputs": [],
   "source": [
    "data = pd.read_excel(\"tumor-data-without-healthy.xlsx\")"
   ],
   "metadata": {
    "collapsed": false
   }
  },
  {
   "cell_type": "code",
   "execution_count": 3,
   "outputs": [],
   "source": [
    "labels = [value for column, value in data.iloc[0].items()]\n",
    "data = data.set_axis(labels, axis=1)\n",
    "data = data[data.columns[1:]].apply(\n",
    "    lambda x: pd.to_numeric(x.replace('<', '').replace(',', '.'), errors='coerce')\n",
    ")"
   ],
   "metadata": {
    "collapsed": false
   }
  },
  {
   "cell_type": "code",
   "execution_count": 4,
   "outputs": [],
   "source": [
    "data.drop(index=0, inplace=True)\n",
    "data[\"Гормональная активность 0-нет               1-да\"] = data[\n",
    "    \"Гормональная активность 0-нет               1-да\"].astype(str)\n",
    "data[\"Гормональная активность 0-нет               1-да\"] = data[\n",
    "\"Гормональная активность 0-нет               1-да\"].fillna(\"missing\")"
   ],
   "metadata": {
    "collapsed": false
   }
  },
  {
   "cell_type": "code",
   "execution_count": 5,
   "outputs": [],
   "source": [
    "\"\"\" dropping some columns \"\"\"\n",
    "\n",
    "data.dropna(axis=1, how=\"all\", inplace=True)\n",
    "# data.dropna(axis=0, thresh=int(data.shape[1] * 0.6), inplace=True)\n",
    "data.dropna(axis=1, thresh=int(data.shape[0] * 0.5), inplace=True)\n",
    "data.drop([\"Пол:    0-жен, 1-муж\"], inplace=True, axis=1)"
   ],
   "metadata": {
    "collapsed": false
   }
  },
  {
   "cell_type": "code",
   "execution_count": 6,
   "outputs": [],
   "source": [
    "X = data.drop(columns=[\"КАН\", \"АКР\"])\n",
    "y = np.argmax(data[[\"КАН\", \"АКР\"]], axis=1)"
   ],
   "metadata": {
    "collapsed": false
   }
  },
  {
   "cell_type": "code",
   "execution_count": 7,
   "outputs": [],
   "source": [
    "from sklearn.model_selection import train_test_split\n",
    "\n",
    "X_train, X_test, y_train, y_test = train_test_split(X, y, train_size=0.9, random_state=42)"
   ],
   "metadata": {
    "collapsed": false
   }
  },
  {
   "cell_type": "code",
   "execution_count": 8,
   "outputs": [
    {
     "name": "stderr",
     "output_type": "stream",
     "text": [
      "[I 2024-12-24 16:30:35,940] A new study created in memory with name: no-name-fa23d57d-96f3-4a6e-b2bf-d1bd5322b83a\n",
      "[I 2024-12-24 16:30:36,056] Trial 0 finished with value: 0.8235294117647058 and parameters: {'C': 0.808584706694697, 'gamma': 'scale', 'kernel': 'linear', 'coef0': 0.11148085968286899}. Best is trial 0 with value: 0.8235294117647058.\n",
      "[I 2024-12-24 16:30:36,072] Trial 1 finished with value: 0.6470588235294118 and parameters: {'C': 1.884505885697037, 'gamma': 'auto', 'kernel': 'poly', 'coef0': 0.33725793320476377}. Best is trial 0 with value: 0.8235294117647058.\n",
      "[I 2024-12-24 16:30:36,169] Trial 2 finished with value: 0.8235294117647058 and parameters: {'C': 4.86904047244377, 'gamma': 'auto', 'kernel': 'linear', 'coef0': 2.297161625776418}. Best is trial 0 with value: 0.8235294117647058.\n",
      "[I 2024-12-24 16:30:36,185] Trial 3 finished with value: 0.6470588235294118 and parameters: {'C': 3.8438468650463675, 'gamma': 'auto', 'kernel': 'poly', 'coef0': 1.3505088962178322}. Best is trial 0 with value: 0.8235294117647058.\n",
      "[I 2024-12-24 16:30:36,194] Trial 4 finished with value: 0.5294117647058824 and parameters: {'C': 6.190076314645828, 'gamma': 'scale', 'kernel': 'sigmoid', 'coef0': 7.586931915970092}. Best is trial 0 with value: 0.8235294117647058.\n",
      "[I 2024-12-24 16:30:36,297] Trial 5 finished with value: 0.8235294117647058 and parameters: {'C': 6.384290556749665, 'gamma': 'scale', 'kernel': 'linear', 'coef0': 0.13529807802480578}. Best is trial 0 with value: 0.8235294117647058.\n",
      "[I 2024-12-24 16:30:36,313] Trial 6 finished with value: 0.6470588235294118 and parameters: {'C': 3.0366585613482613, 'gamma': 'auto', 'kernel': 'poly', 'coef0': 0.25252320989161814}. Best is trial 0 with value: 0.8235294117647058.\n",
      "[I 2024-12-24 16:30:36,313] Trial 7 finished with value: 0.5294117647058824 and parameters: {'C': 4.776324365634127, 'gamma': 'auto', 'kernel': 'sigmoid', 'coef0': 2.1791029333912526}. Best is trial 0 with value: 0.8235294117647058.\n",
      "[I 2024-12-24 16:30:36,331] Trial 8 finished with value: 0.9411764705882353 and parameters: {'C': 4.316426183548893, 'gamma': 'scale', 'kernel': 'poly', 'coef0': 0.4028166078014088}. Best is trial 8 with value: 0.9411764705882353.\n",
      "[I 2024-12-24 16:30:36,331] Trial 9 finished with value: 0.9411764705882353 and parameters: {'C': 6.980505186756122, 'gamma': 'scale', 'kernel': 'rbf', 'coef0': 1.7619261610635313}. Best is trial 8 with value: 0.9411764705882353.\n",
      "[I 2024-12-24 16:30:36,345] Trial 10 finished with value: 1.0 and parameters: {'C': 9.828548144637073, 'gamma': 'scale', 'kernel': 'rbf', 'coef0': 0.5486983468504719}. Best is trial 10 with value: 1.0.\n",
      "[I 2024-12-24 16:30:36,360] Trial 11 finished with value: 1.0 and parameters: {'C': 9.540472367584162, 'gamma': 'scale', 'kernel': 'rbf', 'coef0': 0.5574190113082994}. Best is trial 10 with value: 1.0.\n",
      "[I 2024-12-24 16:30:36,384] Trial 12 finished with value: 1.0 and parameters: {'C': 9.92565754156166, 'gamma': 'scale', 'kernel': 'rbf', 'coef0': 0.8072283244730213}. Best is trial 10 with value: 1.0.\n",
      "[I 2024-12-24 16:30:36,395] Trial 13 finished with value: 1.0 and parameters: {'C': 9.979146220235098, 'gamma': 'scale', 'kernel': 'rbf', 'coef0': 0.6773302606661145}. Best is trial 10 with value: 1.0.\n",
      "[I 2024-12-24 16:30:36,408] Trial 14 finished with value: 0.9411764705882353 and parameters: {'C': 8.4590241205698, 'gamma': 'scale', 'kernel': 'rbf', 'coef0': 4.32058081481099}. Best is trial 10 with value: 1.0.\n",
      "[I 2024-12-24 16:30:36,432] Trial 15 finished with value: 0.9411764705882353 and parameters: {'C': 8.22021105740201, 'gamma': 'scale', 'kernel': 'rbf', 'coef0': 0.5333384582701897}. Best is trial 10 with value: 1.0.\n",
      "[I 2024-12-24 16:30:36,439] Trial 16 finished with value: 0.9411764705882353 and parameters: {'C': 8.321780134925172, 'gamma': 'scale', 'kernel': 'rbf', 'coef0': 0.2385258222908472}. Best is trial 10 with value: 1.0.\n",
      "[I 2024-12-24 16:30:36,458] Trial 17 finished with value: 1.0 and parameters: {'C': 8.851549101954785, 'gamma': 'scale', 'kernel': 'rbf', 'coef0': 1.206373075944564}. Best is trial 10 with value: 1.0.\n",
      "[I 2024-12-24 16:30:36,471] Trial 18 finished with value: 0.9411764705882353 and parameters: {'C': 7.382603441528481, 'gamma': 'scale', 'kernel': 'rbf', 'coef0': 0.20585766735807068}. Best is trial 10 with value: 1.0.\n",
      "[I 2024-12-24 16:30:36,497] Trial 19 finished with value: 0.8823529411764706 and parameters: {'C': 9.25817251566388, 'gamma': 'scale', 'kernel': 'sigmoid', 'coef0': 0.44592642015063383}. Best is trial 10 with value: 1.0.\n",
      "[I 2024-12-24 16:30:36,502] Trial 20 finished with value: 0.9411764705882353 and parameters: {'C': 7.400916354369544, 'gamma': 'scale', 'kernel': 'rbf', 'coef0': 3.5339973880612616}. Best is trial 10 with value: 1.0.\n",
      "[I 2024-12-24 16:30:36,518] Trial 21 finished with value: 1.0 and parameters: {'C': 9.683778427777385, 'gamma': 'scale', 'kernel': 'rbf', 'coef0': 0.9343326518108324}. Best is trial 10 with value: 1.0.\n",
      "[I 2024-12-24 16:30:36,534] Trial 22 finished with value: 1.0 and parameters: {'C': 9.79071638815675, 'gamma': 'scale', 'kernel': 'rbf', 'coef0': 0.801075929300859}. Best is trial 10 with value: 1.0.\n",
      "[I 2024-12-24 16:30:36,550] Trial 23 finished with value: 1.0 and parameters: {'C': 8.890052315881496, 'gamma': 'scale', 'kernel': 'rbf', 'coef0': 0.5383595452373198}. Best is trial 10 with value: 1.0.\n",
      "[I 2024-12-24 16:30:36,566] Trial 24 finished with value: 0.9411764705882353 and parameters: {'C': 7.914145468611211, 'gamma': 'scale', 'kernel': 'rbf', 'coef0': 0.7275072489204917}. Best is trial 10 with value: 1.0.\n",
      "[I 2024-12-24 16:30:36,582] Trial 25 finished with value: 0.9411764705882353 and parameters: {'C': 6.1687034637901625, 'gamma': 'scale', 'kernel': 'rbf', 'coef0': 0.3351298659332853}. Best is trial 10 with value: 1.0.\n",
      "[I 2024-12-24 16:30:36,598] Trial 26 finished with value: 0.5294117647058824 and parameters: {'C': 9.170541312990292, 'gamma': 'auto', 'kernel': 'rbf', 'coef0': 1.0557164328658148}. Best is trial 10 with value: 1.0.\n",
      "[I 2024-12-24 16:30:36,614] Trial 27 finished with value: 0.8823529411764706 and parameters: {'C': 9.980487407703233, 'gamma': 'scale', 'kernel': 'sigmoid', 'coef0': 1.5593459582993892}. Best is trial 10 with value: 1.0.\n",
      "[I 2024-12-24 16:30:36,721] Trial 28 finished with value: 0.8235294117647058 and parameters: {'C': 7.758518564501381, 'gamma': 'scale', 'kernel': 'linear', 'coef0': 0.16853932288638995}. Best is trial 10 with value: 1.0.\n",
      "[I 2024-12-24 16:30:36,839] Trial 29 finished with value: 0.8235294117647058 and parameters: {'C': 5.544071734251677, 'gamma': 'scale', 'kernel': 'linear', 'coef0': 0.10812731879315626}. Best is trial 10 with value: 1.0.\n",
      "[I 2024-12-24 16:30:36,853] Trial 30 finished with value: 1.0 and parameters: {'C': 9.201142581545508, 'gamma': 'scale', 'kernel': 'rbf', 'coef0': 0.5823100305361059}. Best is trial 10 with value: 1.0.\n",
      "[I 2024-12-24 16:30:36,868] Trial 31 finished with value: 1.0 and parameters: {'C': 0.4647242065174506, 'gamma': 'scale', 'kernel': 'rbf', 'coef0': 0.8987675094456616}. Best is trial 10 with value: 1.0.\n",
      "[I 2024-12-24 16:30:36,890] Trial 32 finished with value: 1.0 and parameters: {'C': 9.99760100481722, 'gamma': 'scale', 'kernel': 'rbf', 'coef0': 0.7082479586639855}. Best is trial 10 with value: 1.0.\n",
      "[I 2024-12-24 16:30:36,895] Trial 33 finished with value: 0.9411764705882353 and parameters: {'C': 2.11517854827304, 'gamma': 'scale', 'kernel': 'rbf', 'coef0': 0.33309967901063936}. Best is trial 10 with value: 1.0.\n",
      "[I 2024-12-24 16:30:36,911] Trial 34 finished with value: 0.6470588235294118 and parameters: {'C': 8.732211102972371, 'gamma': 'auto', 'kernel': 'poly', 'coef0': 0.6267644202233026}. Best is trial 10 with value: 1.0.\n",
      "[I 2024-12-24 16:30:36,927] Trial 35 finished with value: 1.0 and parameters: {'C': 9.441887103162623, 'gamma': 'scale', 'kernel': 'rbf', 'coef0': 0.41072115476538235}. Best is trial 10 with value: 1.0.\n",
      "[I 2024-12-24 16:30:37,039] Trial 36 finished with value: 0.8235294117647058 and parameters: {'C': 1.2710322364139923, 'gamma': 'auto', 'kernel': 'linear', 'coef0': 1.1703900233644573}. Best is trial 10 with value: 1.0.\n",
      "[I 2024-12-24 16:30:37,054] Trial 37 finished with value: 1.0 and parameters: {'C': 9.430434718899079, 'gamma': 'scale', 'kernel': 'rbf', 'coef0': 0.2956521692782063}. Best is trial 10 with value: 1.0.\n",
      "[I 2024-12-24 16:30:37,070] Trial 38 finished with value: 0.6470588235294118 and parameters: {'C': 7.003153911881187, 'gamma': 'auto', 'kernel': 'poly', 'coef0': 0.4745273868991285}. Best is trial 10 with value: 1.0.\n",
      "[I 2024-12-24 16:30:37,096] Trial 39 finished with value: 0.9411764705882353 and parameters: {'C': 8.47931076761805, 'gamma': 'scale', 'kernel': 'sigmoid', 'coef0': 2.727581990556668}. Best is trial 10 with value: 1.0.\n",
      "[I 2024-12-24 16:30:37,102] Trial 40 finished with value: 0.9411764705882353 and parameters: {'C': 2.9061698879340083, 'gamma': 'scale', 'kernel': 'rbf', 'coef0': 1.5114695793656998}. Best is trial 10 with value: 1.0.\n",
      "[I 2024-12-24 16:30:37,118] Trial 41 finished with value: 1.0 and parameters: {'C': 9.016270785165228, 'gamma': 'scale', 'kernel': 'rbf', 'coef0': 1.2447144198916194}. Best is trial 10 with value: 1.0.\n",
      "[I 2024-12-24 16:30:37,134] Trial 42 finished with value: 1.0 and parameters: {'C': 9.969605313994622, 'gamma': 'scale', 'kernel': 'rbf', 'coef0': 9.708697752812359}. Best is trial 10 with value: 1.0.\n",
      "[I 2024-12-24 16:30:37,150] Trial 43 finished with value: 1.0 and parameters: {'C': 8.915861051710525, 'gamma': 'scale', 'kernel': 'rbf', 'coef0': 2.1643889496943793}. Best is trial 10 with value: 1.0.\n",
      "[I 2024-12-24 16:30:37,166] Trial 44 finished with value: 0.9411764705882353 and parameters: {'C': 7.905257773654704, 'gamma': 'scale', 'kernel': 'rbf', 'coef0': 0.8382532435344217}. Best is trial 10 with value: 1.0.\n",
      "[I 2024-12-24 16:30:37,181] Trial 45 finished with value: 0.9411764705882353 and parameters: {'C': 9.529381676289542, 'gamma': 'scale', 'kernel': 'poly', 'coef0': 0.6582663161070134}. Best is trial 10 with value: 1.0.\n",
      "[I 2024-12-24 16:30:37,208] Trial 46 finished with value: 0.5294117647058824 and parameters: {'C': 8.555740142846119, 'gamma': 'auto', 'kernel': 'rbf', 'coef0': 1.0433496462642398}. Best is trial 10 with value: 1.0.\n",
      "[I 2024-12-24 16:30:37,320] Trial 47 finished with value: 0.8235294117647058 and parameters: {'C': 8.151674488983215, 'gamma': 'scale', 'kernel': 'linear', 'coef0': 1.36308735164303}. Best is trial 10 with value: 1.0.\n",
      "[I 2024-12-24 16:30:37,336] Trial 48 finished with value: 0.9411764705882353 and parameters: {'C': 9.50747829462375, 'gamma': 'scale', 'kernel': 'sigmoid', 'coef0': 1.7618091130168962}. Best is trial 10 with value: 1.0.\n",
      "[I 2024-12-24 16:30:37,352] Trial 49 finished with value: 1.0 and parameters: {'C': 8.683384509763199, 'gamma': 'scale', 'kernel': 'rbf', 'coef0': 0.4860892343728342}. Best is trial 10 with value: 1.0.\n",
      "[I 2024-12-24 16:30:37,368] Trial 50 finished with value: 0.9411764705882353 and parameters: {'C': 7.487423993191081, 'gamma': 'scale', 'kernel': 'rbf', 'coef0': 5.208882530283289}. Best is trial 10 with value: 1.0.\n",
      "[I 2024-12-24 16:30:37,368] Trial 51 finished with value: 1.0 and parameters: {'C': 9.616405338579215, 'gamma': 'scale', 'kernel': 'rbf', 'coef0': 0.9319454595219727}. Best is trial 10 with value: 1.0.\n",
      "[I 2024-12-24 16:30:37,397] Trial 52 finished with value: 1.0 and parameters: {'C': 9.711742969543312, 'gamma': 'scale', 'kernel': 'rbf', 'coef0': 0.75049015769137}. Best is trial 10 with value: 1.0.\n",
      "[I 2024-12-24 16:30:37,402] Trial 53 finished with value: 1.0 and parameters: {'C': 9.198160641323886, 'gamma': 'scale', 'kernel': 'rbf', 'coef0': 0.37943561348522015}. Best is trial 10 with value: 1.0.\n",
      "[I 2024-12-24 16:30:37,418] Trial 54 finished with value: 1.0 and parameters: {'C': 9.990740703561897, 'gamma': 'scale', 'kernel': 'rbf', 'coef0': 0.5953140476623815}. Best is trial 10 with value: 1.0.\n",
      "[I 2024-12-24 16:30:37,434] Trial 55 finished with value: 1.0 and parameters: {'C': 8.900697044951858, 'gamma': 'scale', 'kernel': 'rbf', 'coef0': 0.9099949881871917}. Best is trial 10 with value: 1.0.\n",
      "[I 2024-12-24 16:30:37,449] Trial 56 finished with value: 0.9411764705882353 and parameters: {'C': 8.318190810771977, 'gamma': 'scale', 'kernel': 'rbf', 'coef0': 1.1474166041982843}. Best is trial 10 with value: 1.0.\n",
      "[I 2024-12-24 16:30:37,470] Trial 57 finished with value: 0.9411764705882353 and parameters: {'C': 4.0974453869647585, 'gamma': 'scale', 'kernel': 'rbf', 'coef0': 0.526609786405334}. Best is trial 10 with value: 1.0.\n",
      "[I 2024-12-24 16:30:37,481] Trial 58 finished with value: 0.6470588235294118 and parameters: {'C': 5.422510393064709, 'gamma': 'auto', 'kernel': 'poly', 'coef0': 0.7392702808968004}. Best is trial 10 with value: 1.0.\n",
      "[I 2024-12-24 16:30:37,497] Trial 59 finished with value: 1.0 and parameters: {'C': 9.281765252622904, 'gamma': 'scale', 'kernel': 'sigmoid', 'coef0': 1.8512500222657087}. Best is trial 10 with value: 1.0.\n",
      "[I 2024-12-24 16:30:37,513] Trial 60 finished with value: 0.9411764705882353 and parameters: {'C': 6.867998844579541, 'gamma': 'scale', 'kernel': 'rbf', 'coef0': 0.2093183719248523}. Best is trial 10 with value: 1.0.\n",
      "[I 2024-12-24 16:30:37,528] Trial 61 finished with value: 1.0 and parameters: {'C': 9.750678294158432, 'gamma': 'scale', 'kernel': 'rbf', 'coef0': 0.8124444176986331}. Best is trial 10 with value: 1.0.\n",
      "[I 2024-12-24 16:30:37,544] Trial 62 finished with value: 1.0 and parameters: {'C': 9.812843048545469, 'gamma': 'scale', 'kernel': 'rbf', 'coef0': 0.9830299637214894}. Best is trial 10 with value: 1.0.\n",
      "[I 2024-12-24 16:30:37,560] Trial 63 finished with value: 1.0 and parameters: {'C': 9.106761443125194, 'gamma': 'scale', 'kernel': 'rbf', 'coef0': 0.6179147206129404}. Best is trial 10 with value: 1.0.\n",
      "[I 2024-12-24 16:30:37,576] Trial 64 finished with value: 1.0 and parameters: {'C': 9.518903904886118, 'gamma': 'scale', 'kernel': 'rbf', 'coef0': 1.3110085380730934}. Best is trial 10 with value: 1.0.\n",
      "[I 2024-12-24 16:30:37,697] Trial 65 finished with value: 0.8235294117647058 and parameters: {'C': 8.877877144223238, 'gamma': 'scale', 'kernel': 'linear', 'coef0': 0.45415479027004135}. Best is trial 10 with value: 1.0.\n",
      "[I 2024-12-24 16:30:37,715] Trial 66 finished with value: 1.0 and parameters: {'C': 9.700392507170582, 'gamma': 'scale', 'kernel': 'rbf', 'coef0': 0.3758752972501314}. Best is trial 10 with value: 1.0.\n",
      "[I 2024-12-24 16:30:37,734] Trial 67 finished with value: 0.9411764705882353 and parameters: {'C': 8.14035363329451, 'gamma': 'scale', 'kernel': 'rbf', 'coef0': 0.28129602085163374}. Best is trial 10 with value: 1.0.\n",
      "[I 2024-12-24 16:30:37,750] Trial 68 finished with value: 1.0 and parameters: {'C': 9.302167172221331, 'gamma': 'scale', 'kernel': 'rbf', 'coef0': 0.5339169864241621}. Best is trial 10 with value: 1.0.\n",
      "[I 2024-12-24 16:30:37,750] Trial 69 finished with value: 1.0 and parameters: {'C': 8.653706968862958, 'gamma': 'scale', 'kernel': 'rbf', 'coef0': 0.8043601021350942}. Best is trial 10 with value: 1.0.\n",
      "[I 2024-12-24 16:30:37,782] Trial 70 finished with value: 0.5294117647058824 and parameters: {'C': 9.7397752757546, 'gamma': 'auto', 'kernel': 'rbf', 'coef0': 1.4749138005839302}. Best is trial 10 with value: 1.0.\n",
      "[I 2024-12-24 16:30:37,800] Trial 71 finished with value: 1.0 and parameters: {'C': 9.085036814800352, 'gamma': 'scale', 'kernel': 'rbf', 'coef0': 0.6599280789761133}. Best is trial 10 with value: 1.0.\n",
      "[I 2024-12-24 16:30:37,813] Trial 72 finished with value: 1.0 and parameters: {'C': 9.357692807140797, 'gamma': 'scale', 'kernel': 'rbf', 'coef0': 1.1063380451036102}. Best is trial 10 with value: 1.0.\n",
      "[I 2024-12-24 16:30:37,829] Trial 73 finished with value: 1.0 and parameters: {'C': 9.970329257974306, 'gamma': 'scale', 'kernel': 'rbf', 'coef0': 0.5559148285624642}. Best is trial 10 with value: 1.0.\n",
      "[I 2024-12-24 16:30:37,847] Trial 74 finished with value: 1.0 and parameters: {'C': 8.816391753531148, 'gamma': 'scale', 'kernel': 'rbf', 'coef0': 0.41176539879521296}. Best is trial 10 with value: 1.0.\n",
      "[I 2024-12-24 16:30:37,864] Trial 75 finished with value: 1.0 and parameters: {'C': 4.69300125866325, 'gamma': 'scale', 'kernel': 'poly', 'coef0': 0.693388207329229}. Best is trial 10 with value: 1.0.\n",
      "[I 2024-12-24 16:30:37,877] Trial 76 finished with value: 0.8235294117647058 and parameters: {'C': 7.685020376822729, 'gamma': 'scale', 'kernel': 'sigmoid', 'coef0': 0.854866068771535}. Best is trial 10 with value: 1.0.\n",
      "[I 2024-12-24 16:30:37,988] Trial 77 finished with value: 0.8235294117647058 and parameters: {'C': 9.414082740766068, 'gamma': 'scale', 'kernel': 'linear', 'coef0': 0.49043901047137145}. Best is trial 10 with value: 1.0.\n",
      "[I 2024-12-24 16:30:38,005] Trial 78 finished with value: 0.9411764705882353 and parameters: {'C': 8.54696013210189, 'gamma': 'scale', 'kernel': 'rbf', 'coef0': 1.026443316724428}. Best is trial 10 with value: 1.0.\n",
      "[I 2024-12-24 16:30:38,021] Trial 79 finished with value: 0.9411764705882353 and parameters: {'C': 3.527442527266963, 'gamma': 'scale', 'kernel': 'rbf', 'coef0': 0.34428013973281485}. Best is trial 10 with value: 1.0.\n",
      "[I 2024-12-24 16:30:38,036] Trial 80 finished with value: 0.5294117647058824 and parameters: {'C': 9.009759157573273, 'gamma': 'auto', 'kernel': 'rbf', 'coef0': 0.6127021362777794}. Best is trial 10 with value: 1.0.\n",
      "[I 2024-12-24 16:30:38,052] Trial 81 finished with value: 1.0 and parameters: {'C': 9.6332776330758, 'gamma': 'scale', 'kernel': 'rbf', 'coef0': 0.5579513454276384}. Best is trial 10 with value: 1.0.\n",
      "[I 2024-12-24 16:30:38,068] Trial 82 finished with value: 1.0 and parameters: {'C': 9.17555062332203, 'gamma': 'scale', 'kernel': 'rbf', 'coef0': 0.7359737428613045}. Best is trial 10 with value: 1.0.\n",
      "[I 2024-12-24 16:30:38,084] Trial 83 finished with value: 1.0 and parameters: {'C': 9.972137594164597, 'gamma': 'scale', 'kernel': 'rbf', 'coef0': 0.4347624685763596}. Best is trial 10 with value: 1.0.\n",
      "[I 2024-12-24 16:30:38,100] Trial 84 finished with value: 0.9411764705882353 and parameters: {'C': 8.371508064948117, 'gamma': 'scale', 'kernel': 'rbf', 'coef0': 0.9545824147736368}. Best is trial 10 with value: 1.0.\n",
      "[I 2024-12-24 16:30:38,140] Trial 85 finished with value: 0.9411764705882353 and parameters: {'C': 8.08189175682235, 'gamma': 'scale', 'kernel': 'rbf', 'coef0': 1.2209010040474169}. Best is trial 10 with value: 1.0.\n",
      "[I 2024-12-24 16:30:38,160] Trial 86 finished with value: 1.0 and parameters: {'C': 9.455197867655482, 'gamma': 'scale', 'kernel': 'rbf', 'coef0': 0.5079366855164291}. Best is trial 10 with value: 1.0.\n",
      "[I 2024-12-24 16:30:38,202] Trial 87 finished with value: 1.0 and parameters: {'C': 8.66575988524011, 'gamma': 'scale', 'kernel': 'rbf', 'coef0': 0.807845569617456}. Best is trial 10 with value: 1.0.\n",
      "[I 2024-12-24 16:30:38,234] Trial 88 finished with value: 0.9411764705882353 and parameters: {'C': 9.784795510022002, 'gamma': 'scale', 'kernel': 'poly', 'coef0': 0.6673278699440015}. Best is trial 10 with value: 1.0.\n",
      "[I 2024-12-24 16:30:38,263] Trial 89 finished with value: 1.0 and parameters: {'C': 9.175640271500123, 'gamma': 'scale', 'kernel': 'rbf', 'coef0': 0.6124944687047504}. Best is trial 10 with value: 1.0.\n",
      "[I 2024-12-24 16:30:38,282] Trial 90 finished with value: 0.9411764705882353 and parameters: {'C': 8.93945149174568, 'gamma': 'scale', 'kernel': 'sigmoid', 'coef0': 1.6280744746609195}. Best is trial 10 with value: 1.0.\n",
      "[I 2024-12-24 16:30:38,301] Trial 91 finished with value: 1.0 and parameters: {'C': 0.8370393391040295, 'gamma': 'scale', 'kernel': 'rbf', 'coef0': 0.9194238802085563}. Best is trial 10 with value: 1.0.\n",
      "[I 2024-12-24 16:30:38,320] Trial 92 finished with value: 0.9411764705882353 and parameters: {'C': 5.633877218945996, 'gamma': 'scale', 'kernel': 'rbf', 'coef0': 0.8612959688717445}. Best is trial 10 with value: 1.0.\n",
      "[I 2024-12-24 16:30:38,339] Trial 93 finished with value: 0.9411764705882353 and parameters: {'C': 0.13169530858852063, 'gamma': 'scale', 'kernel': 'rbf', 'coef0': 0.13051195258551582}. Best is trial 10 with value: 1.0.\n",
      "[I 2024-12-24 16:30:38,356] Trial 94 finished with value: 0.9411764705882353 and parameters: {'C': 1.652346071490395, 'gamma': 'scale', 'kernel': 'rbf', 'coef0': 0.7660956169840005}. Best is trial 10 with value: 1.0.\n",
      "[I 2024-12-24 16:30:38,375] Trial 95 finished with value: 0.5294117647058824 and parameters: {'C': 3.0435659752925748, 'gamma': 'auto', 'kernel': 'rbf', 'coef0': 1.1051371053915273}. Best is trial 10 with value: 1.0.\n",
      "[I 2024-12-24 16:30:38,494] Trial 96 finished with value: 0.8235294117647058 and parameters: {'C': 9.556502859968699, 'gamma': 'scale', 'kernel': 'linear', 'coef0': 0.7000506158156856}. Best is trial 10 with value: 1.0.\n",
      "[I 2024-12-24 16:30:38,510] Trial 97 finished with value: 1.0 and parameters: {'C': 9.869142262878057, 'gamma': 'scale', 'kernel': 'rbf', 'coef0': 0.4575097082568669}. Best is trial 10 with value: 1.0.\n",
      "[I 2024-12-24 16:30:38,526] Trial 98 finished with value: 0.9411764705882353 and parameters: {'C': 2.608345850578697, 'gamma': 'scale', 'kernel': 'rbf', 'coef0': 1.4006321864630435}. Best is trial 10 with value: 1.0.\n",
      "[I 2024-12-24 16:30:38,542] Trial 99 finished with value: 0.9411764705882353 and parameters: {'C': 6.482295289641566, 'gamma': 'scale', 'kernel': 'rbf', 'coef0': 0.5739840961440986}. Best is trial 10 with value: 1.0.\n"
     ]
    }
   ],
   "source": [
    "from sklearn.svm import SVC\n",
    "from sklearn.pipeline import make_pipeline\n",
    "from sklearn.impute import SimpleImputer\n",
    "\n",
    "import optuna\n",
    "\n",
    "def objective(trial):\n",
    "    param = {\n",
    "        'C': trial.suggest_float('C', 1e-1, 10.0, log=False),\n",
    "        'gamma': trial.suggest_categorical('gamma', ['scale', 'auto']),\n",
    "        'kernel': trial.suggest_categorical('kernel', ['linear', 'poly', 'rbf', 'sigmoid']),\n",
    "        'coef0': trial.suggest_float('coef0', 1e-1, 10.0, log=True)\n",
    "    }\n",
    "\n",
    "    pipeline = make_pipeline(\n",
    "        SimpleImputer(strategy='median'),\n",
    "        SVC(**param, random_state=42)\n",
    "    )\n",
    "    pipeline.fit(X_train, y_train)\n",
    "    score = pipeline.score(X_test, y_test)\n",
    "    return score\n",
    "\n",
    "study = optuna.create_study(direction='maximize')\n",
    "study.optimize(objective, n_trials=100)"
   ],
   "metadata": {
    "collapsed": false
   }
  },
  {
   "cell_type": "code",
   "execution_count": 9,
   "outputs": [],
   "source": [
    "pipeline = make_pipeline(\n",
    "    SimpleImputer(strategy='median'),\n",
    "    SVC(**study.best_params)\n",
    ")"
   ],
   "metadata": {
    "collapsed": false
   }
  },
  {
   "cell_type": "code",
   "execution_count": 18,
   "outputs": [],
   "source": [
    "from sklearn.model_selection import cross_validate\n",
    "from sklearn.model_selection import StratifiedKFold\n",
    "\n",
    "skf = StratifiedKFold(n_splits=10, shuffle=True, random_state=314)\n",
    "\n",
    "cv = cross_validate(pipeline, X, y, n_jobs=-1,\n",
    "                    scoring=[\"accuracy\",\n",
    "                             \"f1\",\n",
    "                             \"precision\",\n",
    "                             \"recall\"],\n",
    "                    cv=skf,\n",
    "                    return_estimator=True)"
   ],
   "metadata": {
    "collapsed": false
   }
  },
  {
   "cell_type": "code",
   "execution_count": 19,
   "outputs": [
    {
     "data": {
      "text/plain": "0.8724264705882353"
     },
     "execution_count": 19,
     "metadata": {},
     "output_type": "execute_result"
    }
   ],
   "source": [
    "cv[\"test_accuracy\"].mean()"
   ],
   "metadata": {
    "collapsed": false
   }
  },
  {
   "cell_type": "code",
   "execution_count": 20,
   "outputs": [
    {
     "name": "stdout",
     "output_type": "stream",
     "text": [
      " accuracy 0.9411764705882353 \n",
      " f1 0.9333333333333333 \n",
      " recall 0.875 \n",
      " precision 1.0 \n",
      "\n",
      "---------------------------------------------\n",
      " accuracy 0.7647058823529411 \n",
      " f1 0.7142857142857143 \n",
      " recall 0.625 \n",
      " precision 0.8333333333333334 \n",
      "\n",
      "---------------------------------------------\n",
      " accuracy 0.9411764705882353 \n",
      " f1 0.9333333333333333 \n",
      " recall 0.875 \n",
      " precision 1.0 \n",
      "\n",
      "---------------------------------------------\n",
      " accuracy 0.7647058823529411 \n",
      " f1 0.75 \n",
      " recall 0.75 \n",
      " precision 0.75 \n",
      "\n",
      "---------------------------------------------\n",
      " accuracy 0.8125 \n",
      " f1 0.7692307692307693 \n",
      " recall 0.625 \n",
      " precision 1.0 \n",
      "\n",
      "---------------------------------------------\n",
      " accuracy 1.0 \n",
      " f1 1.0 \n",
      " recall 1.0 \n",
      " precision 1.0 \n",
      "\n",
      "---------------------------------------------\n"
     ]
    }
   ],
   "source": [
    "for i in range(len(cv)-1):\n",
    "    print(\n",
    "        \" accuracy\", cv[\"test_accuracy\"][i], \"\\n\",\n",
    "        \"f1\", cv[\"test_f1\"][i], \"\\n\",\n",
    "        \"recall\", cv[\"test_recall\"][i], \"\\n\",\n",
    "        \"precision\", cv[\"test_precision\"][i], \"\\n\"\n",
    "    )\n",
    "    print(\"---------------------------------------------\")"
   ],
   "metadata": {
    "collapsed": false
   }
  }
 ],
 "metadata": {
  "kernelspec": {
   "display_name": "Python 3",
   "language": "python",
   "name": "python3"
  },
  "language_info": {
   "codemirror_mode": {
    "name": "ipython",
    "version": 2
   },
   "file_extension": ".py",
   "mimetype": "text/x-python",
   "name": "python",
   "nbconvert_exporter": "python",
   "pygments_lexer": "ipython2",
   "version": "2.7.6"
  }
 },
 "nbformat": 4,
 "nbformat_minor": 0
}
