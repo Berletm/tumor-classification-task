{
 "cells": [
  {
   "cell_type": "code",
   "execution_count": 2,
   "metadata": {
    "collapsed": true
   },
   "outputs": [],
   "source": [
    "import pandas as pd\n",
    "import numpy as np"
   ]
  },
  {
   "cell_type": "code",
   "execution_count": 3,
   "outputs": [],
   "source": [
    "data = pd.read_excel(\"tumor-data-without-healthy.xlsx\")"
   ],
   "metadata": {
    "collapsed": false
   }
  },
  {
   "cell_type": "code",
   "execution_count": 4,
   "outputs": [],
   "source": [
    "labels = [value for column, value in data.iloc[0].items()]\n",
    "data = data.set_axis(labels, axis=1)\n",
    "data = data[data.columns[1:]].apply(\n",
    "    lambda x: pd.to_numeric(x.replace('<', '').replace(',', '.'), errors='coerce')\n",
    ")"
   ],
   "metadata": {
    "collapsed": false
   }
  },
  {
   "cell_type": "code",
   "execution_count": 5,
   "outputs": [],
   "source": [
    "data.drop(index=0, inplace=True)\n",
    "data[\"Гормональная активность 0-нет               1-да\"] = data[\n",
    "    \"Гормональная активность 0-нет               1-да\"].astype(str)\n",
    "data[\"Гормональная активность 0-нет               1-да\"] = data[\n",
    "\"Гормональная активность 0-нет               1-да\"].fillna(\"missing\")"
   ],
   "metadata": {
    "collapsed": false
   }
  },
  {
   "cell_type": "code",
   "execution_count": 6,
   "outputs": [],
   "source": [
    "\"\"\" dropping some columns \"\"\"\n",
    "\n",
    "data.dropna(axis=1, how=\"all\", inplace=True)\n",
    "data.dropna(axis=0, thresh=int(data.shape[1] * 0.6), inplace=True)\n",
    "data.dropna(axis=1, thresh=int(data.shape[0] * 0.6), inplace=True)\n",
    "data.drop([\"Пол:    0-жен, 1-муж\"], inplace=True, axis=1)\n",
    "X = data.drop(columns=[\"КАН\", \"АКР\"])\n",
    "y = np.argmax(data[[\"КАН\", \"АКР\"]], axis=1)"
   ],
   "metadata": {
    "collapsed": false
   }
  },
  {
   "cell_type": "code",
   "execution_count": 7,
   "outputs": [],
   "source": [
    "from sklearn.model_selection import train_test_split\n",
    "\n",
    "X_train, X_test, y_train, y_test = train_test_split(X, y, train_size=0.9, random_state=42)"
   ],
   "metadata": {
    "collapsed": false
   }
  },
  {
   "cell_type": "code",
   "execution_count": 8,
   "outputs": [],
   "source": [
    "from sklearn.svm import SVC\n",
    "from sklearn.pipeline import make_pipeline\n",
    "from sklearn.impute import SimpleImputer\n",
    "\n",
    "pipeline = make_pipeline(\n",
    "    SimpleImputer(strategy='median'),\n",
    "    SVC(C=1, gamma=\"scale\", kernel=\"linear\")\n",
    ")"
   ],
   "metadata": {
    "collapsed": false
   }
  },
  {
   "cell_type": "code",
   "execution_count": 9,
   "outputs": [
    {
     "name": "stdout",
     "output_type": "stream",
     "text": [
      "Fold 0:\n",
      "Accuracy: 0.7368421052631579\n",
      "F1: 0.7058823529411765\n",
      "Precision: 0.6666666666666666\n",
      "Recall: 0.75\n",
      "\n",
      "Fold 1:\n",
      "Accuracy: 0.7777777777777778\n",
      "F1: 0.7777777777777778\n",
      "Precision: 0.7\n",
      "Recall: 0.875\n",
      "\n",
      "Fold 2:\n",
      "Accuracy: 0.7777777777777778\n",
      "F1: 0.75\n",
      "Precision: 0.75\n",
      "Recall: 0.75\n",
      "\n",
      "Fold 3:\n",
      "Accuracy: 0.7777777777777778\n",
      "F1: 0.7142857142857143\n",
      "Precision: 0.8333333333333334\n",
      "Recall: 0.625\n",
      "\n",
      "Fold 4:\n",
      "Accuracy: 0.7777777777777778\n",
      "F1: 0.7777777777777778\n",
      "Precision: 0.7\n",
      "Recall: 0.875\n",
      "\n"
     ]
    }
   ],
   "source": [
    "from sklearn.model_selection import StratifiedKFold\n",
    "from sklearn.metrics import f1_score, recall_score, precision_score, accuracy_score\n",
    "\n",
    "skf = StratifiedKFold(n_splits=5, shuffle=True, random_state=42)\n",
    "\n",
    "for i, (train_index, test_index) in enumerate(skf.split(X_train, y_train)):\n",
    "    print(f\"Fold {i}:\")\n",
    "    xtrain, xtest = X_train.iloc[train_index], X_train.iloc[test_index]\n",
    "    ytrain, ytest = y_train[train_index], y_train[test_index]\n",
    "    pipeline.fit(xtrain, ytrain)\n",
    "\n",
    "    y_pred = pipeline.predict(xtest)\n",
    "\n",
    "    print(\"Accuracy:\", accuracy_score(ytest, y_pred))\n",
    "    print(\"F1:\", f1_score(ytest, y_pred))\n",
    "    print(\"Precision:\", precision_score(ytest, y_pred))\n",
    "    print(\"Recall:\", recall_score(ytest, y_pred))\n",
    "    print()"
   ],
   "metadata": {
    "collapsed": false
   }
  },
  {
   "cell_type": "code",
   "execution_count": 10,
   "outputs": [
    {
     "data": {
      "text/plain": "array([0.95238095, 0.80952381, 0.75      , 0.8       , 0.65      ])"
     },
     "execution_count": 10,
     "metadata": {},
     "output_type": "execute_result"
    }
   ],
   "source": [
    "from sklearn.model_selection import cross_val_score\n",
    "\n",
    "cv = cross_val_score(pipeline, X, y, n_jobs=-1)\n",
    "cv"
   ],
   "metadata": {
    "collapsed": false
   }
  },
  {
   "cell_type": "code",
   "execution_count": 11,
   "outputs": [
    {
     "name": "stdout",
     "output_type": "stream",
     "text": [
      "Accuracy: 0.9090909090909091\n",
      "              precision    recall  f1-score   support\n",
      "\n",
      "           0       0.80      1.00      0.89         4\n",
      "           1       1.00      0.86      0.92         7\n",
      "\n",
      "    accuracy                           0.91        11\n",
      "   macro avg       0.90      0.93      0.91        11\n",
      "weighted avg       0.93      0.91      0.91        11\n",
      "\n"
     ]
    }
   ],
   "source": [
    "from sklearn.metrics import accuracy_score, classification_report\n",
    "\n",
    "y_pred = pipeline.predict(X_test)\n",
    "\n",
    "print(\"Accuracy:\", accuracy_score(y_test, y_pred))\n",
    "\n",
    "print(classification_report(y_test, y_pred))"
   ],
   "metadata": {
    "collapsed": false
   }
  },
  {
   "cell_type": "code",
   "execution_count": 12,
   "outputs": [
    {
     "data": {
      "text/plain": "                                              Feature    Importance\n10                  свободный кортизон мочи (ВЭЖХ)     4.286289e-03\n15                                            dA2_17B  4.244245e-03\n27                                             dP3_3А  2.716458e-03\n32                                                THS  2.389717e-03\n44                                                HHB  2.388691e-03\n5                                Кортизол крови вечер  2.185041e-03\n35                                            alloTHB  2.029986e-03\n2                             Нативная плотность, НU   2.017247e-03\n17                                          16DHEA-3a  1.787526e-03\n14                                                 Et  1.605701e-03\n33                                                THE  1.250304e-03\n28                                           16dP2_3A  1.220080e-03\n18                                          16DHEA-3b  1.048016e-03\n40                                                bCN  9.385777e-04\n26                                                dP2  6.266259e-04\n24                                                 P2  5.497241e-04\n34                                                THB  4.055286e-04\n21                                               11An  3.383078e-04\n3                                               Weiss  2.553843e-04\n7                                         АКТГ  утром  2.373659e-04\n36                                                THF  1.693553e-04\n1                             Максимальный размер, мм  1.635488e-04\n47                                            THB_THA  4.623654e-05\n8                                          ДГЭА-С      1.915671e-05\n49                                            THF_THE  8.135289e-06\n48                                           THF_THE1  2.570879e-06\n51                                           aTHB_THB -5.412633e-08\n43                                           THF/THE2 -3.019624e-06\n12  Индекс свободный кортизон/свободный кортизол в... -3.496745e-06\n45                                              An|Et -1.968993e-05\n50                                           aTHF_THF -2.654311e-05\n0    Гормональная активность 0-нет               1-да -2.817759e-05\n52                                          11An_11Et -5.533080e-05\n9                    свободный кортизол мочи (ВЭЖХ)   -1.251313e-04\n20                                             17-ОНP -3.088319e-04\n4                                 Кортизол крови утро -3.639170e-04\n11            18 гидроксикортикостерон мочи (ВЭЖХ)    -5.944319e-04\n19                                            11охоET -6.348572e-04\n46                                             THE_P3 -6.579317e-04\n23                                                 A3 -9.286375e-04\n6     Кортизол после пробы с 1 мг дексаметазона (ДМТ) -9.818132e-04\n29                                                dA3 -1.101137e-03\n16                                               DHEA -1.121794e-03\n42                                            alloTHE -1.138521e-03\n25                                                 P3 -1.334912e-03\n38                                                THA -1.480703e-03\n31                                            11oxoP3 -1.658796e-03\n13                                                 An -1.695472e-03\n22                                               11Et -2.193380e-03\n53                                            THE_THS -2.904113e-03\n41                                                 CL -3.682946e-03\n39                                                aCN -3.691468e-03\n37                                            alloTHF -4.004357e-03\n30                                            11oxoP2 -6.060895e-03\n54                                        THE_11oxoP3 -6.123667e-03",
      "text/html": "<div>\n<style scoped>\n    .dataframe tbody tr th:only-of-type {\n        vertical-align: middle;\n    }\n\n    .dataframe tbody tr th {\n        vertical-align: top;\n    }\n\n    .dataframe thead th {\n        text-align: right;\n    }\n</style>\n<table border=\"1\" class=\"dataframe\">\n  <thead>\n    <tr style=\"text-align: right;\">\n      <th></th>\n      <th>Feature</th>\n      <th>Importance</th>\n    </tr>\n  </thead>\n  <tbody>\n    <tr>\n      <th>10</th>\n      <td>свободный кортизон мочи (ВЭЖХ)</td>\n      <td>4.286289e-03</td>\n    </tr>\n    <tr>\n      <th>15</th>\n      <td>dA2_17B</td>\n      <td>4.244245e-03</td>\n    </tr>\n    <tr>\n      <th>27</th>\n      <td>dP3_3А</td>\n      <td>2.716458e-03</td>\n    </tr>\n    <tr>\n      <th>32</th>\n      <td>THS</td>\n      <td>2.389717e-03</td>\n    </tr>\n    <tr>\n      <th>44</th>\n      <td>HHB</td>\n      <td>2.388691e-03</td>\n    </tr>\n    <tr>\n      <th>5</th>\n      <td>Кортизол крови вечер</td>\n      <td>2.185041e-03</td>\n    </tr>\n    <tr>\n      <th>35</th>\n      <td>alloTHB</td>\n      <td>2.029986e-03</td>\n    </tr>\n    <tr>\n      <th>2</th>\n      <td>Нативная плотность, НU</td>\n      <td>2.017247e-03</td>\n    </tr>\n    <tr>\n      <th>17</th>\n      <td>16DHEA-3a</td>\n      <td>1.787526e-03</td>\n    </tr>\n    <tr>\n      <th>14</th>\n      <td>Et</td>\n      <td>1.605701e-03</td>\n    </tr>\n    <tr>\n      <th>33</th>\n      <td>THE</td>\n      <td>1.250304e-03</td>\n    </tr>\n    <tr>\n      <th>28</th>\n      <td>16dP2_3A</td>\n      <td>1.220080e-03</td>\n    </tr>\n    <tr>\n      <th>18</th>\n      <td>16DHEA-3b</td>\n      <td>1.048016e-03</td>\n    </tr>\n    <tr>\n      <th>40</th>\n      <td>bCN</td>\n      <td>9.385777e-04</td>\n    </tr>\n    <tr>\n      <th>26</th>\n      <td>dP2</td>\n      <td>6.266259e-04</td>\n    </tr>\n    <tr>\n      <th>24</th>\n      <td>P2</td>\n      <td>5.497241e-04</td>\n    </tr>\n    <tr>\n      <th>34</th>\n      <td>THB</td>\n      <td>4.055286e-04</td>\n    </tr>\n    <tr>\n      <th>21</th>\n      <td>11An</td>\n      <td>3.383078e-04</td>\n    </tr>\n    <tr>\n      <th>3</th>\n      <td>Weiss</td>\n      <td>2.553843e-04</td>\n    </tr>\n    <tr>\n      <th>7</th>\n      <td>АКТГ  утром</td>\n      <td>2.373659e-04</td>\n    </tr>\n    <tr>\n      <th>36</th>\n      <td>THF</td>\n      <td>1.693553e-04</td>\n    </tr>\n    <tr>\n      <th>1</th>\n      <td>Максимальный размер, мм</td>\n      <td>1.635488e-04</td>\n    </tr>\n    <tr>\n      <th>47</th>\n      <td>THB_THA</td>\n      <td>4.623654e-05</td>\n    </tr>\n    <tr>\n      <th>8</th>\n      <td>ДГЭА-С</td>\n      <td>1.915671e-05</td>\n    </tr>\n    <tr>\n      <th>49</th>\n      <td>THF_THE</td>\n      <td>8.135289e-06</td>\n    </tr>\n    <tr>\n      <th>48</th>\n      <td>THF_THE1</td>\n      <td>2.570879e-06</td>\n    </tr>\n    <tr>\n      <th>51</th>\n      <td>aTHB_THB</td>\n      <td>-5.412633e-08</td>\n    </tr>\n    <tr>\n      <th>43</th>\n      <td>THF/THE2</td>\n      <td>-3.019624e-06</td>\n    </tr>\n    <tr>\n      <th>12</th>\n      <td>Индекс свободный кортизон/свободный кортизол в...</td>\n      <td>-3.496745e-06</td>\n    </tr>\n    <tr>\n      <th>45</th>\n      <td>An|Et</td>\n      <td>-1.968993e-05</td>\n    </tr>\n    <tr>\n      <th>50</th>\n      <td>aTHF_THF</td>\n      <td>-2.654311e-05</td>\n    </tr>\n    <tr>\n      <th>0</th>\n      <td>Гормональная активность 0-нет               1-да</td>\n      <td>-2.817759e-05</td>\n    </tr>\n    <tr>\n      <th>52</th>\n      <td>11An_11Et</td>\n      <td>-5.533080e-05</td>\n    </tr>\n    <tr>\n      <th>9</th>\n      <td>свободный кортизол мочи (ВЭЖХ)</td>\n      <td>-1.251313e-04</td>\n    </tr>\n    <tr>\n      <th>20</th>\n      <td>17-ОНP</td>\n      <td>-3.088319e-04</td>\n    </tr>\n    <tr>\n      <th>4</th>\n      <td>Кортизол крови утро</td>\n      <td>-3.639170e-04</td>\n    </tr>\n    <tr>\n      <th>11</th>\n      <td>18 гидроксикортикостерон мочи (ВЭЖХ)</td>\n      <td>-5.944319e-04</td>\n    </tr>\n    <tr>\n      <th>19</th>\n      <td>11охоET</td>\n      <td>-6.348572e-04</td>\n    </tr>\n    <tr>\n      <th>46</th>\n      <td>THE_P3</td>\n      <td>-6.579317e-04</td>\n    </tr>\n    <tr>\n      <th>23</th>\n      <td>A3</td>\n      <td>-9.286375e-04</td>\n    </tr>\n    <tr>\n      <th>6</th>\n      <td>Кортизол после пробы с 1 мг дексаметазона (ДМТ)</td>\n      <td>-9.818132e-04</td>\n    </tr>\n    <tr>\n      <th>29</th>\n      <td>dA3</td>\n      <td>-1.101137e-03</td>\n    </tr>\n    <tr>\n      <th>16</th>\n      <td>DHEA</td>\n      <td>-1.121794e-03</td>\n    </tr>\n    <tr>\n      <th>42</th>\n      <td>alloTHE</td>\n      <td>-1.138521e-03</td>\n    </tr>\n    <tr>\n      <th>25</th>\n      <td>P3</td>\n      <td>-1.334912e-03</td>\n    </tr>\n    <tr>\n      <th>38</th>\n      <td>THA</td>\n      <td>-1.480703e-03</td>\n    </tr>\n    <tr>\n      <th>31</th>\n      <td>11oxoP3</td>\n      <td>-1.658796e-03</td>\n    </tr>\n    <tr>\n      <th>13</th>\n      <td>An</td>\n      <td>-1.695472e-03</td>\n    </tr>\n    <tr>\n      <th>22</th>\n      <td>11Et</td>\n      <td>-2.193380e-03</td>\n    </tr>\n    <tr>\n      <th>53</th>\n      <td>THE_THS</td>\n      <td>-2.904113e-03</td>\n    </tr>\n    <tr>\n      <th>41</th>\n      <td>CL</td>\n      <td>-3.682946e-03</td>\n    </tr>\n    <tr>\n      <th>39</th>\n      <td>aCN</td>\n      <td>-3.691468e-03</td>\n    </tr>\n    <tr>\n      <th>37</th>\n      <td>alloTHF</td>\n      <td>-4.004357e-03</td>\n    </tr>\n    <tr>\n      <th>30</th>\n      <td>11oxoP2</td>\n      <td>-6.060895e-03</td>\n    </tr>\n    <tr>\n      <th>54</th>\n      <td>THE_11oxoP3</td>\n      <td>-6.123667e-03</td>\n    </tr>\n  </tbody>\n</table>\n</div>"
     },
     "execution_count": 12,
     "metadata": {},
     "output_type": "execute_result"
    }
   ],
   "source": [
    "model = pipeline[\"svc\"]\n",
    "\n",
    "feature_importances = model.coef_.T.reshape(55,)\n",
    "feature_names = X.columns\n",
    "\n",
    "importance_df = pd.DataFrame({\n",
    "    'Feature': feature_names,\n",
    "    'Importance': feature_importances\n",
    "}).sort_values(by='Importance', ascending=False)\n",
    "\n",
    "importance_df"
   ],
   "metadata": {
    "collapsed": false
   }
  }
 ],
 "metadata": {
  "kernelspec": {
   "display_name": "Python 3",
   "language": "python",
   "name": "python3"
  },
  "language_info": {
   "codemirror_mode": {
    "name": "ipython",
    "version": 2
   },
   "file_extension": ".py",
   "mimetype": "text/x-python",
   "name": "python",
   "nbconvert_exporter": "python",
   "pygments_lexer": "ipython2",
   "version": "2.7.6"
  }
 },
 "nbformat": 4,
 "nbformat_minor": 0
}
