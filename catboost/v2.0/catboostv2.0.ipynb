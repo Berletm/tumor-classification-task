{
 "cells": [
  {
   "cell_type": "code",
   "execution_count": 18,
   "metadata": {},
   "outputs": [],
   "source": [
    "import pandas as pd\n",
    "import numpy as np"
   ]
  },
  {
   "cell_type": "code",
   "execution_count": 19,
   "metadata": {
    "collapsed": false,
    "jupyter": {
     "outputs_hidden": false
    }
   },
   "outputs": [],
   "source": [
    "data = pd.read_excel(\"tumor-data-without-healthy.xlsx\")"
   ]
  },
  {
   "cell_type": "code",
   "execution_count": 20,
   "metadata": {
    "collapsed": false,
    "jupyter": {
     "outputs_hidden": false
    }
   },
   "outputs": [],
   "source": [
    "labels = [value for column, value in data.iloc[0].items()]\n",
    "data = data.set_axis(labels, axis=1)\n",
    "data = data[data.columns[1:]].apply(\n",
    "    lambda x: pd.to_numeric(x.replace('<', '').replace(',', '.'), errors='coerce')\n",
    ")\n",
    "data.drop(index=0, inplace=True)\n",
    "data[\"Гормональная активность 0-нет               1-да\"] = data[\"Гормональная активность 0-нет               1-да\"].astype(str)\n",
    "data[\"Гормональная активность 0-нет               1-да\"] = data[\"Гормональная активность 0-нет               1-да\"].fillna(\"missing\")"
   ]
  },
  {
   "cell_type": "code",
   "execution_count": 21,
   "metadata": {
    "collapsed": false,
    "jupyter": {
     "outputs_hidden": false
    }
   },
   "outputs": [],
   "source": [
    "\"\"\" dropping some columns \"\"\"\n",
    "\n",
    "data.dropna(axis=1, how=\"all\", inplace=True)\n",
    "# data.dropna(axis=0, thresh=int(data.shape[1]*0.6), inplace=True)\n",
    "data.dropna(axis=1, thresh=int(data.shape[0]*0.5), inplace=True)\n",
    "data.drop([\"Пол:    0-жен, 1-муж\"], inplace=True, axis=1)"
   ]
  },
  {
   "cell_type": "code",
   "execution_count": 22,
   "outputs": [
    {
     "data": {
      "text/plain": "     КАН  АКР Гормональная активность 0-нет               1-да  \\\n1    0.0  1.0                                              1.0   \n2    0.0  1.0                                              1.0   \n3    0.0  1.0                                              1.0   \n4    0.0  1.0                                              1.0   \n5    0.0  1.0                                              1.0   \n..   ...  ...                                              ...   \n160  1.0  0.0                                              0.0   \n161  1.0  0.0                                              1.0   \n162  1.0  0.0                                              1.0   \n163  1.0  0.0                                              1.0   \n164  1.0  0.0                                              1.0   \n\n     Максимальный размер, мм  Нативная плотность, НU   \\\n1                      181.0                      NaN   \n2                      137.0                      NaN   \n3                       79.0                     48.0   \n4                       54.0                     18.0   \n5                        NaN                      NaN   \n..                       ...                      ...   \n160                     57.0                     16.0   \n161                     36.0                      NaN   \n162                     17.0                      8.0   \n163                     43.0                     32.0   \n164                     33.0                     20.0   \n\n     APW % КВ  - коэф вымывания  Weiss  Кортизол крови утро  \\\n1                           NaN    7.0                  NaN   \n2                           NaN    6.0                681.0   \n3                           NaN    4.0               1418.0   \n4                     53.330000    3.0                687.0   \n5                     64.583333    NaN                  NaN   \n..                          ...    ...                  ...   \n160                   48.570000    2.0                304.0   \n161                   96.000000    2.0                344.0   \n162                   96.428571    0.0                784.0   \n163                   50.000000    9.0                628.0   \n164                   62.000000    1.0                523.0   \n\n     Кортизол крови вечер  Кортизол после пробы с 1 мг дексаметазона (ДМТ)  \\\n1                     NaN                                              NaN   \n2                   739.0                                              NaN   \n3                  1021.0                                              NaN   \n4                   628.0                                              NaN   \n5                     NaN                                              NaN   \n..                    ...                                              ...   \n160                 113.0                                             39.0   \n161                 328.0                                            344.0   \n162                 245.0                                              NaN   \n163                 345.0                                             60.4   \n164                 427.0                                            371.0   \n\n     ...     THE_P3    THB_THA  THF_THE1   THF_THE  aTHF_THF   aTHB_THB  \\\n1    ...   0.722438   0.268293  0.837273  0.276251  2.030846  26.136364   \n2    ...  17.868078   5.948276  1.601304  1.245525  0.285646   0.289855   \n3    ...   3.100000   1.000000  0.950000  0.770000  0.230000   0.170000   \n4    ...   5.308889  10.000000  0.863495  0.692278  0.247324   2.400000   \n5    ...   0.558894        NaN  0.964336  0.883217  0.091845   0.465753   \n..   ...        ...        ...       ...       ...       ...        ...   \n160  ...   4.273333   0.959184  0.413451  0.198456  1.083333   1.872340   \n161  ...   1.991166   3.255814  0.648263  0.365631  0.773000   2.371429   \n162  ...  37.064646   1.168342  0.929232  0.514090  0.807527   1.247312   \n163  ...   3.629134   4.057143  0.628047  0.307312  1.043678   1.577465   \n164  ...   9.630189   2.409429  0.386580  0.339310  0.139311   0.851699   \n\n     11An_11Et     THE_THS  THE_11oxoP3  16-OHdP2-3a/16-OHdP2-3b  \n1     2.827039    0.312336   334.200000                 1.205818  \n2     0.670094    8.016807   353.903226                 0.795526  \n3     1.780000   16.680000    25.010000                 2.530000  \n4     5.544041   27.941520   227.523810                 2.403478  \n5     1.983240    1.279727    85.121212                 1.422500  \n..         ...         ...          ...                      ...  \n160   2.837771   36.214689          NaN                 1.371429  \n161   1.818519    5.053812    13.828221                      NaN  \n162   3.576531         NaN  1528.916667                      NaN  \n163   5.618234  219.476190   307.266667                 3.089655  \n164   0.307157   10.523711    24.189573                      NaN  \n\n[164 rows x 60 columns]",
      "text/html": "<div>\n<style scoped>\n    .dataframe tbody tr th:only-of-type {\n        vertical-align: middle;\n    }\n\n    .dataframe tbody tr th {\n        vertical-align: top;\n    }\n\n    .dataframe thead th {\n        text-align: right;\n    }\n</style>\n<table border=\"1\" class=\"dataframe\">\n  <thead>\n    <tr style=\"text-align: right;\">\n      <th></th>\n      <th>КАН</th>\n      <th>АКР</th>\n      <th>Гормональная активность 0-нет               1-да</th>\n      <th>Максимальный размер, мм</th>\n      <th>Нативная плотность, НU</th>\n      <th>APW % КВ  - коэф вымывания</th>\n      <th>Weiss</th>\n      <th>Кортизол крови утро</th>\n      <th>Кортизол крови вечер</th>\n      <th>Кортизол после пробы с 1 мг дексаметазона (ДМТ)</th>\n      <th>...</th>\n      <th>THE_P3</th>\n      <th>THB_THA</th>\n      <th>THF_THE1</th>\n      <th>THF_THE</th>\n      <th>aTHF_THF</th>\n      <th>aTHB_THB</th>\n      <th>11An_11Et</th>\n      <th>THE_THS</th>\n      <th>THE_11oxoP3</th>\n      <th>16-OHdP2-3a/16-OHdP2-3b</th>\n    </tr>\n  </thead>\n  <tbody>\n    <tr>\n      <th>1</th>\n      <td>0.0</td>\n      <td>1.0</td>\n      <td>1.0</td>\n      <td>181.0</td>\n      <td>NaN</td>\n      <td>NaN</td>\n      <td>7.0</td>\n      <td>NaN</td>\n      <td>NaN</td>\n      <td>NaN</td>\n      <td>...</td>\n      <td>0.722438</td>\n      <td>0.268293</td>\n      <td>0.837273</td>\n      <td>0.276251</td>\n      <td>2.030846</td>\n      <td>26.136364</td>\n      <td>2.827039</td>\n      <td>0.312336</td>\n      <td>334.200000</td>\n      <td>1.205818</td>\n    </tr>\n    <tr>\n      <th>2</th>\n      <td>0.0</td>\n      <td>1.0</td>\n      <td>1.0</td>\n      <td>137.0</td>\n      <td>NaN</td>\n      <td>NaN</td>\n      <td>6.0</td>\n      <td>681.0</td>\n      <td>739.0</td>\n      <td>NaN</td>\n      <td>...</td>\n      <td>17.868078</td>\n      <td>5.948276</td>\n      <td>1.601304</td>\n      <td>1.245525</td>\n      <td>0.285646</td>\n      <td>0.289855</td>\n      <td>0.670094</td>\n      <td>8.016807</td>\n      <td>353.903226</td>\n      <td>0.795526</td>\n    </tr>\n    <tr>\n      <th>3</th>\n      <td>0.0</td>\n      <td>1.0</td>\n      <td>1.0</td>\n      <td>79.0</td>\n      <td>48.0</td>\n      <td>NaN</td>\n      <td>4.0</td>\n      <td>1418.0</td>\n      <td>1021.0</td>\n      <td>NaN</td>\n      <td>...</td>\n      <td>3.100000</td>\n      <td>1.000000</td>\n      <td>0.950000</td>\n      <td>0.770000</td>\n      <td>0.230000</td>\n      <td>0.170000</td>\n      <td>1.780000</td>\n      <td>16.680000</td>\n      <td>25.010000</td>\n      <td>2.530000</td>\n    </tr>\n    <tr>\n      <th>4</th>\n      <td>0.0</td>\n      <td>1.0</td>\n      <td>1.0</td>\n      <td>54.0</td>\n      <td>18.0</td>\n      <td>53.330000</td>\n      <td>3.0</td>\n      <td>687.0</td>\n      <td>628.0</td>\n      <td>NaN</td>\n      <td>...</td>\n      <td>5.308889</td>\n      <td>10.000000</td>\n      <td>0.863495</td>\n      <td>0.692278</td>\n      <td>0.247324</td>\n      <td>2.400000</td>\n      <td>5.544041</td>\n      <td>27.941520</td>\n      <td>227.523810</td>\n      <td>2.403478</td>\n    </tr>\n    <tr>\n      <th>5</th>\n      <td>0.0</td>\n      <td>1.0</td>\n      <td>1.0</td>\n      <td>NaN</td>\n      <td>NaN</td>\n      <td>64.583333</td>\n      <td>NaN</td>\n      <td>NaN</td>\n      <td>NaN</td>\n      <td>NaN</td>\n      <td>...</td>\n      <td>0.558894</td>\n      <td>NaN</td>\n      <td>0.964336</td>\n      <td>0.883217</td>\n      <td>0.091845</td>\n      <td>0.465753</td>\n      <td>1.983240</td>\n      <td>1.279727</td>\n      <td>85.121212</td>\n      <td>1.422500</td>\n    </tr>\n    <tr>\n      <th>...</th>\n      <td>...</td>\n      <td>...</td>\n      <td>...</td>\n      <td>...</td>\n      <td>...</td>\n      <td>...</td>\n      <td>...</td>\n      <td>...</td>\n      <td>...</td>\n      <td>...</td>\n      <td>...</td>\n      <td>...</td>\n      <td>...</td>\n      <td>...</td>\n      <td>...</td>\n      <td>...</td>\n      <td>...</td>\n      <td>...</td>\n      <td>...</td>\n      <td>...</td>\n      <td>...</td>\n    </tr>\n    <tr>\n      <th>160</th>\n      <td>1.0</td>\n      <td>0.0</td>\n      <td>0.0</td>\n      <td>57.0</td>\n      <td>16.0</td>\n      <td>48.570000</td>\n      <td>2.0</td>\n      <td>304.0</td>\n      <td>113.0</td>\n      <td>39.0</td>\n      <td>...</td>\n      <td>4.273333</td>\n      <td>0.959184</td>\n      <td>0.413451</td>\n      <td>0.198456</td>\n      <td>1.083333</td>\n      <td>1.872340</td>\n      <td>2.837771</td>\n      <td>36.214689</td>\n      <td>NaN</td>\n      <td>1.371429</td>\n    </tr>\n    <tr>\n      <th>161</th>\n      <td>1.0</td>\n      <td>0.0</td>\n      <td>1.0</td>\n      <td>36.0</td>\n      <td>NaN</td>\n      <td>96.000000</td>\n      <td>2.0</td>\n      <td>344.0</td>\n      <td>328.0</td>\n      <td>344.0</td>\n      <td>...</td>\n      <td>1.991166</td>\n      <td>3.255814</td>\n      <td>0.648263</td>\n      <td>0.365631</td>\n      <td>0.773000</td>\n      <td>2.371429</td>\n      <td>1.818519</td>\n      <td>5.053812</td>\n      <td>13.828221</td>\n      <td>NaN</td>\n    </tr>\n    <tr>\n      <th>162</th>\n      <td>1.0</td>\n      <td>0.0</td>\n      <td>1.0</td>\n      <td>17.0</td>\n      <td>8.0</td>\n      <td>96.428571</td>\n      <td>0.0</td>\n      <td>784.0</td>\n      <td>245.0</td>\n      <td>NaN</td>\n      <td>...</td>\n      <td>37.064646</td>\n      <td>1.168342</td>\n      <td>0.929232</td>\n      <td>0.514090</td>\n      <td>0.807527</td>\n      <td>1.247312</td>\n      <td>3.576531</td>\n      <td>NaN</td>\n      <td>1528.916667</td>\n      <td>NaN</td>\n    </tr>\n    <tr>\n      <th>163</th>\n      <td>1.0</td>\n      <td>0.0</td>\n      <td>1.0</td>\n      <td>43.0</td>\n      <td>32.0</td>\n      <td>50.000000</td>\n      <td>9.0</td>\n      <td>628.0</td>\n      <td>345.0</td>\n      <td>60.4</td>\n      <td>...</td>\n      <td>3.629134</td>\n      <td>4.057143</td>\n      <td>0.628047</td>\n      <td>0.307312</td>\n      <td>1.043678</td>\n      <td>1.577465</td>\n      <td>5.618234</td>\n      <td>219.476190</td>\n      <td>307.266667</td>\n      <td>3.089655</td>\n    </tr>\n    <tr>\n      <th>164</th>\n      <td>1.0</td>\n      <td>0.0</td>\n      <td>1.0</td>\n      <td>33.0</td>\n      <td>20.0</td>\n      <td>62.000000</td>\n      <td>1.0</td>\n      <td>523.0</td>\n      <td>427.0</td>\n      <td>371.0</td>\n      <td>...</td>\n      <td>9.630189</td>\n      <td>2.409429</td>\n      <td>0.386580</td>\n      <td>0.339310</td>\n      <td>0.139311</td>\n      <td>0.851699</td>\n      <td>0.307157</td>\n      <td>10.523711</td>\n      <td>24.189573</td>\n      <td>NaN</td>\n    </tr>\n  </tbody>\n</table>\n<p>164 rows × 60 columns</p>\n</div>"
     },
     "execution_count": 22,
     "metadata": {},
     "output_type": "execute_result"
    }
   ],
   "source": [
    "data"
   ],
   "metadata": {
    "collapsed": false
   }
  },
  {
   "cell_type": "code",
   "execution_count": 23,
   "metadata": {
    "collapsed": false,
    "jupyter": {
     "outputs_hidden": false
    }
   },
   "outputs": [],
   "source": [
    "X = data.drop(columns=[\"КАН\", \"АКР\"])\n",
    "y = np.argmax(data[[\"КАН\", \"АКР\"]], axis=1)"
   ]
  },
  {
   "cell_type": "code",
   "execution_count": 24,
   "metadata": {
    "collapsed": false,
    "jupyter": {
     "outputs_hidden": false
    }
   },
   "outputs": [],
   "source": [
    "from sklearn.model_selection import train_test_split\n",
    "\n",
    "X_train, X_test, y_train, y_test = train_test_split(X, y, train_size=0.9, random_state=314, shuffle=True)"
   ]
  },
  {
   "cell_type": "code",
   "execution_count": 45,
   "metadata": {
    "collapsed": false,
    "jupyter": {
     "outputs_hidden": false
    }
   },
   "outputs": [
    {
     "name": "stderr",
     "output_type": "stream",
     "text": [
      "[I 2024-12-24 16:25:59,355] A new study created in memory with name: no-name-aa9385dc-59bb-4d27-a0d9-651ba849807c\n",
      "[I 2024-12-24 16:26:02,928] Trial 0 finished with value: 1.0 and parameters: {'iterations': 23, 'learning_rate': 0.015061570992288376, 'depth': 10, 'l2_leaf_reg': 8, 'boosting_type': 'Ordered', 'max_ctr_complexity': 5}. Best is trial 0 with value: 1.0.\n",
      "[I 2024-12-24 16:26:05,040] Trial 1 finished with value: 1.0 and parameters: {'iterations': 81, 'learning_rate': 0.021050186244197005, 'depth': 3, 'l2_leaf_reg': 10, 'boosting_type': 'Ordered', 'max_ctr_complexity': 3}. Best is trial 0 with value: 1.0.\n",
      "[I 2024-12-24 16:26:08,568] Trial 2 finished with value: 0.9411764705882353 and parameters: {'iterations': 64, 'learning_rate': 0.02909737827554296, 'depth': 8, 'l2_leaf_reg': 2, 'boosting_type': 'Ordered', 'max_ctr_complexity': 5}. Best is trial 0 with value: 1.0.\n",
      "[I 2024-12-24 16:26:10,539] Trial 3 finished with value: 1.0 and parameters: {'iterations': 53, 'learning_rate': 0.005888597242884402, 'depth': 10, 'l2_leaf_reg': 4, 'boosting_type': 'Plain', 'max_ctr_complexity': 0}. Best is trial 0 with value: 1.0.\n",
      "[I 2024-12-24 16:26:11,162] Trial 4 finished with value: 1.0 and parameters: {'iterations': 43, 'learning_rate': 0.03927371228975246, 'depth': 6, 'l2_leaf_reg': 3, 'boosting_type': 'Plain', 'max_ctr_complexity': 6}. Best is trial 0 with value: 1.0.\n",
      "[I 2024-12-24 16:26:12,060] Trial 5 finished with value: 1.0 and parameters: {'iterations': 36, 'learning_rate': 0.0072669047135609606, 'depth': 4, 'l2_leaf_reg': 9, 'boosting_type': 'Ordered', 'max_ctr_complexity': 5}. Best is trial 0 with value: 1.0.\n",
      "[I 2024-12-24 16:26:12,509] Trial 6 finished with value: 1.0 and parameters: {'iterations': 58, 'learning_rate': 0.0020991083123827877, 'depth': 3, 'l2_leaf_reg': 6, 'boosting_type': 'Plain', 'max_ctr_complexity': 0}. Best is trial 0 with value: 1.0.\n",
      "[I 2024-12-24 16:26:14,666] Trial 7 finished with value: 1.0 and parameters: {'iterations': 86, 'learning_rate': 0.006170117160683012, 'depth': 5, 'l2_leaf_reg': 1, 'boosting_type': 'Ordered', 'max_ctr_complexity': 8}. Best is trial 0 with value: 1.0.\n",
      "[I 2024-12-24 16:26:17,022] Trial 8 finished with value: 1.0 and parameters: {'iterations': 95, 'learning_rate': 0.0021328994622350542, 'depth': 5, 'l2_leaf_reg': 6, 'boosting_type': 'Ordered', 'max_ctr_complexity': 8}. Best is trial 0 with value: 1.0.\n",
      "[I 2024-12-24 16:26:20,108] Trial 9 finished with value: 1.0 and parameters: {'iterations': 22, 'learning_rate': 0.09663617901818418, 'depth': 10, 'l2_leaf_reg': 9, 'boosting_type': 'Ordered', 'max_ctr_complexity': 8}. Best is trial 0 with value: 1.0.\n",
      "[I 2024-12-24 16:26:20,524] Trial 10 finished with value: 1.0 and parameters: {'iterations': 13, 'learning_rate': 0.0010761721443116412, 'depth': 8, 'l2_leaf_reg': 7, 'boosting_type': 'Plain', 'max_ctr_complexity': 2}. Best is trial 0 with value: 1.0.\n",
      "[I 2024-12-24 16:26:24,532] Trial 11 finished with value: 1.0 and parameters: {'iterations': 76, 'learning_rate': 0.018074760949855176, 'depth': 8, 'l2_leaf_reg': 10, 'boosting_type': 'Ordered', 'max_ctr_complexity': 3}. Best is trial 0 with value: 1.0.\n",
      "[I 2024-12-24 16:26:25,281] Trial 12 finished with value: 1.0 and parameters: {'iterations': 31, 'learning_rate': 0.01509385876106179, 'depth': 3, 'l2_leaf_reg': 8, 'boosting_type': 'Ordered', 'max_ctr_complexity': 3}. Best is trial 0 with value: 1.0.\n",
      "[I 2024-12-24 16:26:28,237] Trial 13 finished with value: 1.0 and parameters: {'iterations': 71, 'learning_rate': 0.06466626932786398, 'depth': 7, 'l2_leaf_reg': 10, 'boosting_type': 'Ordered', 'max_ctr_complexity': 2}. Best is trial 0 with value: 1.0.\n",
      "[I 2024-12-24 16:26:34,859] Trial 14 finished with value: 1.0 and parameters: {'iterations': 84, 'learning_rate': 0.014401384777653329, 'depth': 9, 'l2_leaf_reg': 8, 'boosting_type': 'Ordered', 'max_ctr_complexity': 6}. Best is trial 0 with value: 1.0.\n",
      "[W 2024-12-24 16:26:35,217] Trial 15 failed with parameters: {'iterations': 99, 'learning_rate': 0.04174469067590753, 'depth': 6, 'l2_leaf_reg': 8, 'boosting_type': 'Ordered', 'max_ctr_complexity': 4} because of the following error: KeyboardInterrupt('').\n",
      "Traceback (most recent call last):\n",
      "  File \"C:\\Users\\arafa\\anaconda3\\envs\\university-projects\\lib\\site-packages\\optuna\\study\\_optimize.py\", line 197, in _run_trial\n",
      "    value_or_values = func(trial)\n",
      "  File \"C:\\Users\\arafa\\AppData\\Local\\Temp\\ipykernel_17028\\3989400442.py\", line 19, in objective\n",
      "    model.fit(X_train, y_train)\n",
      "  File \"C:\\Users\\arafa\\anaconda3\\envs\\university-projects\\lib\\site-packages\\catboost\\core.py\", line 5201, in fit\n",
      "    self._fit(X, y, cat_features, text_features, embedding_features, None, sample_weight, None, None, None, None, baseline, use_best_model,\n",
      "  File \"C:\\Users\\arafa\\anaconda3\\envs\\university-projects\\lib\\site-packages\\catboost\\core.py\", line 2396, in _fit\n",
      "    self._train(\n",
      "  File \"C:\\Users\\arafa\\anaconda3\\envs\\university-projects\\lib\\site-packages\\catboost\\core.py\", line 1776, in _train\n",
      "    self._object._train(train_pool, test_pool, params, allow_clear_pool, init_model._object if init_model else None)\n",
      "  File \"_catboost.pyx\", line 4833, in _catboost._CatBoost._train\n",
      "  File \"_catboost.pyx\", line 4882, in _catboost._CatBoost._train\n",
      "KeyboardInterrupt\n",
      "[W 2024-12-24 16:26:35,217] Trial 15 failed with value None.\n"
     ]
    },
    {
     "ename": "KeyboardInterrupt",
     "evalue": "",
     "output_type": "error",
     "traceback": [
      "\u001B[1;31m---------------------------------------------------------------------------\u001B[0m",
      "\u001B[1;31mKeyboardInterrupt\u001B[0m                         Traceback (most recent call last)",
      "Cell \u001B[1;32mIn[45], line 24\u001B[0m\n\u001B[0;32m     21\u001B[0m     \u001B[38;5;28;01mreturn\u001B[39;00m score\n\u001B[0;32m     23\u001B[0m study \u001B[38;5;241m=\u001B[39m optuna\u001B[38;5;241m.\u001B[39mcreate_study(direction\u001B[38;5;241m=\u001B[39m\u001B[38;5;124m'\u001B[39m\u001B[38;5;124mmaximize\u001B[39m\u001B[38;5;124m'\u001B[39m)\n\u001B[1;32m---> 24\u001B[0m \u001B[43mstudy\u001B[49m\u001B[38;5;241;43m.\u001B[39;49m\u001B[43moptimize\u001B[49m\u001B[43m(\u001B[49m\u001B[43mobjective\u001B[49m\u001B[43m,\u001B[49m\u001B[43m \u001B[49m\u001B[43mn_trials\u001B[49m\u001B[38;5;241;43m=\u001B[39;49m\u001B[38;5;241;43m100\u001B[39;49m\u001B[43m)\u001B[49m\n",
      "File \u001B[1;32m~\\anaconda3\\envs\\university-projects\\lib\\site-packages\\optuna\\study\\study.py:475\u001B[0m, in \u001B[0;36mStudy.optimize\u001B[1;34m(self, func, n_trials, timeout, n_jobs, catch, callbacks, gc_after_trial, show_progress_bar)\u001B[0m\n\u001B[0;32m    373\u001B[0m \u001B[38;5;28;01mdef\u001B[39;00m \u001B[38;5;21moptimize\u001B[39m(\n\u001B[0;32m    374\u001B[0m     \u001B[38;5;28mself\u001B[39m,\n\u001B[0;32m    375\u001B[0m     func: ObjectiveFuncType,\n\u001B[1;32m   (...)\u001B[0m\n\u001B[0;32m    382\u001B[0m     show_progress_bar: \u001B[38;5;28mbool\u001B[39m \u001B[38;5;241m=\u001B[39m \u001B[38;5;28;01mFalse\u001B[39;00m,\n\u001B[0;32m    383\u001B[0m ) \u001B[38;5;241m-\u001B[39m\u001B[38;5;241m>\u001B[39m \u001B[38;5;28;01mNone\u001B[39;00m:\n\u001B[0;32m    384\u001B[0m \u001B[38;5;250m    \u001B[39m\u001B[38;5;124;03m\"\"\"Optimize an objective function.\u001B[39;00m\n\u001B[0;32m    385\u001B[0m \n\u001B[0;32m    386\u001B[0m \u001B[38;5;124;03m    Optimization is done by choosing a suitable set of hyperparameter values from a given\u001B[39;00m\n\u001B[1;32m   (...)\u001B[0m\n\u001B[0;32m    473\u001B[0m \u001B[38;5;124;03m            If nested invocation of this method occurs.\u001B[39;00m\n\u001B[0;32m    474\u001B[0m \u001B[38;5;124;03m    \"\"\"\u001B[39;00m\n\u001B[1;32m--> 475\u001B[0m     \u001B[43m_optimize\u001B[49m\u001B[43m(\u001B[49m\n\u001B[0;32m    476\u001B[0m \u001B[43m        \u001B[49m\u001B[43mstudy\u001B[49m\u001B[38;5;241;43m=\u001B[39;49m\u001B[38;5;28;43mself\u001B[39;49m\u001B[43m,\u001B[49m\n\u001B[0;32m    477\u001B[0m \u001B[43m        \u001B[49m\u001B[43mfunc\u001B[49m\u001B[38;5;241;43m=\u001B[39;49m\u001B[43mfunc\u001B[49m\u001B[43m,\u001B[49m\n\u001B[0;32m    478\u001B[0m \u001B[43m        \u001B[49m\u001B[43mn_trials\u001B[49m\u001B[38;5;241;43m=\u001B[39;49m\u001B[43mn_trials\u001B[49m\u001B[43m,\u001B[49m\n\u001B[0;32m    479\u001B[0m \u001B[43m        \u001B[49m\u001B[43mtimeout\u001B[49m\u001B[38;5;241;43m=\u001B[39;49m\u001B[43mtimeout\u001B[49m\u001B[43m,\u001B[49m\n\u001B[0;32m    480\u001B[0m \u001B[43m        \u001B[49m\u001B[43mn_jobs\u001B[49m\u001B[38;5;241;43m=\u001B[39;49m\u001B[43mn_jobs\u001B[49m\u001B[43m,\u001B[49m\n\u001B[0;32m    481\u001B[0m \u001B[43m        \u001B[49m\u001B[43mcatch\u001B[49m\u001B[38;5;241;43m=\u001B[39;49m\u001B[38;5;28;43mtuple\u001B[39;49m\u001B[43m(\u001B[49m\u001B[43mcatch\u001B[49m\u001B[43m)\u001B[49m\u001B[43m \u001B[49m\u001B[38;5;28;43;01mif\u001B[39;49;00m\u001B[43m \u001B[49m\u001B[38;5;28;43misinstance\u001B[39;49m\u001B[43m(\u001B[49m\u001B[43mcatch\u001B[49m\u001B[43m,\u001B[49m\u001B[43m \u001B[49m\u001B[43mIterable\u001B[49m\u001B[43m)\u001B[49m\u001B[43m \u001B[49m\u001B[38;5;28;43;01melse\u001B[39;49;00m\u001B[43m \u001B[49m\u001B[43m(\u001B[49m\u001B[43mcatch\u001B[49m\u001B[43m,\u001B[49m\u001B[43m)\u001B[49m\u001B[43m,\u001B[49m\n\u001B[0;32m    482\u001B[0m \u001B[43m        \u001B[49m\u001B[43mcallbacks\u001B[49m\u001B[38;5;241;43m=\u001B[39;49m\u001B[43mcallbacks\u001B[49m\u001B[43m,\u001B[49m\n\u001B[0;32m    483\u001B[0m \u001B[43m        \u001B[49m\u001B[43mgc_after_trial\u001B[49m\u001B[38;5;241;43m=\u001B[39;49m\u001B[43mgc_after_trial\u001B[49m\u001B[43m,\u001B[49m\n\u001B[0;32m    484\u001B[0m \u001B[43m        \u001B[49m\u001B[43mshow_progress_bar\u001B[49m\u001B[38;5;241;43m=\u001B[39;49m\u001B[43mshow_progress_bar\u001B[49m\u001B[43m,\u001B[49m\n\u001B[0;32m    485\u001B[0m \u001B[43m    \u001B[49m\u001B[43m)\u001B[49m\n",
      "File \u001B[1;32m~\\anaconda3\\envs\\university-projects\\lib\\site-packages\\optuna\\study\\_optimize.py:63\u001B[0m, in \u001B[0;36m_optimize\u001B[1;34m(study, func, n_trials, timeout, n_jobs, catch, callbacks, gc_after_trial, show_progress_bar)\u001B[0m\n\u001B[0;32m     61\u001B[0m \u001B[38;5;28;01mtry\u001B[39;00m:\n\u001B[0;32m     62\u001B[0m     \u001B[38;5;28;01mif\u001B[39;00m n_jobs \u001B[38;5;241m==\u001B[39m \u001B[38;5;241m1\u001B[39m:\n\u001B[1;32m---> 63\u001B[0m         \u001B[43m_optimize_sequential\u001B[49m\u001B[43m(\u001B[49m\n\u001B[0;32m     64\u001B[0m \u001B[43m            \u001B[49m\u001B[43mstudy\u001B[49m\u001B[43m,\u001B[49m\n\u001B[0;32m     65\u001B[0m \u001B[43m            \u001B[49m\u001B[43mfunc\u001B[49m\u001B[43m,\u001B[49m\n\u001B[0;32m     66\u001B[0m \u001B[43m            \u001B[49m\u001B[43mn_trials\u001B[49m\u001B[43m,\u001B[49m\n\u001B[0;32m     67\u001B[0m \u001B[43m            \u001B[49m\u001B[43mtimeout\u001B[49m\u001B[43m,\u001B[49m\n\u001B[0;32m     68\u001B[0m \u001B[43m            \u001B[49m\u001B[43mcatch\u001B[49m\u001B[43m,\u001B[49m\n\u001B[0;32m     69\u001B[0m \u001B[43m            \u001B[49m\u001B[43mcallbacks\u001B[49m\u001B[43m,\u001B[49m\n\u001B[0;32m     70\u001B[0m \u001B[43m            \u001B[49m\u001B[43mgc_after_trial\u001B[49m\u001B[43m,\u001B[49m\n\u001B[0;32m     71\u001B[0m \u001B[43m            \u001B[49m\u001B[43mreseed_sampler_rng\u001B[49m\u001B[38;5;241;43m=\u001B[39;49m\u001B[38;5;28;43;01mFalse\u001B[39;49;00m\u001B[43m,\u001B[49m\n\u001B[0;32m     72\u001B[0m \u001B[43m            \u001B[49m\u001B[43mtime_start\u001B[49m\u001B[38;5;241;43m=\u001B[39;49m\u001B[38;5;28;43;01mNone\u001B[39;49;00m\u001B[43m,\u001B[49m\n\u001B[0;32m     73\u001B[0m \u001B[43m            \u001B[49m\u001B[43mprogress_bar\u001B[49m\u001B[38;5;241;43m=\u001B[39;49m\u001B[43mprogress_bar\u001B[49m\u001B[43m,\u001B[49m\n\u001B[0;32m     74\u001B[0m \u001B[43m        \u001B[49m\u001B[43m)\u001B[49m\n\u001B[0;32m     75\u001B[0m     \u001B[38;5;28;01melse\u001B[39;00m:\n\u001B[0;32m     76\u001B[0m         \u001B[38;5;28;01mif\u001B[39;00m n_jobs \u001B[38;5;241m==\u001B[39m \u001B[38;5;241m-\u001B[39m\u001B[38;5;241m1\u001B[39m:\n",
      "File \u001B[1;32m~\\anaconda3\\envs\\university-projects\\lib\\site-packages\\optuna\\study\\_optimize.py:160\u001B[0m, in \u001B[0;36m_optimize_sequential\u001B[1;34m(study, func, n_trials, timeout, catch, callbacks, gc_after_trial, reseed_sampler_rng, time_start, progress_bar)\u001B[0m\n\u001B[0;32m    157\u001B[0m         \u001B[38;5;28;01mbreak\u001B[39;00m\n\u001B[0;32m    159\u001B[0m \u001B[38;5;28;01mtry\u001B[39;00m:\n\u001B[1;32m--> 160\u001B[0m     frozen_trial \u001B[38;5;241m=\u001B[39m \u001B[43m_run_trial\u001B[49m\u001B[43m(\u001B[49m\u001B[43mstudy\u001B[49m\u001B[43m,\u001B[49m\u001B[43m \u001B[49m\u001B[43mfunc\u001B[49m\u001B[43m,\u001B[49m\u001B[43m \u001B[49m\u001B[43mcatch\u001B[49m\u001B[43m)\u001B[49m\n\u001B[0;32m    161\u001B[0m \u001B[38;5;28;01mfinally\u001B[39;00m:\n\u001B[0;32m    162\u001B[0m     \u001B[38;5;66;03m# The following line mitigates memory problems that can be occurred in some\u001B[39;00m\n\u001B[0;32m    163\u001B[0m     \u001B[38;5;66;03m# environments (e.g., services that use computing containers such as GitHub Actions).\u001B[39;00m\n\u001B[0;32m    164\u001B[0m     \u001B[38;5;66;03m# Please refer to the following PR for further details:\u001B[39;00m\n\u001B[0;32m    165\u001B[0m     \u001B[38;5;66;03m# https://github.com/optuna/optuna/pull/325.\u001B[39;00m\n\u001B[0;32m    166\u001B[0m     \u001B[38;5;28;01mif\u001B[39;00m gc_after_trial:\n",
      "File \u001B[1;32m~\\anaconda3\\envs\\university-projects\\lib\\site-packages\\optuna\\study\\_optimize.py:248\u001B[0m, in \u001B[0;36m_run_trial\u001B[1;34m(study, func, catch)\u001B[0m\n\u001B[0;32m    241\u001B[0m         \u001B[38;5;28;01massert\u001B[39;00m \u001B[38;5;28;01mFalse\u001B[39;00m, \u001B[38;5;124m\"\u001B[39m\u001B[38;5;124mShould not reach.\u001B[39m\u001B[38;5;124m\"\u001B[39m\n\u001B[0;32m    243\u001B[0m \u001B[38;5;28;01mif\u001B[39;00m (\n\u001B[0;32m    244\u001B[0m     frozen_trial\u001B[38;5;241m.\u001B[39mstate \u001B[38;5;241m==\u001B[39m TrialState\u001B[38;5;241m.\u001B[39mFAIL\n\u001B[0;32m    245\u001B[0m     \u001B[38;5;129;01mand\u001B[39;00m func_err \u001B[38;5;129;01mis\u001B[39;00m \u001B[38;5;129;01mnot\u001B[39;00m \u001B[38;5;28;01mNone\u001B[39;00m\n\u001B[0;32m    246\u001B[0m     \u001B[38;5;129;01mand\u001B[39;00m \u001B[38;5;129;01mnot\u001B[39;00m \u001B[38;5;28misinstance\u001B[39m(func_err, catch)\n\u001B[0;32m    247\u001B[0m ):\n\u001B[1;32m--> 248\u001B[0m     \u001B[38;5;28;01mraise\u001B[39;00m func_err\n\u001B[0;32m    249\u001B[0m \u001B[38;5;28;01mreturn\u001B[39;00m frozen_trial\n",
      "File \u001B[1;32m~\\anaconda3\\envs\\university-projects\\lib\\site-packages\\optuna\\study\\_optimize.py:197\u001B[0m, in \u001B[0;36m_run_trial\u001B[1;34m(study, func, catch)\u001B[0m\n\u001B[0;32m    195\u001B[0m \u001B[38;5;28;01mwith\u001B[39;00m get_heartbeat_thread(trial\u001B[38;5;241m.\u001B[39m_trial_id, study\u001B[38;5;241m.\u001B[39m_storage):\n\u001B[0;32m    196\u001B[0m     \u001B[38;5;28;01mtry\u001B[39;00m:\n\u001B[1;32m--> 197\u001B[0m         value_or_values \u001B[38;5;241m=\u001B[39m \u001B[43mfunc\u001B[49m\u001B[43m(\u001B[49m\u001B[43mtrial\u001B[49m\u001B[43m)\u001B[49m\n\u001B[0;32m    198\u001B[0m     \u001B[38;5;28;01mexcept\u001B[39;00m exceptions\u001B[38;5;241m.\u001B[39mTrialPruned \u001B[38;5;28;01mas\u001B[39;00m e:\n\u001B[0;32m    199\u001B[0m         \u001B[38;5;66;03m# TODO(mamu): Handle multi-objective cases.\u001B[39;00m\n\u001B[0;32m    200\u001B[0m         state \u001B[38;5;241m=\u001B[39m TrialState\u001B[38;5;241m.\u001B[39mPRUNED\n",
      "Cell \u001B[1;32mIn[45], line 19\u001B[0m, in \u001B[0;36mobjective\u001B[1;34m(trial)\u001B[0m\n\u001B[0;32m      5\u001B[0m param \u001B[38;5;241m=\u001B[39m {\n\u001B[0;32m      6\u001B[0m \u001B[38;5;124m'\u001B[39m\u001B[38;5;124mverbose\u001B[39m\u001B[38;5;124m'\u001B[39m:\u001B[38;5;241m0\u001B[39m,\n\u001B[0;32m      7\u001B[0m \u001B[38;5;124m'\u001B[39m\u001B[38;5;124mthread_count\u001B[39m\u001B[38;5;124m'\u001B[39m:\u001B[38;5;241m-\u001B[39m\u001B[38;5;241m1\u001B[39m,\n\u001B[1;32m   (...)\u001B[0m\n\u001B[0;32m     15\u001B[0m \u001B[38;5;124m'\u001B[39m\u001B[38;5;124mmax_ctr_complexity\u001B[39m\u001B[38;5;124m'\u001B[39m: trial\u001B[38;5;241m.\u001B[39msuggest_int(\u001B[38;5;124m'\u001B[39m\u001B[38;5;124mmax_ctr_complexity\u001B[39m\u001B[38;5;124m'\u001B[39m, \u001B[38;5;241m0\u001B[39m, \u001B[38;5;241m8\u001B[39m)\n\u001B[0;32m     16\u001B[0m }\n\u001B[0;32m     18\u001B[0m model \u001B[38;5;241m=\u001B[39m CatBoostClassifier(\u001B[38;5;241m*\u001B[39m\u001B[38;5;241m*\u001B[39mparam, task_type\u001B[38;5;241m=\u001B[39m\u001B[38;5;124m'\u001B[39m\u001B[38;5;124mGPU\u001B[39m\u001B[38;5;124m'\u001B[39m, random_state\u001B[38;5;241m=\u001B[39m\u001B[38;5;241m42\u001B[39m)\n\u001B[1;32m---> 19\u001B[0m \u001B[43mmodel\u001B[49m\u001B[38;5;241;43m.\u001B[39;49m\u001B[43mfit\u001B[49m\u001B[43m(\u001B[49m\u001B[43mX_train\u001B[49m\u001B[43m,\u001B[49m\u001B[43m \u001B[49m\u001B[43my_train\u001B[49m\u001B[43m)\u001B[49m\n\u001B[0;32m     20\u001B[0m score \u001B[38;5;241m=\u001B[39m model\u001B[38;5;241m.\u001B[39mscore(X_test, y_test)\n\u001B[0;32m     21\u001B[0m \u001B[38;5;28;01mreturn\u001B[39;00m score\n",
      "File \u001B[1;32m~\\anaconda3\\envs\\university-projects\\lib\\site-packages\\catboost\\core.py:5201\u001B[0m, in \u001B[0;36mCatBoostClassifier.fit\u001B[1;34m(self, X, y, cat_features, text_features, embedding_features, sample_weight, baseline, use_best_model, eval_set, verbose, logging_level, plot, plot_file, column_description, verbose_eval, metric_period, silent, early_stopping_rounds, save_snapshot, snapshot_file, snapshot_interval, init_model, callbacks, log_cout, log_cerr)\u001B[0m\n\u001B[0;32m   5198\u001B[0m \u001B[38;5;28;01mif\u001B[39;00m \u001B[38;5;124m'\u001B[39m\u001B[38;5;124mloss_function\u001B[39m\u001B[38;5;124m'\u001B[39m \u001B[38;5;129;01min\u001B[39;00m params:\n\u001B[0;32m   5199\u001B[0m     CatBoostClassifier\u001B[38;5;241m.\u001B[39m_check_is_compatible_loss(params[\u001B[38;5;124m'\u001B[39m\u001B[38;5;124mloss_function\u001B[39m\u001B[38;5;124m'\u001B[39m])\n\u001B[1;32m-> 5201\u001B[0m \u001B[38;5;28;43mself\u001B[39;49m\u001B[38;5;241;43m.\u001B[39;49m\u001B[43m_fit\u001B[49m\u001B[43m(\u001B[49m\u001B[43mX\u001B[49m\u001B[43m,\u001B[49m\u001B[43m \u001B[49m\u001B[43my\u001B[49m\u001B[43m,\u001B[49m\u001B[43m \u001B[49m\u001B[43mcat_features\u001B[49m\u001B[43m,\u001B[49m\u001B[43m \u001B[49m\u001B[43mtext_features\u001B[49m\u001B[43m,\u001B[49m\u001B[43m \u001B[49m\u001B[43membedding_features\u001B[49m\u001B[43m,\u001B[49m\u001B[43m \u001B[49m\u001B[38;5;28;43;01mNone\u001B[39;49;00m\u001B[43m,\u001B[49m\u001B[43m \u001B[49m\u001B[43msample_weight\u001B[49m\u001B[43m,\u001B[49m\u001B[43m \u001B[49m\u001B[38;5;28;43;01mNone\u001B[39;49;00m\u001B[43m,\u001B[49m\u001B[43m \u001B[49m\u001B[38;5;28;43;01mNone\u001B[39;49;00m\u001B[43m,\u001B[49m\u001B[43m \u001B[49m\u001B[38;5;28;43;01mNone\u001B[39;49;00m\u001B[43m,\u001B[49m\u001B[43m \u001B[49m\u001B[38;5;28;43;01mNone\u001B[39;49;00m\u001B[43m,\u001B[49m\u001B[43m \u001B[49m\u001B[43mbaseline\u001B[49m\u001B[43m,\u001B[49m\u001B[43m \u001B[49m\u001B[43muse_best_model\u001B[49m\u001B[43m,\u001B[49m\n\u001B[0;32m   5202\u001B[0m \u001B[43m          \u001B[49m\u001B[43meval_set\u001B[49m\u001B[43m,\u001B[49m\u001B[43m \u001B[49m\u001B[43mverbose\u001B[49m\u001B[43m,\u001B[49m\u001B[43m \u001B[49m\u001B[43mlogging_level\u001B[49m\u001B[43m,\u001B[49m\u001B[43m \u001B[49m\u001B[43mplot\u001B[49m\u001B[43m,\u001B[49m\u001B[43m \u001B[49m\u001B[43mplot_file\u001B[49m\u001B[43m,\u001B[49m\u001B[43m \u001B[49m\u001B[43mcolumn_description\u001B[49m\u001B[43m,\u001B[49m\u001B[43m \u001B[49m\u001B[43mverbose_eval\u001B[49m\u001B[43m,\u001B[49m\u001B[43m \u001B[49m\u001B[43mmetric_period\u001B[49m\u001B[43m,\u001B[49m\n\u001B[0;32m   5203\u001B[0m \u001B[43m          \u001B[49m\u001B[43msilent\u001B[49m\u001B[43m,\u001B[49m\u001B[43m \u001B[49m\u001B[43mearly_stopping_rounds\u001B[49m\u001B[43m,\u001B[49m\u001B[43m \u001B[49m\u001B[43msave_snapshot\u001B[49m\u001B[43m,\u001B[49m\u001B[43m \u001B[49m\u001B[43msnapshot_file\u001B[49m\u001B[43m,\u001B[49m\u001B[43m \u001B[49m\u001B[43msnapshot_interval\u001B[49m\u001B[43m,\u001B[49m\u001B[43m \u001B[49m\u001B[43minit_model\u001B[49m\u001B[43m,\u001B[49m\u001B[43m \u001B[49m\u001B[43mcallbacks\u001B[49m\u001B[43m,\u001B[49m\u001B[43m \u001B[49m\u001B[43mlog_cout\u001B[49m\u001B[43m,\u001B[49m\u001B[43m \u001B[49m\u001B[43mlog_cerr\u001B[49m\u001B[43m)\u001B[49m\n\u001B[0;32m   5204\u001B[0m \u001B[38;5;28;01mreturn\u001B[39;00m \u001B[38;5;28mself\u001B[39m\n",
      "File \u001B[1;32m~\\anaconda3\\envs\\university-projects\\lib\\site-packages\\catboost\\core.py:2396\u001B[0m, in \u001B[0;36mCatBoost._fit\u001B[1;34m(self, X, y, cat_features, text_features, embedding_features, pairs, sample_weight, group_id, group_weight, subgroup_id, pairs_weight, baseline, use_best_model, eval_set, verbose, logging_level, plot, plot_file, column_description, verbose_eval, metric_period, silent, early_stopping_rounds, save_snapshot, snapshot_file, snapshot_interval, init_model, callbacks, log_cout, log_cerr)\u001B[0m\n\u001B[0;32m   2393\u001B[0m allow_clear_pool \u001B[38;5;241m=\u001B[39m train_params[\u001B[38;5;124m\"\u001B[39m\u001B[38;5;124mallow_clear_pool\u001B[39m\u001B[38;5;124m\"\u001B[39m]\n\u001B[0;32m   2395\u001B[0m \u001B[38;5;28;01mwith\u001B[39;00m plot_wrapper(plot, plot_file, \u001B[38;5;124m'\u001B[39m\u001B[38;5;124mTraining plots\u001B[39m\u001B[38;5;124m'\u001B[39m, [_get_train_dir(\u001B[38;5;28mself\u001B[39m\u001B[38;5;241m.\u001B[39mget_params())]):\n\u001B[1;32m-> 2396\u001B[0m     \u001B[38;5;28;43mself\u001B[39;49m\u001B[38;5;241;43m.\u001B[39;49m\u001B[43m_train\u001B[49m\u001B[43m(\u001B[49m\n\u001B[0;32m   2397\u001B[0m \u001B[43m        \u001B[49m\u001B[43mtrain_pool\u001B[49m\u001B[43m,\u001B[49m\n\u001B[0;32m   2398\u001B[0m \u001B[43m        \u001B[49m\u001B[43mtrain_params\u001B[49m\u001B[43m[\u001B[49m\u001B[38;5;124;43m\"\u001B[39;49m\u001B[38;5;124;43meval_sets\u001B[39;49m\u001B[38;5;124;43m\"\u001B[39;49m\u001B[43m]\u001B[49m\u001B[43m,\u001B[49m\n\u001B[0;32m   2399\u001B[0m \u001B[43m        \u001B[49m\u001B[43mparams\u001B[49m\u001B[43m,\u001B[49m\n\u001B[0;32m   2400\u001B[0m \u001B[43m        \u001B[49m\u001B[43mallow_clear_pool\u001B[49m\u001B[43m,\u001B[49m\n\u001B[0;32m   2401\u001B[0m \u001B[43m        \u001B[49m\u001B[43mtrain_params\u001B[49m\u001B[43m[\u001B[49m\u001B[38;5;124;43m\"\u001B[39;49m\u001B[38;5;124;43minit_model\u001B[39;49m\u001B[38;5;124;43m\"\u001B[39;49m\u001B[43m]\u001B[49m\n\u001B[0;32m   2402\u001B[0m \u001B[43m    \u001B[49m\u001B[43m)\u001B[49m\n\u001B[0;32m   2404\u001B[0m \u001B[38;5;66;03m# Have property feature_importance possibly set\u001B[39;00m\n\u001B[0;32m   2405\u001B[0m loss \u001B[38;5;241m=\u001B[39m \u001B[38;5;28mself\u001B[39m\u001B[38;5;241m.\u001B[39m_object\u001B[38;5;241m.\u001B[39m_get_loss_function_name()\n",
      "File \u001B[1;32m~\\anaconda3\\envs\\university-projects\\lib\\site-packages\\catboost\\core.py:1776\u001B[0m, in \u001B[0;36m_CatBoostBase._train\u001B[1;34m(self, train_pool, test_pool, params, allow_clear_pool, init_model)\u001B[0m\n\u001B[0;32m   1775\u001B[0m \u001B[38;5;28;01mdef\u001B[39;00m \u001B[38;5;21m_train\u001B[39m(\u001B[38;5;28mself\u001B[39m, train_pool, test_pool, params, allow_clear_pool, init_model):\n\u001B[1;32m-> 1776\u001B[0m     \u001B[38;5;28;43mself\u001B[39;49m\u001B[38;5;241;43m.\u001B[39;49m\u001B[43m_object\u001B[49m\u001B[38;5;241;43m.\u001B[39;49m\u001B[43m_train\u001B[49m\u001B[43m(\u001B[49m\u001B[43mtrain_pool\u001B[49m\u001B[43m,\u001B[49m\u001B[43m \u001B[49m\u001B[43mtest_pool\u001B[49m\u001B[43m,\u001B[49m\u001B[43m \u001B[49m\u001B[43mparams\u001B[49m\u001B[43m,\u001B[49m\u001B[43m \u001B[49m\u001B[43mallow_clear_pool\u001B[49m\u001B[43m,\u001B[49m\u001B[43m \u001B[49m\u001B[43minit_model\u001B[49m\u001B[38;5;241;43m.\u001B[39;49m\u001B[43m_object\u001B[49m\u001B[43m \u001B[49m\u001B[38;5;28;43;01mif\u001B[39;49;00m\u001B[43m \u001B[49m\u001B[43minit_model\u001B[49m\u001B[43m \u001B[49m\u001B[38;5;28;43;01melse\u001B[39;49;00m\u001B[43m \u001B[49m\u001B[38;5;28;43;01mNone\u001B[39;49;00m\u001B[43m)\u001B[49m\n\u001B[0;32m   1777\u001B[0m     \u001B[38;5;28mself\u001B[39m\u001B[38;5;241m.\u001B[39m_set_trained_model_attributes()\n",
      "File \u001B[1;32m_catboost.pyx:4833\u001B[0m, in \u001B[0;36m_catboost._CatBoost._train\u001B[1;34m()\u001B[0m\n",
      "File \u001B[1;32m_catboost.pyx:4882\u001B[0m, in \u001B[0;36m_catboost._CatBoost._train\u001B[1;34m()\u001B[0m\n",
      "\u001B[1;31mKeyboardInterrupt\u001B[0m: "
     ]
    }
   ],
   "source": [
    "from catboost import CatBoostClassifier\n",
    "import optuna\n",
    "\n",
    "def objective(trial):\n",
    "    param = {\n",
    "    'verbose':0,\n",
    "    'thread_count':-1,\n",
    "    'cat_features':[\"Гормональная активность 0-нет               1-да\"],\n",
    "    'loss_function': \"Logloss\",\n",
    "    'iterations': trial.suggest_int('iterations', 10, 100),\n",
    "    'learning_rate': trial.suggest_float('learning_rate', 0.001, 0.1, log=True),\n",
    "    'depth': trial.suggest_int('depth', 3, 10),\n",
    "    'l2_leaf_reg': trial.suggest_int('l2_leaf_reg', 1, 10),\n",
    "    'boosting_type': trial.suggest_categorical('boosting_type', ['Ordered', 'Plain']),\n",
    "    'max_ctr_complexity': trial.suggest_int('max_ctr_complexity', 0, 8)\n",
    "    }\n",
    "\n",
    "    model = CatBoostClassifier(**param, task_type='GPU', random_state=42)\n",
    "    model.fit(X_train, y_train)\n",
    "    score = model.score(X_test, y_test)\n",
    "    return score\n",
    "\n",
    "study = optuna.create_study(direction='maximize')\n",
    "study.optimize(objective, n_trials=100)"
   ]
  },
  {
   "cell_type": "code",
   "execution_count": 55,
   "metadata": {
    "collapsed": false,
    "jupyter": {
     "outputs_hidden": false
    }
   },
   "outputs": [],
   "source": [
    "model = CatBoostClassifier(**study.best_params, random_state=63)"
   ]
  },
  {
   "cell_type": "code",
   "execution_count": 58,
   "outputs": [],
   "source": [
    "from sklearn.model_selection import cross_validate\n",
    "from sklearn.model_selection import StratifiedKFold\n",
    "\n",
    "skf = StratifiedKFold(shuffle=True, n_splits=10, random_state=42)\n",
    "\n",
    "cv = cross_validate(model, X, y, n_jobs=-1,\n",
    "                    scoring=[\"accuracy\",\n",
    "                             \"f1\",\n",
    "                             \"precision\",\n",
    "                             \"recall\"],\n",
    "                    cv=skf,\n",
    "                    return_estimator=True)"
   ],
   "metadata": {
    "collapsed": false
   }
  },
  {
   "cell_type": "code",
   "execution_count": 60,
   "outputs": [
    {
     "data": {
      "text/plain": "0.9143382352941177"
     },
     "execution_count": 60,
     "metadata": {},
     "output_type": "execute_result"
    }
   ],
   "source": [
    "cv[\"test_accuracy\"].mean()"
   ],
   "metadata": {
    "collapsed": false
   }
  },
  {
   "cell_type": "code",
   "execution_count": 61,
   "outputs": [
    {
     "name": "stdout",
     "output_type": "stream",
     "text": [
      " accuracy 1.0 \n",
      " f1 1.0 \n",
      " recall 1.0 \n",
      " precision 1.0 \n",
      "\n",
      "---------------------------------------------\n",
      " accuracy 0.8823529411764706 \n",
      " f1 0.875 \n",
      " recall 0.875 \n",
      " precision 0.875 \n",
      "\n",
      "---------------------------------------------\n",
      " accuracy 0.8823529411764706 \n",
      " f1 0.8571428571428571 \n",
      " recall 0.75 \n",
      " precision 1.0 \n",
      "\n",
      "---------------------------------------------\n",
      " accuracy 0.9411764705882353 \n",
      " f1 0.9333333333333333 \n",
      " recall 0.875 \n",
      " precision 1.0 \n",
      "\n",
      "---------------------------------------------\n",
      " accuracy 0.875 \n",
      " f1 0.875 \n",
      " recall 0.875 \n",
      " precision 0.875 \n",
      "\n",
      "---------------------------------------------\n"
     ]
    }
   ],
   "source": [
    "for i in range(5):\n",
    "    print(\n",
    "        \" accuracy\", cv[\"test_accuracy\"][i], \"\\n\",\n",
    "        \"f1\", cv[\"test_f1\"][i], \"\\n\",\n",
    "        \"recall\", cv[\"test_recall\"][i], \"\\n\",\n",
    "        \"precision\", cv[\"test_precision\"][i], \"\\n\"\n",
    "    )\n",
    "    print(\"---------------------------------------------\")"
   ],
   "metadata": {
    "collapsed": false
   }
  },
  {
   "cell_type": "code",
   "execution_count": 62,
   "metadata": {
    "collapsed": true,
    "jupyter": {
     "outputs_hidden": true,
     "source_hidden": true
    },
    "scrolled": true
   },
   "outputs": [
    {
     "ename": "CatBoostError",
     "evalue": "Model has no meta information needed to calculate feature importances.                             Pass training dataset to this function.",
     "output_type": "error",
     "traceback": [
      "\u001B[1;31m---------------------------------------------------------------------------\u001B[0m",
      "\u001B[1;31mCatBoostError\u001B[0m                             Traceback (most recent call last)",
      "Cell \u001B[1;32mIn[62], line 1\u001B[0m\n\u001B[1;32m----> 1\u001B[0m feature_importances \u001B[38;5;241m=\u001B[39m \u001B[43mmodel\u001B[49m\u001B[38;5;241;43m.\u001B[39;49m\u001B[43mget_feature_importance\u001B[49m\u001B[43m(\u001B[49m\u001B[43m)\u001B[49m\n\u001B[0;32m      2\u001B[0m feature_names \u001B[38;5;241m=\u001B[39m X\u001B[38;5;241m.\u001B[39mcolumns\n\u001B[0;32m      4\u001B[0m importance_df \u001B[38;5;241m=\u001B[39m pd\u001B[38;5;241m.\u001B[39mDataFrame({\n\u001B[0;32m      5\u001B[0m     \u001B[38;5;124m'\u001B[39m\u001B[38;5;124mFeature\u001B[39m\u001B[38;5;124m'\u001B[39m: feature_names,\n\u001B[0;32m      6\u001B[0m     \u001B[38;5;124m'\u001B[39m\u001B[38;5;124mImportance\u001B[39m\u001B[38;5;124m'\u001B[39m: feature_importances\n\u001B[0;32m      7\u001B[0m })\u001B[38;5;241m.\u001B[39msort_values(by\u001B[38;5;241m=\u001B[39m\u001B[38;5;124m'\u001B[39m\u001B[38;5;124mImportance\u001B[39m\u001B[38;5;124m'\u001B[39m, ascending\u001B[38;5;241m=\u001B[39m\u001B[38;5;28;01mFalse\u001B[39;00m)\n",
      "File \u001B[1;32m~\\anaconda3\\envs\\university-projects\\lib\\site-packages\\catboost\\core.py:3210\u001B[0m, in \u001B[0;36mCatBoost.get_feature_importance\u001B[1;34m(self, data, type, prettified, thread_count, verbose, fstr_type, shap_mode, model_output, interaction_indices, shap_calc_type, reference_data, sage_n_samples, sage_batch_size, sage_detect_convergence, log_cout, log_cerr)\u001B[0m\n\u001B[0;32m   3208\u001B[0m \u001B[38;5;28;01mif\u001B[39;00m data \u001B[38;5;129;01mis\u001B[39;00m \u001B[38;5;28;01mNone\u001B[39;00m:\n\u001B[0;32m   3209\u001B[0m     \u001B[38;5;28;01mif\u001B[39;00m need_meta_info:\n\u001B[1;32m-> 3210\u001B[0m         \u001B[38;5;28;01mraise\u001B[39;00m CatBoostError(\n\u001B[0;32m   3211\u001B[0m             \u001B[38;5;124m\"\u001B[39m\u001B[38;5;124mModel has no meta information needed to calculate feature importances. \u001B[39m\u001B[38;5;130;01m\\\u001B[39;00m\n\u001B[0;32m   3212\u001B[0m \u001B[38;5;124m            Pass training dataset to this function.\u001B[39m\u001B[38;5;124m\"\u001B[39m)\n\u001B[0;32m   3213\u001B[0m     \u001B[38;5;28;01melse\u001B[39;00m:\n\u001B[0;32m   3214\u001B[0m         \u001B[38;5;28;01mraise\u001B[39;00m CatBoostError(\n\u001B[0;32m   3215\u001B[0m             \u001B[38;5;124m\"\u001B[39m\u001B[38;5;124mFeature importance type \u001B[39m\u001B[38;5;132;01m{}\u001B[39;00m\u001B[38;5;124m requires training dataset \u001B[39m\u001B[38;5;130;01m\\\u001B[39;00m\n\u001B[0;32m   3216\u001B[0m \u001B[38;5;124m            to be passed to this function.\u001B[39m\u001B[38;5;124m\"\u001B[39m\u001B[38;5;241m.\u001B[39mformat(\u001B[38;5;28mtype\u001B[39m))\n",
      "\u001B[1;31mCatBoostError\u001B[0m: Model has no meta information needed to calculate feature importances.                             Pass training dataset to this function."
     ]
    }
   ],
   "source": [
    "feature_importances = model.get_feature_importance()\n",
    "feature_names = X.columns\n",
    "\n",
    "importance_df = pd.DataFrame({\n",
    "    'Feature': feature_names,\n",
    "    'Importance': feature_importances\n",
    "}).sort_values(by='Importance', ascending=False)\n",
    "\n",
    "importance_df"
   ]
  }
 ],
 "metadata": {
  "kernelspec": {
   "display_name": "Python 3 (ipykernel)",
   "language": "python",
   "name": "python3"
  },
  "language_info": {
   "codemirror_mode": {
    "name": "ipython",
    "version": 3
   },
   "file_extension": ".py",
   "mimetype": "text/x-python",
   "name": "python",
   "nbconvert_exporter": "python",
   "pygments_lexer": "ipython3",
   "version": "3.10.16"
  }
 },
 "nbformat": 4,
 "nbformat_minor": 4
}
