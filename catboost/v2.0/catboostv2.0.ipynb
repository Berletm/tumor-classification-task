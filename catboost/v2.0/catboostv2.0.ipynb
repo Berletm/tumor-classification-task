{
 "cells": [
  {
   "cell_type": "code",
   "execution_count": 3,
   "metadata": {},
   "outputs": [],
   "source": [
    "import pandas as pd\n",
    "import numpy as np"
   ]
  },
  {
   "cell_type": "code",
   "execution_count": 4,
   "metadata": {
    "collapsed": false,
    "jupyter": {
     "outputs_hidden": false
    }
   },
   "outputs": [],
   "source": [
    "data = pd.read_excel(\"tumor-data-without-healthy.xlsx\")"
   ]
  },
  {
   "cell_type": "code",
   "execution_count": 5,
   "metadata": {
    "collapsed": false,
    "jupyter": {
     "outputs_hidden": false
    }
   },
   "outputs": [],
   "source": [
    "labels = [value for column, value in data.iloc[0].items()]\n",
    "data = data.set_axis(labels, axis=1)\n",
    "data = data[data.columns[1:]].apply(\n",
    "    lambda x: pd.to_numeric(x.replace('<', '').replace(',', '.'), errors='coerce')\n",
    ")\n",
    "data.drop(index=0, inplace=True)\n",
    "data[\"Гормональная активность 0-нет               1-да\"] = data[\"Гормональная активность 0-нет               1-да\"].astype(str)\n",
    "data[\"Гормональная активность 0-нет               1-да\"] = data[\"Гормональная активность 0-нет               1-да\"].fillna(\"missing\")"
   ]
  },
  {
   "cell_type": "code",
   "execution_count": 6,
   "metadata": {
    "collapsed": false,
    "jupyter": {
     "outputs_hidden": false
    }
   },
   "outputs": [],
   "source": [
    "\"\"\" dropping some columns \"\"\"\n",
    "\n",
    "data.dropna(axis=1, how=\"all\", inplace=True)\n",
    "data.dropna(axis=0, thresh=int(data.shape[1]*0.6), inplace=True)\n",
    "data.dropna(axis=1, thresh=int(data.shape[0]*0.6), inplace=True)\n",
    "data.drop([\"Пол:    0-жен, 1-муж\"], inplace=True, axis=1)"
   ]
  },
  {
   "cell_type": "code",
   "execution_count": 7,
   "metadata": {
    "collapsed": false,
    "jupyter": {
     "outputs_hidden": false
    }
   },
   "outputs": [],
   "source": [
    "X = data.drop(columns=[\"КАН\", \"АКР\"])\n",
    "y = np.argmax(data[[\"КАН\", \"АКР\"]], axis=1)"
   ]
  },
  {
   "cell_type": "code",
   "execution_count": 8,
   "metadata": {
    "collapsed": false,
    "jupyter": {
     "outputs_hidden": false
    }
   },
   "outputs": [],
   "source": [
    "from sklearn.model_selection import train_test_split\n",
    "\n",
    "X_train, X_test, y_train, y_test = train_test_split(X, y, train_size=0.9, random_state=314, shuffle=True, stratify=True)"
   ]
  },
  {
   "cell_type": "code",
   "execution_count": 9,
   "metadata": {
    "collapsed": false,
    "jupyter": {
     "outputs_hidden": false
    }
   },
   "outputs": [
    {
     "name": "stderr",
     "output_type": "stream",
     "text": [
      "[I 2024-12-22 14:02:40,756] A new study created in memory with name: no-name-2ca072f9-f0a0-44e5-8c6f-58d1fbf2e5b8\n",
      "[I 2024-12-22 14:02:42,145] Trial 0 finished with value: 1.0 and parameters: {'iterations': 67, 'learning_rate': 0.010160552336636488, 'depth': 4, 'l2_leaf_reg': 2, 'boosting_type': 'Plain'}. Best is trial 0 with value: 1.0.\n",
      "[I 2024-12-22 14:02:48,536] Trial 1 finished with value: 0.9090909090909091 and parameters: {'iterations': 90, 'learning_rate': 0.004453115456053704, 'depth': 10, 'l2_leaf_reg': 9, 'boosting_type': 'Ordered'}. Best is trial 0 with value: 1.0.\n",
      "[I 2024-12-22 14:02:52,552] Trial 2 finished with value: 1.0 and parameters: {'iterations': 91, 'learning_rate': 0.004384164385033835, 'depth': 9, 'l2_leaf_reg': 3, 'boosting_type': 'Ordered'}. Best is trial 0 with value: 1.0.\n",
      "[I 2024-12-22 14:02:56,378] Trial 3 finished with value: 1.0 and parameters: {'iterations': 98, 'learning_rate': 0.01595076638051762, 'depth': 8, 'l2_leaf_reg': 1, 'boosting_type': 'Ordered'}. Best is trial 0 with value: 1.0.\n",
      "[I 2024-12-22 14:02:57,463] Trial 4 finished with value: 1.0 and parameters: {'iterations': 60, 'learning_rate': 0.09067797256445365, 'depth': 3, 'l2_leaf_reg': 6, 'boosting_type': 'Ordered'}. Best is trial 0 with value: 1.0.\n",
      "[I 2024-12-22 14:02:59,063] Trial 5 finished with value: 0.9090909090909091 and parameters: {'iterations': 98, 'learning_rate': 0.06928128029079074, 'depth': 8, 'l2_leaf_reg': 10, 'boosting_type': 'Plain'}. Best is trial 0 with value: 1.0.\n",
      "[I 2024-12-22 14:03:02,645] Trial 6 finished with value: 1.0 and parameters: {'iterations': 67, 'learning_rate': 0.01102429992946743, 'depth': 9, 'l2_leaf_reg': 1, 'boosting_type': 'Ordered'}. Best is trial 0 with value: 1.0.\n",
      "[I 2024-12-22 14:03:15,044] Trial 7 finished with value: 1.0 and parameters: {'iterations': 100, 'learning_rate': 0.07245797518773243, 'depth': 10, 'l2_leaf_reg': 8, 'boosting_type': 'Ordered'}. Best is trial 0 with value: 1.0.\n",
      "[I 2024-12-22 14:03:15,632] Trial 8 finished with value: 1.0 and parameters: {'iterations': 20, 'learning_rate': 0.005071990697273569, 'depth': 9, 'l2_leaf_reg': 6, 'boosting_type': 'Plain'}. Best is trial 0 with value: 1.0.\n",
      "[I 2024-12-22 14:03:15,951] Trial 9 finished with value: 0.9090909090909091 and parameters: {'iterations': 23, 'learning_rate': 0.012020670528247918, 'depth': 6, 'l2_leaf_reg': 10, 'boosting_type': 'Plain'}. Best is trial 0 with value: 1.0.\n",
      "[I 2024-12-22 14:03:16,332] Trial 10 finished with value: 0.9090909090909091 and parameters: {'iterations': 39, 'learning_rate': 0.0010945818329131803, 'depth': 3, 'l2_leaf_reg': 4, 'boosting_type': 'Plain'}. Best is trial 0 with value: 1.0.\n",
      "[I 2024-12-22 14:03:17,045] Trial 11 finished with value: 1.0 and parameters: {'iterations': 80, 'learning_rate': 0.0026157304233372643, 'depth': 5, 'l2_leaf_reg': 3, 'boosting_type': 'Plain'}. Best is trial 0 with value: 1.0.\n",
      "[I 2024-12-22 14:03:17,715] Trial 12 finished with value: 1.0 and parameters: {'iterations': 73, 'learning_rate': 0.02649192951790215, 'depth': 5, 'l2_leaf_reg': 3, 'boosting_type': 'Plain'}. Best is trial 0 with value: 1.0.\n",
      "[I 2024-12-22 14:03:18,997] Trial 13 finished with value: 0.9090909090909091 and parameters: {'iterations': 42, 'learning_rate': 0.0047592113602403134, 'depth': 7, 'l2_leaf_reg': 4, 'boosting_type': 'Ordered'}. Best is trial 0 with value: 1.0.\n",
      "[I 2024-12-22 14:03:20,596] Trial 14 finished with value: 1.0 and parameters: {'iterations': 83, 'learning_rate': 0.02890618499879328, 'depth': 4, 'l2_leaf_reg': 2, 'boosting_type': 'Ordered'}. Best is trial 0 with value: 1.0.\n",
      "[I 2024-12-22 14:03:21,181] Trial 15 finished with value: 1.0 and parameters: {'iterations': 55, 'learning_rate': 0.0019546248775025323, 'depth': 6, 'l2_leaf_reg': 5, 'boosting_type': 'Plain'}. Best is trial 0 with value: 1.0.\n",
      "[I 2024-12-22 14:03:22,657] Trial 16 finished with value: 1.0 and parameters: {'iterations': 51, 'learning_rate': 0.0071127961427176, 'depth': 7, 'l2_leaf_reg': 2, 'boosting_type': 'Ordered'}. Best is trial 0 with value: 1.0.\n",
      "[I 2024-12-22 14:03:23,278] Trial 17 finished with value: 1.0 and parameters: {'iterations': 70, 'learning_rate': 0.0026136772688492766, 'depth': 4, 'l2_leaf_reg': 3, 'boosting_type': 'Plain'}. Best is trial 0 with value: 1.0.\n",
      "[I 2024-12-22 14:03:25,008] Trial 18 finished with value: 0.9090909090909091 and parameters: {'iterations': 87, 'learning_rate': 0.021810469298046493, 'depth': 5, 'l2_leaf_reg': 7, 'boosting_type': 'Ordered'}. Best is trial 0 with value: 1.0.\n",
      "[I 2024-12-22 14:03:25,319] Trial 19 finished with value: 0.9090909090909091 and parameters: {'iterations': 11, 'learning_rate': 0.04073876413434487, 'depth': 8, 'l2_leaf_reg': 4, 'boosting_type': 'Plain'}. Best is trial 0 with value: 1.0.\n",
      "[I 2024-12-22 14:03:25,945] Trial 20 finished with value: 1.0 and parameters: {'iterations': 77, 'learning_rate': 0.006820315781157531, 'depth': 4, 'l2_leaf_reg': 2, 'boosting_type': 'Plain'}. Best is trial 0 with value: 1.0.\n",
      "[I 2024-12-22 14:03:29,650] Trial 21 finished with value: 0.9090909090909091 and parameters: {'iterations': 93, 'learning_rate': 0.01602946228216342, 'depth': 8, 'l2_leaf_reg': 1, 'boosting_type': 'Ordered'}. Best is trial 0 with value: 1.0.\n",
      "[I 2024-12-22 14:03:34,532] Trial 22 finished with value: 1.0 and parameters: {'iterations': 92, 'learning_rate': 0.00838248864881373, 'depth': 9, 'l2_leaf_reg': 1, 'boosting_type': 'Ordered'}. Best is trial 0 with value: 1.0.\n",
      "[I 2024-12-22 14:03:36,300] Trial 23 finished with value: 1.0 and parameters: {'iterations': 61, 'learning_rate': 0.012198300227920535, 'depth': 7, 'l2_leaf_reg': 2, 'boosting_type': 'Ordered'}. Best is trial 0 with value: 1.0.\n",
      "[I 2024-12-22 14:03:39,654] Trial 24 finished with value: 0.9090909090909091 and parameters: {'iterations': 84, 'learning_rate': 0.017059593574583514, 'depth': 8, 'l2_leaf_reg': 1, 'boosting_type': 'Ordered'}. Best is trial 0 with value: 1.0.\n",
      "[I 2024-12-22 14:03:44,414] Trial 25 finished with value: 1.0 and parameters: {'iterations': 97, 'learning_rate': 0.003391556262722023, 'depth': 9, 'l2_leaf_reg': 3, 'boosting_type': 'Ordered'}. Best is trial 0 with value: 1.0.\n",
      "[I 2024-12-22 14:03:49,318] Trial 26 finished with value: 0.9090909090909091 and parameters: {'iterations': 78, 'learning_rate': 0.0013820027499161414, 'depth': 10, 'l2_leaf_reg': 2, 'boosting_type': 'Ordered'}. Best is trial 0 with value: 1.0.\n",
      "[I 2024-12-22 14:03:50,784] Trial 27 finished with value: 1.0 and parameters: {'iterations': 66, 'learning_rate': 0.04629447983215321, 'depth': 6, 'l2_leaf_reg': 5, 'boosting_type': 'Ordered'}. Best is trial 0 with value: 1.0.\n",
      "[I 2024-12-22 14:03:51,646] Trial 28 finished with value: 1.0 and parameters: {'iterations': 50, 'learning_rate': 0.015626550717860718, 'depth': 8, 'l2_leaf_reg': 1, 'boosting_type': 'Plain'}. Best is trial 0 with value: 1.0.\n",
      "[I 2024-12-22 14:03:55,970] Trial 29 finished with value: 0.9090909090909091 and parameters: {'iterations': 89, 'learning_rate': 0.0064128252964441995, 'depth': 10, 'l2_leaf_reg': 4, 'boosting_type': 'Ordered'}. Best is trial 0 with value: 1.0.\n",
      "[I 2024-12-22 14:03:58,487] Trial 30 finished with value: 1.0 and parameters: {'iterations': 94, 'learning_rate': 0.0038918302837194674, 'depth': 7, 'l2_leaf_reg': 3, 'boosting_type': 'Ordered'}. Best is trial 0 with value: 1.0.\n",
      "[I 2024-12-22 14:03:59,606] Trial 31 finished with value: 1.0 and parameters: {'iterations': 61, 'learning_rate': 0.04398525922876404, 'depth': 3, 'l2_leaf_reg': 6, 'boosting_type': 'Ordered'}. Best is trial 0 with value: 1.0.\n",
      "[I 2024-12-22 14:04:00,348] Trial 32 finished with value: 0.9090909090909091 and parameters: {'iterations': 36, 'learning_rate': 0.009572947716756973, 'depth': 3, 'l2_leaf_reg': 6, 'boosting_type': 'Ordered'}. Best is trial 0 with value: 1.0.\n",
      "[I 2024-12-22 14:04:01,606] Trial 33 finished with value: 1.0 and parameters: {'iterations': 64, 'learning_rate': 0.08153572905556657, 'depth': 4, 'l2_leaf_reg': 8, 'boosting_type': 'Ordered'}. Best is trial 0 with value: 1.0.\n",
      "[I 2024-12-22 14:04:03,393] Trial 34 finished with value: 1.0 and parameters: {'iterations': 100, 'learning_rate': 0.06031395356941246, 'depth': 3, 'l2_leaf_reg': 7, 'boosting_type': 'Ordered'}. Best is trial 0 with value: 1.0.\n",
      "[I 2024-12-22 14:04:04,803] Trial 35 finished with value: 1.0 and parameters: {'iterations': 73, 'learning_rate': 0.09894179396457503, 'depth': 4, 'l2_leaf_reg': 5, 'boosting_type': 'Ordered'}. Best is trial 0 with value: 1.0.\n",
      "[I 2024-12-22 14:04:05,902] Trial 36 finished with value: 1.0 and parameters: {'iterations': 47, 'learning_rate': 0.005674693405541136, 'depth': 9, 'l2_leaf_reg': 7, 'boosting_type': 'Plain'}. Best is trial 0 with value: 1.0.\n",
      "[I 2024-12-22 14:04:11,122] Trial 37 finished with value: 1.0 and parameters: {'iterations': 57, 'learning_rate': 0.02892770070298596, 'depth': 10, 'l2_leaf_reg': 1, 'boosting_type': 'Ordered'}. Best is trial 0 with value: 1.0.\n",
      "[I 2024-12-22 14:04:11,875] Trial 38 finished with value: 1.0 and parameters: {'iterations': 31, 'learning_rate': 0.003204681151729597, 'depth': 9, 'l2_leaf_reg': 9, 'boosting_type': 'Plain'}. Best is trial 0 with value: 1.0.\n",
      "[I 2024-12-22 14:04:13,368] Trial 39 finished with value: 1.0 and parameters: {'iterations': 86, 'learning_rate': 0.01116639452657978, 'depth': 3, 'l2_leaf_reg': 2, 'boosting_type': 'Ordered'}. Best is trial 0 with value: 1.0.\n",
      "[I 2024-12-22 14:04:14,054] Trial 40 finished with value: 1.0 and parameters: {'iterations': 74, 'learning_rate': 0.021365189886792202, 'depth': 5, 'l2_leaf_reg': 4, 'boosting_type': 'Plain'}. Best is trial 0 with value: 1.0.\n",
      "[I 2024-12-22 14:04:17,324] Trial 41 finished with value: 1.0 and parameters: {'iterations': 70, 'learning_rate': 0.008511871994980488, 'depth': 9, 'l2_leaf_reg': 1, 'boosting_type': 'Ordered'}. Best is trial 0 with value: 1.0.\n",
      "[I 2024-12-22 14:04:20,762] Trial 42 finished with value: 1.0 and parameters: {'iterations': 67, 'learning_rate': 0.013264077725045587, 'depth': 9, 'l2_leaf_reg': 2, 'boosting_type': 'Ordered'}. Best is trial 0 with value: 1.0.\n",
      "[I 2024-12-22 14:04:24,073] Trial 43 finished with value: 0.9090909090909091 and parameters: {'iterations': 58, 'learning_rate': 0.0047234139076994235, 'depth': 10, 'l2_leaf_reg': 3, 'boosting_type': 'Ordered'}. Best is trial 0 with value: 1.0.\n",
      "[I 2024-12-22 14:04:28,588] Trial 44 finished with value: 0.9090909090909091 and parameters: {'iterations': 82, 'learning_rate': 0.035072684238823246, 'depth': 8, 'l2_leaf_reg': 1, 'boosting_type': 'Ordered'}. Best is trial 0 with value: 1.0.\n",
      "[I 2024-12-22 14:04:30,416] Trial 45 finished with value: 1.0 and parameters: {'iterations': 96, 'learning_rate': 0.001796340600108443, 'depth': 8, 'l2_leaf_reg': 2, 'boosting_type': 'Plain'}. Best is trial 0 with value: 1.0.\n",
      "[I 2024-12-22 14:04:31,483] Trial 46 finished with value: 1.0 and parameters: {'iterations': 46, 'learning_rate': 0.02016295559392904, 'depth': 6, 'l2_leaf_reg': 3, 'boosting_type': 'Ordered'}. Best is trial 0 with value: 1.0.\n",
      "[I 2024-12-22 14:04:32,256] Trial 47 finished with value: 1.0 and parameters: {'iterations': 90, 'learning_rate': 0.009661113880086392, 'depth': 5, 'l2_leaf_reg': 1, 'boosting_type': 'Plain'}. Best is trial 0 with value: 1.0.\n",
      "[I 2024-12-22 14:04:34,904] Trial 48 finished with value: 1.0 and parameters: {'iterations': 52, 'learning_rate': 0.0077943757383005605, 'depth': 9, 'l2_leaf_reg': 2, 'boosting_type': 'Ordered'}. Best is trial 0 with value: 1.0.\n",
      "[I 2024-12-22 14:04:37,106] Trial 49 finished with value: 0.9090909090909091 and parameters: {'iterations': 79, 'learning_rate': 0.005982757172061855, 'depth': 7, 'l2_leaf_reg': 4, 'boosting_type': 'Ordered'}. Best is trial 0 with value: 1.0.\n",
      "[I 2024-12-22 14:04:37,643] Trial 50 finished with value: 1.0 and parameters: {'iterations': 62, 'learning_rate': 0.013738335952348383, 'depth': 4, 'l2_leaf_reg': 8, 'boosting_type': 'Plain'}. Best is trial 0 with value: 1.0.\n",
      "[I 2024-12-22 14:04:49,006] Trial 51 finished with value: 1.0 and parameters: {'iterations': 100, 'learning_rate': 0.06127969971164222, 'depth': 10, 'l2_leaf_reg': 9, 'boosting_type': 'Ordered'}. Best is trial 0 with value: 1.0.\n",
      "[I 2024-12-22 14:04:56,548] Trial 52 finished with value: 1.0 and parameters: {'iterations': 95, 'learning_rate': 0.09306338096293762, 'depth': 9, 'l2_leaf_reg': 10, 'boosting_type': 'Ordered'}. Best is trial 0 with value: 1.0.\n",
      "[I 2024-12-22 14:05:06,292] Trial 53 finished with value: 1.0 and parameters: {'iterations': 88, 'learning_rate': 0.058481063007376266, 'depth': 10, 'l2_leaf_reg': 8, 'boosting_type': 'Ordered'}. Best is trial 0 with value: 1.0.\n",
      "[I 2024-12-22 14:05:09,960] Trial 54 finished with value: 1.0 and parameters: {'iterations': 69, 'learning_rate': 0.07629668343980965, 'depth': 8, 'l2_leaf_reg': 7, 'boosting_type': 'Ordered'}. Best is trial 0 with value: 1.0.\n",
      "[I 2024-12-22 14:05:14,048] Trial 55 finished with value: 0.9090909090909091 and parameters: {'iterations': 74, 'learning_rate': 0.010781277679645027, 'depth': 10, 'l2_leaf_reg': 6, 'boosting_type': 'Ordered'}. Best is trial 0 with value: 1.0.\n",
      "[I 2024-12-22 14:05:16,263] Trial 56 finished with value: 1.0 and parameters: {'iterations': 92, 'learning_rate': 0.025643686834580497, 'depth': 9, 'l2_leaf_reg': 5, 'boosting_type': 'Plain'}. Best is trial 0 with value: 1.0.\n",
      "[I 2024-12-22 14:05:17,807] Trial 57 finished with value: 0.9090909090909091 and parameters: {'iterations': 84, 'learning_rate': 0.049670438698938384, 'depth': 3, 'l2_leaf_reg': 1, 'boosting_type': 'Ordered'}. Best is trial 0 with value: 1.0.\n",
      "[I 2024-12-22 14:05:24,023] Trial 58 finished with value: 1.0 and parameters: {'iterations': 98, 'learning_rate': 0.034278418215964404, 'depth': 9, 'l2_leaf_reg': 2, 'boosting_type': 'Ordered'}. Best is trial 0 with value: 1.0.\n",
      "[I 2024-12-22 14:05:27,769] Trial 59 finished with value: 0.9090909090909091 and parameters: {'iterations': 55, 'learning_rate': 0.002482762105130166, 'depth': 10, 'l2_leaf_reg': 10, 'boosting_type': 'Ordered'}. Best is trial 0 with value: 1.0.\n",
      "[I 2024-12-22 14:05:28,950] Trial 60 finished with value: 1.0 and parameters: {'iterations': 76, 'learning_rate': 0.0010341077700673233, 'depth': 8, 'l2_leaf_reg': 3, 'boosting_type': 'Plain'}. Best is trial 0 with value: 1.0.\n",
      "[I 2024-12-22 14:05:29,470] Trial 61 finished with value: 1.0 and parameters: {'iterations': 18, 'learning_rate': 0.003974627948208379, 'depth': 9, 'l2_leaf_reg': 6, 'boosting_type': 'Plain'}. Best is trial 0 with value: 1.0.\n",
      "[I 2024-12-22 14:05:29,903] Trial 62 finished with value: 1.0 and parameters: {'iterations': 20, 'learning_rate': 0.004877532389892969, 'depth': 8, 'l2_leaf_reg': 5, 'boosting_type': 'Plain'}. Best is trial 0 with value: 1.0.\n",
      "[I 2024-12-22 14:05:30,291] Trial 63 finished with value: 1.0 and parameters: {'iterations': 10, 'learning_rate': 0.005506664470715773, 'depth': 9, 'l2_leaf_reg': 7, 'boosting_type': 'Plain'}. Best is trial 0 with value: 1.0.\n",
      "[I 2024-12-22 14:05:30,760] Trial 64 finished with value: 0.9090909090909091 and parameters: {'iterations': 30, 'learning_rate': 0.006971201687516359, 'depth': 7, 'l2_leaf_reg': 8, 'boosting_type': 'Plain'}. Best is trial 0 with value: 1.0.\n",
      "[I 2024-12-22 14:05:33,082] Trial 65 finished with value: 0.9090909090909091 and parameters: {'iterations': 40, 'learning_rate': 0.003185473732419803, 'depth': 10, 'l2_leaf_reg': 6, 'boosting_type': 'Ordered'}. Best is trial 0 with value: 1.0.\n",
      "[I 2024-12-22 14:05:33,645] Trial 66 finished with value: 1.0 and parameters: {'iterations': 65, 'learning_rate': 0.00836558383255924, 'depth': 4, 'l2_leaf_reg': 1, 'boosting_type': 'Plain'}. Best is trial 0 with value: 1.0.\n",
      "[I 2024-12-22 14:05:35,241] Trial 67 finished with value: 1.0 and parameters: {'iterations': 91, 'learning_rate': 0.013697959740226678, 'depth': 3, 'l2_leaf_reg': 4, 'boosting_type': 'Ordered'}. Best is trial 0 with value: 1.0.\n",
      "[I 2024-12-22 14:05:36,727] Trial 68 finished with value: 1.0 and parameters: {'iterations': 59, 'learning_rate': 0.01826567499630965, 'depth': 6, 'l2_leaf_reg': 2, 'boosting_type': 'Ordered'}. Best is trial 0 with value: 1.0.\n",
      "[I 2024-12-22 14:05:39,180] Trial 69 finished with value: 0.9090909090909091 and parameters: {'iterations': 54, 'learning_rate': 0.06895213285940979, 'depth': 9, 'l2_leaf_reg': 1, 'boosting_type': 'Plain'}. Best is trial 0 with value: 1.0.\n",
      "[I 2024-12-22 14:05:43,766] Trial 70 finished with value: 0.9090909090909091 and parameters: {'iterations': 95, 'learning_rate': 0.0020753808598043756, 'depth': 8, 'l2_leaf_reg': 6, 'boosting_type': 'Ordered'}. Best is trial 0 with value: 1.0.\n",
      "[I 2024-12-22 14:05:44,600] Trial 71 finished with value: 1.0 and parameters: {'iterations': 100, 'learning_rate': 0.0028476410784795967, 'depth': 5, 'l2_leaf_reg': 2, 'boosting_type': 'Plain'}. Best is trial 0 with value: 1.0.\n",
      "[I 2024-12-22 14:05:45,308] Trial 72 finished with value: 1.0 and parameters: {'iterations': 79, 'learning_rate': 0.004083862441360719, 'depth': 5, 'l2_leaf_reg': 3, 'boosting_type': 'Plain'}. Best is trial 0 with value: 1.0.\n",
      "[I 2024-12-22 14:05:45,994] Trial 73 finished with value: 1.0 and parameters: {'iterations': 85, 'learning_rate': 0.0013835045691499017, 'depth': 4, 'l2_leaf_reg': 5, 'boosting_type': 'Plain'}. Best is trial 0 with value: 1.0.\n",
      "[I 2024-12-22 14:05:46,651] Trial 74 finished with value: 1.0 and parameters: {'iterations': 81, 'learning_rate': 0.002309329420505391, 'depth': 4, 'l2_leaf_reg': 3, 'boosting_type': 'Plain'}. Best is trial 0 with value: 1.0.\n",
      "[I 2024-12-22 14:05:47,987] Trial 75 finished with value: 0.9090909090909091 and parameters: {'iterations': 71, 'learning_rate': 0.011846175790803938, 'depth': 3, 'l2_leaf_reg': 7, 'boosting_type': 'Ordered'}. Best is trial 0 with value: 1.0.\n",
      "[I 2024-12-22 14:05:48,618] Trial 76 finished with value: 1.0 and parameters: {'iterations': 67, 'learning_rate': 0.005292388380538138, 'depth': 4, 'l2_leaf_reg': 2, 'boosting_type': 'Plain'}. Best is trial 0 with value: 1.0.\n",
      "[I 2024-12-22 14:05:50,072] Trial 77 finished with value: 1.0 and parameters: {'iterations': 62, 'learning_rate': 0.08498315923659591, 'depth': 6, 'l2_leaf_reg': 4, 'boosting_type': 'Ordered'}. Best is trial 0 with value: 1.0.\n",
      "[I 2024-12-22 14:05:54,105] Trial 78 finished with value: 1.0 and parameters: {'iterations': 88, 'learning_rate': 0.0017261216232732951, 'depth': 9, 'l2_leaf_reg': 1, 'boosting_type': 'Ordered'}. Best is trial 0 with value: 1.0.\n",
      "[I 2024-12-22 14:05:55,221] Trial 79 finished with value: 1.0 and parameters: {'iterations': 93, 'learning_rate': 0.003680872123389103, 'depth': 7, 'l2_leaf_reg': 3, 'boosting_type': 'Plain'}. Best is trial 0 with value: 1.0.\n",
      "[I 2024-12-22 14:06:00,332] Trial 80 finished with value: 1.0 and parameters: {'iterations': 64, 'learning_rate': 0.014846169575033845, 'depth': 10, 'l2_leaf_reg': 2, 'boosting_type': 'Ordered'}. Best is trial 0 with value: 1.0.\n",
      "[I 2024-12-22 14:06:01,197] Trial 81 finished with value: 1.0 and parameters: {'iterations': 73, 'learning_rate': 0.009506820442894751, 'depth': 5, 'l2_leaf_reg': 3, 'boosting_type': 'Plain'}. Best is trial 0 with value: 1.0.\n",
      "[I 2024-12-22 14:06:02,099] Trial 82 finished with value: 1.0 and parameters: {'iterations': 69, 'learning_rate': 0.00787215907712637, 'depth': 5, 'l2_leaf_reg': 5, 'boosting_type': 'Plain'}. Best is trial 0 with value: 1.0.\n",
      "[I 2024-12-22 14:06:03,513] Trial 83 finished with value: 1.0 and parameters: {'iterations': 97, 'learning_rate': 0.05209847861974358, 'depth': 6, 'l2_leaf_reg': 3, 'boosting_type': 'Plain'}. Best is trial 0 with value: 1.0.\n",
      "[I 2024-12-22 14:06:04,425] Trial 84 finished with value: 1.0 and parameters: {'iterations': 77, 'learning_rate': 0.02588735899653713, 'depth': 5, 'l2_leaf_reg': 4, 'boosting_type': 'Plain'}. Best is trial 0 with value: 1.0.\n",
      "[I 2024-12-22 14:06:05,635] Trial 85 finished with value: 1.0 and parameters: {'iterations': 59, 'learning_rate': 0.0064918239663425675, 'depth': 3, 'l2_leaf_reg': 1, 'boosting_type': 'Ordered'}. Best is trial 0 with value: 1.0.\n",
      "[I 2024-12-22 14:06:05,884] Trial 86 finished with value: 1.0 and parameters: {'iterations': 13, 'learning_rate': 0.017810181896138113, 'depth': 4, 'l2_leaf_reg': 2, 'boosting_type': 'Plain'}. Best is trial 0 with value: 1.0.\n",
      "[I 2024-12-22 14:06:08,951] Trial 87 finished with value: 1.0 and parameters: {'iterations': 72, 'learning_rate': 0.03724398648413324, 'depth': 8, 'l2_leaf_reg': 9, 'boosting_type': 'Ordered'}. Best is trial 0 with value: 1.0.\n",
      "[I 2024-12-22 14:06:10,832] Trial 88 finished with value: 0.9090909090909091 and parameters: {'iterations': 68, 'learning_rate': 0.06981295291357018, 'depth': 9, 'l2_leaf_reg': 4, 'boosting_type': 'Plain'}. Best is trial 0 with value: 1.0.\n",
      "[I 2024-12-22 14:06:16,433] Trial 89 finished with value: 1.0 and parameters: {'iterations': 81, 'learning_rate': 0.024175354444599992, 'depth': 10, 'l2_leaf_reg': 6, 'boosting_type': 'Ordered'}. Best is trial 0 with value: 1.0.\n",
      "[I 2024-12-22 14:06:17,871] Trial 90 finished with value: 1.0 and parameters: {'iterations': 64, 'learning_rate': 0.01608051439471977, 'depth': 4, 'l2_leaf_reg': 1, 'boosting_type': 'Ordered'}. Best is trial 0 with value: 1.0.\n",
      "[I 2024-12-22 14:06:19,413] Trial 91 finished with value: 1.0 and parameters: {'iterations': 75, 'learning_rate': 0.030482856198725, 'depth': 4, 'l2_leaf_reg': 2, 'boosting_type': 'Ordered'}. Best is trial 0 with value: 1.0.\n",
      "[I 2024-12-22 14:06:21,129] Trial 92 finished with value: 1.0 and parameters: {'iterations': 84, 'learning_rate': 0.019993457693584373, 'depth': 5, 'l2_leaf_reg': 3, 'boosting_type': 'Ordered'}. Best is trial 0 with value: 1.0.\n",
      "[I 2024-12-22 14:06:22,732] Trial 93 finished with value: 1.0 and parameters: {'iterations': 87, 'learning_rate': 0.09937070978406569, 'depth': 3, 'l2_leaf_reg': 1, 'boosting_type': 'Ordered'}. Best is trial 0 with value: 1.0.\n",
      "[I 2024-12-22 14:06:25,274] Trial 94 finished with value: 1.0 and parameters: {'iterations': 90, 'learning_rate': 0.012819197485919675, 'depth': 7, 'l2_leaf_reg': 2, 'boosting_type': 'Ordered'}. Best is trial 0 with value: 1.0.\n",
      "[I 2024-12-22 14:06:26,981] Trial 95 finished with value: 0.9090909090909091 and parameters: {'iterations': 94, 'learning_rate': 0.010438891337950515, 'depth': 3, 'l2_leaf_reg': 7, 'boosting_type': 'Ordered'}. Best is trial 0 with value: 1.0.\n",
      "[I 2024-12-22 14:06:27,940] Trial 96 finished with value: 1.0 and parameters: {'iterations': 99, 'learning_rate': 0.040911802358489235, 'depth': 6, 'l2_leaf_reg': 3, 'boosting_type': 'Plain'}. Best is trial 0 with value: 1.0.\n",
      "[I 2024-12-22 14:06:29,594] Trial 97 finished with value: 1.0 and parameters: {'iterations': 82, 'learning_rate': 0.009421125673567291, 'depth': 5, 'l2_leaf_reg': 3, 'boosting_type': 'Ordered'}. Best is trial 0 with value: 1.0.\n",
      "[I 2024-12-22 14:06:33,858] Trial 98 finished with value: 1.0 and parameters: {'iterations': 71, 'learning_rate': 0.031587642410196154, 'depth': 9, 'l2_leaf_reg': 1, 'boosting_type': 'Ordered'}. Best is trial 0 with value: 1.0.\n",
      "[I 2024-12-22 14:06:34,412] Trial 99 finished with value: 1.0 and parameters: {'iterations': 29, 'learning_rate': 0.002982600893121053, 'depth': 8, 'l2_leaf_reg': 2, 'boosting_type': 'Plain'}. Best is trial 0 with value: 1.0.\n"
     ]
    }
   ],
   "source": [
    "from catboost import CatBoostClassifier\n",
    "import optuna\n",
    "\n",
    "def objective(trial):\n",
    "    param = {\n",
    "    'verbose':0,\n",
    "    'thread_count':-1,\n",
    "    'cat_features':[\"Гормональная активность 0-нет               1-да\"],\n",
    "    'loss_function': \"Logloss\",\n",
    "    'iterations': trial.suggest_int('iterations', 10, 100),\n",
    "    'learning_rate': trial.suggest_float('learning_rate', 0.001, 0.1, log=True),\n",
    "    'depth': trial.suggest_int('depth', 3, 10),\n",
    "    'l2_leaf_reg': trial.suggest_int('l2_leaf_reg', 1, 10),\n",
    "    'boosting_type': trial.suggest_categorical('boosting_type', ['Ordered', 'Plain']),\n",
    "    'max_ctr_complexity': trial.suggest_int('max_ctr_complexity', 0, 8)\n",
    "    }\n",
    "\n",
    "    model = CatBoostClassifier(**param, task_type='GPU', random_state=314)\n",
    "    model.fit(X_train, y_train)\n",
    "    score = model.score(X_test, y_test)\n",
    "    return score\n",
    "\n",
    "study = optuna.create_study(direction='maximize')\n",
    "study.optimize(objective, n_trials=100)"
   ]
  },
  {
   "cell_type": "code",
   "execution_count": 18,
   "metadata": {
    "collapsed": false,
    "jupyter": {
     "outputs_hidden": false
    }
   },
   "outputs": [],
   "source": [
    "model = CatBoostClassifier(**study.best_params, random_state=314)"
   ]
  },
  {
   "cell_type": "code",
   "execution_count": 19,
   "outputs": [],
   "source": [
    "from sklearn.model_selection import cross_validate\n",
    "from sklearn.model_selection import StratifiedKFold\n",
    "\n",
    "skf = StratifiedKFold(shuffle=True, n_splits=5, random_state=314)\n",
    "\n",
    "cv = cross_validate(model, X, y, n_jobs=-1,\n",
    "                    scoring=[\"accuracy\",\n",
    "                             \"f1\",\n",
    "                             \"precision\",\n",
    "                             \"recall\"],\n",
    "                    cv=skf)"
   ],
   "metadata": {
    "collapsed": false
   }
  },
  {
   "cell_type": "code",
   "execution_count": 22,
   "outputs": [
    {
     "name": "stdout",
     "output_type": "stream",
     "text": [
      " accuracy 0.9047619047619048 \n",
      " f1 0.9 \n",
      " recall 0.9 \n",
      " precision 0.9 \n",
      "\n",
      "---------------------------------------------\n",
      " accuracy 0.9047619047619048 \n",
      " f1 0.8888888888888888 \n",
      " recall 0.8 \n",
      " precision 1.0 \n",
      "\n",
      "---------------------------------------------\n",
      " accuracy 1.0 \n",
      " f1 1.0 \n",
      " recall 1.0 \n",
      " precision 1.0 \n",
      "\n",
      "---------------------------------------------\n",
      " accuracy 0.95 \n",
      " f1 0.9473684210526315 \n",
      " recall 1.0 \n",
      " precision 0.9 \n",
      "\n",
      "---------------------------------------------\n",
      " accuracy 0.9 \n",
      " f1 0.8888888888888888 \n",
      " recall 0.8888888888888888 \n",
      " precision 0.8888888888888888 \n",
      "\n",
      "---------------------------------------------\n"
     ]
    }
   ],
   "source": [
    "for i in range(len(cv)-1):\n",
    "    print(\n",
    "        \" accuracy\", cv[\"test_accuracy\"][i], \"\\n\",\n",
    "        \"f1\", cv[\"test_f1\"][i], \"\\n\",\n",
    "        \"recall\", cv[\"test_recall\"][i], \"\\n\",\n",
    "        \"precision\", cv[\"test_precision\"][i], \"\\n\"\n",
    "    )\n",
    "    print(\"---------------------------------------------\")"
   ],
   "metadata": {
    "collapsed": false
   }
  },
  {
   "cell_type": "code",
   "execution_count": 23,
   "outputs": [
    {
     "name": "stdout",
     "output_type": "stream",
     "text": [
      "0:\tlearn: 0.6794216\ttotal: 1.13ms\tremaining: 74.5ms\n",
      "1:\tlearn: 0.6660967\ttotal: 2.42ms\tremaining: 78.6ms\n",
      "2:\tlearn: 0.6578233\ttotal: 3.28ms\tremaining: 70ms\n",
      "3:\tlearn: 0.6435387\ttotal: 4.12ms\tremaining: 64.8ms\n",
      "4:\tlearn: 0.6331872\ttotal: 4.95ms\tremaining: 61.3ms\n",
      "5:\tlearn: 0.6227694\ttotal: 5.87ms\tremaining: 59.7ms\n",
      "6:\tlearn: 0.6133301\ttotal: 6.75ms\tremaining: 57.9ms\n",
      "7:\tlearn: 0.6022798\ttotal: 7.67ms\tremaining: 56.6ms\n",
      "8:\tlearn: 0.5929776\ttotal: 8.78ms\tremaining: 56.6ms\n",
      "9:\tlearn: 0.5817819\ttotal: 9.86ms\tremaining: 56.2ms\n",
      "10:\tlearn: 0.5702668\ttotal: 10.7ms\tremaining: 54.5ms\n",
      "11:\tlearn: 0.5608023\ttotal: 11.6ms\tremaining: 53.2ms\n",
      "12:\tlearn: 0.5502164\ttotal: 12.5ms\tremaining: 51.9ms\n",
      "13:\tlearn: 0.5400840\ttotal: 13.4ms\tremaining: 50.5ms\n",
      "14:\tlearn: 0.5323064\ttotal: 14.3ms\tremaining: 49.5ms\n",
      "15:\tlearn: 0.5241583\ttotal: 15.3ms\tremaining: 48.8ms\n",
      "16:\tlearn: 0.5165194\ttotal: 16.2ms\tremaining: 47.6ms\n",
      "17:\tlearn: 0.5077651\ttotal: 17ms\tremaining: 46.3ms\n",
      "18:\tlearn: 0.4983267\ttotal: 17.8ms\tremaining: 45.1ms\n",
      "19:\tlearn: 0.4941744\ttotal: 18.8ms\tremaining: 44.3ms\n",
      "20:\tlearn: 0.4871493\ttotal: 19.7ms\tremaining: 43.2ms\n",
      "21:\tlearn: 0.4807979\ttotal: 20.5ms\tremaining: 42ms\n",
      "22:\tlearn: 0.4759758\ttotal: 21.3ms\tremaining: 40.8ms\n",
      "23:\tlearn: 0.4657326\ttotal: 22.2ms\tremaining: 39.8ms\n",
      "24:\tlearn: 0.4587617\ttotal: 23ms\tremaining: 38.6ms\n",
      "25:\tlearn: 0.4538190\ttotal: 23.8ms\tremaining: 37.5ms\n",
      "26:\tlearn: 0.4483135\ttotal: 24.6ms\tremaining: 36.5ms\n",
      "27:\tlearn: 0.4381235\ttotal: 25.4ms\tremaining: 35.4ms\n",
      "28:\tlearn: 0.4322280\ttotal: 26.3ms\tremaining: 34.4ms\n",
      "29:\tlearn: 0.4269161\ttotal: 27.2ms\tremaining: 33.6ms\n",
      "30:\tlearn: 0.4206155\ttotal: 28.1ms\tremaining: 32.6ms\n",
      "31:\tlearn: 0.4172402\ttotal: 28.9ms\tremaining: 31.6ms\n",
      "32:\tlearn: 0.4117638\ttotal: 30ms\tremaining: 30.9ms\n",
      "33:\tlearn: 0.4068797\ttotal: 30.8ms\tremaining: 29.9ms\n",
      "34:\tlearn: 0.4019263\ttotal: 31.7ms\tremaining: 28.9ms\n",
      "35:\tlearn: 0.3972208\ttotal: 32.6ms\tremaining: 28.1ms\n",
      "36:\tlearn: 0.3910879\ttotal: 33.4ms\tremaining: 27.1ms\n",
      "37:\tlearn: 0.3868110\ttotal: 34.4ms\tremaining: 26.2ms\n",
      "38:\tlearn: 0.3829036\ttotal: 35.4ms\tremaining: 25.4ms\n",
      "39:\tlearn: 0.3759268\ttotal: 36.4ms\tremaining: 24.6ms\n",
      "40:\tlearn: 0.3684805\ttotal: 37.4ms\tremaining: 23.7ms\n",
      "41:\tlearn: 0.3617002\ttotal: 38.3ms\tremaining: 22.8ms\n",
      "42:\tlearn: 0.3573455\ttotal: 39.3ms\tremaining: 21.9ms\n",
      "43:\tlearn: 0.3527310\ttotal: 40.1ms\tremaining: 21ms\n",
      "44:\tlearn: 0.3478540\ttotal: 41.1ms\tremaining: 20.1ms\n",
      "45:\tlearn: 0.3437102\ttotal: 41.9ms\tremaining: 19.1ms\n",
      "46:\tlearn: 0.3393142\ttotal: 42.7ms\tremaining: 18.2ms\n",
      "47:\tlearn: 0.3338943\ttotal: 43.6ms\tremaining: 17.3ms\n",
      "48:\tlearn: 0.3295934\ttotal: 44.4ms\tremaining: 16.3ms\n",
      "49:\tlearn: 0.3247243\ttotal: 45.2ms\tremaining: 15.4ms\n",
      "50:\tlearn: 0.3203082\ttotal: 46.1ms\tremaining: 14.5ms\n",
      "51:\tlearn: 0.3146165\ttotal: 46.9ms\tremaining: 13.5ms\n",
      "52:\tlearn: 0.3090707\ttotal: 47.8ms\tremaining: 12.6ms\n",
      "53:\tlearn: 0.3047677\ttotal: 48.7ms\tremaining: 11.7ms\n",
      "54:\tlearn: 0.2995179\ttotal: 49.5ms\tremaining: 10.8ms\n",
      "55:\tlearn: 0.2950357\ttotal: 50.3ms\tremaining: 9.89ms\n",
      "56:\tlearn: 0.2910585\ttotal: 51.1ms\tremaining: 8.97ms\n",
      "57:\tlearn: 0.2860413\ttotal: 51.9ms\tremaining: 8.05ms\n",
      "58:\tlearn: 0.2811231\ttotal: 52.8ms\tremaining: 7.16ms\n",
      "59:\tlearn: 0.2771283\ttotal: 53.7ms\tremaining: 6.26ms\n",
      "60:\tlearn: 0.2726554\ttotal: 54.5ms\tremaining: 5.36ms\n",
      "61:\tlearn: 0.2703293\ttotal: 55.3ms\tremaining: 4.46ms\n",
      "62:\tlearn: 0.2662600\ttotal: 56.2ms\tremaining: 3.57ms\n",
      "63:\tlearn: 0.2625889\ttotal: 57ms\tremaining: 2.67ms\n",
      "64:\tlearn: 0.2596342\ttotal: 57.8ms\tremaining: 1.78ms\n",
      "65:\tlearn: 0.2572454\ttotal: 58.9ms\tremaining: 892us\n",
      "66:\tlearn: 0.2548090\ttotal: 59.8ms\tremaining: 0us\n"
     ]
    },
    {
     "data": {
      "text/plain": "<catboost.core.CatBoostClassifier at 0x2e27b485c60>"
     },
     "execution_count": 23,
     "metadata": {},
     "output_type": "execute_result"
    }
   ],
   "source": [
    "model.fit(X_train, y_train)"
   ],
   "metadata": {
    "collapsed": false
   }
  },
  {
   "cell_type": "code",
   "execution_count": 24,
   "metadata": {},
   "outputs": [
    {
     "name": "stdout",
     "output_type": "stream",
     "text": [
      "Accuracy: 1.0\n",
      "              precision    recall  f1-score   support\n",
      "\n",
      "           0       1.00      1.00      1.00         4\n",
      "           1       1.00      1.00      1.00         7\n",
      "\n",
      "    accuracy                           1.00        11\n",
      "   macro avg       1.00      1.00      1.00        11\n",
      "weighted avg       1.00      1.00      1.00        11\n",
      "\n"
     ]
    }
   ],
   "source": [
    "from sklearn.metrics import accuracy_score, classification_report\n",
    "\n",
    "y_pred = model.predict(X_test)\n",
    "\n",
    "print(\"Accuracy:\", accuracy_score(y_test, y_pred))\n",
    "\n",
    "print(classification_report(y_test, y_pred))"
   ]
  },
  {
   "cell_type": "code",
   "execution_count": 25,
   "metadata": {
    "collapsed": true,
    "jupyter": {
     "outputs_hidden": true,
     "source_hidden": true
    },
    "scrolled": true
   },
   "outputs": [
    {
     "data": {
      "text/plain": "                                              Feature  Importance\n3                                               Weiss   50.021715\n1                             Максимальный размер, мм    7.501310\n14                                                 Et    5.657164\n27                                             dP3_3А    3.547257\n50                                           aTHF_THF    2.364783\n24                                                 P2    2.341994\n26                                                dP2    2.046051\n32                                                THS    1.898927\n18                                          16DHEA-3b    1.384081\n9                    свободный кортизол мочи (ВЭЖХ)      1.194525\n25                                                 P3    1.187617\n22                                               11Et    1.170995\n29                                                dA3    1.111138\n16                                               DHEA    1.084093\n20                                             17-ОНP    0.938767\n54                                        THE_11oxoP3    0.800142\n10                  свободный кортизон мочи (ВЭЖХ)       0.767793\n53                                            THE_THS    0.748174\n23                                                 A3    0.723520\n46                                             THE_P3    0.703604\n28                                           16dP2_3A    0.685495\n36                                                THF    0.665212\n13                                                 An    0.657767\n52                                          11An_11Et    0.648047\n12  Индекс свободный кортизон/свободный кортизол в...    0.616263\n47                                            THB_THA    0.613208\n7                                         АКТГ  утром    0.605518\n31                                            11oxoP3    0.596117\n45                                              An|Et    0.580011\n2                             Нативная плотность, НU     0.509463\n30                                            11oxoP2    0.493598\n8                                          ДГЭА-С        0.476800\n11            18 гидроксикортикостерон мочи (ВЭЖХ)       0.447056\n51                                           aTHB_THB    0.434450\n40                                                bCN    0.426223\n4                                 Кортизол крови утро    0.416885\n37                                            alloTHF    0.396954\n43                                           THF/THE2    0.367385\n48                                           THF_THE1    0.351891\n35                                            alloTHB    0.322601\n41                                                 CL    0.312459\n49                                            THF_THE    0.291389\n15                                            dA2_17B    0.278855\n39                                                aCN    0.272539\n21                                               11An    0.239616\n44                                                HHB    0.232170\n17                                          16DHEA-3a    0.222664\n34                                                THB    0.135271\n6     Кортизол после пробы с 1 мг дексаметазона (ДМТ)    0.127936\n33                                                THE    0.119797\n5                                Кортизол крови вечер    0.116019\n42                                            alloTHE    0.073391\n38                                                THA    0.049344\n0    Гормональная активность 0-нет               1-да    0.023953\n19                                            11охоET    0.000000",
      "text/html": "<div>\n<style scoped>\n    .dataframe tbody tr th:only-of-type {\n        vertical-align: middle;\n    }\n\n    .dataframe tbody tr th {\n        vertical-align: top;\n    }\n\n    .dataframe thead th {\n        text-align: right;\n    }\n</style>\n<table border=\"1\" class=\"dataframe\">\n  <thead>\n    <tr style=\"text-align: right;\">\n      <th></th>\n      <th>Feature</th>\n      <th>Importance</th>\n    </tr>\n  </thead>\n  <tbody>\n    <tr>\n      <th>3</th>\n      <td>Weiss</td>\n      <td>50.021715</td>\n    </tr>\n    <tr>\n      <th>1</th>\n      <td>Максимальный размер, мм</td>\n      <td>7.501310</td>\n    </tr>\n    <tr>\n      <th>14</th>\n      <td>Et</td>\n      <td>5.657164</td>\n    </tr>\n    <tr>\n      <th>27</th>\n      <td>dP3_3А</td>\n      <td>3.547257</td>\n    </tr>\n    <tr>\n      <th>50</th>\n      <td>aTHF_THF</td>\n      <td>2.364783</td>\n    </tr>\n    <tr>\n      <th>24</th>\n      <td>P2</td>\n      <td>2.341994</td>\n    </tr>\n    <tr>\n      <th>26</th>\n      <td>dP2</td>\n      <td>2.046051</td>\n    </tr>\n    <tr>\n      <th>32</th>\n      <td>THS</td>\n      <td>1.898927</td>\n    </tr>\n    <tr>\n      <th>18</th>\n      <td>16DHEA-3b</td>\n      <td>1.384081</td>\n    </tr>\n    <tr>\n      <th>9</th>\n      <td>свободный кортизол мочи (ВЭЖХ)</td>\n      <td>1.194525</td>\n    </tr>\n    <tr>\n      <th>25</th>\n      <td>P3</td>\n      <td>1.187617</td>\n    </tr>\n    <tr>\n      <th>22</th>\n      <td>11Et</td>\n      <td>1.170995</td>\n    </tr>\n    <tr>\n      <th>29</th>\n      <td>dA3</td>\n      <td>1.111138</td>\n    </tr>\n    <tr>\n      <th>16</th>\n      <td>DHEA</td>\n      <td>1.084093</td>\n    </tr>\n    <tr>\n      <th>20</th>\n      <td>17-ОНP</td>\n      <td>0.938767</td>\n    </tr>\n    <tr>\n      <th>54</th>\n      <td>THE_11oxoP3</td>\n      <td>0.800142</td>\n    </tr>\n    <tr>\n      <th>10</th>\n      <td>свободный кортизон мочи (ВЭЖХ)</td>\n      <td>0.767793</td>\n    </tr>\n    <tr>\n      <th>53</th>\n      <td>THE_THS</td>\n      <td>0.748174</td>\n    </tr>\n    <tr>\n      <th>23</th>\n      <td>A3</td>\n      <td>0.723520</td>\n    </tr>\n    <tr>\n      <th>46</th>\n      <td>THE_P3</td>\n      <td>0.703604</td>\n    </tr>\n    <tr>\n      <th>28</th>\n      <td>16dP2_3A</td>\n      <td>0.685495</td>\n    </tr>\n    <tr>\n      <th>36</th>\n      <td>THF</td>\n      <td>0.665212</td>\n    </tr>\n    <tr>\n      <th>13</th>\n      <td>An</td>\n      <td>0.657767</td>\n    </tr>\n    <tr>\n      <th>52</th>\n      <td>11An_11Et</td>\n      <td>0.648047</td>\n    </tr>\n    <tr>\n      <th>12</th>\n      <td>Индекс свободный кортизон/свободный кортизол в...</td>\n      <td>0.616263</td>\n    </tr>\n    <tr>\n      <th>47</th>\n      <td>THB_THA</td>\n      <td>0.613208</td>\n    </tr>\n    <tr>\n      <th>7</th>\n      <td>АКТГ  утром</td>\n      <td>0.605518</td>\n    </tr>\n    <tr>\n      <th>31</th>\n      <td>11oxoP3</td>\n      <td>0.596117</td>\n    </tr>\n    <tr>\n      <th>45</th>\n      <td>An|Et</td>\n      <td>0.580011</td>\n    </tr>\n    <tr>\n      <th>2</th>\n      <td>Нативная плотность, НU</td>\n      <td>0.509463</td>\n    </tr>\n    <tr>\n      <th>30</th>\n      <td>11oxoP2</td>\n      <td>0.493598</td>\n    </tr>\n    <tr>\n      <th>8</th>\n      <td>ДГЭА-С</td>\n      <td>0.476800</td>\n    </tr>\n    <tr>\n      <th>11</th>\n      <td>18 гидроксикортикостерон мочи (ВЭЖХ)</td>\n      <td>0.447056</td>\n    </tr>\n    <tr>\n      <th>51</th>\n      <td>aTHB_THB</td>\n      <td>0.434450</td>\n    </tr>\n    <tr>\n      <th>40</th>\n      <td>bCN</td>\n      <td>0.426223</td>\n    </tr>\n    <tr>\n      <th>4</th>\n      <td>Кортизол крови утро</td>\n      <td>0.416885</td>\n    </tr>\n    <tr>\n      <th>37</th>\n      <td>alloTHF</td>\n      <td>0.396954</td>\n    </tr>\n    <tr>\n      <th>43</th>\n      <td>THF/THE2</td>\n      <td>0.367385</td>\n    </tr>\n    <tr>\n      <th>48</th>\n      <td>THF_THE1</td>\n      <td>0.351891</td>\n    </tr>\n    <tr>\n      <th>35</th>\n      <td>alloTHB</td>\n      <td>0.322601</td>\n    </tr>\n    <tr>\n      <th>41</th>\n      <td>CL</td>\n      <td>0.312459</td>\n    </tr>\n    <tr>\n      <th>49</th>\n      <td>THF_THE</td>\n      <td>0.291389</td>\n    </tr>\n    <tr>\n      <th>15</th>\n      <td>dA2_17B</td>\n      <td>0.278855</td>\n    </tr>\n    <tr>\n      <th>39</th>\n      <td>aCN</td>\n      <td>0.272539</td>\n    </tr>\n    <tr>\n      <th>21</th>\n      <td>11An</td>\n      <td>0.239616</td>\n    </tr>\n    <tr>\n      <th>44</th>\n      <td>HHB</td>\n      <td>0.232170</td>\n    </tr>\n    <tr>\n      <th>17</th>\n      <td>16DHEA-3a</td>\n      <td>0.222664</td>\n    </tr>\n    <tr>\n      <th>34</th>\n      <td>THB</td>\n      <td>0.135271</td>\n    </tr>\n    <tr>\n      <th>6</th>\n      <td>Кортизол после пробы с 1 мг дексаметазона (ДМТ)</td>\n      <td>0.127936</td>\n    </tr>\n    <tr>\n      <th>33</th>\n      <td>THE</td>\n      <td>0.119797</td>\n    </tr>\n    <tr>\n      <th>5</th>\n      <td>Кортизол крови вечер</td>\n      <td>0.116019</td>\n    </tr>\n    <tr>\n      <th>42</th>\n      <td>alloTHE</td>\n      <td>0.073391</td>\n    </tr>\n    <tr>\n      <th>38</th>\n      <td>THA</td>\n      <td>0.049344</td>\n    </tr>\n    <tr>\n      <th>0</th>\n      <td>Гормональная активность 0-нет               1-да</td>\n      <td>0.023953</td>\n    </tr>\n    <tr>\n      <th>19</th>\n      <td>11охоET</td>\n      <td>0.000000</td>\n    </tr>\n  </tbody>\n</table>\n</div>"
     },
     "execution_count": 25,
     "metadata": {},
     "output_type": "execute_result"
    }
   ],
   "source": [
    "feature_importances = model.get_feature_importance()\n",
    "feature_names = X.columns\n",
    "\n",
    "importance_df = pd.DataFrame({\n",
    "    'Feature': feature_names,\n",
    "    'Importance': feature_importances\n",
    "}).sort_values(by='Importance', ascending=False)\n",
    "\n",
    "importance_df"
   ]
  }
 ],
 "metadata": {
  "kernelspec": {
   "display_name": "Python 3 (ipykernel)",
   "language": "python",
   "name": "python3"
  },
  "language_info": {
   "codemirror_mode": {
    "name": "ipython",
    "version": 3
   },
   "file_extension": ".py",
   "mimetype": "text/x-python",
   "name": "python",
   "nbconvert_exporter": "python",
   "pygments_lexer": "ipython3",
   "version": "3.10.16"
  }
 },
 "nbformat": 4,
 "nbformat_minor": 4
}
