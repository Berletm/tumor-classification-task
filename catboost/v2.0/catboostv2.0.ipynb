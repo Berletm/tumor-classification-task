{
 "cells": [
  {
   "cell_type": "code",
   "execution_count": 73,
   "metadata": {},
   "outputs": [],
   "source": [
    "import pandas as pd\n",
    "import numpy as np"
   ]
  },
  {
   "cell_type": "code",
   "execution_count": 74,
   "metadata": {
    "collapsed": false,
    "jupyter": {
     "outputs_hidden": false
    }
   },
   "outputs": [],
   "source": [
    "data = pd.read_excel(\"tumor-data-without-healthy.xlsx\")"
   ]
  },
  {
   "cell_type": "code",
   "execution_count": 75,
   "metadata": {
    "collapsed": false,
    "jupyter": {
     "outputs_hidden": false
    }
   },
   "outputs": [],
   "source": [
    "labels = [value for column, value in data.iloc[0].items()]\n",
    "data = data.set_axis(labels, axis=1)\n",
    "data = data[data.columns[1:]].apply(\n",
    "    lambda x: pd.to_numeric(x.replace('<', '').replace(',', '.'), errors='coerce')\n",
    ")\n",
    "data.drop(index=0, inplace=True)\n",
    "data[\"Гормональная активность 0-нет               1-да\"] = data[\"Гормональная активность 0-нет               1-да\"].astype(str)\n",
    "data[\"Гормональная активность 0-нет               1-да\"] = data[\"Гормональная активность 0-нет               1-да\"].fillna(\"missing\")"
   ]
  },
  {
   "cell_type": "code",
   "execution_count": 76,
   "metadata": {
    "collapsed": false,
    "jupyter": {
     "outputs_hidden": false
    }
   },
   "outputs": [],
   "source": [
    "\"\"\" dropping some columns \"\"\"\n",
    "\n",
    "data.dropna(axis=1, how=\"all\", inplace=True)\n",
    "data.dropna(axis=0, thresh=int(data.shape[1]*0.6), inplace=True)\n",
    "data.dropna(axis=1, thresh=int(data.shape[0]*0.6), inplace=True)\n",
    "data.drop([\"Пол:    0-жен, 1-муж\"], inplace=True, axis=1)"
   ]
  },
  {
   "cell_type": "code",
   "execution_count": 77,
   "metadata": {
    "collapsed": false,
    "jupyter": {
     "outputs_hidden": false
    }
   },
   "outputs": [],
   "source": [
    "X = data.drop(columns=[\"КАН\", \"АКР\"])\n",
    "y = np.argmax(data[[\"КАН\", \"АКР\"]], axis=1)"
   ]
  },
  {
   "cell_type": "code",
   "execution_count": 78,
   "metadata": {
    "collapsed": false,
    "jupyter": {
     "outputs_hidden": false
    }
   },
   "outputs": [],
   "source": [
    "from sklearn.model_selection import train_test_split\n",
    "\n",
    "X_train, X_test, y_train, y_test = train_test_split(X, y, train_size=0.9, random_state=42)"
   ]
  },
  {
   "cell_type": "code",
   "execution_count": 79,
   "metadata": {
    "collapsed": false,
    "jupyter": {
     "outputs_hidden": false
    }
   },
   "outputs": [],
   "source": [
    "from catboost import CatBoostClassifier\n",
    "\n",
    "model = CatBoostClassifier(loss_function = \"Logloss\",\n",
    "                           cat_features = [\"Гормональная активность 0-нет               1-да\"],\n",
    "                           verbose=5,\n",
    "                           thread_count=-1,\n",
    "                           random_state=42)"
   ]
  },
  {
   "cell_type": "code",
   "execution_count": 80,
   "metadata": {
    "collapsed": false,
    "jupyter": {
     "outputs_hidden": false
    }
   },
   "outputs": [
    {
     "data": {
      "text/plain": "\"from sklearn.model_selection import GridSearchCV\\n\\nparam_grid = {\\n    'iterations': [20, 40, 60],\\n    'learning_rate': [0.01, 0.1, 0.5],\\n    'depth': [6, 8, 10],\\n    'l2_leaf_reg': [1, 3, 5]\\n}\\n\\ngrid_search = GridSearchCV(estimator=model, param_grid=param_grid, n_jobs=-1)\\n\\ngrid_search.fit(X_train, y_train)\\nprint(grid_search.best_params_)\""
     },
     "execution_count": 80,
     "metadata": {},
     "output_type": "execute_result"
    }
   ],
   "source": [
    "\"\"\"from sklearn.model_selection import GridSearchCV\n",
    "\n",
    "param_grid = {\n",
    "    'iterations': [20, 40, 60],\n",
    "    'learning_rate': [0.01, 0.1, 0.5],\n",
    "    'depth': [6, 8, 10],\n",
    "    'l2_leaf_reg': [1, 3, 5]\n",
    "}\n",
    "\n",
    "grid_search = GridSearchCV(estimator=model, param_grid=param_grid, n_jobs=-1)\n",
    "\n",
    "grid_search.fit(X_train, y_train)\n",
    "print(grid_search.best_params_)\"\"\""
   ]
  },
  {
   "cell_type": "code",
   "execution_count": 81,
   "metadata": {
    "collapsed": false,
    "jupyter": {
     "outputs_hidden": false
    }
   },
   "outputs": [],
   "source": [
    "best_model = CatBoostClassifier(iterations=20,\n",
    "                                depth=10,\n",
    "                                l2_leaf_reg=3,\n",
    "                                learning_rate=0.1,\n",
    "                                loss_function = \"Logloss\",\n",
    "                                verbose=5,\n",
    "                                thread_count=-1,\n",
    "                                random_state=42)"
   ]
  },
  {
   "cell_type": "code",
   "execution_count": 82,
   "metadata": {
    "collapsed": true,
    "jupyter": {
     "outputs_hidden": true
    },
    "scrolled": true
   },
   "outputs": [
    {
     "data": {
      "text/plain": "'start_idx = 0\\nend_idx = int(len(X)*0.8)\\nstep = 2\\nwhile end_idx <= X.shape[0]:\\n    current_training_data = (X[start_idx:end_idx], y[start_idx:end_idx])\\n    if start_idx == 0:\\n        current_validating_data = (X[end_idx:], y[end_idx:])\\n    else:\\n        current_validating_data = (np.concatenate((X[end_idx:], X[:start_idx])),  np.concatenate((y[end_idx:], y[:start_idx])))\\n    if start_idx == 0 :\\n        best_model.fit(current_training_data[0], current_training_data[1], eval_set=current_validating_data, plot=True)\\n    else:\\n        best_model.fit(current_training_data[0], current_training_data[1], eval_set=current_validating_data, plot=True,\\n                       init_model=best_model)\\n    start_idx += step\\n    end_idx += step'"
     },
     "execution_count": 82,
     "metadata": {},
     "output_type": "execute_result"
    }
   ],
   "source": [
    "\"\"\"start_idx = 0\n",
    "end_idx = int(len(X)*0.8)\n",
    "step = 2\n",
    "while end_idx <= X.shape[0]:\n",
    "    current_training_data = (X[start_idx:end_idx], y[start_idx:end_idx])\n",
    "    if start_idx == 0:\n",
    "        current_validating_data = (X[end_idx:], y[end_idx:])\n",
    "    else:\n",
    "        current_validating_data = (np.concatenate((X[end_idx:], X[:start_idx])),  np.concatenate((y[end_idx:], y[:start_idx])))\n",
    "    if start_idx == 0 :\n",
    "        best_model.fit(current_training_data[0], current_training_data[1], eval_set=current_validating_data, plot=True)\n",
    "    else:\n",
    "        best_model.fit(current_training_data[0], current_training_data[1], eval_set=current_validating_data, plot=True,\n",
    "                       init_model=best_model)\n",
    "    start_idx += step\n",
    "    end_idx += step\"\"\""
   ]
  },
  {
   "cell_type": "code",
   "execution_count": 83,
   "metadata": {
    "collapsed": true,
    "jupyter": {
     "outputs_hidden": true
    }
   },
   "outputs": [
    {
     "name": "stdout",
     "output_type": "stream",
     "text": [
      "Fold 0:\n"
     ]
    },
    {
     "data": {
      "text/plain": "MetricVisualizer(layout=Layout(align_self='stretch', height='500px'))",
      "application/vnd.jupyter.widget-view+json": {
       "version_major": 2,
       "version_minor": 0,
       "model_id": "8041f56d1a7e4975beff9a9d197724e8"
      }
     },
     "metadata": {},
     "output_type": "display_data"
    },
    {
     "name": "stdout",
     "output_type": "stream",
     "text": [
      "0:\tlearn: 0.6249053\ttest: 0.6641286\tbest: 0.6641286 (0)\ttotal: 11.5ms\tremaining: 218ms\n",
      "5:\tlearn: 0.3791852\ttest: 0.5385835\tbest: 0.5385835 (5)\ttotal: 58.1ms\tremaining: 136ms\n",
      "10:\tlearn: 0.2585224\ttest: 0.4661201\tbest: 0.4661201 (10)\ttotal: 114ms\tremaining: 93.6ms\n",
      "15:\tlearn: 0.1725156\ttest: 0.3973093\tbest: 0.3973093 (15)\ttotal: 155ms\tremaining: 38.8ms\n",
      "19:\tlearn: 0.1412074\ttest: 0.3853474\tbest: 0.3853474 (19)\ttotal: 195ms\tremaining: 0us\n",
      "\n",
      "bestTest = 0.3853474003\n",
      "bestIteration = 19\n",
      "\n",
      "Fold 1:\n"
     ]
    },
    {
     "data": {
      "text/plain": "MetricVisualizer(layout=Layout(align_self='stretch', height='500px'))",
      "application/vnd.jupyter.widget-view+json": {
       "version_major": 2,
       "version_minor": 0,
       "model_id": "c616e2e360c246e59ea396e1d27cd43b"
      }
     },
     "metadata": {},
     "output_type": "display_data"
    },
    {
     "name": "stdout",
     "output_type": "stream",
     "text": [
      "0:\tlearn: 0.1931893\ttest: 0.1321731\tbest: 0.1321731 (0)\ttotal: 11.7ms\tremaining: 222ms\n",
      "5:\tlearn: 0.1450706\ttest: 0.1247712\tbest: 0.1247712 (5)\ttotal: 59.1ms\tremaining: 138ms\n",
      "10:\tlearn: 0.1127551\ttest: 0.1192765\tbest: 0.1192765 (10)\ttotal: 105ms\tremaining: 86ms\n",
      "15:\tlearn: 0.0890999\ttest: 0.1067913\tbest: 0.1067913 (15)\ttotal: 142ms\tremaining: 35.6ms\n",
      "19:\tlearn: 0.0775998\ttest: 0.1029600\tbest: 0.1029600 (19)\ttotal: 184ms\tremaining: 0us\n",
      "\n",
      "bestTest = 0.1029599537\n",
      "bestIteration = 19\n",
      "\n",
      "Fold 2:\n"
     ]
    },
    {
     "data": {
      "text/plain": "MetricVisualizer(layout=Layout(align_self='stretch', height='500px'))",
      "application/vnd.jupyter.widget-view+json": {
       "version_major": 2,
       "version_minor": 0,
       "model_id": "54410b10f100465d8152925251078f0b"
      }
     },
     "metadata": {},
     "output_type": "display_data"
    },
    {
     "name": "stdout",
     "output_type": "stream",
     "text": [
      "0:\tlearn: 0.0836869\ttest: 0.0628278\tbest: 0.0628278 (0)\ttotal: 10.2ms\tremaining: 194ms\n",
      "5:\tlearn: 0.0675051\ttest: 0.0553164\tbest: 0.0553164 (5)\ttotal: 57.2ms\tremaining: 134ms\n",
      "10:\tlearn: 0.0587698\ttest: 0.0533798\tbest: 0.0533669 (9)\ttotal: 109ms\tremaining: 89.2ms\n",
      "15:\tlearn: 0.0519843\ttest: 0.0516609\tbest: 0.0516609 (15)\ttotal: 160ms\tremaining: 39.9ms\n",
      "19:\tlearn: 0.0458455\ttest: 0.0490854\tbest: 0.0490854 (19)\ttotal: 177ms\tremaining: 0us\n",
      "\n",
      "bestTest = 0.0490853575\n",
      "bestIteration = 19\n",
      "\n",
      "Fold 3:\n"
     ]
    },
    {
     "data": {
      "text/plain": "MetricVisualizer(layout=Layout(align_self='stretch', height='500px'))",
      "application/vnd.jupyter.widget-view+json": {
       "version_major": 2,
       "version_minor": 0,
       "model_id": "8624d6cdbd7e446ab217f7bffa94a980"
      }
     },
     "metadata": {},
     "output_type": "display_data"
    },
    {
     "name": "stdout",
     "output_type": "stream",
     "text": [
      "0:\tlearn: 0.0470298\ttest: 0.0394107\tbest: 0.0394107 (0)\ttotal: 9.74ms\tremaining: 185ms\n",
      "5:\tlearn: 0.0420347\ttest: 0.0384968\tbest: 0.0384968 (5)\ttotal: 63.3ms\tremaining: 148ms\n",
      "10:\tlearn: 0.0380075\ttest: 0.0374548\tbest: 0.0374548 (10)\ttotal: 111ms\tremaining: 90.5ms\n",
      "15:\tlearn: 0.0347762\ttest: 0.0370981\tbest: 0.0370981 (15)\ttotal: 156ms\tremaining: 39.1ms\n",
      "19:\tlearn: 0.0324823\ttest: 0.0370023\tbest: 0.0370023 (19)\ttotal: 193ms\tremaining: 0us\n",
      "\n",
      "bestTest = 0.03700225097\n",
      "bestIteration = 19\n",
      "\n",
      "Fold 4:\n"
     ]
    },
    {
     "data": {
      "text/plain": "MetricVisualizer(layout=Layout(align_self='stretch', height='500px'))",
      "application/vnd.jupyter.widget-view+json": {
       "version_major": 2,
       "version_minor": 0,
       "model_id": "0f4189e626f646c5bc7b69d1c21d5263"
      }
     },
     "metadata": {},
     "output_type": "display_data"
    },
    {
     "name": "stdout",
     "output_type": "stream",
     "text": [
      "0:\tlearn: 0.0346065\ttest: 0.0259321\tbest: 0.0259321 (0)\ttotal: 10.7ms\tremaining: 203ms\n",
      "5:\tlearn: 0.0319258\ttest: 0.0253478\tbest: 0.0253478 (5)\ttotal: 61.5ms\tremaining: 144ms\n",
      "10:\tlearn: 0.0295098\ttest: 0.0245592\tbest: 0.0245592 (10)\ttotal: 112ms\tremaining: 91.7ms\n",
      "15:\tlearn: 0.0271786\ttest: 0.0236681\tbest: 0.0236681 (15)\ttotal: 154ms\tremaining: 38.5ms\n",
      "19:\tlearn: 0.0257024\ttest: 0.0232142\tbest: 0.0232142 (19)\ttotal: 192ms\tremaining: 0us\n",
      "\n",
      "bestTest = 0.02321416215\n",
      "bestIteration = 19\n",
      "\n"
     ]
    }
   ],
   "source": [
    "from sklearn.model_selection import StratifiedKFold\n",
    "\n",
    "skf = StratifiedKFold(n_splits=5, shuffle=True, random_state=42)\n",
    "\n",
    "for i, (train_index, test_index) in enumerate(skf.split(X_train, y_train)):\n",
    "    print(f\"Fold {i}:\")\n",
    "    xtrain, xtest = X_train.iloc[train_index], X_train.iloc[test_index]\n",
    "    ytrain, ytest = y_train[train_index], y_train[test_index]\n",
    "    if i == 0:\n",
    "        best_model.fit(xtrain, ytrain, eval_set=(xtest, ytest), plot=True)\n",
    "    else:\n",
    "        best_model.fit(xtrain, ytrain, eval_set=(xtest, ytest), init_model=best_model, plot=True)"
   ]
  },
  {
   "cell_type": "code",
   "execution_count": 84,
   "outputs": [
    {
     "data": {
      "text/plain": "array([1.       , 0.9047619, 0.95     , 0.9      , 0.85     ])"
     },
     "execution_count": 84,
     "metadata": {},
     "output_type": "execute_result"
    }
   ],
   "source": [
    "from sklearn.model_selection import cross_val_score\n",
    "\n",
    "cv = cross_val_score(best_model, X, y, n_jobs=-1)\n",
    "cv"
   ],
   "metadata": {
    "collapsed": false
   }
  },
  {
   "cell_type": "code",
   "execution_count": 85,
   "metadata": {},
   "outputs": [
    {
     "name": "stdout",
     "output_type": "stream",
     "text": [
      "Accuracy: 0.9090909090909091\n",
      "              precision    recall  f1-score   support\n",
      "\n",
      "           0       0.80      1.00      0.89         4\n",
      "           1       1.00      0.86      0.92         7\n",
      "\n",
      "    accuracy                           0.91        11\n",
      "   macro avg       0.90      0.93      0.91        11\n",
      "weighted avg       0.93      0.91      0.91        11\n",
      "\n"
     ]
    }
   ],
   "source": [
    "from sklearn.metrics import accuracy_score, classification_report\n",
    "\n",
    "y_pred = best_model.predict(X_test)\n",
    "\n",
    "print(\"Accuracy:\", accuracy_score(y_test, y_pred))\n",
    "\n",
    "print(classification_report(y_test, y_pred))"
   ]
  },
  {
   "cell_type": "code",
   "execution_count": 86,
   "metadata": {
    "collapsed": true,
    "jupyter": {
     "outputs_hidden": true,
     "source_hidden": true
    },
    "scrolled": true
   },
   "outputs": [
    {
     "data": {
      "text/plain": "                                              Feature  Importance\n3                                               Weiss   34.436076\n1                             Максимальный размер, мм    8.162881\n28                                           16dP2_3A    4.460840\n51                                           aTHB_THB    3.304448\n54                                        THE_11oxoP3    2.851907\n29                                                dA3    2.786565\n48                                           THF_THE1    1.883777\n52                                          11An_11Et    1.641268\n14                                                 Et    1.615940\n49                                            THF_THE    1.582744\n27                                             dP3_3А    1.536861\n13                                                 An    1.507603\n8                                          ДГЭА-С        1.346744\n44                                                HHB    1.343288\n38                                                THA    1.334923\n17                                          16DHEA-3a    1.270750\n15                                            dA2_17B    1.253561\n18                                          16DHEA-3b    1.233233\n45                                              An|Et    1.205630\n31                                            11oxoP3    1.187186\n9                    свободный кортизол мочи (ВЭЖХ)      1.167657\n43                                           THF/THE2    1.158191\n11            18 гидроксикортикостерон мочи (ВЭЖХ)       1.136287\n32                                                THS    1.100968\n6     Кортизол после пробы с 1 мг дексаметазона (ДМТ)    1.071416\n16                                               DHEA    1.052782\n24                                                 P2    1.025324\n4                                 Кортизол крови утро    1.006730\n36                                                THF    0.946588\n7                                         АКТГ  утром    0.909665\n22                                               11Et    0.880414\n19                                            11охоET    0.867236\n50                                           aTHF_THF    0.834490\n42                                            alloTHE    0.795106\n20                                             17-ОНP    0.751682\n37                                            alloTHF    0.749135\n23                                                 A3    0.739159\n30                                            11oxoP2    0.685692\n21                                               11An    0.668827\n46                                             THE_P3    0.653619\n41                                                 CL    0.644471\n5                                Кортизол крови вечер    0.618365\n10                  свободный кортизон мочи (ВЭЖХ)       0.565467\n53                                            THE_THS    0.523068\n2                             Нативная плотность, НU     0.520968\n26                                                dP2    0.519982\n39                                                aCN    0.459904\n47                                            THB_THA    0.398540\n33                                                THE    0.302792\n25                                                 P3    0.277346\n40                                                bCN    0.270802\n34                                                THB    0.270611\n12  Индекс свободный кортизон/свободный кортизол в...    0.257832\n35                                            alloTHB    0.193010\n0    Гормональная активность 0-нет               1-да    0.029648",
      "text/html": "<div>\n<style scoped>\n    .dataframe tbody tr th:only-of-type {\n        vertical-align: middle;\n    }\n\n    .dataframe tbody tr th {\n        vertical-align: top;\n    }\n\n    .dataframe thead th {\n        text-align: right;\n    }\n</style>\n<table border=\"1\" class=\"dataframe\">\n  <thead>\n    <tr style=\"text-align: right;\">\n      <th></th>\n      <th>Feature</th>\n      <th>Importance</th>\n    </tr>\n  </thead>\n  <tbody>\n    <tr>\n      <th>3</th>\n      <td>Weiss</td>\n      <td>34.436076</td>\n    </tr>\n    <tr>\n      <th>1</th>\n      <td>Максимальный размер, мм</td>\n      <td>8.162881</td>\n    </tr>\n    <tr>\n      <th>28</th>\n      <td>16dP2_3A</td>\n      <td>4.460840</td>\n    </tr>\n    <tr>\n      <th>51</th>\n      <td>aTHB_THB</td>\n      <td>3.304448</td>\n    </tr>\n    <tr>\n      <th>54</th>\n      <td>THE_11oxoP3</td>\n      <td>2.851907</td>\n    </tr>\n    <tr>\n      <th>29</th>\n      <td>dA3</td>\n      <td>2.786565</td>\n    </tr>\n    <tr>\n      <th>48</th>\n      <td>THF_THE1</td>\n      <td>1.883777</td>\n    </tr>\n    <tr>\n      <th>52</th>\n      <td>11An_11Et</td>\n      <td>1.641268</td>\n    </tr>\n    <tr>\n      <th>14</th>\n      <td>Et</td>\n      <td>1.615940</td>\n    </tr>\n    <tr>\n      <th>49</th>\n      <td>THF_THE</td>\n      <td>1.582744</td>\n    </tr>\n    <tr>\n      <th>27</th>\n      <td>dP3_3А</td>\n      <td>1.536861</td>\n    </tr>\n    <tr>\n      <th>13</th>\n      <td>An</td>\n      <td>1.507603</td>\n    </tr>\n    <tr>\n      <th>8</th>\n      <td>ДГЭА-С</td>\n      <td>1.346744</td>\n    </tr>\n    <tr>\n      <th>44</th>\n      <td>HHB</td>\n      <td>1.343288</td>\n    </tr>\n    <tr>\n      <th>38</th>\n      <td>THA</td>\n      <td>1.334923</td>\n    </tr>\n    <tr>\n      <th>17</th>\n      <td>16DHEA-3a</td>\n      <td>1.270750</td>\n    </tr>\n    <tr>\n      <th>15</th>\n      <td>dA2_17B</td>\n      <td>1.253561</td>\n    </tr>\n    <tr>\n      <th>18</th>\n      <td>16DHEA-3b</td>\n      <td>1.233233</td>\n    </tr>\n    <tr>\n      <th>45</th>\n      <td>An|Et</td>\n      <td>1.205630</td>\n    </tr>\n    <tr>\n      <th>31</th>\n      <td>11oxoP3</td>\n      <td>1.187186</td>\n    </tr>\n    <tr>\n      <th>9</th>\n      <td>свободный кортизол мочи (ВЭЖХ)</td>\n      <td>1.167657</td>\n    </tr>\n    <tr>\n      <th>43</th>\n      <td>THF/THE2</td>\n      <td>1.158191</td>\n    </tr>\n    <tr>\n      <th>11</th>\n      <td>18 гидроксикортикостерон мочи (ВЭЖХ)</td>\n      <td>1.136287</td>\n    </tr>\n    <tr>\n      <th>32</th>\n      <td>THS</td>\n      <td>1.100968</td>\n    </tr>\n    <tr>\n      <th>6</th>\n      <td>Кортизол после пробы с 1 мг дексаметазона (ДМТ)</td>\n      <td>1.071416</td>\n    </tr>\n    <tr>\n      <th>16</th>\n      <td>DHEA</td>\n      <td>1.052782</td>\n    </tr>\n    <tr>\n      <th>24</th>\n      <td>P2</td>\n      <td>1.025324</td>\n    </tr>\n    <tr>\n      <th>4</th>\n      <td>Кортизол крови утро</td>\n      <td>1.006730</td>\n    </tr>\n    <tr>\n      <th>36</th>\n      <td>THF</td>\n      <td>0.946588</td>\n    </tr>\n    <tr>\n      <th>7</th>\n      <td>АКТГ  утром</td>\n      <td>0.909665</td>\n    </tr>\n    <tr>\n      <th>22</th>\n      <td>11Et</td>\n      <td>0.880414</td>\n    </tr>\n    <tr>\n      <th>19</th>\n      <td>11охоET</td>\n      <td>0.867236</td>\n    </tr>\n    <tr>\n      <th>50</th>\n      <td>aTHF_THF</td>\n      <td>0.834490</td>\n    </tr>\n    <tr>\n      <th>42</th>\n      <td>alloTHE</td>\n      <td>0.795106</td>\n    </tr>\n    <tr>\n      <th>20</th>\n      <td>17-ОНP</td>\n      <td>0.751682</td>\n    </tr>\n    <tr>\n      <th>37</th>\n      <td>alloTHF</td>\n      <td>0.749135</td>\n    </tr>\n    <tr>\n      <th>23</th>\n      <td>A3</td>\n      <td>0.739159</td>\n    </tr>\n    <tr>\n      <th>30</th>\n      <td>11oxoP2</td>\n      <td>0.685692</td>\n    </tr>\n    <tr>\n      <th>21</th>\n      <td>11An</td>\n      <td>0.668827</td>\n    </tr>\n    <tr>\n      <th>46</th>\n      <td>THE_P3</td>\n      <td>0.653619</td>\n    </tr>\n    <tr>\n      <th>41</th>\n      <td>CL</td>\n      <td>0.644471</td>\n    </tr>\n    <tr>\n      <th>5</th>\n      <td>Кортизол крови вечер</td>\n      <td>0.618365</td>\n    </tr>\n    <tr>\n      <th>10</th>\n      <td>свободный кортизон мочи (ВЭЖХ)</td>\n      <td>0.565467</td>\n    </tr>\n    <tr>\n      <th>53</th>\n      <td>THE_THS</td>\n      <td>0.523068</td>\n    </tr>\n    <tr>\n      <th>2</th>\n      <td>Нативная плотность, НU</td>\n      <td>0.520968</td>\n    </tr>\n    <tr>\n      <th>26</th>\n      <td>dP2</td>\n      <td>0.519982</td>\n    </tr>\n    <tr>\n      <th>39</th>\n      <td>aCN</td>\n      <td>0.459904</td>\n    </tr>\n    <tr>\n      <th>47</th>\n      <td>THB_THA</td>\n      <td>0.398540</td>\n    </tr>\n    <tr>\n      <th>33</th>\n      <td>THE</td>\n      <td>0.302792</td>\n    </tr>\n    <tr>\n      <th>25</th>\n      <td>P3</td>\n      <td>0.277346</td>\n    </tr>\n    <tr>\n      <th>40</th>\n      <td>bCN</td>\n      <td>0.270802</td>\n    </tr>\n    <tr>\n      <th>34</th>\n      <td>THB</td>\n      <td>0.270611</td>\n    </tr>\n    <tr>\n      <th>12</th>\n      <td>Индекс свободный кортизон/свободный кортизол в...</td>\n      <td>0.257832</td>\n    </tr>\n    <tr>\n      <th>35</th>\n      <td>alloTHB</td>\n      <td>0.193010</td>\n    </tr>\n    <tr>\n      <th>0</th>\n      <td>Гормональная активность 0-нет               1-да</td>\n      <td>0.029648</td>\n    </tr>\n  </tbody>\n</table>\n</div>"
     },
     "execution_count": 86,
     "metadata": {},
     "output_type": "execute_result"
    }
   ],
   "source": [
    "feature_importances = best_model.get_feature_importance()\n",
    "feature_names = X.columns\n",
    "\n",
    "importance_df = pd.DataFrame({\n",
    "    'Feature': feature_names,\n",
    "    'Importance': feature_importances\n",
    "}).sort_values(by='Importance', ascending=False)\n",
    "\n",
    "importance_df"
   ]
  }
 ],
 "metadata": {
  "kernelspec": {
   "display_name": "Python 3 (ipykernel)",
   "language": "python",
   "name": "python3"
  },
  "language_info": {
   "codemirror_mode": {
    "name": "ipython",
    "version": 3
   },
   "file_extension": ".py",
   "mimetype": "text/x-python",
   "name": "python",
   "nbconvert_exporter": "python",
   "pygments_lexer": "ipython3",
   "version": "3.10.16"
  }
 },
 "nbformat": 4,
 "nbformat_minor": 4
}
