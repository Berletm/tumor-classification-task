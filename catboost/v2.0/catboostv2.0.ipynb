{
 "cells": [
  {
   "cell_type": "code",
   "execution_count": null,
   "metadata": {},
   "outputs": [],
   "source": [
    "import pandas as pd\n",
    "import numpy as np"
   ]
  },
  {
   "cell_type": "code",
   "execution_count": null,
   "metadata": {
    "collapsed": false,
    "jupyter": {
     "outputs_hidden": false
    }
   },
   "outputs": [],
   "source": [
    "data = pd.read_excel(\"tumor-data-without-healthy.xlsx\")"
   ]
  },
  {
   "cell_type": "code",
   "execution_count": null,
   "metadata": {
    "collapsed": false,
    "jupyter": {
     "outputs_hidden": false
    }
   },
   "outputs": [],
   "source": [
    "labels = [value for column, value in data.iloc[0].items()]\n",
    "data = data.set_axis(labels, axis=1)\n",
    "data = data[data.columns[1:]].apply(\n",
    "    lambda x: pd.to_numeric(x.replace('<', '').replace(',', '.'), errors='coerce')\n",
    ")\n",
    "data.drop(index=0, inplace=True)\n",
    "data[\"Гормональная активность 0-нет               1-да\"] = data[\"Гормональная активность 0-нет               1-да\"].astype(str)\n",
    "data[\"Гормональная активность 0-нет               1-да\"] = data[\"Гормональная активность 0-нет               1-да\"].fillna(\"missing\")"
   ]
  },
  {
   "cell_type": "code",
   "execution_count": null,
   "metadata": {
    "collapsed": false,
    "jupyter": {
     "outputs_hidden": false
    }
   },
   "outputs": [],
   "source": [
    "\"\"\" dropping some columns \"\"\"\n",
    "\n",
    "data.dropna(axis=1, how=\"all\", inplace=True)\n",
    "data.dropna(axis=0, thresh=int(data.shape[1]*0.6), inplace=True)\n",
    "data.dropna(axis=1, thresh=int(data.shape[0]*0.6), inplace=True)\n",
    "data.drop([\"Пол:    0-жен, 1-муж\"], inplace=True, axis=1)"
   ]
  },
  {
   "cell_type": "code",
   "execution_count": null,
   "metadata": {
    "collapsed": false,
    "jupyter": {
     "outputs_hidden": false
    }
   },
   "outputs": [],
   "source": [
    "X = data.drop(columns=[\"КАН\", \"АКР\"])\n",
    "y = np.argmax(data[[\"КАН\", \"АКР\"]], axis=1)"
   ]
  },
  {
   "cell_type": "code",
   "execution_count": null,
   "metadata": {
    "collapsed": false,
    "jupyter": {
     "outputs_hidden": false
    }
   },
   "outputs": [],
   "source": [
    "from sklearn.model_selection import train_test_split\n",
    "\n",
    "X_train, X_test, y_train, y_test = train_test_split(X, y, train_size=0.9, random_state=42)"
   ]
  },
  {
   "cell_type": "code",
   "execution_count": null,
   "metadata": {
    "collapsed": false,
    "jupyter": {
     "outputs_hidden": false
    }
   },
   "outputs": [],
   "source": [
    "from catboost import CatBoostClassifier\n",
    "\n",
    "model = CatBoostClassifier(loss_function = \"Logloss\",\n",
    "                           cat_features = [\"Гормональная активность 0-нет               1-да\"],\n",
    "                           verbose=5,\n",
    "                           thread_count=-1)"
   ]
  },
  {
   "cell_type": "code",
   "execution_count": null,
   "metadata": {
    "collapsed": false,
    "jupyter": {
     "outputs_hidden": false
    }
   },
   "outputs": [],
   "source": [
    "\"\"\"from sklearn.model_selection import GridSearchCV\n",
    "\n",
    "param_grid = {\n",
    "    'iterations': [20, 40, 60],\n",
    "    'learning_rate': [0.01, 0.1, 0.5],\n",
    "    'depth': [6, 8, 10],\n",
    "    'l2_leaf_reg': [1, 3, 5]\n",
    "}\n",
    "\n",
    "grid_search = GridSearchCV(estimator=model, param_grid=param_grid, n_jobs=-1)\n",
    "\n",
    "grid_search.fit(X_train, y_train)\n",
    "print(grid_search.best_params_)\"\"\""
   ]
  },
  {
   "cell_type": "code",
   "execution_count": 275,
   "metadata": {
    "collapsed": false,
    "jupyter": {
     "outputs_hidden": false
    }
   },
   "outputs": [],
   "source": [
    "best_model = CatBoostClassifier(iterations=20,\n",
    "                                depth=10,\n",
    "                                l2_leaf_reg=3,\n",
    "                                learning_rate=0.1,\n",
    "                                loss_function = \"Logloss\",\n",
    "                                custom_loss=[\"F1\", \"Accuracy\", \"AUC\", \"Recall\"],\n",
    "                                verbose=5,\n",
    "                                thread_count=-1)"
   ]
  },
  {
   "cell_type": "code",
   "execution_count": null,
   "metadata": {
    "collapsed": true,
    "jupyter": {
     "outputs_hidden": true
    },
    "scrolled": true
   },
   "outputs": [],
   "source": [
    "start_idx = 0\n",
    "end_idx = int(len(X)*0.8)\n",
    "step = 2\n",
    "while end_idx <= X.shape[0]:\n",
    "    current_training_data = (X[start_idx:end_idx], y[start_idx:end_idx])\n",
    "    if start_idx == 0:\n",
    "        current_validating_data = (X[end_idx:], y[end_idx:])\n",
    "    else:\n",
    "        current_validating_data = (np.concatenate((X[end_idx:], X[:start_idx])),  np.concatenate((y[end_idx:], y[:start_idx])))\n",
    "    if start_idx == 0 :\n",
    "        best_model.fit(current_training_data[0], current_training_data[1], eval_set=current_validating_data, plot=True)\n",
    "    else:\n",
    "        best_model.fit(current_training_data[0], current_training_data[1], eval_set=current_validating_data, plot=True,\n",
    "                       init_model=best_model)\n",
    "    start_idx += step\n",
    "    end_idx += step"
   ]
  },
  {
   "cell_type": "code",
   "execution_count": 276,
   "metadata": {
    "collapsed": true,
    "jupyter": {
     "outputs_hidden": true
    }
   },
   "outputs": [
    {
     "name": "stdout",
     "output_type": "stream",
     "text": [
      "Fold 0:\n"
     ]
    },
    {
     "data": {
      "text/plain": "MetricVisualizer(layout=Layout(align_self='stretch', height='500px'))",
      "application/vnd.jupyter.widget-view+json": {
       "version_major": 2,
       "version_minor": 0,
       "model_id": "c6774f410a0e4171a000067c0201b6b2"
      }
     },
     "metadata": {},
     "output_type": "display_data"
    },
    {
     "name": "stdout",
     "output_type": "stream",
     "text": [
      "0:\tlearn: 0.6255571\ttest: 0.6733228\tbest: 0.6733228 (0)\ttotal: 13.1ms\tremaining: 248ms\n",
      "5:\tlearn: 0.3605728\ttest: 0.4844073\tbest: 0.4844073 (5)\ttotal: 58ms\tremaining: 135ms\n",
      "10:\tlearn: 0.2535011\ttest: 0.4325968\tbest: 0.4325968 (10)\ttotal: 120ms\tremaining: 98ms\n",
      "15:\tlearn: 0.1759936\ttest: 0.3869786\tbest: 0.3869786 (15)\ttotal: 175ms\tremaining: 43.7ms\n",
      "19:\tlearn: 0.1299474\ttest: 0.3233390\tbest: 0.3233390 (19)\ttotal: 205ms\tremaining: 0us\n",
      "\n",
      "bestTest = 0.3233390364\n",
      "bestIteration = 19\n",
      "\n",
      "Fold 1:\n"
     ]
    },
    {
     "data": {
      "text/plain": "MetricVisualizer(layout=Layout(align_self='stretch', height='500px'))",
      "application/vnd.jupyter.widget-view+json": {
       "version_major": 2,
       "version_minor": 0,
       "model_id": "4b1f94ed44474db98866921eaf912f27"
      }
     },
     "metadata": {},
     "output_type": "display_data"
    },
    {
     "name": "stdout",
     "output_type": "stream",
     "text": [
      "0:\tlearn: 0.1699543\ttest: 0.1268378\tbest: 0.1268378 (0)\ttotal: 12.1ms\tremaining: 231ms\n",
      "5:\tlearn: 0.1298347\ttest: 0.1161036\tbest: 0.1161036 (5)\ttotal: 64.9ms\tremaining: 151ms\n",
      "10:\tlearn: 0.1038303\ttest: 0.1113384\tbest: 0.1113384 (10)\ttotal: 114ms\tremaining: 93.3ms\n",
      "15:\tlearn: 0.0853426\ttest: 0.1052391\tbest: 0.1052391 (15)\ttotal: 160ms\tremaining: 39.9ms\n",
      "19:\tlearn: 0.0747605\ttest: 0.1036375\tbest: 0.1036375 (19)\ttotal: 195ms\tremaining: 0us\n",
      "\n",
      "bestTest = 0.1036374785\n",
      "bestIteration = 19\n",
      "\n",
      "Fold 2:\n"
     ]
    },
    {
     "data": {
      "text/plain": "MetricVisualizer(layout=Layout(align_self='stretch', height='500px'))",
      "application/vnd.jupyter.widget-view+json": {
       "version_major": 2,
       "version_minor": 0,
       "model_id": "df48cf95f83b47679a86ac4eb8d7530c"
      }
     },
     "metadata": {},
     "output_type": "display_data"
    },
    {
     "name": "stdout",
     "output_type": "stream",
     "text": [
      "0:\tlearn: 0.0821973\ttest: 0.0617478\tbest: 0.0617478 (0)\ttotal: 10.3ms\tremaining: 195ms\n",
      "5:\tlearn: 0.0703678\ttest: 0.0571484\tbest: 0.0571484 (5)\ttotal: 52.7ms\tremaining: 123ms\n",
      "10:\tlearn: 0.0599429\ttest: 0.0537117\tbest: 0.0537117 (10)\ttotal: 92.1ms\tremaining: 75.4ms\n",
      "15:\tlearn: 0.0511397\ttest: 0.0501905\tbest: 0.0501905 (15)\ttotal: 138ms\tremaining: 34.6ms\n",
      "19:\tlearn: 0.0465602\ttest: 0.0491148\tbest: 0.0491148 (19)\ttotal: 176ms\tremaining: 0us\n",
      "\n",
      "bestTest = 0.04911478707\n",
      "bestIteration = 19\n",
      "\n",
      "Fold 3:\n"
     ]
    },
    {
     "data": {
      "text/plain": "MetricVisualizer(layout=Layout(align_self='stretch', height='500px'))",
      "application/vnd.jupyter.widget-view+json": {
       "version_major": 2,
       "version_minor": 0,
       "model_id": "afb3dec66638495884e0c5528beeb1b8"
      }
     },
     "metadata": {},
     "output_type": "display_data"
    },
    {
     "name": "stdout",
     "output_type": "stream",
     "text": [
      "0:\tlearn: 0.0480806\ttest: 0.0391918\tbest: 0.0391918 (0)\ttotal: 10.4ms\tremaining: 198ms\n",
      "5:\tlearn: 0.0432845\ttest: 0.0385988\tbest: 0.0385988 (5)\ttotal: 60.8ms\tremaining: 142ms\n",
      "10:\tlearn: 0.0391574\ttest: 0.0383335\tbest: 0.0383335 (10)\ttotal: 113ms\tremaining: 92.5ms\n",
      "15:\tlearn: 0.0357416\ttest: 0.0381091\tbest: 0.0381091 (15)\ttotal: 162ms\tremaining: 40.5ms\n",
      "19:\tlearn: 0.0332635\ttest: 0.0377223\tbest: 0.0375750 (17)\ttotal: 202ms\tremaining: 0us\n",
      "\n",
      "bestTest = 0.03757501655\n",
      "bestIteration = 17\n",
      "\n",
      "Shrink model to first 18 iterations.\n",
      "Fold 4:\n"
     ]
    },
    {
     "data": {
      "text/plain": "MetricVisualizer(layout=Layout(align_self='stretch', height='500px'))",
      "application/vnd.jupyter.widget-view+json": {
       "version_major": 2,
       "version_minor": 0,
       "model_id": "bce00cdb617f4259bf6d742f5eff289a"
      }
     },
     "metadata": {},
     "output_type": "display_data"
    },
    {
     "name": "stdout",
     "output_type": "stream",
     "text": [
      "0:\tlearn: 0.0361078\ttest: 0.0277129\tbest: 0.0277129 (0)\ttotal: 10ms\tremaining: 190ms\n",
      "5:\tlearn: 0.0330275\ttest: 0.0270366\tbest: 0.0270366 (5)\ttotal: 59.1ms\tremaining: 138ms\n",
      "10:\tlearn: 0.0294106\ttest: 0.0247587\tbest: 0.0247587 (10)\ttotal: 85.1ms\tremaining: 69.6ms\n",
      "15:\tlearn: 0.0272333\ttest: 0.0239442\tbest: 0.0239442 (15)\ttotal: 131ms\tremaining: 32.8ms\n",
      "19:\tlearn: 0.0255199\ttest: 0.0234402\tbest: 0.0234402 (19)\ttotal: 165ms\tremaining: 0us\n",
      "\n",
      "bestTest = 0.02344023861\n",
      "bestIteration = 19\n",
      "\n"
     ]
    }
   ],
   "source": [
    "from sklearn.model_selection import StratifiedKFold\n",
    "\n",
    "skf = StratifiedKFold(n_splits=5, shuffle=True, random_state=42)\n",
    "\n",
    "for i, (train_index, test_index) in enumerate(skf.split(X_train, y_train)):\n",
    "    print(f\"Fold {i}:\")\n",
    "    xtrain, xtest = X_train.iloc[train_index], X_train.iloc[test_index]\n",
    "    ytrain, ytest = y_train[train_index], y_train[test_index]\n",
    "    if i == 0:\n",
    "        best_model.fit(xtrain, ytrain, eval_set=(xtest, ytest), plot=True)\n",
    "    else:\n",
    "        best_model.fit(xtrain, ytrain, eval_set=(xtest, ytest), init_model=best_model, plot=True)"
   ]
  },
  {
   "cell_type": "code",
   "execution_count": 277,
   "metadata": {},
   "outputs": [
    {
     "name": "stdout",
     "output_type": "stream",
     "text": [
      "Accuracy: 0.9090909090909091\n",
      "              precision    recall  f1-score   support\n",
      "\n",
      "           0       0.80      1.00      0.89         4\n",
      "           1       1.00      0.86      0.92         7\n",
      "\n",
      "    accuracy                           0.91        11\n",
      "   macro avg       0.90      0.93      0.91        11\n",
      "weighted avg       0.93      0.91      0.91        11\n",
      "\n"
     ]
    }
   ],
   "source": [
    "from sklearn.metrics import accuracy_score, classification_report\n",
    "\n",
    "y_pred = best_model.predict(X_test)\n",
    "\n",
    "print(\"Accuracy:\", accuracy_score(y_test, y_pred))\n",
    "\n",
    "print(classification_report(y_test, y_pred))"
   ]
  },
  {
   "cell_type": "code",
   "execution_count": 274,
   "metadata": {
    "collapsed": true,
    "jupyter": {
     "outputs_hidden": true,
     "source_hidden": true
    },
    "scrolled": true
   },
   "outputs": [
    {
     "data": {
      "text/plain": "                                              Feature  Importance\n3                                               Weiss   26.672042\n1                             Максимальный размер, мм   14.815787\n28                                           16dP2_3A    7.656574\n12  Индекс свободный кортизон/свободный кортизол в...    4.182032\n48                                           THF_THE1    2.502675\n49                                            THF_THE    2.409132\n37                                            alloTHF    2.328603\n14                                                 Et    2.259443\n4                                 Кортизол крови утро    2.228118\n51                                           aTHB_THB    2.189375\n16                                               DHEA    2.172095\n53                                            THE_THS    1.824096\n10                  свободный кортизон мочи (ВЭЖХ)       1.600010\n18                                          16DHEA-3b    1.549206\n35                                            alloTHB    1.461779\n29                                                dA3    1.445694\n20                                             17-ОНP    1.333889\n11            18 гидроксикортикостерон мочи (ВЭЖХ)       1.215364\n31                                            11oxoP3    1.187732\n17                                          16DHEA-3a    1.128560\n24                                                 P2    1.119294\n30                                            11oxoP2    1.028482\n21                                               11An    1.027663\n25                                                 P3    0.961010\n19                                            11охоET    0.959878\n52                                          11An_11Et    0.956187\n2                             Нативная плотность, НU     0.882848\n32                                                THS    0.877852\n42                                            alloTHE    0.807881\n27                                             dP3_3А    0.751678\n43                                           THF/THE2    0.646043\n7                                         АКТГ  утром    0.645899\n45                                              An|Et    0.599183\n39                                                aCN    0.593797\n8                                          ДГЭА-С        0.505700\n33                                                THE    0.481564\n6     Кортизол после пробы с 1 мг дексаметазона (ДМТ)    0.444810\n54                                        THE_11oxoP3    0.407938\n26                                                dP2    0.398047\n5                                Кортизол крови вечер    0.388801\n15                                            dA2_17B    0.368895\n44                                                HHB    0.368403\n13                                                 An    0.357134\n9                    свободный кортизол мочи (ВЭЖХ)      0.307073\n36                                                THF    0.304065\n50                                           aTHF_THF    0.273366\n46                                             THE_P3    0.236899\n22                                               11Et    0.223044\n40                                                bCN    0.198681\n23                                                 A3    0.191745\n38                                                THA    0.179364\n47                                            THB_THA    0.174193\n0    Гормональная активность 0-нет               1-да    0.111459\n41                                                 CL    0.036908\n34                                                THB    0.022010",
      "text/html": "<div>\n<style scoped>\n    .dataframe tbody tr th:only-of-type {\n        vertical-align: middle;\n    }\n\n    .dataframe tbody tr th {\n        vertical-align: top;\n    }\n\n    .dataframe thead th {\n        text-align: right;\n    }\n</style>\n<table border=\"1\" class=\"dataframe\">\n  <thead>\n    <tr style=\"text-align: right;\">\n      <th></th>\n      <th>Feature</th>\n      <th>Importance</th>\n    </tr>\n  </thead>\n  <tbody>\n    <tr>\n      <th>3</th>\n      <td>Weiss</td>\n      <td>26.672042</td>\n    </tr>\n    <tr>\n      <th>1</th>\n      <td>Максимальный размер, мм</td>\n      <td>14.815787</td>\n    </tr>\n    <tr>\n      <th>28</th>\n      <td>16dP2_3A</td>\n      <td>7.656574</td>\n    </tr>\n    <tr>\n      <th>12</th>\n      <td>Индекс свободный кортизон/свободный кортизол в...</td>\n      <td>4.182032</td>\n    </tr>\n    <tr>\n      <th>48</th>\n      <td>THF_THE1</td>\n      <td>2.502675</td>\n    </tr>\n    <tr>\n      <th>49</th>\n      <td>THF_THE</td>\n      <td>2.409132</td>\n    </tr>\n    <tr>\n      <th>37</th>\n      <td>alloTHF</td>\n      <td>2.328603</td>\n    </tr>\n    <tr>\n      <th>14</th>\n      <td>Et</td>\n      <td>2.259443</td>\n    </tr>\n    <tr>\n      <th>4</th>\n      <td>Кортизол крови утро</td>\n      <td>2.228118</td>\n    </tr>\n    <tr>\n      <th>51</th>\n      <td>aTHB_THB</td>\n      <td>2.189375</td>\n    </tr>\n    <tr>\n      <th>16</th>\n      <td>DHEA</td>\n      <td>2.172095</td>\n    </tr>\n    <tr>\n      <th>53</th>\n      <td>THE_THS</td>\n      <td>1.824096</td>\n    </tr>\n    <tr>\n      <th>10</th>\n      <td>свободный кортизон мочи (ВЭЖХ)</td>\n      <td>1.600010</td>\n    </tr>\n    <tr>\n      <th>18</th>\n      <td>16DHEA-3b</td>\n      <td>1.549206</td>\n    </tr>\n    <tr>\n      <th>35</th>\n      <td>alloTHB</td>\n      <td>1.461779</td>\n    </tr>\n    <tr>\n      <th>29</th>\n      <td>dA3</td>\n      <td>1.445694</td>\n    </tr>\n    <tr>\n      <th>20</th>\n      <td>17-ОНP</td>\n      <td>1.333889</td>\n    </tr>\n    <tr>\n      <th>11</th>\n      <td>18 гидроксикортикостерон мочи (ВЭЖХ)</td>\n      <td>1.215364</td>\n    </tr>\n    <tr>\n      <th>31</th>\n      <td>11oxoP3</td>\n      <td>1.187732</td>\n    </tr>\n    <tr>\n      <th>17</th>\n      <td>16DHEA-3a</td>\n      <td>1.128560</td>\n    </tr>\n    <tr>\n      <th>24</th>\n      <td>P2</td>\n      <td>1.119294</td>\n    </tr>\n    <tr>\n      <th>30</th>\n      <td>11oxoP2</td>\n      <td>1.028482</td>\n    </tr>\n    <tr>\n      <th>21</th>\n      <td>11An</td>\n      <td>1.027663</td>\n    </tr>\n    <tr>\n      <th>25</th>\n      <td>P3</td>\n      <td>0.961010</td>\n    </tr>\n    <tr>\n      <th>19</th>\n      <td>11охоET</td>\n      <td>0.959878</td>\n    </tr>\n    <tr>\n      <th>52</th>\n      <td>11An_11Et</td>\n      <td>0.956187</td>\n    </tr>\n    <tr>\n      <th>2</th>\n      <td>Нативная плотность, НU</td>\n      <td>0.882848</td>\n    </tr>\n    <tr>\n      <th>32</th>\n      <td>THS</td>\n      <td>0.877852</td>\n    </tr>\n    <tr>\n      <th>42</th>\n      <td>alloTHE</td>\n      <td>0.807881</td>\n    </tr>\n    <tr>\n      <th>27</th>\n      <td>dP3_3А</td>\n      <td>0.751678</td>\n    </tr>\n    <tr>\n      <th>43</th>\n      <td>THF/THE2</td>\n      <td>0.646043</td>\n    </tr>\n    <tr>\n      <th>7</th>\n      <td>АКТГ  утром</td>\n      <td>0.645899</td>\n    </tr>\n    <tr>\n      <th>45</th>\n      <td>An|Et</td>\n      <td>0.599183</td>\n    </tr>\n    <tr>\n      <th>39</th>\n      <td>aCN</td>\n      <td>0.593797</td>\n    </tr>\n    <tr>\n      <th>8</th>\n      <td>ДГЭА-С</td>\n      <td>0.505700</td>\n    </tr>\n    <tr>\n      <th>33</th>\n      <td>THE</td>\n      <td>0.481564</td>\n    </tr>\n    <tr>\n      <th>6</th>\n      <td>Кортизол после пробы с 1 мг дексаметазона (ДМТ)</td>\n      <td>0.444810</td>\n    </tr>\n    <tr>\n      <th>54</th>\n      <td>THE_11oxoP3</td>\n      <td>0.407938</td>\n    </tr>\n    <tr>\n      <th>26</th>\n      <td>dP2</td>\n      <td>0.398047</td>\n    </tr>\n    <tr>\n      <th>5</th>\n      <td>Кортизол крови вечер</td>\n      <td>0.388801</td>\n    </tr>\n    <tr>\n      <th>15</th>\n      <td>dA2_17B</td>\n      <td>0.368895</td>\n    </tr>\n    <tr>\n      <th>44</th>\n      <td>HHB</td>\n      <td>0.368403</td>\n    </tr>\n    <tr>\n      <th>13</th>\n      <td>An</td>\n      <td>0.357134</td>\n    </tr>\n    <tr>\n      <th>9</th>\n      <td>свободный кортизол мочи (ВЭЖХ)</td>\n      <td>0.307073</td>\n    </tr>\n    <tr>\n      <th>36</th>\n      <td>THF</td>\n      <td>0.304065</td>\n    </tr>\n    <tr>\n      <th>50</th>\n      <td>aTHF_THF</td>\n      <td>0.273366</td>\n    </tr>\n    <tr>\n      <th>46</th>\n      <td>THE_P3</td>\n      <td>0.236899</td>\n    </tr>\n    <tr>\n      <th>22</th>\n      <td>11Et</td>\n      <td>0.223044</td>\n    </tr>\n    <tr>\n      <th>40</th>\n      <td>bCN</td>\n      <td>0.198681</td>\n    </tr>\n    <tr>\n      <th>23</th>\n      <td>A3</td>\n      <td>0.191745</td>\n    </tr>\n    <tr>\n      <th>38</th>\n      <td>THA</td>\n      <td>0.179364</td>\n    </tr>\n    <tr>\n      <th>47</th>\n      <td>THB_THA</td>\n      <td>0.174193</td>\n    </tr>\n    <tr>\n      <th>0</th>\n      <td>Гормональная активность 0-нет               1-да</td>\n      <td>0.111459</td>\n    </tr>\n    <tr>\n      <th>41</th>\n      <td>CL</td>\n      <td>0.036908</td>\n    </tr>\n    <tr>\n      <th>34</th>\n      <td>THB</td>\n      <td>0.022010</td>\n    </tr>\n  </tbody>\n</table>\n</div>"
     },
     "execution_count": 274,
     "metadata": {},
     "output_type": "execute_result"
    }
   ],
   "source": [
    "feature_importances = best_model.get_feature_importance()\n",
    "feature_names = X.columns\n",
    "\n",
    "importance_df = pd.DataFrame({\n",
    "    'Feature': feature_names,\n",
    "    'Importance': feature_importances\n",
    "}).sort_values(by='Importance', ascending=False)\n",
    "\n",
    "importance_df"
   ]
  }
 ],
 "metadata": {
  "kernelspec": {
   "display_name": "Python 3 (ipykernel)",
   "language": "python",
   "name": "python3"
  },
  "language_info": {
   "codemirror_mode": {
    "name": "ipython",
    "version": 3
   },
   "file_extension": ".py",
   "mimetype": "text/x-python",
   "name": "python",
   "nbconvert_exporter": "python",
   "pygments_lexer": "ipython3",
   "version": "3.10.16"
  }
 },
 "nbformat": 4,
 "nbformat_minor": 4
}
