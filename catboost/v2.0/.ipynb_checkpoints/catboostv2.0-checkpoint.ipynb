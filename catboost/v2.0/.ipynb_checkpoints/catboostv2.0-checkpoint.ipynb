{
 "cells": [
  {
   "cell_type": "code",
   "execution_count": 1,
   "metadata": {},
   "outputs": [],
   "source": [
    "import pandas as pd\n",
    "import numpy as np"
   ]
  },
  {
   "cell_type": "code",
   "execution_count": 2,
   "metadata": {
    "collapsed": false,
    "jupyter": {
     "outputs_hidden": false
    }
   },
   "outputs": [],
   "source": [
    "data = pd.read_excel(\"tumor-data-without-healthy.xlsx\")"
   ]
  },
  {
   "cell_type": "code",
   "execution_count": 3,
   "metadata": {
    "collapsed": false,
    "jupyter": {
     "outputs_hidden": false
    }
   },
   "outputs": [],
   "source": [
    "labels = [value for column, value in data.iloc[0].items()]\n",
    "data = data.set_axis(labels, axis=1)\n",
    "data = data[data.columns[1:]].apply(\n",
    "    lambda x: pd.to_numeric(x.replace('<', '').replace(',', '.'), errors='coerce')\n",
    ")\n",
    "data.drop(index=0, inplace=True)\n",
    "data[\"Гормональная активность 0-нет               1-да\"] = data[\"Гормональная активность 0-нет               1-да\"].astype(str)\n",
    "data[\"Гормональная активность 0-нет               1-да\"] = data[\"Гормональная активность 0-нет               1-да\"].fillna(\"missing\")"
   ]
  },
  {
   "cell_type": "code",
   "execution_count": 4,
   "metadata": {
    "collapsed": false,
    "jupyter": {
     "outputs_hidden": false
    }
   },
   "outputs": [],
   "source": [
    "\"\"\" dropping some columns \"\"\"\n",
    "\n",
    "data.dropna(axis=1, how=\"all\", inplace=True)\n",
    "data.dropna(axis=0, thresh=int(data.shape[1]*0.6), inplace=True)\n",
    "data.dropna(axis=1, thresh=int(data.shape[0]*0.6), inplace=True)\n",
    "data.drop([\"Пол:    0-жен, 1-муж\"], inplace=True, axis=1)"
   ]
  },
  {
   "cell_type": "code",
   "execution_count": 5,
   "metadata": {
    "collapsed": false,
    "jupyter": {
     "outputs_hidden": false
    }
   },
   "outputs": [],
   "source": [
    "X = data.drop(columns=[\"КАН\", \"АКР\"])\n",
    "y = np.argmax(data[[\"КАН\", \"АКР\"]], axis=1)"
   ]
  },
  {
   "cell_type": "code",
   "execution_count": 6,
   "metadata": {
    "collapsed": false,
    "jupyter": {
     "outputs_hidden": false
    }
   },
   "outputs": [],
   "source": [
    "from sklearn.model_selection import train_test_split\n",
    "\n",
    "X_train, X_test, y_train, y_test = train_test_split(X, y, train_size=0.8, random_state=42)"
   ]
  },
  {
   "cell_type": "code",
   "execution_count": 7,
   "metadata": {
    "collapsed": false,
    "jupyter": {
     "outputs_hidden": false
    }
   },
   "outputs": [],
   "source": [
    "from catboost import CatBoostClassifier\n",
    "\n",
    "model = CatBoostClassifier(loss_function = \"Logloss\",\n",
    "                           cat_features = [\"Гормональная активность 0-нет               1-да\"],\n",
    "                           verbose=5,\n",
    "                           thread_count=-1)"
   ]
  },
  {
   "cell_type": "code",
   "execution_count": 19,
   "metadata": {
    "collapsed": false,
    "jupyter": {
     "outputs_hidden": false
    }
   },
   "outputs": [
    {
     "name": "stdout",
     "output_type": "stream",
     "text": [
      "0:\tlearn: 0.6163453\ttotal: 203ms\tremaining: 3.86s\n",
      "5:\tlearn: 0.3845463\ttotal: 555ms\tremaining: 1.29s\n",
      "10:\tlearn: 0.2562240\ttotal: 915ms\tremaining: 748ms\n",
      "15:\tlearn: 0.1754480\ttotal: 1.18s\tremaining: 296ms\n",
      "19:\tlearn: 0.1378558\ttotal: 1.41s\tremaining: 0us\n",
      "{'depth': 10, 'iterations': 20, 'l2_leaf_reg': 3, 'learning_rate': 0.1}\n"
     ]
    }
   ],
   "source": [
    "from sklearn.model_selection import GridSearchCV\n",
    "\n",
    "param_grid = {\n",
    "    'iterations': [10, 20, 30],\n",
    "    'learning_rate': [0.01, 0.1, 0.5],\n",
    "    'depth': [6, 8, 10],\n",
    "    'l2_leaf_reg': [1, 3, 5]\n",
    "}\n",
    "\n",
    "grid_search = GridSearchCV(estimator=model, param_grid=param_grid, n_jobs=-1)\n",
    "\n",
    "grid_search.fit(X_train, y_train)\n",
    "print(grid_search.best_params_)"
   ]
  },
  {
   "cell_type": "code",
   "execution_count": 8,
   "metadata": {
    "collapsed": false,
    "jupyter": {
     "outputs_hidden": false
    }
   },
   "outputs": [],
   "source": [
    "best_model = CatBoostClassifier(iterations=100,\n",
    "                                depth=10,\n",
    "                                l2_leaf_reg=3,\n",
    "                                learning_rate=0.1,\n",
    "                                loss_function = \"Logloss\",\n",
    "                                custom_loss=[\"AUC\", \"Accuracy\"],\n",
    "                                cat_features = [\"Гормональная активность 0-нет               1-да\"],\n",
    "                                verbose=5,\n",
    "                                thread_count=-1)"
   ]
  },
  {
   "cell_type": "code",
   "execution_count": 9,
   "metadata": {
    "collapsed": false,
    "jupyter": {
     "outputs_hidden": false
    }
   },
   "outputs": [
    {
     "data": {
      "application/vnd.jupyter.widget-view+json": {
       "model_id": "68afbc97c462435eba5e8dd8519548c1",
       "version_major": 2,
       "version_minor": 0
      },
      "text/plain": [
       "MetricVisualizer(layout=Layout(align_self='stretch', height='500px'))"
      ]
     },
     "metadata": {},
     "output_type": "display_data"
    },
    {
     "name": "stdout",
     "output_type": "stream",
     "text": [
      "0:\tlearn: 0.6163453\ttest: 0.6327289\tbest: 0.6327289 (0)\ttotal: 171ms\tremaining: 3.24s\n",
      "5:\tlearn: 0.3845463\ttest: 0.5569464\tbest: 0.5569464 (5)\ttotal: 418ms\tremaining: 974ms\n",
      "10:\tlearn: 0.2562240\ttest: 0.4942507\tbest: 0.4942507 (10)\ttotal: 656ms\tremaining: 537ms\n",
      "15:\tlearn: 0.1754480\ttest: 0.4447519\tbest: 0.4447519 (15)\ttotal: 874ms\tremaining: 219ms\n",
      "19:\tlearn: 0.1378558\ttest: 0.4280364\tbest: 0.4280364 (19)\ttotal: 1.08s\tremaining: 0us\n",
      "\n",
      "bestTest = 0.4280363607\n",
      "bestIteration = 19\n",
      "\n"
     ]
    },
    {
     "data": {
      "text/plain": [
       "<catboost.core.CatBoostClassifier at 0x2cdbc9c1cc0>"
      ]
     },
     "execution_count": 9,
     "metadata": {},
     "output_type": "execute_result"
    }
   ],
   "source": [
    "best_model.fit(X_train, y_train, eval_set=(X_test, y_test), plot=True)"
   ]
  },
  {
   "cell_type": "code",
   "execution_count": null,
   "metadata": {},
   "outputs": [],
   "source": []
  }
 ],
 "metadata": {
  "kernelspec": {
   "display_name": "Python 3 (ipykernel)",
   "language": "python",
   "name": "python3"
  },
  "language_info": {
   "codemirror_mode": {
    "name": "ipython",
    "version": 3
   },
   "file_extension": ".py",
   "mimetype": "text/x-python",
   "name": "python",
   "nbconvert_exporter": "python",
   "pygments_lexer": "ipython3",
   "version": "3.10.16"
  }
 },
 "nbformat": 4,
 "nbformat_minor": 4
}
