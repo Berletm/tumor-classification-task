{
 "cells": [
  {
   "cell_type": "code",
   "execution_count": 324,
   "metadata": {
    "collapsed": true
   },
   "outputs": [],
   "source": [
    "import pandas as pd\n",
    "import numpy as np"
   ]
  },
  {
   "cell_type": "code",
   "execution_count": 325,
   "outputs": [],
   "source": [
    "data = pd.read_excel(\"tumor-data-without-healthy.xlsx\")"
   ],
   "metadata": {
    "collapsed": false
   }
  },
  {
   "cell_type": "code",
   "execution_count": 326,
   "outputs": [],
   "source": [
    "labels = [value for column, value in data.iloc[0].items()]\n",
    "data = data.set_axis(labels, axis=1)\n",
    "data = data[data.columns[1:]].apply(\n",
    "    lambda x: pd.to_numeric(x.replace('<', '').replace(',', '.'), errors='coerce')\n",
    ")\n",
    "data.drop(index=0, inplace=True)"
   ],
   "metadata": {
    "collapsed": false
   }
  },
  {
   "cell_type": "code",
   "execution_count": 327,
   "outputs": [],
   "source": [
    "data[\"Гормональная активность 0-нет               1-да\"] = data[\n",
    "    \"Гормональная активность 0-нет               1-да\"].astype(float)\n",
    "data.rename(columns={\"Гормональная активность 0-нет               1-да\":\"hormones_activity\"}, inplace=True)"
   ],
   "metadata": {
    "collapsed": false
   }
  },
  {
   "cell_type": "code",
   "execution_count": 328,
   "outputs": [],
   "source": [
    "data.columns = data.columns.astype(str)\n",
    "data.columns = [col.replace(' ', '_').replace('-', '_').replace(':', '').replace('(', '').replace(')', '').replace(',', '') for col in data.columns]"
   ],
   "metadata": {
    "collapsed": false
   }
  },
  {
   "cell_type": "code",
   "execution_count": 329,
   "outputs": [],
   "source": [
    "\"\"\" dropping some columns \"\"\"\n",
    "data.dropna(axis=1, how=\"all\", inplace=True)\n",
    "# data.dropna(axis=0, thresh=int(data.shape[1] * 0.6), inplace=True)\n",
    "data.dropna(axis=1, thresh=int(data.shape[0] * 0.5), inplace=True)\n",
    "data.drop([\"Пол____0_жен_1_муж\"], inplace=True, axis=1)"
   ],
   "metadata": {
    "collapsed": false
   }
  },
  {
   "cell_type": "code",
   "execution_count": 330,
   "outputs": [
    {
     "data": {
      "text/plain": "     КАН  АКР  hormones_activity  Максимальный_размер_мм  \\\n1    0.0  1.0                1.0                   181.0   \n2    0.0  1.0                1.0                   137.0   \n3    0.0  1.0                1.0                    79.0   \n4    0.0  1.0                1.0                    54.0   \n5    0.0  1.0                1.0                     NaN   \n..   ...  ...                ...                     ...   \n160  1.0  0.0                0.0                    57.0   \n161  1.0  0.0                1.0                    36.0   \n162  1.0  0.0                1.0                    17.0   \n163  1.0  0.0                1.0                    43.0   \n164  1.0  0.0                1.0                    33.0   \n\n     Нативная_плотность_НU_  APW_%_КВ____коэф_вымывания  Weiss  \\\n1                       NaN                         NaN    7.0   \n2                       NaN                         NaN    6.0   \n3                      48.0                         NaN    4.0   \n4                      18.0                   53.330000    3.0   \n5                       NaN                   64.583333    NaN   \n..                      ...                         ...    ...   \n160                    16.0                   48.570000    2.0   \n161                     NaN                   96.000000    2.0   \n162                     8.0                   96.428571    0.0   \n163                    32.0                   50.000000    9.0   \n164                    20.0                   62.000000    1.0   \n\n     Кортизол_крови_утро  Кортизол_крови_вечер  \\\n1                    NaN                   NaN   \n2                  681.0                 739.0   \n3                 1418.0                1021.0   \n4                  687.0                 628.0   \n5                    NaN                   NaN   \n..                   ...                   ...   \n160                304.0                 113.0   \n161                344.0                 328.0   \n162                784.0                 245.0   \n163                628.0                 345.0   \n164                523.0                 427.0   \n\n     Кортизол_после_пробы_с_1_мг_дексаметазона_ДМТ  ...     THE_P3    THB_THA  \\\n1                                              NaN  ...   0.722438   0.268293   \n2                                              NaN  ...  17.868078   5.948276   \n3                                              NaN  ...   3.100000   1.000000   \n4                                              NaN  ...   5.308889  10.000000   \n5                                              NaN  ...   0.558894        NaN   \n..                                             ...  ...        ...        ...   \n160                                           39.0  ...   4.273333   0.959184   \n161                                          344.0  ...   1.991166   3.255814   \n162                                            NaN  ...  37.064646   1.168342   \n163                                           60.4  ...   3.629134   4.057143   \n164                                          371.0  ...   9.630189   2.409429   \n\n     THF_THE1   THF_THE  aTHF_THF   aTHB_THB  11An_11Et     THE_THS  \\\n1    0.837273  0.276251  2.030846  26.136364   2.827039    0.312336   \n2    1.601304  1.245525  0.285646   0.289855   0.670094    8.016807   \n3    0.950000  0.770000  0.230000   0.170000   1.780000   16.680000   \n4    0.863495  0.692278  0.247324   2.400000   5.544041   27.941520   \n5    0.964336  0.883217  0.091845   0.465753   1.983240    1.279727   \n..        ...       ...       ...        ...        ...         ...   \n160  0.413451  0.198456  1.083333   1.872340   2.837771   36.214689   \n161  0.648263  0.365631  0.773000   2.371429   1.818519    5.053812   \n162  0.929232  0.514090  0.807527   1.247312   3.576531         NaN   \n163  0.628047  0.307312  1.043678   1.577465   5.618234  219.476190   \n164  0.386580  0.339310  0.139311   0.851699   0.307157   10.523711   \n\n     THE_11oxoP3  16_OHdP2_3a/16_OHdP2_3b  \n1     334.200000                 1.205818  \n2     353.903226                 0.795526  \n3      25.010000                 2.530000  \n4     227.523810                 2.403478  \n5      85.121212                 1.422500  \n..           ...                      ...  \n160          NaN                 1.371429  \n161    13.828221                      NaN  \n162  1528.916667                      NaN  \n163   307.266667                 3.089655  \n164    24.189573                      NaN  \n\n[164 rows x 60 columns]",
      "text/html": "<div>\n<style scoped>\n    .dataframe tbody tr th:only-of-type {\n        vertical-align: middle;\n    }\n\n    .dataframe tbody tr th {\n        vertical-align: top;\n    }\n\n    .dataframe thead th {\n        text-align: right;\n    }\n</style>\n<table border=\"1\" class=\"dataframe\">\n  <thead>\n    <tr style=\"text-align: right;\">\n      <th></th>\n      <th>КАН</th>\n      <th>АКР</th>\n      <th>hormones_activity</th>\n      <th>Максимальный_размер_мм</th>\n      <th>Нативная_плотность_НU_</th>\n      <th>APW_%_КВ____коэф_вымывания</th>\n      <th>Weiss</th>\n      <th>Кортизол_крови_утро</th>\n      <th>Кортизол_крови_вечер</th>\n      <th>Кортизол_после_пробы_с_1_мг_дексаметазона_ДМТ</th>\n      <th>...</th>\n      <th>THE_P3</th>\n      <th>THB_THA</th>\n      <th>THF_THE1</th>\n      <th>THF_THE</th>\n      <th>aTHF_THF</th>\n      <th>aTHB_THB</th>\n      <th>11An_11Et</th>\n      <th>THE_THS</th>\n      <th>THE_11oxoP3</th>\n      <th>16_OHdP2_3a/16_OHdP2_3b</th>\n    </tr>\n  </thead>\n  <tbody>\n    <tr>\n      <th>1</th>\n      <td>0.0</td>\n      <td>1.0</td>\n      <td>1.0</td>\n      <td>181.0</td>\n      <td>NaN</td>\n      <td>NaN</td>\n      <td>7.0</td>\n      <td>NaN</td>\n      <td>NaN</td>\n      <td>NaN</td>\n      <td>...</td>\n      <td>0.722438</td>\n      <td>0.268293</td>\n      <td>0.837273</td>\n      <td>0.276251</td>\n      <td>2.030846</td>\n      <td>26.136364</td>\n      <td>2.827039</td>\n      <td>0.312336</td>\n      <td>334.200000</td>\n      <td>1.205818</td>\n    </tr>\n    <tr>\n      <th>2</th>\n      <td>0.0</td>\n      <td>1.0</td>\n      <td>1.0</td>\n      <td>137.0</td>\n      <td>NaN</td>\n      <td>NaN</td>\n      <td>6.0</td>\n      <td>681.0</td>\n      <td>739.0</td>\n      <td>NaN</td>\n      <td>...</td>\n      <td>17.868078</td>\n      <td>5.948276</td>\n      <td>1.601304</td>\n      <td>1.245525</td>\n      <td>0.285646</td>\n      <td>0.289855</td>\n      <td>0.670094</td>\n      <td>8.016807</td>\n      <td>353.903226</td>\n      <td>0.795526</td>\n    </tr>\n    <tr>\n      <th>3</th>\n      <td>0.0</td>\n      <td>1.0</td>\n      <td>1.0</td>\n      <td>79.0</td>\n      <td>48.0</td>\n      <td>NaN</td>\n      <td>4.0</td>\n      <td>1418.0</td>\n      <td>1021.0</td>\n      <td>NaN</td>\n      <td>...</td>\n      <td>3.100000</td>\n      <td>1.000000</td>\n      <td>0.950000</td>\n      <td>0.770000</td>\n      <td>0.230000</td>\n      <td>0.170000</td>\n      <td>1.780000</td>\n      <td>16.680000</td>\n      <td>25.010000</td>\n      <td>2.530000</td>\n    </tr>\n    <tr>\n      <th>4</th>\n      <td>0.0</td>\n      <td>1.0</td>\n      <td>1.0</td>\n      <td>54.0</td>\n      <td>18.0</td>\n      <td>53.330000</td>\n      <td>3.0</td>\n      <td>687.0</td>\n      <td>628.0</td>\n      <td>NaN</td>\n      <td>...</td>\n      <td>5.308889</td>\n      <td>10.000000</td>\n      <td>0.863495</td>\n      <td>0.692278</td>\n      <td>0.247324</td>\n      <td>2.400000</td>\n      <td>5.544041</td>\n      <td>27.941520</td>\n      <td>227.523810</td>\n      <td>2.403478</td>\n    </tr>\n    <tr>\n      <th>5</th>\n      <td>0.0</td>\n      <td>1.0</td>\n      <td>1.0</td>\n      <td>NaN</td>\n      <td>NaN</td>\n      <td>64.583333</td>\n      <td>NaN</td>\n      <td>NaN</td>\n      <td>NaN</td>\n      <td>NaN</td>\n      <td>...</td>\n      <td>0.558894</td>\n      <td>NaN</td>\n      <td>0.964336</td>\n      <td>0.883217</td>\n      <td>0.091845</td>\n      <td>0.465753</td>\n      <td>1.983240</td>\n      <td>1.279727</td>\n      <td>85.121212</td>\n      <td>1.422500</td>\n    </tr>\n    <tr>\n      <th>...</th>\n      <td>...</td>\n      <td>...</td>\n      <td>...</td>\n      <td>...</td>\n      <td>...</td>\n      <td>...</td>\n      <td>...</td>\n      <td>...</td>\n      <td>...</td>\n      <td>...</td>\n      <td>...</td>\n      <td>...</td>\n      <td>...</td>\n      <td>...</td>\n      <td>...</td>\n      <td>...</td>\n      <td>...</td>\n      <td>...</td>\n      <td>...</td>\n      <td>...</td>\n      <td>...</td>\n    </tr>\n    <tr>\n      <th>160</th>\n      <td>1.0</td>\n      <td>0.0</td>\n      <td>0.0</td>\n      <td>57.0</td>\n      <td>16.0</td>\n      <td>48.570000</td>\n      <td>2.0</td>\n      <td>304.0</td>\n      <td>113.0</td>\n      <td>39.0</td>\n      <td>...</td>\n      <td>4.273333</td>\n      <td>0.959184</td>\n      <td>0.413451</td>\n      <td>0.198456</td>\n      <td>1.083333</td>\n      <td>1.872340</td>\n      <td>2.837771</td>\n      <td>36.214689</td>\n      <td>NaN</td>\n      <td>1.371429</td>\n    </tr>\n    <tr>\n      <th>161</th>\n      <td>1.0</td>\n      <td>0.0</td>\n      <td>1.0</td>\n      <td>36.0</td>\n      <td>NaN</td>\n      <td>96.000000</td>\n      <td>2.0</td>\n      <td>344.0</td>\n      <td>328.0</td>\n      <td>344.0</td>\n      <td>...</td>\n      <td>1.991166</td>\n      <td>3.255814</td>\n      <td>0.648263</td>\n      <td>0.365631</td>\n      <td>0.773000</td>\n      <td>2.371429</td>\n      <td>1.818519</td>\n      <td>5.053812</td>\n      <td>13.828221</td>\n      <td>NaN</td>\n    </tr>\n    <tr>\n      <th>162</th>\n      <td>1.0</td>\n      <td>0.0</td>\n      <td>1.0</td>\n      <td>17.0</td>\n      <td>8.0</td>\n      <td>96.428571</td>\n      <td>0.0</td>\n      <td>784.0</td>\n      <td>245.0</td>\n      <td>NaN</td>\n      <td>...</td>\n      <td>37.064646</td>\n      <td>1.168342</td>\n      <td>0.929232</td>\n      <td>0.514090</td>\n      <td>0.807527</td>\n      <td>1.247312</td>\n      <td>3.576531</td>\n      <td>NaN</td>\n      <td>1528.916667</td>\n      <td>NaN</td>\n    </tr>\n    <tr>\n      <th>163</th>\n      <td>1.0</td>\n      <td>0.0</td>\n      <td>1.0</td>\n      <td>43.0</td>\n      <td>32.0</td>\n      <td>50.000000</td>\n      <td>9.0</td>\n      <td>628.0</td>\n      <td>345.0</td>\n      <td>60.4</td>\n      <td>...</td>\n      <td>3.629134</td>\n      <td>4.057143</td>\n      <td>0.628047</td>\n      <td>0.307312</td>\n      <td>1.043678</td>\n      <td>1.577465</td>\n      <td>5.618234</td>\n      <td>219.476190</td>\n      <td>307.266667</td>\n      <td>3.089655</td>\n    </tr>\n    <tr>\n      <th>164</th>\n      <td>1.0</td>\n      <td>0.0</td>\n      <td>1.0</td>\n      <td>33.0</td>\n      <td>20.0</td>\n      <td>62.000000</td>\n      <td>1.0</td>\n      <td>523.0</td>\n      <td>427.0</td>\n      <td>371.0</td>\n      <td>...</td>\n      <td>9.630189</td>\n      <td>2.409429</td>\n      <td>0.386580</td>\n      <td>0.339310</td>\n      <td>0.139311</td>\n      <td>0.851699</td>\n      <td>0.307157</td>\n      <td>10.523711</td>\n      <td>24.189573</td>\n      <td>NaN</td>\n    </tr>\n  </tbody>\n</table>\n<p>164 rows × 60 columns</p>\n</div>"
     },
     "execution_count": 330,
     "metadata": {},
     "output_type": "execute_result"
    }
   ],
   "source": [
    "data"
   ],
   "metadata": {
    "collapsed": false
   }
  },
  {
   "cell_type": "code",
   "execution_count": 331,
   "outputs": [],
   "source": [
    "X = data.drop(columns=[\"КАН\", \"АКР\"])\n",
    "y = np.argmax(data[[\"КАН\", \"АКР\"]], axis=1)"
   ],
   "metadata": {
    "collapsed": false
   }
  },
  {
   "cell_type": "code",
   "execution_count": 332,
   "outputs": [],
   "source": [
    "from sklearn.model_selection import train_test_split\n",
    "\n",
    "X_train, X_test, y_train, y_test = train_test_split(X, y, train_size=0.9, random_state=63)"
   ],
   "metadata": {
    "collapsed": false
   }
  },
  {
   "cell_type": "code",
   "execution_count": 333,
   "outputs": [
    {
     "name": "stderr",
     "output_type": "stream",
     "text": [
      "[I 2024-12-24 16:20:56,296] A new study created in memory with name: no-name-5826bb64-204a-4a6f-bc54-be49f3b2900b\n",
      "[I 2024-12-24 16:20:56,315] Trial 0 finished with value: 0.29411764705882354 and parameters: {'lambda_l1': 0.004305492701900274, 'lambda_l2': 0.09844153800492698, 'num_leaves': 201, 'feature_fraction': 0.5543664598383194, 'bagging_fraction': 0.5239395909244918, 'bagging_freq': 4, 'min_child_samples': 63}. Best is trial 0 with value: 0.29411764705882354.\n",
      "[I 2024-12-24 16:20:56,335] Trial 1 finished with value: 1.0 and parameters: {'lambda_l1': 0.00025034952938701906, 'lambda_l2': 0.00032194494097473813, 'num_leaves': 147, 'feature_fraction': 0.8220024693126398, 'bagging_fraction': 0.8942687335531547, 'bagging_freq': 5, 'min_child_samples': 20}. Best is trial 1 with value: 1.0.\n",
      "[I 2024-12-24 16:20:56,345] Trial 2 finished with value: 0.29411764705882354 and parameters: {'lambda_l1': 5.4070302087980486e-06, 'lambda_l2': 0.019971125129378257, 'num_leaves': 201, 'feature_fraction': 0.7971830860085454, 'bagging_fraction': 0.7817497077424631, 'bagging_freq': 4, 'min_child_samples': 99}. Best is trial 1 with value: 1.0.\n",
      "[I 2024-12-24 16:20:56,361] Trial 3 finished with value: 0.9411764705882353 and parameters: {'lambda_l1': 0.0031605110264831733, 'lambda_l2': 0.0610374957095161, 'num_leaves': 162, 'feature_fraction': 0.5256764533478283, 'bagging_fraction': 0.9449306237557032, 'bagging_freq': 5, 'min_child_samples': 64}. Best is trial 1 with value: 1.0.\n",
      "[I 2024-12-24 16:20:56,378] Trial 4 finished with value: 0.9411764705882353 and parameters: {'lambda_l1': 3.0761371071291475e-07, 'lambda_l2': 0.07313813794786443, 'num_leaves': 28, 'feature_fraction': 0.45034528351370784, 'bagging_fraction': 0.8211745464627505, 'bagging_freq': 2, 'min_child_samples': 60}. Best is trial 1 with value: 1.0.\n",
      "[I 2024-12-24 16:20:56,398] Trial 5 finished with value: 1.0 and parameters: {'lambda_l1': 0.5216013028262731, 'lambda_l2': 0.23262860154842116, 'num_leaves': 173, 'feature_fraction': 0.9049703976693156, 'bagging_fraction': 0.9403294197308268, 'bagging_freq': 1, 'min_child_samples': 43}. Best is trial 1 with value: 1.0.\n",
      "[I 2024-12-24 16:20:56,412] Trial 6 finished with value: 0.29411764705882354 and parameters: {'lambda_l1': 1.0629361561886637e-08, 'lambda_l2': 0.0003990029056626999, 'num_leaves': 149, 'feature_fraction': 0.5030465556456681, 'bagging_fraction': 0.8371393908882292, 'bagging_freq': 7, 'min_child_samples': 69}. Best is trial 1 with value: 1.0.\n",
      "[I 2024-12-24 16:20:56,434] Trial 7 finished with value: 0.9411764705882353 and parameters: {'lambda_l1': 0.1700306124343314, 'lambda_l2': 1.3444706317992775e-06, 'num_leaves': 134, 'feature_fraction': 0.5389055399835048, 'bagging_fraction': 0.4151941242364173, 'bagging_freq': 4, 'min_child_samples': 26}. Best is trial 1 with value: 1.0.\n",
      "[I 2024-12-24 16:20:56,449] Trial 8 finished with value: 1.0 and parameters: {'lambda_l1': 0.003353495692970358, 'lambda_l2': 4.931147366136944e-06, 'num_leaves': 62, 'feature_fraction': 0.807359880343903, 'bagging_fraction': 0.4155151911024013, 'bagging_freq': 4, 'min_child_samples': 23}. Best is trial 1 with value: 1.0.\n",
      "[I 2024-12-24 16:20:56,473] Trial 9 finished with value: 1.0 and parameters: {'lambda_l1': 8.770758020492744e-07, 'lambda_l2': 2.3039966780918607e-07, 'num_leaves': 104, 'feature_fraction': 0.8937116764859787, 'bagging_fraction': 0.9026117661289175, 'bagging_freq': 1, 'min_child_samples': 12}. Best is trial 1 with value: 1.0.\n",
      "[I 2024-12-24 16:20:56,518] Trial 10 finished with value: 1.0 and parameters: {'lambda_l1': 3.896691473628969e-05, 'lambda_l2': 8.064802119863103, 'num_leaves': 235, 'feature_fraction': 0.669053178470677, 'bagging_fraction': 0.6538546584077743, 'bagging_freq': 7, 'min_child_samples': 40}. Best is trial 1 with value: 1.0.\n",
      "[I 2024-12-24 16:20:56,575] Trial 11 finished with value: 1.0 and parameters: {'lambda_l1': 8.728030076532086, 'lambda_l2': 0.00018369985077623037, 'num_leaves': 99, 'feature_fraction': 0.9942595039525756, 'bagging_fraction': 0.9862099571404537, 'bagging_freq': 2, 'min_child_samples': 40}. Best is trial 1 with value: 1.0.\n",
      "[I 2024-12-24 16:20:56,639] Trial 12 finished with value: 1.0 and parameters: {'lambda_l1': 0.3970695038110405, 'lambda_l2': 4.55261929854357, 'num_leaves': 185, 'feature_fraction': 0.9408219245644993, 'bagging_fraction': 0.7052436293253197, 'bagging_freq': 6, 'min_child_samples': 6}. Best is trial 1 with value: 1.0.\n",
      "[I 2024-12-24 16:20:56,694] Trial 13 finished with value: 0.9411764705882353 and parameters: {'lambda_l1': 0.000156223680069694, 'lambda_l2': 0.0006916216610572925, 'num_leaves': 246, 'feature_fraction': 0.8054378971935706, 'bagging_fraction': 0.8967381689944038, 'bagging_freq': 2, 'min_child_samples': 42}. Best is trial 1 with value: 1.0.\n",
      "[I 2024-12-24 16:20:56,744] Trial 14 finished with value: 1.0 and parameters: {'lambda_l1': 0.17006749526999182, 'lambda_l2': 1.8026736171340223e-05, 'num_leaves': 104, 'feature_fraction': 0.6826234209497125, 'bagging_fraction': 0.9897553915246757, 'bagging_freq': 5, 'min_child_samples': 25}. Best is trial 1 with value: 1.0.\n",
      "[I 2024-12-24 16:20:56,785] Trial 15 finished with value: 0.29411764705882354 and parameters: {'lambda_l1': 6.654429020394887, 'lambda_l2': 0.81903851478268, 'num_leaves': 171, 'feature_fraction': 0.8691388748783385, 'bagging_fraction': 0.7225783836741417, 'bagging_freq': 3, 'min_child_samples': 80}. Best is trial 1 with value: 1.0.\n",
      "[I 2024-12-24 16:20:56,827] Trial 16 finished with value: 0.8823529411764706 and parameters: {'lambda_l1': 0.02023107822268795, 'lambda_l2': 1.5587237133296554e-08, 'num_leaves': 223, 'feature_fraction': 0.742156908061578, 'bagging_fraction': 0.6105070134369559, 'bagging_freq': 1, 'min_child_samples': 49}. Best is trial 1 with value: 1.0.\n",
      "[I 2024-12-24 16:20:56,878] Trial 17 finished with value: 1.0 and parameters: {'lambda_l1': 0.0004233883224439781, 'lambda_l2': 0.0026767171670344326, 'num_leaves': 68, 'feature_fraction': 0.9994074351580841, 'bagging_fraction': 0.8766584347343112, 'bagging_freq': 6, 'min_child_samples': 31}. Best is trial 1 with value: 1.0.\n",
      "[I 2024-12-24 16:20:56,927] Trial 18 finished with value: 1.0 and parameters: {'lambda_l1': 1.5284386079497973e-05, 'lambda_l2': 0.005758498176989207, 'num_leaves': 141, 'feature_fraction': 0.8898623034972934, 'bagging_fraction': 0.7835942640381777, 'bagging_freq': 3, 'min_child_samples': 17}. Best is trial 1 with value: 1.0.\n",
      "[I 2024-12-24 16:20:56,976] Trial 19 finished with value: 1.0 and parameters: {'lambda_l1': 0.9459043163972749, 'lambda_l2': 5.965675190503709e-05, 'num_leaves': 119, 'feature_fraction': 0.641588190538825, 'bagging_fraction': 0.9188627634892713, 'bagging_freq': 5, 'min_child_samples': 33}. Best is trial 1 with value: 1.0.\n",
      "[I 2024-12-24 16:20:57,016] Trial 20 finished with value: 0.29411764705882354 and parameters: {'lambda_l1': 0.00033484814401735664, 'lambda_l2': 0.3999251708972674, 'num_leaves': 206, 'feature_fraction': 0.7567642675992248, 'bagging_fraction': 0.758267965336641, 'bagging_freq': 3, 'min_child_samples': 80}. Best is trial 1 with value: 1.0.\n",
      "[I 2024-12-24 16:20:57,063] Trial 21 finished with value: 1.0 and parameters: {'lambda_l1': 0.018887690627656814, 'lambda_l2': 7.411907813166206e-06, 'num_leaves': 7, 'feature_fraction': 0.8290510390607129, 'bagging_fraction': 0.5351737488427327, 'bagging_freq': 6, 'min_child_samples': 21}. Best is trial 1 with value: 1.0.\n",
      "[I 2024-12-24 16:20:57,116] Trial 22 finished with value: 1.0 and parameters: {'lambda_l1': 0.0024756250134063606, 'lambda_l2': 5.437431250982513e-07, 'num_leaves': 71, 'feature_fraction': 0.9265915736481072, 'bagging_fraction': 0.4213272821624008, 'bagging_freq': 5, 'min_child_samples': 8}. Best is trial 1 with value: 1.0.\n",
      "[I 2024-12-24 16:20:57,169] Trial 23 finished with value: 1.0 and parameters: {'lambda_l1': 0.01783664685594998, 'lambda_l2': 7.316624815944163e-06, 'num_leaves': 66, 'feature_fraction': 0.7388667571119789, 'bagging_fraction': 0.4901497796757147, 'bagging_freq': 1, 'min_child_samples': 16}. Best is trial 1 with value: 1.0.\n",
      "[I 2024-12-24 16:20:57,215] Trial 24 finished with value: 0.8823529411764706 and parameters: {'lambda_l1': 8.843616319402167e-05, 'lambda_l2': 5.993670797600257e-08, 'num_leaves': 35, 'feature_fraction': 0.8441961598292687, 'bagging_fraction': 0.6322110496670166, 'bagging_freq': 3, 'min_child_samples': 49}. Best is trial 1 with value: 1.0.\n",
      "[I 2024-12-24 16:20:57,268] Trial 25 finished with value: 1.0 and parameters: {'lambda_l1': 0.0011202552483719726, 'lambda_l2': 2.94511181310296e-06, 'num_leaves': 175, 'feature_fraction': 0.6188855303961198, 'bagging_fraction': 0.8525529766053628, 'bagging_freq': 4, 'min_child_samples': 32}. Best is trial 1 with value: 1.0.\n",
      "[I 2024-12-24 16:20:57,321] Trial 26 finished with value: 1.0 and parameters: {'lambda_l1': 1.269660150469301, 'lambda_l2': 5.81893791695016e-05, 'num_leaves': 86, 'feature_fraction': 0.7722771743145055, 'bagging_fraction': 0.9563330010115145, 'bagging_freq': 6, 'min_child_samples': 25}. Best is trial 1 with value: 1.0.\n",
      "[I 2024-12-24 16:20:57,373] Trial 27 finished with value: 0.29411764705882354 and parameters: {'lambda_l1': 0.056366044511670065, 'lambda_l2': 0.001680270933489177, 'num_leaves': 124, 'feature_fraction': 0.9311679358614695, 'bagging_fraction': 0.5848648400242238, 'bagging_freq': 2, 'min_child_samples': 55}. Best is trial 1 with value: 1.0.\n",
      "[I 2024-12-24 16:20:57,426] Trial 28 finished with value: 0.8235294117647058 and parameters: {'lambda_l1': 2.2173946571366266e-06, 'lambda_l2': 0.014638517847986204, 'num_leaves': 153, 'feature_fraction': 0.717801049207938, 'bagging_fraction': 0.4554261966702513, 'bagging_freq': 5, 'min_child_samples': 38}. Best is trial 1 with value: 1.0.\n",
      "[I 2024-12-24 16:20:57,479] Trial 29 finished with value: 1.0 and parameters: {'lambda_l1': 0.0011032421984892506, 'lambda_l2': 0.7419505758057336, 'num_leaves': 188, 'feature_fraction': 0.8409184123843643, 'bagging_fraction': 0.5685333694621457, 'bagging_freq': 4, 'min_child_samples': 15}. Best is trial 1 with value: 1.0.\n",
      "[I 2024-12-24 16:20:57,527] Trial 30 finished with value: 0.9411764705882353 and parameters: {'lambda_l1': 0.05528175901819214, 'lambda_l2': 1.2317681945487196e-07, 'num_leaves': 33, 'feature_fraction': 0.6093774478257803, 'bagging_fraction': 0.6879979786872111, 'bagging_freq': 7, 'min_child_samples': 46}. Best is trial 1 with value: 1.0.\n",
      "[I 2024-12-24 16:20:57,587] Trial 31 finished with value: 1.0 and parameters: {'lambda_l1': 5.361990505923942e-07, 'lambda_l2': 2.645209296378557e-07, 'num_leaves': 111, 'feature_fraction': 0.910776837387875, 'bagging_fraction': 0.904134696596268, 'bagging_freq': 1, 'min_child_samples': 10}. Best is trial 1 with value: 1.0.\n",
      "[I 2024-12-24 16:20:57,645] Trial 32 finished with value: 1.0 and parameters: {'lambda_l1': 1.8250775845216207e-08, 'lambda_l2': 5.797726929592297e-07, 'num_leaves': 48, 'feature_fraction': 0.8725319772332807, 'bagging_fraction': 0.944874271090864, 'bagging_freq': 1, 'min_child_samples': 11}. Best is trial 1 with value: 1.0.\n",
      "[I 2024-12-24 16:20:57,701] Trial 33 finished with value: 1.0 and parameters: {'lambda_l1': 4.360545622949006e-06, 'lambda_l2': 1.1084543062953568e-08, 'num_leaves': 84, 'feature_fraction': 0.7983995268831688, 'bagging_fraction': 0.814501096347234, 'bagging_freq': 1, 'min_child_samples': 22}. Best is trial 1 with value: 1.0.\n",
      "[I 2024-12-24 16:20:57,769] Trial 34 finished with value: 1.0 and parameters: {'lambda_l1': 8.495920491917558e-08, 'lambda_l2': 4.9394885420843356e-08, 'num_leaves': 132, 'feature_fraction': 0.9674230858319134, 'bagging_fraction': 0.8542384243213499, 'bagging_freq': 2, 'min_child_samples': 5}. Best is trial 1 with value: 1.0.\n",
      "[I 2024-12-24 16:20:57,820] Trial 35 finished with value: 1.0 and parameters: {'lambda_l1': 1.4728658292356878e-05, 'lambda_l2': 7.986766033111096e-05, 'num_leaves': 89, 'feature_fraction': 0.8983009588147367, 'bagging_fraction': 0.937215832017182, 'bagging_freq': 3, 'min_child_samples': 32}. Best is trial 1 with value: 1.0.\n",
      "[I 2024-12-24 16:20:57,875] Trial 36 finished with value: 1.0 and parameters: {'lambda_l1': 6.56717499889798e-07, 'lambda_l2': 0.03600573797264603, 'num_leaves': 156, 'feature_fraction': 0.7874334150446204, 'bagging_fraction': 0.7893991039490907, 'bagging_freq': 2, 'min_child_samples': 17}. Best is trial 1 with value: 1.0.\n",
      "[I 2024-12-24 16:20:57,926] Trial 37 finished with value: 0.9411764705882353 and parameters: {'lambda_l1': 0.0046924732289064935, 'lambda_l2': 2.6687860651683473e-06, 'num_leaves': 212, 'feature_fraction': 0.8295788574045952, 'bagging_fraction': 0.87528016218489, 'bagging_freq': 4, 'min_child_samples': 55}. Best is trial 1 with value: 1.0.\n",
      "[I 2024-12-24 16:20:57,971] Trial 38 finished with value: 0.29411764705882354 and parameters: {'lambda_l1': 6.646778404469802e-08, 'lambda_l2': 0.22700636167355523, 'num_leaves': 48, 'feature_fraction': 0.8491378741950161, 'bagging_fraction': 0.969894184409762, 'bagging_freq': 1, 'min_child_samples': 98}. Best is trial 1 with value: 1.0.\n",
      "[I 2024-12-24 16:20:58,021] Trial 39 finished with value: 0.8235294117647058 and parameters: {'lambda_l1': 2.98314294364697e-05, 'lambda_l2': 2.3598778654031006e-05, 'num_leaves': 143, 'feature_fraction': 0.9666467408729098, 'bagging_fraction': 0.7533961768028429, 'bagging_freq': 5, 'min_child_samples': 61}. Best is trial 1 with value: 1.0.\n",
      "[I 2024-12-24 16:20:58,068] Trial 40 finished with value: 0.29411764705882354 and parameters: {'lambda_l1': 0.004818385927775135, 'lambda_l2': 0.0004204455515180846, 'num_leaves': 169, 'feature_fraction': 0.8819624215755031, 'bagging_fraction': 0.8218159436560545, 'bagging_freq': 2, 'min_child_samples': 69}. Best is trial 1 with value: 1.0.\n",
      "[I 2024-12-24 16:20:58,125] Trial 41 finished with value: 1.0 and parameters: {'lambda_l1': 8.507924661953235e-05, 'lambda_l2': 9.782613586535401, 'num_leaves': 238, 'feature_fraction': 0.6913696949992203, 'bagging_fraction': 0.6496897412573555, 'bagging_freq': 7, 'min_child_samples': 37}. Best is trial 1 with value: 1.0.\n",
      "[I 2024-12-24 16:20:58,181] Trial 42 finished with value: 0.8823529411764706 and parameters: {'lambda_l1': 4.7876236916891284e-05, 'lambda_l2': 2.4582298756155043, 'num_leaves': 194, 'feature_fraction': 0.5703171242328625, 'bagging_fraction': 0.5055725570855087, 'bagging_freq': 7, 'min_child_samples': 42}. Best is trial 1 with value: 1.0.\n",
      "[I 2024-12-24 16:20:58,243] Trial 43 finished with value: 1.0 and parameters: {'lambda_l1': 1.7640031635909807e-06, 'lambda_l2': 4.69459923817756, 'num_leaves': 229, 'feature_fraction': 0.6720756808025022, 'bagging_fraction': 0.9108625180929064, 'bagging_freq': 6, 'min_child_samples': 27}. Best is trial 1 with value: 1.0.\n",
      "[I 2024-12-24 16:20:58,297] Trial 44 finished with value: 1.0 and parameters: {'lambda_l1': 8.04258759999936e-06, 'lambda_l2': 1.5854681640670625, 'num_leaves': 250, 'feature_fraction': 0.42142322325325643, 'bagging_fraction': 0.6782143211028634, 'bagging_freq': 4, 'min_child_samples': 20}. Best is trial 1 with value: 1.0.\n",
      "[I 2024-12-24 16:20:58,356] Trial 45 finished with value: 1.0 and parameters: {'lambda_l1': 0.00017055304636712454, 'lambda_l2': 0.19836795261574908, 'num_leaves': 218, 'feature_fraction': 0.806939711977143, 'bagging_fraction': 0.9859667361887046, 'bagging_freq': 7, 'min_child_samples': 13}. Best is trial 1 with value: 1.0.\n",
      "[I 2024-12-24 16:20:58,410] Trial 46 finished with value: 1.0 and parameters: {'lambda_l1': 0.000911384305820428, 'lambda_l2': 0.07231103391711009, 'num_leaves': 99, 'feature_fraction': 0.9521338246162033, 'bagging_fraction': 0.8728391668046951, 'bagging_freq': 6, 'min_child_samples': 36}. Best is trial 1 with value: 1.0.\n",
      "[I 2024-12-24 16:20:58,462] Trial 47 finished with value: 1.0 and parameters: {'lambda_l1': 1.3315582308137803, 'lambda_l2': 0.0001632815337210513, 'num_leaves': 179, 'feature_fraction': 0.724024785152694, 'bagging_fraction': 0.7293734500209832, 'bagging_freq': 2, 'min_child_samples': 28}. Best is trial 1 with value: 1.0.\n",
      "[I 2024-12-24 16:20:58,513] Trial 48 finished with value: 0.29411764705882354 and parameters: {'lambda_l1': 4.775701335630274, 'lambda_l2': 0.010201884659919178, 'num_leaves': 113, 'feature_fraction': 0.50350880157485, 'bagging_fraction': 0.4017084721457939, 'bagging_freq': 5, 'min_child_samples': 45}. Best is trial 1 with value: 1.0.\n",
      "[I 2024-12-24 16:20:58,565] Trial 49 finished with value: 1.0 and parameters: {'lambda_l1': 1.2307786366055456e-07, 'lambda_l2': 0.0011749488338979386, 'num_leaves': 8, 'feature_fraction': 0.8633902889605822, 'bagging_fraction': 0.45423194736229866, 'bagging_freq': 3, 'min_child_samples': 22}. Best is trial 1 with value: 1.0.\n",
      "[I 2024-12-24 16:20:58,618] Trial 50 finished with value: 1.0 and parameters: {'lambda_l1': 0.0004014475283969378, 'lambda_l2': 5.87947405766549e-07, 'num_leaves': 159, 'feature_fraction': 0.9123710984762665, 'bagging_fraction': 0.9990176559632892, 'bagging_freq': 1, 'min_child_samples': 29}. Best is trial 1 with value: 1.0.\n",
      "[I 2024-12-24 16:20:58,669] Trial 51 finished with value: 1.0 and parameters: {'lambda_l1': 5.429772674318629, 'lambda_l2': 1.5397680660032706e-05, 'num_leaves': 97, 'feature_fraction': 0.9944247907628467, 'bagging_fraction': 0.9313259540364162, 'bagging_freq': 2, 'min_child_samples': 42}. Best is trial 1 with value: 1.0.\n",
      "[I 2024-12-24 16:20:58,721] Trial 52 finished with value: 1.0 and parameters: {'lambda_l1': 0.4184999531656405, 'lambda_l2': 0.0036874003844672254, 'num_leaves': 134, 'feature_fraction': 0.6563641994310709, 'bagging_fraction': 0.9765222716040953, 'bagging_freq': 1, 'min_child_samples': 49}. Best is trial 1 with value: 1.0.\n",
      "[I 2024-12-24 16:20:58,776] Trial 53 finished with value: 1.0 and parameters: {'lambda_l1': 2.4067464182850222, 'lambda_l2': 1.684973989126231e-06, 'num_leaves': 77, 'feature_fraction': 0.9757163944276862, 'bagging_fraction': 0.8920684950070177, 'bagging_freq': 1, 'min_child_samples': 39}. Best is trial 1 with value: 1.0.\n",
      "[I 2024-12-24 16:20:58,829] Trial 54 finished with value: 1.0 and parameters: {'lambda_l1': 9.286636015677034, 'lambda_l2': 0.00016366655326206293, 'num_leaves': 53, 'feature_fraction': 0.9422447265396877, 'bagging_fraction': 0.9597458134489841, 'bagging_freq': 2, 'min_child_samples': 53}. Best is trial 1 with value: 1.0.\n",
      "[I 2024-12-24 16:20:58,884] Trial 55 finished with value: 1.0 and parameters: {'lambda_l1': 0.25028471144851155, 'lambda_l2': 7.97430478516947e-06, 'num_leaves': 119, 'feature_fraction': 0.7626567880289036, 'bagging_fraction': 0.5472512259142043, 'bagging_freq': 4, 'min_child_samples': 34}. Best is trial 1 with value: 1.0.\n",
      "[I 2024-12-24 16:20:58,942] Trial 56 finished with value: 1.0 and parameters: {'lambda_l1': 0.06526613507746581, 'lambda_l2': 0.0008035704118747166, 'num_leaves': 107, 'feature_fraction': 0.8126471149301896, 'bagging_fraction': 0.9260496129165671, 'bagging_freq': 6, 'min_child_samples': 19}. Best is trial 1 with value: 1.0.\n",
      "[I 2024-12-24 16:20:58,993] Trial 57 finished with value: 0.8235294117647058 and parameters: {'lambda_l1': 0.010705486897083635, 'lambda_l2': 0.03695800245994236, 'num_leaves': 202, 'feature_fraction': 0.8991967384246298, 'bagging_fraction': 0.8459090186042657, 'bagging_freq': 1, 'min_child_samples': 67}. Best is trial 1 with value: 1.0.\n",
      "[I 2024-12-24 16:20:59,054] Trial 58 finished with value: 1.0 and parameters: {'lambda_l1': 0.5898577336986613, 'lambda_l2': 3.0058385001281035e-08, 'num_leaves': 143, 'feature_fraction': 0.8596928009216189, 'bagging_fraction': 0.6058030512273721, 'bagging_freq': 3, 'min_child_samples': 8}. Best is trial 1 with value: 1.0.\n",
      "[I 2024-12-24 16:20:59,111] Trial 59 finished with value: 1.0 and parameters: {'lambda_l1': 0.00016139088326963446, 'lambda_l2': 1.4190160359550758e-07, 'num_leaves': 166, 'feature_fraction': 0.7122017447932582, 'bagging_fraction': 0.8085185707987125, 'bagging_freq': 5, 'min_child_samples': 25}. Best is trial 1 with value: 1.0.\n",
      "[I 2024-12-24 16:20:59,167] Trial 60 finished with value: 0.9411764705882353 and parameters: {'lambda_l1': 0.1012702572522273, 'lambda_l2': 3.0439023237098e-05, 'num_leaves': 97, 'feature_fraction': 0.922906286160363, 'bagging_fraction': 0.8897081798961499, 'bagging_freq': 1, 'min_child_samples': 46}. Best is trial 1 with value: 1.0.\n",
      "[I 2024-12-24 16:20:59,226] Trial 61 finished with value: 1.0 and parameters: {'lambda_l1': 2.061967498675403, 'lambda_l2': 6.841483721986723, 'num_leaves': 190, 'feature_fraction': 0.9912607694057338, 'bagging_fraction': 0.6396009852073113, 'bagging_freq': 6, 'min_child_samples': 5}. Best is trial 1 with value: 1.0.\n",
      "[I 2024-12-24 16:20:59,286] Trial 62 finished with value: 1.0 and parameters: {'lambda_l1': 0.002080290695104567, 'lambda_l2': 2.2664433481281567, 'num_leaves': 180, 'feature_fraction': 0.9479791620757468, 'bagging_fraction': 0.7182380982819289, 'bagging_freq': 7, 'min_child_samples': 13}. Best is trial 1 with value: 1.0.\n",
      "[I 2024-12-24 16:20:59,346] Trial 63 finished with value: 1.0 and parameters: {'lambda_l1': 0.2617110200167491, 'lambda_l2': 4.078379660781376, 'num_leaves': 60, 'feature_fraction': 0.8849826587180015, 'bagging_fraction': 0.9583061021568255, 'bagging_freq': 5, 'min_child_samples': 9}. Best is trial 1 with value: 1.0.\n",
      "[I 2024-12-24 16:20:59,403] Trial 64 finished with value: 1.0 and parameters: {'lambda_l1': 3.232985795334911, 'lambda_l2': 0.8545457578978705, 'num_leaves': 124, 'feature_fraction': 0.9345657478018394, 'bagging_fraction': 0.45402267452955736, 'bagging_freq': 6, 'min_child_samples': 14}. Best is trial 1 with value: 1.0.\n",
      "[I 2024-12-24 16:20:59,468] Trial 65 finished with value: 1.0 and parameters: {'lambda_l1': 0.7128511592763468, 'lambda_l2': 0.4110868609750412, 'num_leaves': 151, 'feature_fraction': 0.7807563895315606, 'bagging_fraction': 0.7664404954139014, 'bagging_freq': 6, 'min_child_samples': 24}. Best is trial 1 with value: 1.0.\n",
      "[I 2024-12-24 16:20:59,530] Trial 66 finished with value: 1.0 and parameters: {'lambda_l1': 2.397124641499848e-05, 'lambda_l2': 0.1571214684930535, 'num_leaves': 76, 'feature_fraction': 0.6157981125238804, 'bagging_fraction': 0.6703441009584372, 'bagging_freq': 7, 'min_child_samples': 17}. Best is trial 1 with value: 1.0.\n",
      "[I 2024-12-24 16:20:59,590] Trial 67 finished with value: 1.0 and parameters: {'lambda_l1': 0.009967393195419944, 'lambda_l2': 1.0859857047344963, 'num_leaves': 233, 'feature_fraction': 0.9727197189822756, 'bagging_fraction': 0.9178716674263088, 'bagging_freq': 5, 'min_child_samples': 30}. Best is trial 1 with value: 1.0.\n",
      "[I 2024-12-24 16:20:59,647] Trial 68 finished with value: 0.9411764705882353 and parameters: {'lambda_l1': 0.0008174660307023235, 'lambda_l2': 1.0601764175194586e-06, 'num_leaves': 208, 'feature_fraction': 0.8202931329492298, 'bagging_fraction': 0.5640698449109762, 'bagging_freq': 6, 'min_child_samples': 42}. Best is trial 1 with value: 1.0.\n",
      "[I 2024-12-24 16:20:59,698] Trial 69 finished with value: 0.29411764705882354 and parameters: {'lambda_l1': 0.03107255086707783, 'lambda_l2': 0.007492544878922543, 'num_leaves': 18, 'feature_fraction': 0.9049573393946138, 'bagging_fraction': 0.491662083178376, 'bagging_freq': 4, 'min_child_samples': 59}. Best is trial 1 with value: 1.0.\n",
      "[I 2024-12-24 16:20:59,761] Trial 70 finished with value: 1.0 and parameters: {'lambda_l1': 1.6402624728631562e-06, 'lambda_l2': 3.6331602435860373, 'num_leaves': 256, 'feature_fraction': 0.5900730273340007, 'bagging_fraction': 0.8623063063963412, 'bagging_freq': 2, 'min_child_samples': 5}. Best is trial 1 with value: 1.0.\n",
      "[I 2024-12-24 16:20:59,821] Trial 71 finished with value: 1.0 and parameters: {'lambda_l1': 0.1417955506427252, 'lambda_l2': 0.00014445911349910282, 'num_leaves': 104, 'feature_fraction': 0.6894597675246195, 'bagging_fraction': 0.9942216527911341, 'bagging_freq': 5, 'min_child_samples': 35}. Best is trial 1 with value: 1.0.\n",
      "[I 2024-12-24 16:20:59,884] Trial 72 finished with value: 1.0 and parameters: {'lambda_l1': 0.37594332151828913, 'lambda_l2': 6.116947833938515e-06, 'num_leaves': 135, 'feature_fraction': 0.6573748077593388, 'bagging_fraction': 0.9495459056068684, 'bagging_freq': 4, 'min_child_samples': 11}. Best is trial 1 with value: 1.0.\n",
      "[I 2024-12-24 16:20:59,940] Trial 73 finished with value: 1.0 and parameters: {'lambda_l1': 1.503646009834024, 'lambda_l2': 4.081659104479031e-05, 'num_leaves': 89, 'feature_fraction': 0.6355417435915082, 'bagging_fraction': 0.9737425309654575, 'bagging_freq': 5, 'min_child_samples': 19}. Best is trial 1 with value: 1.0.\n",
      "[I 2024-12-24 16:20:59,997] Trial 74 finished with value: 1.0 and parameters: {'lambda_l1': 8.566151786491524e-05, 'lambda_l2': 1.1692203459335525e-05, 'num_leaves': 117, 'feature_fraction': 0.7400580970461488, 'bagging_fraction': 0.9378750979340581, 'bagging_freq': 3, 'min_child_samples': 39}. Best is trial 1 with value: 1.0.\n",
      "[I 2024-12-24 16:21:00,056] Trial 75 finished with value: 1.0 and parameters: {'lambda_l1': 0.04154762743587718, 'lambda_l2': 2.8266534853120445e-06, 'num_leaves': 145, 'feature_fraction': 0.959136265590795, 'bagging_fraction': 0.9012563989893483, 'bagging_freq': 7, 'min_child_samples': 24}. Best is trial 1 with value: 1.0.\n",
      "[I 2024-12-24 16:21:00,112] Trial 76 finished with value: 1.0 and parameters: {'lambda_l1': 0.09768302587796546, 'lambda_l2': 8.241202169722755e-05, 'num_leaves': 124, 'feature_fraction': 0.8395088406419315, 'bagging_fraction': 0.6094584710977942, 'bagging_freq': 1, 'min_child_samples': 31}. Best is trial 1 with value: 1.0.\n",
      "[I 2024-12-24 16:21:00,170] Trial 77 finished with value: 1.0 and parameters: {'lambda_l1': 0.008669152172023301, 'lambda_l2': 0.0002611432967651458, 'num_leaves': 80, 'feature_fraction': 0.9253900531106778, 'bagging_fraction': 0.9798311374276608, 'bagging_freq': 5, 'min_child_samples': 17}. Best is trial 1 with value: 1.0.\n",
      "[I 2024-12-24 16:21:00,220] Trial 78 finished with value: 0.29411764705882354 and parameters: {'lambda_l1': 1.1602265997147685e-05, 'lambda_l2': 9.71712980438583, 'num_leaves': 174, 'feature_fraction': 0.6730165001560605, 'bagging_fraction': 0.8269475059224853, 'bagging_freq': 6, 'min_child_samples': 83}. Best is trial 1 with value: 1.0.\n",
      "[I 2024-12-24 16:21:00,276] Trial 79 finished with value: 1.0 and parameters: {'lambda_l1': 0.9044120783137682, 'lambda_l2': 2.592678890166317e-07, 'num_leaves': 163, 'feature_fraction': 0.7034058302148235, 'bagging_fraction': 0.4318841305359869, 'bagging_freq': 1, 'min_child_samples': 22}. Best is trial 1 with value: 1.0.\n",
      "[I 2024-12-24 16:21:00,335] Trial 80 finished with value: 1.0 and parameters: {'lambda_l1': 0.0002578051408227786, 'lambda_l2': 0.4152440624320617, 'num_leaves': 66, 'feature_fraction': 0.7520529955449954, 'bagging_fraction': 0.525558730695571, 'bagging_freq': 7, 'min_child_samples': 8}. Best is trial 1 with value: 1.0.\n",
      "[I 2024-12-24 16:21:00,393] Trial 81 finished with value: 1.0 and parameters: {'lambda_l1': 0.0006488646165285197, 'lambda_l2': 0.002875912899136817, 'num_leaves': 70, 'feature_fraction': 0.9781950567786657, 'bagging_fraction': 0.8722660002016881, 'bagging_freq': 6, 'min_child_samples': 40}. Best is trial 1 with value: 1.0.\n",
      "[I 2024-12-24 16:21:00,450] Trial 82 finished with value: 1.0 and parameters: {'lambda_l1': 0.0018945167691025154, 'lambda_l2': 0.0003452533835096265, 'num_leaves': 91, 'feature_fraction': 0.9973741165714326, 'bagging_fraction': 0.7993226486408067, 'bagging_freq': 5, 'min_child_samples': 27}. Best is trial 1 with value: 1.0.\n",
      "[I 2024-12-24 16:21:00,508] Trial 83 finished with value: 1.0 and parameters: {'lambda_l1': 0.0004672975824400218, 'lambda_l2': 0.0019969724851960063, 'num_leaves': 54, 'feature_fraction': 0.8766699095835587, 'bagging_fraction': 0.9163525357341977, 'bagging_freq': 6, 'min_child_samples': 32}. Best is trial 1 with value: 1.0.\n",
      "[I 2024-12-24 16:21:00,565] Trial 84 finished with value: 1.0 and parameters: {'lambda_l1': 0.003563899011763417, 'lambda_l2': 0.0006188608410334604, 'num_leaves': 42, 'feature_fraction': 0.9458551400419681, 'bagging_fraction': 0.9667064093277078, 'bagging_freq': 4, 'min_child_samples': 47}. Best is trial 1 with value: 1.0.\n",
      "[I 2024-12-24 16:21:00,623] Trial 85 finished with value: 1.0 and parameters: {'lambda_l1': 6.0500168269663686e-05, 'lambda_l2': 4.875519686259479e-06, 'num_leaves': 197, 'feature_fraction': 0.9770304461904459, 'bagging_fraction': 0.8839476792384505, 'bagging_freq': 6, 'min_child_samples': 36}. Best is trial 1 with value: 1.0.\n",
      "[I 2024-12-24 16:21:00,681] Trial 86 finished with value: 1.0 and parameters: {'lambda_l1': 3.486342226342289e-08, 'lambda_l2': 2.3338744124311475e-05, 'num_leaves': 106, 'feature_fraction': 0.9210197213660977, 'bagging_fraction': 0.8382901994761645, 'bagging_freq': 2, 'min_child_samples': 33}. Best is trial 1 with value: 1.0.\n",
      "[I 2024-12-24 16:21:00,738] Trial 87 finished with value: 0.8823529411764706 and parameters: {'lambda_l1': 0.026388709817512155, 'lambda_l2': 0.03556863322970215, 'num_leaves': 184, 'feature_fraction': 0.7280130338274454, 'bagging_fraction': 0.9401481869095998, 'bagging_freq': 7, 'min_child_samples': 50}. Best is trial 1 with value: 1.0.\n",
      "[I 2024-12-24 16:21:00,792] Trial 88 finished with value: 0.9411764705882353 and parameters: {'lambda_l1': 0.0002619575402939755, 'lambda_l2': 0.00012321935240431972, 'num_leaves': 83, 'feature_fraction': 0.8939574197396966, 'bagging_fraction': 0.7363284673244335, 'bagging_freq': 5, 'min_child_samples': 44}. Best is trial 1 with value: 1.0.\n",
      "[I 2024-12-24 16:21:00,851] Trial 89 finished with value: 1.0 and parameters: {'lambda_l1': 5.4197108474967e-06, 'lambda_l2': 5.452042057240755e-05, 'num_leaves': 128, 'feature_fraction': 0.9593297135087346, 'bagging_fraction': 0.696320286883979, 'bagging_freq': 3, 'min_child_samples': 29}. Best is trial 1 with value: 1.0.\n",
      "[I 2024-12-24 16:21:00,910] Trial 90 finished with value: 1.0 and parameters: {'lambda_l1': 8.546014008513234e-07, 'lambda_l2': 1.585897503058514, 'num_leaves': 62, 'feature_fraction': 0.8533600081139459, 'bagging_fraction': 0.9904631884428801, 'bagging_freq': 1, 'min_child_samples': 15}. Best is trial 1 with value: 1.0.\n",
      "[I 2024-12-24 16:21:00,969] Trial 91 finished with value: 1.0 and parameters: {'lambda_l1': 3.0729491605939974e-05, 'lambda_l2': 0.004230496171817056, 'num_leaves': 147, 'feature_fraction': 0.8897650852038655, 'bagging_fraction': 0.7840735873705783, 'bagging_freq': 3, 'min_child_samples': 19}. Best is trial 1 with value: 1.0.\n",
      "[I 2024-12-24 16:21:01,032] Trial 92 finished with value: 1.0 and parameters: {'lambda_l1': 3.193700561881703e-06, 'lambda_l2': 0.00577285816342847, 'num_leaves': 139, 'feature_fraction': 0.9355829023185883, 'bagging_fraction': 0.7086789923739886, 'bagging_freq': 4, 'min_child_samples': 12}. Best is trial 1 with value: 1.0.\n",
      "[I 2024-12-24 16:21:01,092] Trial 93 finished with value: 1.0 and parameters: {'lambda_l1': 1.894527189939004e-07, 'lambda_l2': 0.018660365462620614, 'num_leaves': 114, 'feature_fraction': 0.9144813329107447, 'bagging_fraction': 0.6580265528227215, 'bagging_freq': 2, 'min_child_samples': 22}. Best is trial 1 with value: 1.0.\n",
      "[I 2024-12-24 16:21:01,151] Trial 94 finished with value: 1.0 and parameters: {'lambda_l1': 4.065542831798952e-05, 'lambda_l2': 0.0014846787040316508, 'num_leaves': 220, 'feature_fraction': 0.868058170040232, 'bagging_fraction': 0.7422105092738108, 'bagging_freq': 3, 'min_child_samples': 25}. Best is trial 1 with value: 1.0.\n",
      "[I 2024-12-24 16:21:01,213] Trial 95 finished with value: 1.0 and parameters: {'lambda_l1': 0.00015327782015552921, 'lambda_l2': 0.0006697794735959573, 'num_leaves': 157, 'feature_fraction': 0.7956478623221137, 'bagging_fraction': 0.9047073191187414, 'bagging_freq': 4, 'min_child_samples': 16}. Best is trial 1 with value: 1.0.\n",
      "[I 2024-12-24 16:21:01,279] Trial 96 finished with value: 1.0 and parameters: {'lambda_l1': 1.8073025288357503e-05, 'lambda_l2': 1.0074317259441316e-06, 'num_leaves': 98, 'feature_fraction': 0.9894276380574821, 'bagging_fraction': 0.9226098744972994, 'bagging_freq': 1, 'min_child_samples': 7}. Best is trial 1 with value: 1.0.\n",
      "[I 2024-12-24 16:21:01,340] Trial 97 finished with value: 1.0 and parameters: {'lambda_l1': 0.0014190073139316787, 'lambda_l2': 0.010373360475329987, 'num_leaves': 129, 'feature_fraction': 0.6734580171387508, 'bagging_fraction': 0.7683333937113781, 'bagging_freq': 2, 'min_child_samples': 21}. Best is trial 1 with value: 1.0.\n",
      "[I 2024-12-24 16:21:01,400] Trial 98 finished with value: 1.0 and parameters: {'lambda_l1': 4.286649267987231, 'lambda_l2': 0.0010272155933903823, 'num_leaves': 91, 'feature_fraction': 0.8336606121531757, 'bagging_fraction': 0.9528127662297341, 'bagging_freq': 3, 'min_child_samples': 37}. Best is trial 1 with value: 1.0.\n",
      "[I 2024-12-24 16:21:01,467] Trial 99 finished with value: 1.0 and parameters: {'lambda_l1': 6.715245623796864e-06, 'lambda_l2': 0.0882362271375114, 'num_leaves': 239, 'feature_fraction': 0.6438007867843888, 'bagging_fraction': 0.8775889430736781, 'bagging_freq': 2, 'min_child_samples': 11}. Best is trial 1 with value: 1.0.\n"
     ]
    }
   ],
   "source": [
    "from lightgbm import LGBMClassifier\n",
    "import optuna\n",
    "\n",
    "def objective(trial):\n",
    "    param = {\n",
    "        'objective': 'binary',\n",
    "        'metric': 'binary_logloss',\n",
    "        'verbosity': -1,\n",
    "        'boosting_type': 'gbdt',\n",
    "        'lambda_l1': trial.suggest_float('lambda_l1', 1e-8, 10.0, log=True),\n",
    "        'lambda_l2': trial.suggest_float('lambda_l2', 1e-8, 10.0, log=True),\n",
    "        'num_leaves': trial.suggest_int('num_leaves', 2, 256),\n",
    "        'feature_fraction': trial.suggest_float('feature_fraction', 0.4, 1.0),\n",
    "        'bagging_fraction': trial.suggest_float('bagging_fraction', 0.4, 1.0),\n",
    "        'bagging_freq': trial.suggest_int('bagging_freq', 1, 7),\n",
    "        'min_child_samples': trial.suggest_int('min_child_samples', 5, 100),\n",
    "    }\n",
    "\n",
    "    model = LGBMClassifier(**param, n_jobs=-1, random_state=42)\n",
    "    model.fit(X_train, y_train)\n",
    "    score = model.score(X_test, y_test)\n",
    "    return score\n",
    "\n",
    "study = optuna.create_study(direction='maximize')\n",
    "study.optimize(objective, n_trials=100)"
   ],
   "metadata": {
    "collapsed": false
   }
  },
  {
   "cell_type": "code",
   "execution_count": 334,
   "outputs": [
    {
     "data": {
      "text/plain": "({'lambda_l1': 0.00025034952938701906,\n  'lambda_l2': 0.00032194494097473813,\n  'num_leaves': 147,\n  'feature_fraction': 0.8220024693126398,\n  'bagging_fraction': 0.8942687335531547,\n  'bagging_freq': 5,\n  'min_child_samples': 20},\n 1.0)"
     },
     "execution_count": 334,
     "metadata": {},
     "output_type": "execute_result"
    }
   ],
   "source": [
    "study.best_params, study.best_value"
   ],
   "metadata": {
    "collapsed": false
   }
  },
  {
   "cell_type": "code",
   "execution_count": 335,
   "outputs": [],
   "source": [
    "model = LGBMClassifier(**study.best_params, random_state=63)"
   ],
   "metadata": {
    "collapsed": false
   }
  },
  {
   "cell_type": "code",
   "execution_count": 338,
   "outputs": [
    {
     "name": "stdout",
     "output_type": "stream",
     "text": [
      " accuracy 1.0 \n",
      " f1 1.0 \n",
      " recall 1.0 \n",
      " precision 1.0 \n",
      "\n",
      "---------------------------------------------\n",
      " accuracy 0.9411764705882353 \n",
      " f1 0.9411764705882353 \n",
      " recall 1.0 \n",
      " precision 0.8888888888888888 \n",
      "\n",
      "---------------------------------------------\n",
      " accuracy 0.8823529411764706 \n",
      " f1 0.875 \n",
      " recall 0.875 \n",
      " precision 0.875 \n",
      "\n",
      "---------------------------------------------\n",
      " accuracy 0.8823529411764706 \n",
      " f1 0.8888888888888888 \n",
      " recall 1.0 \n",
      " precision 0.8 \n",
      "\n",
      "---------------------------------------------\n",
      " accuracy 1.0 \n",
      " f1 1.0 \n",
      " recall 1.0 \n",
      " precision 1.0 \n",
      "\n",
      "---------------------------------------------\n",
      " accuracy 0.9375 \n",
      " f1 0.9333333333333333 \n",
      " recall 0.875 \n",
      " precision 1.0 \n",
      "\n",
      "---------------------------------------------\n"
     ]
    }
   ],
   "source": [
    "from sklearn.model_selection import cross_validate\n",
    "from sklearn.model_selection import StratifiedKFold\n",
    "\n",
    "skf = StratifiedKFold(n_splits=10, shuffle=True, random_state=314)\n",
    "\n",
    "cv = cross_validate(model, X, y, n_jobs=-1,\n",
    "                    scoring=[\"accuracy\",\n",
    "                             \"f1\",\n",
    "                             \"precision\",\n",
    "                             \"recall\"],\n",
    "                    cv=skf,\n",
    "                    return_estimator=True)"
   ],
   "metadata": {
    "collapsed": false
   }
  },
  {
   "cell_type": "code",
   "execution_count": 339,
   "outputs": [
    {
     "data": {
      "text/plain": "0.9518382352941177"
     },
     "execution_count": 339,
     "metadata": {},
     "output_type": "execute_result"
    }
   ],
   "source": [
    "cv[\"test_accuracy\"].mean()"
   ],
   "metadata": {
    "collapsed": false
   }
  },
  {
   "cell_type": "code",
   "execution_count": null,
   "outputs": [],
   "source": [
    "for i in range(len(cv) - 1):\n",
    "    print(\n",
    "        \" accuracy\", cv[\"test_accuracy\"][i], \"\\n\",\n",
    "        \"f1\", cv[\"test_f1\"][i], \"\\n\",\n",
    "        \"recall\", cv[\"test_recall\"][i], \"\\n\",\n",
    "        \"precision\", cv[\"test_precision\"][i], \"\\n\"\n",
    "    )\n",
    "    print(\"---------------------------------------------\")"
   ],
   "metadata": {
    "collapsed": false
   }
  }
 ],
 "metadata": {
  "kernelspec": {
   "display_name": "Python 3",
   "language": "python",
   "name": "python3"
  },
  "language_info": {
   "codemirror_mode": {
    "name": "ipython",
    "version": 2
   },
   "file_extension": ".py",
   "mimetype": "text/x-python",
   "name": "python",
   "nbconvert_exporter": "python",
   "pygments_lexer": "ipython2",
   "version": "2.7.6"
  }
 },
 "nbformat": 4,
 "nbformat_minor": 0
}
