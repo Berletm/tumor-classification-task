{
 "cells": [
  {
   "cell_type": "code",
   "execution_count": 125,
   "metadata": {
    "collapsed": true
   },
   "outputs": [],
   "source": [
    "import pandas as pd\n",
    "import numpy as np"
   ]
  },
  {
   "cell_type": "code",
   "execution_count": 126,
   "outputs": [],
   "source": [
    "data = pd.read_excel(\"tumor-data-without-healthy.xlsx\")"
   ],
   "metadata": {
    "collapsed": false
   }
  },
  {
   "cell_type": "code",
   "execution_count": 127,
   "outputs": [],
   "source": [
    "labels = [value for column, value in data.iloc[0].items()]\n",
    "data = data.set_axis(labels, axis=1)\n",
    "data = data[data.columns[1:]].apply(\n",
    "    lambda x: pd.to_numeric(x.replace('<', '').replace(',', '.'), errors='coerce')\n",
    ")\n",
    "data.drop(index=0, inplace=True)"
   ],
   "metadata": {
    "collapsed": false
   }
  },
  {
   "cell_type": "code",
   "execution_count": 128,
   "outputs": [],
   "source": [
    "data[\"Гормональная активность 0-нет               1-да\"] = data[\n",
    "    \"Гормональная активность 0-нет               1-да\"].astype(float)\n",
    "data.rename(columns={\"Гормональная активность 0-нет               1-да\":\"hormones_activity\"}, inplace=True)"
   ],
   "metadata": {
    "collapsed": false
   }
  },
  {
   "cell_type": "code",
   "execution_count": 129,
   "outputs": [],
   "source": [
    "data.columns = data.columns.astype(str)\n",
    "data.columns = [col.replace(' ', '_').replace('-', '_').replace(':', '').replace('(', '').replace(')', '').replace(',', '') for col in data.columns]"
   ],
   "metadata": {
    "collapsed": false
   }
  },
  {
   "cell_type": "code",
   "execution_count": 130,
   "outputs": [],
   "source": [
    "\"\"\" dropping some columns \"\"\"\n",
    "data.dropna(axis=1, how=\"all\", inplace=True)\n",
    "data.dropna(axis=0, thresh=int(data.shape[1] * 0.6), inplace=True)\n",
    "data.dropna(axis=1, thresh=int(data.shape[0] * 0.6), inplace=True)\n",
    "data.drop([\"Пол____0_жен_1_муж\"], inplace=True, axis=1)"
   ],
   "metadata": {
    "collapsed": false
   }
  },
  {
   "cell_type": "code",
   "execution_count": 131,
   "outputs": [],
   "source": [
    "X = data.drop(columns=[\"КАН\", \"АКР\"])\n",
    "y = np.argmax(data[[\"КАН\", \"АКР\"]], axis=1)"
   ],
   "metadata": {
    "collapsed": false
   }
  },
  {
   "cell_type": "code",
   "execution_count": 132,
   "outputs": [],
   "source": [
    "from sklearn.model_selection import train_test_split\n",
    "\n",
    "X_train, X_test, y_train, y_test = train_test_split(X, y, train_size=0.9, random_state=314)"
   ],
   "metadata": {
    "collapsed": false
   }
  },
  {
   "cell_type": "code",
   "execution_count": 133,
   "outputs": [
    {
     "name": "stderr",
     "output_type": "stream",
     "text": [
      "[I 2024-12-22 13:55:58,911] A new study created in memory with name: no-name-186fa0e3-f8ee-4426-8847-79a73868f159\n",
      "[I 2024-12-22 13:55:58,931] Trial 0 finished with value: 0.36363636363636365 and parameters: {'lambda_l1': 1.6335122896687013, 'lambda_l2': 3.7325920899212554e-07, 'num_leaves': 70, 'feature_fraction': 0.6095973650932056, 'bagging_fraction': 0.703892067480292, 'bagging_freq': 6, 'min_child_samples': 83}. Best is trial 0 with value: 0.36363636363636365.\n",
      "[I 2024-12-22 13:55:58,945] Trial 1 finished with value: 0.36363636363636365 and parameters: {'lambda_l1': 3.763124193920426e-05, 'lambda_l2': 3.590377470801795, 'num_leaves': 207, 'feature_fraction': 0.8035048878528352, 'bagging_fraction': 0.7978918386205073, 'bagging_freq': 5, 'min_child_samples': 65}. Best is trial 0 with value: 0.36363636363636365.\n",
      "[I 2024-12-22 13:55:58,959] Trial 2 finished with value: 0.36363636363636365 and parameters: {'lambda_l1': 5.481522531247009e-07, 'lambda_l2': 0.0005646856508541937, 'num_leaves': 26, 'feature_fraction': 0.6225626173732342, 'bagging_fraction': 0.4824672646260144, 'bagging_freq': 4, 'min_child_samples': 72}. Best is trial 0 with value: 0.36363636363636365.\n",
      "[I 2024-12-22 13:55:58,979] Trial 3 finished with value: 1.0 and parameters: {'lambda_l1': 0.006822516771075539, 'lambda_l2': 8.959515710646349e-07, 'num_leaves': 28, 'feature_fraction': 0.5360804548923979, 'bagging_fraction': 0.7864415848691042, 'bagging_freq': 1, 'min_child_samples': 29}. Best is trial 3 with value: 1.0.\n",
      "[I 2024-12-22 13:55:58,999] Trial 4 finished with value: 1.0 and parameters: {'lambda_l1': 0.0022809548470839386, 'lambda_l2': 3.765334841336126, 'num_leaves': 164, 'feature_fraction': 0.9967365125754243, 'bagging_fraction': 0.4315838108112464, 'bagging_freq': 4, 'min_child_samples': 21}. Best is trial 3 with value: 1.0.\n",
      "[I 2024-12-22 13:55:59,014] Trial 5 finished with value: 0.36363636363636365 and parameters: {'lambda_l1': 1.8251318049646263e-05, 'lambda_l2': 0.9282822858169791, 'num_leaves': 246, 'feature_fraction': 0.9603119146135813, 'bagging_fraction': 0.6452327943672821, 'bagging_freq': 7, 'min_child_samples': 44}. Best is trial 3 with value: 1.0.\n",
      "[I 2024-12-22 13:55:59,026] Trial 6 finished with value: 0.36363636363636365 and parameters: {'lambda_l1': 8.474986251814898e-08, 'lambda_l2': 0.01750679444361677, 'num_leaves': 123, 'feature_fraction': 0.5351071795244562, 'bagging_fraction': 0.5462822075852409, 'bagging_freq': 6, 'min_child_samples': 83}. Best is trial 3 with value: 1.0.\n",
      "[I 2024-12-22 13:55:59,037] Trial 7 finished with value: 0.36363636363636365 and parameters: {'lambda_l1': 2.2756201114342544e-07, 'lambda_l2': 0.5232939297918004, 'num_leaves': 193, 'feature_fraction': 0.6851582815232478, 'bagging_fraction': 0.4750376105095231, 'bagging_freq': 2, 'min_child_samples': 74}. Best is trial 3 with value: 1.0.\n",
      "[I 2024-12-22 13:55:59,049] Trial 8 finished with value: 0.36363636363636365 and parameters: {'lambda_l1': 0.00010315266443810979, 'lambda_l2': 6.518645177480618e-07, 'num_leaves': 51, 'feature_fraction': 0.5487424999023627, 'bagging_fraction': 0.4062285860713944, 'bagging_freq': 3, 'min_child_samples': 98}. Best is trial 3 with value: 1.0.\n",
      "[I 2024-12-22 13:55:59,062] Trial 9 finished with value: 0.36363636363636365 and parameters: {'lambda_l1': 1.7893450143753063e-08, 'lambda_l2': 7.558729389357808e-06, 'num_leaves': 196, 'feature_fraction': 0.869050310757008, 'bagging_fraction': 0.5086942842896901, 'bagging_freq': 6, 'min_child_samples': 57}. Best is trial 3 with value: 1.0.\n",
      "[I 2024-12-22 13:55:59,121] Trial 10 finished with value: 0.9090909090909091 and parameters: {'lambda_l1': 0.04519867260256789, 'lambda_l2': 1.0605740780443205e-08, 'num_leaves': 95, 'feature_fraction': 0.4258239889118625, 'bagging_fraction': 0.9942588251312666, 'bagging_freq': 1, 'min_child_samples': 6}. Best is trial 3 with value: 1.0.\n",
      "[I 2024-12-22 13:55:59,177] Trial 11 finished with value: 1.0 and parameters: {'lambda_l1': 0.008767374801354042, 'lambda_l2': 0.00013079482586148244, 'num_leaves': 154, 'feature_fraction': 0.994060877291751, 'bagging_fraction': 0.855041331875093, 'bagging_freq': 1, 'min_child_samples': 25}. Best is trial 3 with value: 1.0.\n",
      "[I 2024-12-22 13:55:59,254] Trial 12 finished with value: 1.0 and parameters: {'lambda_l1': 0.004765037194959736, 'lambda_l2': 0.006640061904609558, 'num_leaves': 3, 'feature_fraction': 0.7988736624243762, 'bagging_fraction': 0.8061042686310561, 'bagging_freq': 3, 'min_child_samples': 34}. Best is trial 3 with value: 1.0.\n",
      "[I 2024-12-22 13:55:59,323] Trial 13 finished with value: 1.0 and parameters: {'lambda_l1': 0.3876364945933487, 'lambda_l2': 1.2707588720225722e-08, 'num_leaves': 143, 'feature_fraction': 0.4861970230287652, 'bagging_fraction': 0.6454786190807722, 'bagging_freq': 3, 'min_child_samples': 16}. Best is trial 3 with value: 1.0.\n",
      "[I 2024-12-22 13:55:59,383] Trial 14 finished with value: 1.0 and parameters: {'lambda_l1': 0.0017048814036998469, 'lambda_l2': 7.005982322182136e-06, 'num_leaves': 105, 'feature_fraction': 0.4148209833551223, 'bagging_fraction': 0.9796614388195339, 'bagging_freq': 4, 'min_child_samples': 40}. Best is trial 3 with value: 1.0.\n",
      "[I 2024-12-22 13:55:59,447] Trial 15 finished with value: 1.0 and parameters: {'lambda_l1': 0.052188506923010046, 'lambda_l2': 0.04528871898038311, 'num_leaves': 166, 'feature_fraction': 0.726005771505813, 'bagging_fraction': 0.8880872815140839, 'bagging_freq': 2, 'min_child_samples': 22}. Best is trial 3 with value: 1.0.\n",
      "[I 2024-12-22 13:55:59,514] Trial 16 finished with value: 0.9090909090909091 and parameters: {'lambda_l1': 9.582178145965383, 'lambda_l2': 0.00024047461712766637, 'num_leaves': 249, 'feature_fraction': 0.8891840478497888, 'bagging_fraction': 0.7230602269552946, 'bagging_freq': 2, 'min_child_samples': 9}. Best is trial 3 with value: 1.0.\n",
      "[I 2024-12-22 13:55:59,578] Trial 17 finished with value: 0.9090909090909091 and parameters: {'lambda_l1': 4.896137255394817e-06, 'lambda_l2': 2.232543266943518e-07, 'num_leaves': 70, 'feature_fraction': 0.7134151065647878, 'bagging_fraction': 0.5892633437158692, 'bagging_freq': 5, 'min_child_samples': 30}. Best is trial 3 with value: 1.0.\n",
      "[I 2024-12-22 13:55:59,633] Trial 18 finished with value: 0.36363636363636365 and parameters: {'lambda_l1': 0.0005626298621613551, 'lambda_l2': 2.5759270790344536e-05, 'num_leaves': 172, 'feature_fraction': 0.6167770148483397, 'bagging_fraction': 0.7940275580417109, 'bagging_freq': 4, 'min_child_samples': 50}. Best is trial 3 with value: 1.0.\n",
      "[I 2024-12-22 13:55:59,689] Trial 19 finished with value: 1.0 and parameters: {'lambda_l1': 0.05311764869881725, 'lambda_l2': 0.001211676733857385, 'num_leaves': 119, 'feature_fraction': 0.49157064102529435, 'bagging_fraction': 0.9046000225661429, 'bagging_freq': 1, 'min_child_samples': 17}. Best is trial 3 with value: 1.0.\n",
      "[I 2024-12-22 13:55:59,740] Trial 20 finished with value: 0.9090909090909091 and parameters: {'lambda_l1': 0.0002676465438927008, 'lambda_l2': 0.10739556237514249, 'num_leaves': 217, 'feature_fraction': 0.7705160445142487, 'bagging_fraction': 0.7425482212465763, 'bagging_freq': 7, 'min_child_samples': 37}. Best is trial 3 with value: 1.0.\n",
      "[I 2024-12-22 13:55:59,793] Trial 21 finished with value: 1.0 and parameters: {'lambda_l1': 0.011943969491164991, 'lambda_l2': 7.598918520219529e-05, 'num_leaves': 148, 'feature_fraction': 0.9999630752257254, 'bagging_fraction': 0.877798711467567, 'bagging_freq': 1, 'min_child_samples': 27}. Best is trial 3 with value: 1.0.\n",
      "[I 2024-12-22 13:55:59,846] Trial 22 finished with value: 1.0 and parameters: {'lambda_l1': 0.002261532583535351, 'lambda_l2': 0.002232408204142538, 'num_leaves': 164, 'feature_fraction': 0.9419027067994769, 'bagging_fraction': 0.8458124862763424, 'bagging_freq': 2, 'min_child_samples': 25}. Best is trial 3 with value: 1.0.\n",
      "[I 2024-12-22 13:55:59,901] Trial 23 finished with value: 1.0 and parameters: {'lambda_l1': 0.26140468593702076, 'lambda_l2': 2.121630757129173e-06, 'num_leaves': 88, 'feature_fraction': 0.8806203950186471, 'bagging_fraction': 0.9272538368437393, 'bagging_freq': 1, 'min_child_samples': 15}. Best is trial 3 with value: 1.0.\n",
      "[I 2024-12-22 13:55:59,950] Trial 24 finished with value: 0.36363636363636365 and parameters: {'lambda_l1': 0.01505736678452996, 'lambda_l2': 9.291190702130796, 'num_leaves': 143, 'feature_fraction': 0.9955475809820133, 'bagging_fraction': 0.6418521478464883, 'bagging_freq': 2, 'min_child_samples': 44}. Best is trial 3 with value: 1.0.\n",
      "[I 2024-12-22 13:55:59,998] Trial 25 finished with value: 1.0 and parameters: {'lambda_l1': 0.0005624074122800571, 'lambda_l2': 8.417589013234915e-08, 'num_leaves': 225, 'feature_fraction': 0.927179433806211, 'bagging_fraction': 0.414862558654671, 'bagging_freq': 1, 'min_child_samples': 22}. Best is trial 3 with value: 1.0.\n",
      "[I 2024-12-22 13:56:00,049] Trial 26 finished with value: 0.36363636363636365 and parameters: {'lambda_l1': 0.4103987329605172, 'lambda_l2': 3.1365030501706774e-05, 'num_leaves': 183, 'feature_fraction': 0.8687753090344595, 'bagging_fraction': 0.7529259025107566, 'bagging_freq': 3, 'min_child_samples': 53}. Best is trial 3 with value: 1.0.\n",
      "[I 2024-12-22 13:56:00,101] Trial 27 finished with value: 1.0 and parameters: {'lambda_l1': 5.7132316169731715e-06, 'lambda_l2': 9.743996259620594e-05, 'num_leaves': 24, 'feature_fraction': 0.8426020695313533, 'bagging_fraction': 0.8457317732486922, 'bagging_freq': 5, 'min_child_samples': 10}. Best is trial 3 with value: 1.0.\n",
      "[I 2024-12-22 13:56:00,150] Trial 28 finished with value: 1.0 and parameters: {'lambda_l1': 0.006754902942611446, 'lambda_l2': 1.8462509634350458e-06, 'num_leaves': 112, 'feature_fraction': 0.9403836386447639, 'bagging_fraction': 0.7746214225303056, 'bagging_freq': 1, 'min_child_samples': 33}. Best is trial 3 with value: 1.0.\n",
      "[I 2024-12-22 13:56:00,199] Trial 29 finished with value: 1.0 and parameters: {'lambda_l1': 3.9016402802802497, 'lambda_l2': 0.006485039160895185, 'num_leaves': 64, 'feature_fraction': 0.6401752297898962, 'bagging_fraction': 0.7114650457661249, 'bagging_freq': 2, 'min_child_samples': 22}. Best is trial 3 with value: 1.0.\n",
      "[I 2024-12-22 13:56:00,248] Trial 30 finished with value: 0.36363636363636365 and parameters: {'lambda_l1': 0.0011206802429666268, 'lambda_l2': 0.1789612568085337, 'num_leaves': 151, 'feature_fraction': 0.5511617294493802, 'bagging_fraction': 0.6761146437838232, 'bagging_freq': 3, 'min_child_samples': 44}. Best is trial 3 with value: 1.0.\n",
      "[I 2024-12-22 13:56:00,299] Trial 31 finished with value: 1.0 and parameters: {'lambda_l1': 0.0021942099951132157, 'lambda_l2': 0.01068004621144763, 'num_leaves': 7, 'feature_fraction': 0.7871348067445787, 'bagging_fraction': 0.8225853530693629, 'bagging_freq': 3, 'min_child_samples': 33}. Best is trial 3 with value: 1.0.\n",
      "[I 2024-12-22 13:56:00,349] Trial 32 finished with value: 1.0 and parameters: {'lambda_l1': 0.00640703552798413, 'lambda_l2': 1.3958023043607304, 'num_leaves': 35, 'feature_fraction': 0.8140187714565273, 'bagging_fraction': 0.9481146860927557, 'bagging_freq': 4, 'min_child_samples': 36}. Best is trial 3 with value: 1.0.\n",
      "[I 2024-12-22 13:56:00,405] Trial 33 finished with value: 1.0 and parameters: {'lambda_l1': 9.869782898402865e-05, 'lambda_l2': 0.003007090309680358, 'num_leaves': 3, 'feature_fraction': 0.6619601851600074, 'bagging_fraction': 0.8239749477659704, 'bagging_freq': 5, 'min_child_samples': 29}. Best is trial 3 with value: 1.0.\n",
      "[I 2024-12-22 13:56:00,459] Trial 34 finished with value: 1.0 and parameters: {'lambda_l1': 0.021749058172886054, 'lambda_l2': 0.00046799564202029616, 'num_leaves': 44, 'feature_fraction': 0.7484873151337386, 'bagging_fraction': 0.7734991066491264, 'bagging_freq': 4, 'min_child_samples': 14}. Best is trial 3 with value: 1.0.\n",
      "[I 2024-12-22 13:56:00,507] Trial 35 finished with value: 0.36363636363636365 and parameters: {'lambda_l1': 0.1358344890345366, 'lambda_l2': 0.028940570623555473, 'num_leaves': 12, 'feature_fraction': 0.9139797090602747, 'bagging_fraction': 0.8536706226993844, 'bagging_freq': 5, 'min_child_samples': 64}. Best is trial 3 with value: 1.0.\n",
      "[I 2024-12-22 13:56:00,563] Trial 36 finished with value: 0.36363636363636365 and parameters: {'lambda_l1': 0.005168114574685854, 'lambda_l2': 0.319316164345235, 'num_leaves': 22, 'feature_fraction': 0.9657250000270186, 'bagging_fraction': 0.6833409353720407, 'bagging_freq': 3, 'min_child_samples': 41}. Best is trial 3 with value: 1.0.\n",
      "[I 2024-12-22 13:56:00,612] Trial 37 finished with value: 0.36363636363636365 and parameters: {'lambda_l1': 0.00021144273038701056, 'lambda_l2': 2.8548984047142585, 'num_leaves': 130, 'feature_fraction': 0.8256238247463508, 'bagging_fraction': 0.5963336378504192, 'bagging_freq': 2, 'min_child_samples': 48}. Best is trial 3 with value: 1.0.\n",
      "[I 2024-12-22 13:56:00,671] Trial 38 finished with value: 1.0 and parameters: {'lambda_l1': 2.870499723806952e-05, 'lambda_l2': 8.7472408117419e-06, 'num_leaves': 78, 'feature_fraction': 0.5673446126984117, 'bagging_fraction': 0.793745282312686, 'bagging_freq': 6, 'min_child_samples': 19}. Best is trial 3 with value: 1.0.\n",
      "[I 2024-12-22 13:56:00,723] Trial 39 finished with value: 0.36363636363636365 and parameters: {'lambda_l1': 0.7695954142499312, 'lambda_l2': 5.0525332139270286e-08, 'num_leaves': 132, 'feature_fraction': 0.9787418926776525, 'bagging_fraction': 0.451571843899396, 'bagging_freq': 1, 'min_child_samples': 60}. Best is trial 3 with value: 1.0.\n",
      "[I 2024-12-22 13:56:00,788] Trial 40 finished with value: 1.0 and parameters: {'lambda_l1': 0.14564869614247025, 'lambda_l2': 5.023320322764946e-07, 'num_leaves': 52, 'feature_fraction': 0.5888943973166654, 'bagging_fraction': 0.9526116599890555, 'bagging_freq': 4, 'min_child_samples': 5}. Best is trial 3 with value: 1.0.\n",
      "[I 2024-12-22 13:56:00,852] Trial 41 finished with value: 1.0 and parameters: {'lambda_l1': 0.04284772141844275, 'lambda_l2': 1.6599231704852484e-08, 'num_leaves': 176, 'feature_fraction': 0.437504614361685, 'bagging_fraction': 0.5517494280782584, 'bagging_freq': 3, 'min_child_samples': 12}. Best is trial 3 with value: 1.0.\n",
      "[I 2024-12-22 13:56:00,918] Trial 42 finished with value: 1.0 and parameters: {'lambda_l1': 1.208256844349688, 'lambda_l2': 4.356110074978807e-08, 'num_leaves': 192, 'feature_fraction': 0.455468775270359, 'bagging_fraction': 0.6509957326612337, 'bagging_freq': 3, 'min_child_samples': 25}. Best is trial 3 with value: 1.0.\n",
      "[I 2024-12-22 13:56:00,991] Trial 43 finished with value: 1.0 and parameters: {'lambda_l1': 0.003495217659317842, 'lambda_l2': 2.9021100397313947e-07, 'num_leaves': 150, 'feature_fraction': 0.5161430376970374, 'bagging_fraction': 0.8181128871610422, 'bagging_freq': 2, 'min_child_samples': 19}. Best is trial 3 with value: 1.0.\n",
      "[I 2024-12-22 13:56:01,053] Trial 44 finished with value: 1.0 and parameters: {'lambda_l1': 0.0008099764722646869, 'lambda_l2': 1.1553904445841112e-06, 'num_leaves': 159, 'feature_fraction': 0.48082534072839284, 'bagging_fraction': 0.7406234494618187, 'bagging_freq': 3, 'min_child_samples': 33}. Best is trial 3 with value: 1.0.\n",
      "[I 2024-12-22 13:56:01,107] Trial 45 finished with value: 0.36363636363636365 and parameters: {'lambda_l1': 0.022654110628255147, 'lambda_l2': 4.617641123403776e-06, 'num_leaves': 138, 'feature_fraction': 0.5024292299773644, 'bagging_fraction': 0.48632683594175463, 'bagging_freq': 4, 'min_child_samples': 91}. Best is trial 3 with value: 1.0.\n",
      "[I 2024-12-22 13:56:01,159] Trial 46 finished with value: 0.8181818181818182 and parameters: {'lambda_l1': 0.1143277064181162, 'lambda_l2': 0.0001737285977500771, 'num_leaves': 99, 'feature_fraction': 0.6703821366995323, 'bagging_fraction': 0.5281247387604503, 'bagging_freq': 2, 'min_child_samples': 28}. Best is trial 3 with value: 1.0.\n",
      "[I 2024-12-22 13:56:01,213] Trial 47 finished with value: 0.36363636363636365 and parameters: {'lambda_l1': 7.661585253168375e-05, 'lambda_l2': 1.5067863206554477e-07, 'num_leaves': 209, 'feature_fraction': 0.46818751218819565, 'bagging_fraction': 0.8721339600053616, 'bagging_freq': 4, 'min_child_samples': 77}. Best is trial 3 with value: 1.0.\n",
      "[I 2024-12-22 13:56:01,276] Trial 48 finished with value: 1.0 and parameters: {'lambda_l1': 2.6040233537719972, 'lambda_l2': 1.9668290357439693e-05, 'num_leaves': 235, 'feature_fraction': 0.906656838899044, 'bagging_fraction': 0.6127249678579159, 'bagging_freq': 1, 'min_child_samples': 20}. Best is trial 3 with value: 1.0.\n",
      "[I 2024-12-22 13:56:01,351] Trial 49 finished with value: 1.0 and parameters: {'lambda_l1': 7.743313543357336e-06, 'lambda_l2': 2.6879495068791262e-08, 'num_leaves': 121, 'feature_fraction': 0.7316643020938688, 'bagging_fraction': 0.9135793736590779, 'bagging_freq': 3, 'min_child_samples': 8}. Best is trial 3 with value: 1.0.\n",
      "[I 2024-12-22 13:56:01,412] Trial 50 finished with value: 0.36363636363636365 and parameters: {'lambda_l1': 1.0817183832025877e-08, 'lambda_l2': 0.08297535605353497, 'num_leaves': 183, 'feature_fraction': 0.4015965291990386, 'bagging_fraction': 0.43848754447102267, 'bagging_freq': 7, 'min_child_samples': 40}. Best is trial 3 with value: 1.0.\n",
      "[I 2024-12-22 13:56:01,476] Trial 51 finished with value: 1.0 and parameters: {'lambda_l1': 0.0011770337597431441, 'lambda_l2': 0.0011456834330554047, 'num_leaves': 111, 'feature_fraction': 0.42483514717019394, 'bagging_fraction': 0.984460534768657, 'bagging_freq': 5, 'min_child_samples': 31}. Best is trial 3 with value: 1.0.\n",
      "[I 2024-12-22 13:56:01,541] Trial 52 finished with value: 1.0 and parameters: {'lambda_l1': 0.0020752606556043653, 'lambda_l2': 5.240848713946513e-06, 'num_leaves': 158, 'feature_fraction': 0.5162281421769749, 'bagging_fraction': 0.9726458398587469, 'bagging_freq': 4, 'min_child_samples': 39}. Best is trial 3 with value: 1.0.\n",
      "[I 2024-12-22 13:56:01,598] Trial 53 finished with value: 1.0 and parameters: {'lambda_l1': 0.0002537823079838045, 'lambda_l2': 1.3806095757843559e-05, 'num_leaves': 15, 'feature_fraction': 0.4094030947853968, 'bagging_fraction': 0.764505873340872, 'bagging_freq': 4, 'min_child_samples': 25}. Best is trial 3 with value: 1.0.\n",
      "[I 2024-12-22 13:56:01,662] Trial 54 finished with value: 1.0 and parameters: {'lambda_l1': 0.03538617683978147, 'lambda_l2': 8.615560171080066e-07, 'num_leaves': 42, 'feature_fraction': 0.448321700271858, 'bagging_fraction': 0.893735428111394, 'bagging_freq': 1, 'min_child_samples': 16}. Best is trial 3 with value: 1.0.\n",
      "[I 2024-12-22 13:56:01,719] Trial 55 finished with value: 0.9090909090909091 and parameters: {'lambda_l1': 0.010845639572418969, 'lambda_l2': 8.136723772835036e-05, 'num_leaves': 172, 'feature_fraction': 0.696098464260882, 'bagging_fraction': 0.7271669447421079, 'bagging_freq': 5, 'min_child_samples': 36}. Best is trial 3 with value: 1.0.\n",
      "[I 2024-12-22 13:56:01,768] Trial 56 finished with value: 0.36363636363636365 and parameters: {'lambda_l1': 0.00045063701414794805, 'lambda_l2': 3.051648154032852e-06, 'num_leaves': 59, 'feature_fraction': 0.9626046599127774, 'bagging_fraction': 0.7982952115281793, 'bagging_freq': 2, 'min_child_samples': 46}. Best is trial 3 with value: 1.0.\n",
      "[I 2024-12-22 13:56:01,817] Trial 57 finished with value: 0.36363636363636365 and parameters: {'lambda_l1': 0.0033258045265288547, 'lambda_l2': 3.157091864535568e-05, 'num_leaves': 99, 'feature_fraction': 0.53805247740077, 'bagging_fraction': 0.8640007712263502, 'bagging_freq': 3, 'min_child_samples': 54}. Best is trial 3 with value: 1.0.\n",
      "[I 2024-12-22 13:56:01,873] Trial 58 finished with value: 0.9090909090909091 and parameters: {'lambda_l1': 0.08039392556523461, 'lambda_l2': 0.00023592738931804734, 'num_leaves': 31, 'feature_fraction': 0.5757310035493264, 'bagging_fraction': 0.5672520152194154, 'bagging_freq': 4, 'min_child_samples': 23}. Best is trial 3 with value: 1.0.\n",
      "[I 2024-12-22 13:56:01,927] Trial 59 finished with value: 1.0 and parameters: {'lambda_l1': 6.823322496893602e-07, 'lambda_l2': 1.1359769987547211e-07, 'num_leaves': 139, 'feature_fraction': 0.8442806911836391, 'bagging_fraction': 0.9980737057117817, 'bagging_freq': 6, 'min_child_samples': 27}. Best is trial 3 with value: 1.0.\n",
      "[I 2024-12-22 13:56:01,981] Trial 60 finished with value: 1.0 and parameters: {'lambda_l1': 0.3463026304195877, 'lambda_l2': 0.0049084277686601155, 'num_leaves': 200, 'feature_fraction': 0.6397705917995551, 'bagging_fraction': 0.6906506046192731, 'bagging_freq': 1, 'min_child_samples': 31}. Best is trial 3 with value: 1.0.\n",
      "[I 2024-12-22 13:56:02,042] Trial 61 finished with value: 1.0 and parameters: {'lambda_l1': 0.00987471689317147, 'lambda_l2': 0.032486709989134, 'num_leaves': 168, 'feature_fraction': 0.7189507749032694, 'bagging_fraction': 0.8899685528454545, 'bagging_freq': 2, 'min_child_samples': 12}. Best is trial 3 with value: 1.0.\n",
      "[I 2024-12-22 13:56:02,101] Trial 62 finished with value: 1.0 and parameters: {'lambda_l1': 0.024500577903877375, 'lambda_l2': 0.00126027034190387, 'num_leaves': 159, 'feature_fraction': 0.7801957035985352, 'bagging_fraction': 0.9325083682971249, 'bagging_freq': 2, 'min_child_samples': 17}. Best is trial 3 with value: 1.0.\n",
      "[I 2024-12-22 13:56:02,163] Trial 63 finished with value: 1.0 and parameters: {'lambda_l1': 0.001614600138741712, 'lambda_l2': 0.7621731452461774, 'num_leaves': 178, 'feature_fraction': 0.6071829006910104, 'bagging_fraction': 0.8376680686919501, 'bagging_freq': 1, 'min_child_samples': 22}. Best is trial 3 with value: 1.0.\n",
      "[I 2024-12-22 13:56:02,218] Trial 64 finished with value: 1.0 and parameters: {'lambda_l1': 0.007291619684138908, 'lambda_l2': 2.337046144533725, 'num_leaves': 111, 'feature_fraction': 0.7394586343831486, 'bagging_fraction': 0.8086119728170672, 'bagging_freq': 3, 'min_child_samples': 37}. Best is trial 3 with value: 1.0.\n",
      "[I 2024-12-22 13:56:02,274] Trial 65 finished with value: 1.0 and parameters: {'lambda_l1': 0.05957670243158408, 'lambda_l2': 0.06471468792788981, 'num_leaves': 187, 'feature_fraction': 0.9875445248853264, 'bagging_fraction': 0.915893482080949, 'bagging_freq': 1, 'min_child_samples': 25}. Best is trial 3 with value: 1.0.\n",
      "[I 2024-12-22 13:56:02,327] Trial 66 finished with value: 0.36363636363636365 and parameters: {'lambda_l1': 0.21057977850442483, 'lambda_l2': 5.322981070136926, 'num_leaves': 165, 'feature_fraction': 0.7553081854107923, 'bagging_fraction': 0.7803902150939371, 'bagging_freq': 2, 'min_child_samples': 42}. Best is trial 3 with value: 1.0.\n",
      "[I 2024-12-22 13:56:02,383] Trial 67 finished with value: 1.0 and parameters: {'lambda_l1': 0.003983073235864665, 'lambda_l2': 0.0007220306108594616, 'num_leaves': 148, 'feature_fraction': 0.47757239431947546, 'bagging_fraction': 0.9514869828695279, 'bagging_freq': 4, 'min_child_samples': 32}. Best is trial 3 with value: 1.0.\n",
      "[I 2024-12-22 13:56:02,445] Trial 68 finished with value: 0.9090909090909091 and parameters: {'lambda_l1': 8.873636168729579, 'lambda_l2': 0.21955399709953094, 'num_leaves': 131, 'feature_fraction': 0.6763477500726041, 'bagging_fraction': 0.8350838041246965, 'bagging_freq': 2, 'min_child_samples': 13}. Best is trial 3 with value: 1.0.\n",
      "[I 2024-12-22 13:56:02,506] Trial 69 finished with value: 1.0 and parameters: {'lambda_l1': 0.015268792956835807, 'lambda_l2': 0.01621135306066934, 'num_leaves': 2, 'feature_fraction': 0.9483155167923694, 'bagging_fraction': 0.863942768640492, 'bagging_freq': 1, 'min_child_samples': 20}. Best is trial 3 with value: 1.0.\n",
      "[I 2024-12-22 13:56:02,571] Trial 70 finished with value: 1.0 and parameters: {'lambda_l1': 0.7084943914296628, 'lambda_l2': 0.00014260182583380855, 'num_leaves': 19, 'feature_fraction': 0.868173654283038, 'bagging_fraction': 0.8868964702750721, 'bagging_freq': 3, 'min_child_samples': 29}. Best is trial 3 with value: 1.0.\n",
      "[I 2024-12-22 13:56:02,640] Trial 71 finished with value: 1.0 and parameters: {'lambda_l1': 0.06009852639998923, 'lambda_l2': 0.0034488230022630072, 'num_leaves': 117, 'feature_fraction': 0.49886309717047617, 'bagging_fraction': 0.9696880791844437, 'bagging_freq': 1, 'min_child_samples': 17}. Best is trial 3 with value: 1.0.\n",
      "[I 2024-12-22 13:56:02,712] Trial 72 finished with value: 1.0 and parameters: {'lambda_l1': 0.03370273054389481, 'lambda_l2': 4.4802717471956394e-05, 'num_leaves': 81, 'feature_fraction': 0.4968435988200243, 'bagging_fraction': 0.917204643442763, 'bagging_freq': 1, 'min_child_samples': 10}. Best is trial 3 with value: 1.0.\n",
      "[I 2024-12-22 13:56:02,772] Trial 73 finished with value: 1.0 and parameters: {'lambda_l1': 0.0007529838034490801, 'lambda_l2': 0.0004484883575978828, 'num_leaves': 143, 'feature_fraction': 0.427677660634291, 'bagging_fraction': 0.9401521233610272, 'bagging_freq': 1, 'min_child_samples': 23}. Best is trial 3 with value: 1.0.\n",
      "[I 2024-12-22 13:56:02,833] Trial 74 finished with value: 1.0 and parameters: {'lambda_l1': 0.004230757744559079, 'lambda_l2': 0.0015956979732631405, 'num_leaves': 156, 'feature_fraction': 0.4518145699813263, 'bagging_fraction': 0.9066486620064649, 'bagging_freq': 2, 'min_child_samples': 17}. Best is trial 3 with value: 1.0.\n",
      "[I 2024-12-22 13:56:02,890] Trial 75 finished with value: 0.36363636363636365 and parameters: {'lambda_l1': 0.01535043209770729, 'lambda_l2': 0.009264398725926031, 'num_leaves': 136, 'feature_fraction': 0.5250523913072112, 'bagging_fraction': 0.4971058772075233, 'bagging_freq': 1, 'min_child_samples': 28}. Best is trial 3 with value: 1.0.\n",
      "[I 2024-12-22 13:56:02,955] Trial 76 finished with value: 1.0 and parameters: {'lambda_l1': 0.45742410220358287, 'lambda_l2': 1.5120858299117514e-06, 'num_leaves': 104, 'feature_fraction': 0.5612091023806296, 'bagging_fraction': 0.8613453173312609, 'bagging_freq': 4, 'min_child_samples': 34}. Best is trial 3 with value: 1.0.\n",
      "[I 2024-12-22 13:56:03,021] Trial 77 finished with value: 1.0 and parameters: {'lambda_l1': 0.00016362072581853302, 'lambda_l2': 0.031076639158893565, 'num_leaves': 121, 'feature_fraction': 0.5984620131946321, 'bagging_fraction': 0.8438786991509626, 'bagging_freq': 3, 'min_child_samples': 7}. Best is trial 3 with value: 1.0.\n",
      "[I 2024-12-22 13:56:03,078] Trial 78 finished with value: 1.0 and parameters: {'lambda_l1': 0.2046337188566693, 'lambda_l2': 0.0008320384589866677, 'num_leaves': 127, 'feature_fraction': 0.9795234423269572, 'bagging_fraction': 0.6635890378538705, 'bagging_freq': 5, 'min_child_samples': 26}. Best is trial 3 with value: 1.0.\n",
      "[I 2024-12-22 13:56:03,141] Trial 79 finished with value: 1.0 and parameters: {'lambda_l1': 0.0004296459459582514, 'lambda_l2': 0.002433866243823984, 'num_leaves': 9, 'feature_fraction': 0.912931808554167, 'bagging_fraction': 0.715989250360048, 'bagging_freq': 2, 'min_child_samples': 21}. Best is trial 3 with value: 1.0.\n",
      "[I 2024-12-22 13:56:03,200] Trial 80 finished with value: 0.36363636363636365 and parameters: {'lambda_l1': 0.0013154695942535187, 'lambda_l2': 3.8691046513397034e-07, 'num_leaves': 145, 'feature_fraction': 0.6416607007968465, 'bagging_fraction': 0.8108264993473692, 'bagging_freq': 1, 'min_child_samples': 50}. Best is trial 3 with value: 1.0.\n",
      "[I 2024-12-22 13:56:03,267] Trial 81 finished with value: 1.0 and parameters: {'lambda_l1': 0.008092771922002535, 'lambda_l2': 6.64421324389088e-05, 'num_leaves': 169, 'feature_fraction': 0.9705454813854332, 'bagging_fraction': 0.8803773157485835, 'bagging_freq': 1, 'min_child_samples': 35}. Best is trial 3 with value: 1.0.\n",
      "[I 2024-12-22 13:56:03,347] Trial 82 finished with value: 1.0 and parameters: {'lambda_l1': 0.002606573809361487, 'lambda_l2': 1.5207386489754892e-05, 'num_leaves': 154, 'feature_fraction': 0.9973597093858819, 'bagging_fraction': 0.9015161317704989, 'bagging_freq': 1, 'min_child_samples': 14}. Best is trial 3 with value: 1.0.\n",
      "[I 2024-12-22 13:56:03,418] Trial 83 finished with value: 0.9090909090909091 and parameters: {'lambda_l1': 0.09589281016791923, 'lambda_l2': 0.0002819212141489794, 'num_leaves': 90, 'feature_fraction': 0.9504834705043663, 'bagging_fraction': 0.6271364442930837, 'bagging_freq': 1, 'min_child_samples': 30}. Best is trial 3 with value: 1.0.\n",
      "[I 2024-12-22 13:56:03,493] Trial 84 finished with value: 1.0 and parameters: {'lambda_l1': 0.013148949238595132, 'lambda_l2': 0.00013317365687005674, 'num_leaves': 161, 'feature_fraction': 0.9348161410471324, 'bagging_fraction': 0.8270140316469433, 'bagging_freq': 2, 'min_child_samples': 18}. Best is trial 3 with value: 1.0.\n",
      "[I 2024-12-22 13:56:03,563] Trial 85 finished with value: 1.0 and parameters: {'lambda_l1': 0.0057891963303272264, 'lambda_l2': 1.1000719031203952e-05, 'num_leaves': 150, 'feature_fraction': 0.8024058999053042, 'bagging_fraction': 0.7507926825171667, 'bagging_freq': 4, 'min_child_samples': 24}. Best is trial 3 with value: 1.0.\n",
      "[I 2024-12-22 13:56:03,629] Trial 86 finished with value: 0.36363636363636365 and parameters: {'lambda_l1': 0.022614756909779113, 'lambda_l2': 1.4450986263859295e-08, 'num_leaves': 178, 'feature_fraction': 0.4777326539736555, 'bagging_fraction': 0.46126172925677567, 'bagging_freq': 1, 'min_child_samples': 27}. Best is trial 3 with value: 1.0.\n",
      "[I 2024-12-22 13:56:03,698] Trial 87 finished with value: 0.9090909090909091 and parameters: {'lambda_l1': 0.039452781318325074, 'lambda_l2': 0.00039795111479074506, 'num_leaves': 140, 'feature_fraction': 0.5393979939879241, 'bagging_fraction': 0.41509656346967944, 'bagging_freq': 3, 'min_child_samples': 15}. Best is trial 3 with value: 1.0.\n",
      "[I 2024-12-22 13:56:03,808] Trial 88 finished with value: 1.0 and parameters: {'lambda_l1': 0.0008832775042495987, 'lambda_l2': 4.1158888979615854e-05, 'num_leaves': 26, 'feature_fraction': 0.8937069949991703, 'bagging_fraction': 0.8758542433747372, 'bagging_freq': 2, 'min_child_samples': 38}. Best is trial 3 with value: 1.0.\n",
      "[I 2024-12-22 13:56:03,890] Trial 89 finished with value: 1.0 and parameters: {'lambda_l1': 0.0645696782004235, 'lambda_l2': 0.006397454911874373, 'num_leaves': 201, 'feature_fraction': 0.7000773893124779, 'bagging_fraction': 0.9691901569884598, 'bagging_freq': 1, 'min_child_samples': 10}. Best is trial 3 with value: 1.0.\n",
      "[I 2024-12-22 13:56:03,979] Trial 90 finished with value: 1.0 and parameters: {'lambda_l1': 0.0023185227223226777, 'lambda_l2': 7.206556407295561e-07, 'num_leaves': 134, 'feature_fraction': 0.46153723889339987, 'bagging_fraction': 0.7922467385368323, 'bagging_freq': 4, 'min_child_samples': 20}. Best is trial 3 with value: 1.0.\n",
      "[I 2024-12-22 13:56:04,054] Trial 91 finished with value: 1.0 and parameters: {'lambda_l1': 0.005137043753864596, 'lambda_l2': 0.002506371241065859, 'num_leaves': 163, 'feature_fraction': 0.9965163747495066, 'bagging_fraction': 0.8553048930337277, 'bagging_freq': 2, 'min_child_samples': 25}. Best is trial 3 with value: 1.0.\n",
      "[I 2024-12-22 13:56:04,126] Trial 92 finished with value: 1.0 and parameters: {'lambda_l1': 0.00157276038954215, 'lambda_l2': 2.723458955575598e-06, 'num_leaves': 174, 'feature_fraction': 0.9538988628584503, 'bagging_fraction': 0.829105228428795, 'bagging_freq': 3, 'min_child_samples': 30}. Best is trial 3 with value: 1.0.\n",
      "[I 2024-12-22 13:56:04,193] Trial 93 finished with value: 1.0 and parameters: {'lambda_l1': 0.010819405871698315, 'lambda_l2': 0.01383018224959749, 'num_leaves': 151, 'feature_fraction': 0.9706216992775333, 'bagging_fraction': 0.5230759008825693, 'bagging_freq': 2, 'min_child_samples': 22}. Best is trial 3 with value: 1.0.\n",
      "[I 2024-12-22 13:56:04,262] Trial 94 finished with value: 0.9090909090909091 and parameters: {'lambda_l1': 0.019608810821388014, 'lambda_l2': 5.498024435515579e-06, 'num_leaves': 188, 'feature_fraction': 0.9260163374814843, 'bagging_fraction': 0.9295310803203406, 'bagging_freq': 1, 'min_child_samples': 42}. Best is trial 3 with value: 1.0.\n",
      "[I 2024-12-22 13:56:04,333] Trial 95 finished with value: 1.0 and parameters: {'lambda_l1': 1.4738824632561631, 'lambda_l2': 0.0007936224466967997, 'num_leaves': 144, 'feature_fraction': 0.9790960417434633, 'bagging_fraction': 0.8481138704343572, 'bagging_freq': 3, 'min_child_samples': 34}. Best is trial 3 with value: 1.0.\n",
      "[I 2024-12-22 13:56:04,400] Trial 96 finished with value: 1.0 and parameters: {'lambda_l1': 0.003138982709928802, 'lambda_l2': 2.0342954829462277e-07, 'num_leaves': 35, 'feature_fraction': 0.9882300386694552, 'bagging_fraction': 0.8082540497391555, 'bagging_freq': 2, 'min_child_samples': 27}. Best is trial 3 with value: 1.0.\n",
      "[I 2024-12-22 13:56:04,473] Trial 97 finished with value: 1.0 and parameters: {'lambda_l1': 0.0006228814983959465, 'lambda_l2': 0.5253108999051271, 'num_leaves': 127, 'feature_fraction': 0.7627812747776408, 'bagging_fraction': 0.9006408649085562, 'bagging_freq': 4, 'min_child_samples': 32}. Best is trial 3 with value: 1.0.\n",
      "[I 2024-12-22 13:56:04,551] Trial 98 finished with value: 1.0 and parameters: {'lambda_l1': 0.007567188977039107, 'lambda_l2': 8.058112911927816, 'num_leaves': 69, 'feature_fraction': 0.8373592153755847, 'bagging_fraction': 0.8697740745924414, 'bagging_freq': 1, 'min_child_samples': 19}. Best is trial 3 with value: 1.0.\n",
      "[I 2024-12-22 13:56:04,619] Trial 99 finished with value: 1.0 and parameters: {'lambda_l1': 0.0322166590017091, 'lambda_l2': 6.042741548414767e-08, 'num_leaves': 183, 'feature_fraction': 0.9347766403798881, 'bagging_fraction': 0.7673829669143812, 'bagging_freq': 1, 'min_child_samples': 22}. Best is trial 3 with value: 1.0.\n"
     ]
    }
   ],
   "source": [
    "from lightgbm import LGBMClassifier\n",
    "import optuna\n",
    "\n",
    "def objective(trial):\n",
    "    param = {\n",
    "        'objective': 'binary',\n",
    "        'metric': 'binary_logloss',\n",
    "        'verbosity': -1,\n",
    "        'boosting_type': 'gbdt',\n",
    "        'lambda_l1': trial.suggest_float('lambda_l1', 1e-8, 10.0, log=True),\n",
    "        'lambda_l2': trial.suggest_float('lambda_l2', 1e-8, 10.0, log=True),\n",
    "        'num_leaves': trial.suggest_int('num_leaves', 2, 256),\n",
    "        'feature_fraction': trial.suggest_float('feature_fraction', 0.4, 1.0),\n",
    "        'bagging_fraction': trial.suggest_float('bagging_fraction', 0.4, 1.0),\n",
    "        'bagging_freq': trial.suggest_int('bagging_freq', 1, 7),\n",
    "        'min_child_samples': trial.suggest_int('min_child_samples', 5, 100),\n",
    "    }\n",
    "\n",
    "    model = LGBMClassifier(**param, n_jobs=-1, random_state=314)\n",
    "    model.fit(X_train, y_train)\n",
    "    score = model.score(X_test, y_test)\n",
    "    return score\n",
    "\n",
    "study = optuna.create_study(direction='maximize')\n",
    "study.optimize(objective, n_trials=100)"
   ],
   "metadata": {
    "collapsed": false
   }
  },
  {
   "cell_type": "code",
   "execution_count": 134,
   "outputs": [
    {
     "data": {
      "text/plain": "({'lambda_l1': 0.006822516771075539,\n  'lambda_l2': 8.959515710646349e-07,\n  'num_leaves': 28,\n  'feature_fraction': 0.5360804548923979,\n  'bagging_fraction': 0.7864415848691042,\n  'bagging_freq': 1,\n  'min_child_samples': 29},\n 1.0)"
     },
     "execution_count": 134,
     "metadata": {},
     "output_type": "execute_result"
    }
   ],
   "source": [
    "study.best_params, study.best_value"
   ],
   "metadata": {
    "collapsed": false
   }
  },
  {
   "cell_type": "code",
   "execution_count": 135,
   "outputs": [],
   "source": [
    "model = LGBMClassifier(**study.best_params, random_state=314)"
   ],
   "metadata": {
    "collapsed": false
   }
  },
  {
   "cell_type": "code",
   "execution_count": 143,
   "outputs": [
    {
     "name": "stdout",
     "output_type": "stream",
     "text": [
      " accuracy 0.9523809523809523 \n",
      " f1 0.9473684210526315 \n",
      " recall 0.9 \n",
      " precision 1.0 \n",
      "\n",
      "---------------------------------------------\n",
      " accuracy 0.9 \n",
      " f1 0.8888888888888888 \n",
      " recall 0.8888888888888888 \n",
      " precision 0.8888888888888888 \n",
      "\n",
      "---------------------------------------------\n",
      " accuracy 0.95 \n",
      " f1 0.9473684210526315 \n",
      " recall 1.0 \n",
      " precision 0.9 \n",
      "\n",
      "---------------------------------------------\n",
      " accuracy 0.95 \n",
      " f1 0.9411764705882353 \n",
      " recall 0.8888888888888888 \n",
      " precision 1.0 \n",
      "\n",
      "---------------------------------------------\n",
      " accuracy 0.95 \n",
      " f1 0.9411764705882353 \n",
      " recall 0.8888888888888888 \n",
      " precision 1.0 \n",
      "\n",
      "---------------------------------------------\n"
     ]
    }
   ],
   "source": [
    "from sklearn.model_selection import cross_validate\n",
    "from sklearn.model_selection import StratifiedKFold\n",
    "\n",
    "skf = StratifiedKFold(n_splits=5, shuffle=True, random_state=63)\n",
    "\n",
    "cv = cross_validate(model, X, y, n_jobs=-1,\n",
    "                    scoring=[\"accuracy\",\n",
    "                             \"f1\",\n",
    "                             \"precision\",\n",
    "                             \"recall\"], cv=skf)\n",
    "for i in range(len(cv) - 1):\n",
    "    print(\n",
    "        \" accuracy\", cv[\"test_accuracy\"][i], \"\\n\",\n",
    "        \"f1\", cv[\"test_f1\"][i], \"\\n\",\n",
    "        \"recall\", cv[\"test_recall\"][i], \"\\n\",\n",
    "        \"precision\", cv[\"test_precision\"][i], \"\\n\"\n",
    "    )\n",
    "    print(\"---------------------------------------------\")"
   ],
   "metadata": {
    "collapsed": false
   }
  },
  {
   "cell_type": "code",
   "execution_count": 144,
   "outputs": [
    {
     "data": {
      "text/plain": "LGBMClassifier(bagging_fraction=0.7864415848691042, bagging_freq=1,\n               feature_fraction=0.5360804548923979,\n               lambda_l1=0.006822516771075539, lambda_l2=8.959515710646349e-07,\n               min_child_samples=29, num_leaves=28, random_state=314)",
      "text/html": "<style>#sk-container-id-8 {\n  /* Definition of color scheme common for light and dark mode */\n  --sklearn-color-text: black;\n  --sklearn-color-line: gray;\n  /* Definition of color scheme for unfitted estimators */\n  --sklearn-color-unfitted-level-0: #fff5e6;\n  --sklearn-color-unfitted-level-1: #f6e4d2;\n  --sklearn-color-unfitted-level-2: #ffe0b3;\n  --sklearn-color-unfitted-level-3: chocolate;\n  /* Definition of color scheme for fitted estimators */\n  --sklearn-color-fitted-level-0: #f0f8ff;\n  --sklearn-color-fitted-level-1: #d4ebff;\n  --sklearn-color-fitted-level-2: #b3dbfd;\n  --sklearn-color-fitted-level-3: cornflowerblue;\n\n  /* Specific color for light theme */\n  --sklearn-color-text-on-default-background: var(--sg-text-color, var(--theme-code-foreground, var(--jp-content-font-color1, black)));\n  --sklearn-color-background: var(--sg-background-color, var(--theme-background, var(--jp-layout-color0, white)));\n  --sklearn-color-border-box: var(--sg-text-color, var(--theme-code-foreground, var(--jp-content-font-color1, black)));\n  --sklearn-color-icon: #696969;\n\n  @media (prefers-color-scheme: dark) {\n    /* Redefinition of color scheme for dark theme */\n    --sklearn-color-text-on-default-background: var(--sg-text-color, var(--theme-code-foreground, var(--jp-content-font-color1, white)));\n    --sklearn-color-background: var(--sg-background-color, var(--theme-background, var(--jp-layout-color0, #111)));\n    --sklearn-color-border-box: var(--sg-text-color, var(--theme-code-foreground, var(--jp-content-font-color1, white)));\n    --sklearn-color-icon: #878787;\n  }\n}\n\n#sk-container-id-8 {\n  color: var(--sklearn-color-text);\n}\n\n#sk-container-id-8 pre {\n  padding: 0;\n}\n\n#sk-container-id-8 input.sk-hidden--visually {\n  border: 0;\n  clip: rect(1px 1px 1px 1px);\n  clip: rect(1px, 1px, 1px, 1px);\n  height: 1px;\n  margin: -1px;\n  overflow: hidden;\n  padding: 0;\n  position: absolute;\n  width: 1px;\n}\n\n#sk-container-id-8 div.sk-dashed-wrapped {\n  border: 1px dashed var(--sklearn-color-line);\n  margin: 0 0.4em 0.5em 0.4em;\n  box-sizing: border-box;\n  padding-bottom: 0.4em;\n  background-color: var(--sklearn-color-background);\n}\n\n#sk-container-id-8 div.sk-container {\n  /* jupyter's `normalize.less` sets `[hidden] { display: none; }`\n     but bootstrap.min.css set `[hidden] { display: none !important; }`\n     so we also need the `!important` here to be able to override the\n     default hidden behavior on the sphinx rendered scikit-learn.org.\n     See: https://github.com/scikit-learn/scikit-learn/issues/21755 */\n  display: inline-block !important;\n  position: relative;\n}\n\n#sk-container-id-8 div.sk-text-repr-fallback {\n  display: none;\n}\n\ndiv.sk-parallel-item,\ndiv.sk-serial,\ndiv.sk-item {\n  /* draw centered vertical line to link estimators */\n  background-image: linear-gradient(var(--sklearn-color-text-on-default-background), var(--sklearn-color-text-on-default-background));\n  background-size: 2px 100%;\n  background-repeat: no-repeat;\n  background-position: center center;\n}\n\n/* Parallel-specific style estimator block */\n\n#sk-container-id-8 div.sk-parallel-item::after {\n  content: \"\";\n  width: 100%;\n  border-bottom: 2px solid var(--sklearn-color-text-on-default-background);\n  flex-grow: 1;\n}\n\n#sk-container-id-8 div.sk-parallel {\n  display: flex;\n  align-items: stretch;\n  justify-content: center;\n  background-color: var(--sklearn-color-background);\n  position: relative;\n}\n\n#sk-container-id-8 div.sk-parallel-item {\n  display: flex;\n  flex-direction: column;\n}\n\n#sk-container-id-8 div.sk-parallel-item:first-child::after {\n  align-self: flex-end;\n  width: 50%;\n}\n\n#sk-container-id-8 div.sk-parallel-item:last-child::after {\n  align-self: flex-start;\n  width: 50%;\n}\n\n#sk-container-id-8 div.sk-parallel-item:only-child::after {\n  width: 0;\n}\n\n/* Serial-specific style estimator block */\n\n#sk-container-id-8 div.sk-serial {\n  display: flex;\n  flex-direction: column;\n  align-items: center;\n  background-color: var(--sklearn-color-background);\n  padding-right: 1em;\n  padding-left: 1em;\n}\n\n\n/* Toggleable style: style used for estimator/Pipeline/ColumnTransformer box that is\nclickable and can be expanded/collapsed.\n- Pipeline and ColumnTransformer use this feature and define the default style\n- Estimators will overwrite some part of the style using the `sk-estimator` class\n*/\n\n/* Pipeline and ColumnTransformer style (default) */\n\n#sk-container-id-8 div.sk-toggleable {\n  /* Default theme specific background. It is overwritten whether we have a\n  specific estimator or a Pipeline/ColumnTransformer */\n  background-color: var(--sklearn-color-background);\n}\n\n/* Toggleable label */\n#sk-container-id-8 label.sk-toggleable__label {\n  cursor: pointer;\n  display: block;\n  width: 100%;\n  margin-bottom: 0;\n  padding: 0.5em;\n  box-sizing: border-box;\n  text-align: center;\n}\n\n#sk-container-id-8 label.sk-toggleable__label-arrow:before {\n  /* Arrow on the left of the label */\n  content: \"▸\";\n  float: left;\n  margin-right: 0.25em;\n  color: var(--sklearn-color-icon);\n}\n\n#sk-container-id-8 label.sk-toggleable__label-arrow:hover:before {\n  color: var(--sklearn-color-text);\n}\n\n/* Toggleable content - dropdown */\n\n#sk-container-id-8 div.sk-toggleable__content {\n  max-height: 0;\n  max-width: 0;\n  overflow: hidden;\n  text-align: left;\n  /* unfitted */\n  background-color: var(--sklearn-color-unfitted-level-0);\n}\n\n#sk-container-id-8 div.sk-toggleable__content.fitted {\n  /* fitted */\n  background-color: var(--sklearn-color-fitted-level-0);\n}\n\n#sk-container-id-8 div.sk-toggleable__content pre {\n  margin: 0.2em;\n  border-radius: 0.25em;\n  color: var(--sklearn-color-text);\n  /* unfitted */\n  background-color: var(--sklearn-color-unfitted-level-0);\n}\n\n#sk-container-id-8 div.sk-toggleable__content.fitted pre {\n  /* unfitted */\n  background-color: var(--sklearn-color-fitted-level-0);\n}\n\n#sk-container-id-8 input.sk-toggleable__control:checked~div.sk-toggleable__content {\n  /* Expand drop-down */\n  max-height: 200px;\n  max-width: 100%;\n  overflow: auto;\n}\n\n#sk-container-id-8 input.sk-toggleable__control:checked~label.sk-toggleable__label-arrow:before {\n  content: \"▾\";\n}\n\n/* Pipeline/ColumnTransformer-specific style */\n\n#sk-container-id-8 div.sk-label input.sk-toggleable__control:checked~label.sk-toggleable__label {\n  color: var(--sklearn-color-text);\n  background-color: var(--sklearn-color-unfitted-level-2);\n}\n\n#sk-container-id-8 div.sk-label.fitted input.sk-toggleable__control:checked~label.sk-toggleable__label {\n  background-color: var(--sklearn-color-fitted-level-2);\n}\n\n/* Estimator-specific style */\n\n/* Colorize estimator box */\n#sk-container-id-8 div.sk-estimator input.sk-toggleable__control:checked~label.sk-toggleable__label {\n  /* unfitted */\n  background-color: var(--sklearn-color-unfitted-level-2);\n}\n\n#sk-container-id-8 div.sk-estimator.fitted input.sk-toggleable__control:checked~label.sk-toggleable__label {\n  /* fitted */\n  background-color: var(--sklearn-color-fitted-level-2);\n}\n\n#sk-container-id-8 div.sk-label label.sk-toggleable__label,\n#sk-container-id-8 div.sk-label label {\n  /* The background is the default theme color */\n  color: var(--sklearn-color-text-on-default-background);\n}\n\n/* On hover, darken the color of the background */\n#sk-container-id-8 div.sk-label:hover label.sk-toggleable__label {\n  color: var(--sklearn-color-text);\n  background-color: var(--sklearn-color-unfitted-level-2);\n}\n\n/* Label box, darken color on hover, fitted */\n#sk-container-id-8 div.sk-label.fitted:hover label.sk-toggleable__label.fitted {\n  color: var(--sklearn-color-text);\n  background-color: var(--sklearn-color-fitted-level-2);\n}\n\n/* Estimator label */\n\n#sk-container-id-8 div.sk-label label {\n  font-family: monospace;\n  font-weight: bold;\n  display: inline-block;\n  line-height: 1.2em;\n}\n\n#sk-container-id-8 div.sk-label-container {\n  text-align: center;\n}\n\n/* Estimator-specific */\n#sk-container-id-8 div.sk-estimator {\n  font-family: monospace;\n  border: 1px dotted var(--sklearn-color-border-box);\n  border-radius: 0.25em;\n  box-sizing: border-box;\n  margin-bottom: 0.5em;\n  /* unfitted */\n  background-color: var(--sklearn-color-unfitted-level-0);\n}\n\n#sk-container-id-8 div.sk-estimator.fitted {\n  /* fitted */\n  background-color: var(--sklearn-color-fitted-level-0);\n}\n\n/* on hover */\n#sk-container-id-8 div.sk-estimator:hover {\n  /* unfitted */\n  background-color: var(--sklearn-color-unfitted-level-2);\n}\n\n#sk-container-id-8 div.sk-estimator.fitted:hover {\n  /* fitted */\n  background-color: var(--sklearn-color-fitted-level-2);\n}\n\n/* Specification for estimator info (e.g. \"i\" and \"?\") */\n\n/* Common style for \"i\" and \"?\" */\n\n.sk-estimator-doc-link,\na:link.sk-estimator-doc-link,\na:visited.sk-estimator-doc-link {\n  float: right;\n  font-size: smaller;\n  line-height: 1em;\n  font-family: monospace;\n  background-color: var(--sklearn-color-background);\n  border-radius: 1em;\n  height: 1em;\n  width: 1em;\n  text-decoration: none !important;\n  margin-left: 1ex;\n  /* unfitted */\n  border: var(--sklearn-color-unfitted-level-1) 1pt solid;\n  color: var(--sklearn-color-unfitted-level-1);\n}\n\n.sk-estimator-doc-link.fitted,\na:link.sk-estimator-doc-link.fitted,\na:visited.sk-estimator-doc-link.fitted {\n  /* fitted */\n  border: var(--sklearn-color-fitted-level-1) 1pt solid;\n  color: var(--sklearn-color-fitted-level-1);\n}\n\n/* On hover */\ndiv.sk-estimator:hover .sk-estimator-doc-link:hover,\n.sk-estimator-doc-link:hover,\ndiv.sk-label-container:hover .sk-estimator-doc-link:hover,\n.sk-estimator-doc-link:hover {\n  /* unfitted */\n  background-color: var(--sklearn-color-unfitted-level-3);\n  color: var(--sklearn-color-background);\n  text-decoration: none;\n}\n\ndiv.sk-estimator.fitted:hover .sk-estimator-doc-link.fitted:hover,\n.sk-estimator-doc-link.fitted:hover,\ndiv.sk-label-container:hover .sk-estimator-doc-link.fitted:hover,\n.sk-estimator-doc-link.fitted:hover {\n  /* fitted */\n  background-color: var(--sklearn-color-fitted-level-3);\n  color: var(--sklearn-color-background);\n  text-decoration: none;\n}\n\n/* Span, style for the box shown on hovering the info icon */\n.sk-estimator-doc-link span {\n  display: none;\n  z-index: 9999;\n  position: relative;\n  font-weight: normal;\n  right: .2ex;\n  padding: .5ex;\n  margin: .5ex;\n  width: min-content;\n  min-width: 20ex;\n  max-width: 50ex;\n  color: var(--sklearn-color-text);\n  box-shadow: 2pt 2pt 4pt #999;\n  /* unfitted */\n  background: var(--sklearn-color-unfitted-level-0);\n  border: .5pt solid var(--sklearn-color-unfitted-level-3);\n}\n\n.sk-estimator-doc-link.fitted span {\n  /* fitted */\n  background: var(--sklearn-color-fitted-level-0);\n  border: var(--sklearn-color-fitted-level-3);\n}\n\n.sk-estimator-doc-link:hover span {\n  display: block;\n}\n\n/* \"?\"-specific style due to the `<a>` HTML tag */\n\n#sk-container-id-8 a.estimator_doc_link {\n  float: right;\n  font-size: 1rem;\n  line-height: 1em;\n  font-family: monospace;\n  background-color: var(--sklearn-color-background);\n  border-radius: 1rem;\n  height: 1rem;\n  width: 1rem;\n  text-decoration: none;\n  /* unfitted */\n  color: var(--sklearn-color-unfitted-level-1);\n  border: var(--sklearn-color-unfitted-level-1) 1pt solid;\n}\n\n#sk-container-id-8 a.estimator_doc_link.fitted {\n  /* fitted */\n  border: var(--sklearn-color-fitted-level-1) 1pt solid;\n  color: var(--sklearn-color-fitted-level-1);\n}\n\n/* On hover */\n#sk-container-id-8 a.estimator_doc_link:hover {\n  /* unfitted */\n  background-color: var(--sklearn-color-unfitted-level-3);\n  color: var(--sklearn-color-background);\n  text-decoration: none;\n}\n\n#sk-container-id-8 a.estimator_doc_link.fitted:hover {\n  /* fitted */\n  background-color: var(--sklearn-color-fitted-level-3);\n}\n</style><div id=\"sk-container-id-8\" class=\"sk-top-container\"><div class=\"sk-text-repr-fallback\"><pre>LGBMClassifier(bagging_fraction=0.7864415848691042, bagging_freq=1,\n               feature_fraction=0.5360804548923979,\n               lambda_l1=0.006822516771075539, lambda_l2=8.959515710646349e-07,\n               min_child_samples=29, num_leaves=28, random_state=314)</pre><b>In a Jupyter environment, please rerun this cell to show the HTML representation or trust the notebook. <br />On GitHub, the HTML representation is unable to render, please try loading this page with nbviewer.org.</b></div><div class=\"sk-container\" hidden><div class=\"sk-item\"><div class=\"sk-estimator fitted sk-toggleable\"><input class=\"sk-toggleable__control sk-hidden--visually\" id=\"sk-estimator-id-8\" type=\"checkbox\" checked><label for=\"sk-estimator-id-8\" class=\"sk-toggleable__label fitted sk-toggleable__label-arrow fitted\">&nbsp;LGBMClassifier<span class=\"sk-estimator-doc-link fitted\">i<span>Fitted</span></span></label><div class=\"sk-toggleable__content fitted\"><pre>LGBMClassifier(bagging_fraction=0.7864415848691042, bagging_freq=1,\n               feature_fraction=0.5360804548923979,\n               lambda_l1=0.006822516771075539, lambda_l2=8.959515710646349e-07,\n               min_child_samples=29, num_leaves=28, random_state=314)</pre></div> </div></div></div></div>"
     },
     "execution_count": 144,
     "metadata": {},
     "output_type": "execute_result"
    }
   ],
   "source": [
    "model.fit(X_train, y_train)"
   ],
   "metadata": {
    "collapsed": false
   }
  },
  {
   "cell_type": "code",
   "execution_count": 146,
   "outputs": [
    {
     "name": "stdout",
     "output_type": "stream",
     "text": [
      "              precision    recall  f1-score   support\n",
      "\n",
      "           0       1.00      1.00      1.00         4\n",
      "           1       1.00      1.00      1.00         7\n",
      "\n",
      "    accuracy                           1.00        11\n",
      "   macro avg       1.00      1.00      1.00        11\n",
      "weighted avg       1.00      1.00      1.00        11\n",
      "\n"
     ]
    }
   ],
   "source": [
    "from sklearn.metrics import classification_report\n",
    "\n",
    "y_pred = model.predict(X_test)\n",
    "\n",
    "print(classification_report(y_test, y_pred))"
   ],
   "metadata": {
    "collapsed": false
   }
  }
 ],
 "metadata": {
  "kernelspec": {
   "display_name": "Python 3",
   "language": "python",
   "name": "python3"
  },
  "language_info": {
   "codemirror_mode": {
    "name": "ipython",
    "version": 2
   },
   "file_extension": ".py",
   "mimetype": "text/x-python",
   "name": "python",
   "nbconvert_exporter": "python",
   "pygments_lexer": "ipython2",
   "version": "2.7.6"
  }
 },
 "nbformat": 4,
 "nbformat_minor": 0
}
